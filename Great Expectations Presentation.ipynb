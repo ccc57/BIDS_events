{
 "cells": [
  {
   "cell_type": "code",
   "execution_count": 4,
   "metadata": {
    "scrolled": true
   },
   "outputs": [
    {
     "name": "stderr",
     "output_type": "stream",
     "text": [
      "/gpfs/gsfs11/users/MBDU/midla/env/lib/python3.7/site-packages/sklearn/externals/joblib/__init__.py:15: DeprecationWarning: sklearn.externals.joblib is deprecated in 0.21 and will be removed in 0.23. Please import this functionality directly from joblib, which can be installed with: pip install joblib. If this warning is raised when loading pickled models, you may need to re-serialize those models with scikit-learn 0.21+.\n",
      "  warnings.warn(msg, category=DeprecationWarning)\n"
     ]
    },
    {
     "data": {
      "text/html": [
       "<style>#notebook { padding-top:0px !important; } .container { width:100% !important; } .end_space { min-height:0px !important; } </style>"
      ],
      "text/plain": [
       "<IPython.core.display.HTML object>"
      ]
     },
     "metadata": {},
     "output_type": "display_data"
    }
   ],
   "source": [
    "#quickstart\n",
    "from pathlib import Path\n",
    "import pandas as pd\n",
    "from bids import BIDSLayout\n",
    "from joblib import Parallel, delayed\n",
    "import nilearn\n",
    "import nibabel as nib\n",
    "import nltools.prefs as prf\n",
    "from nilearn import datasets, image, plotting, input_data\n",
    "from nilearn.masking import apply_mask\n",
    "from nilearn.image import resample_to_img\n",
    "from nilearn.image import concat_imgs, index_img\n",
    "import numpy as np\n",
    "import matplotlib.pylab as plt\n",
    "\n",
    "import rpy2\n",
    "from rpy2.robjects.packages import importr\n",
    "from pymer4 import Lmer\n",
    "psych = importr('psych')\n",
    "\n",
    "\n",
    "import rpy2.robjects as ro\n",
    "from rpy2.robjects import pandas2ri\n",
    "\n",
    "from rpy2.robjects.conversion import localconverter\n",
    "\n",
    "import os\n",
    "import glob\n",
    "import seaborn as sns\n",
    "from nltools.data import Brain_Data, Design_Matrix, Adjacency\n",
    "from nltools.mask import expand_mask, roi_to_brain\n",
    "from nltools.stats import zscore\n",
    "from scipy.stats import binom, ttest_1samp\n",
    "from sklearn.metrics import pairwise_distances\n",
    "from nltools.stats import fdr, one_sample_permutation\n",
    "from copy import deepcopy\n",
    "from nltools.utils import get_anatomical\n",
    "import nltools.plotting as nlplt\n",
    "from datetime import date\n",
    "from joblib import Parallel, delayed\n",
    "\n",
    "from sklearn.linear_model import LinearRegression\n",
    "from sklearn.decomposition import PCA\n",
    "\n",
    "from nilearn.input_data import NiftiMapsMasker\n",
    "from nilearn.connectome import ConnectivityMeasure\n",
    "\n",
    "#dat_paths = pd.read_csv('/data/MBDU/midla/notebooks/campcc/dat_paths_11272019.csv') \n",
    "#atlas = image.load_img('/data/MBDU/midla/notebooks/campcc/hox_msdl_atlas.nii.gz')\n",
    "#sub1 = image.load_img('/data/MBDU/midla/data/derivatives/fmriprep/rn_aroma_20190910_2mm/sub-20900/out/fmrip\n",
    "\n",
    "%matplotlib inline\n",
    "pd.set_option('display.max_rows', 500)\n",
    "pd.set_option('display.max_columns', 500)\n",
    "pd.set_option('display.max_colwidth', 500)\n",
    "pd.set_option('display.width', 1000)\n",
    "\n",
    "from IPython.core.display import display, HTML\n",
    "display(HTML(\"<style>\"\n",
    "    + \"#notebook { padding-top:0px !important; } \" \n",
    "    + \".container { width:100% !important; } \"\n",
    "    + \".end_space { min-height:0px !important; } \"\n",
    "    + \"</style>\"))\n",
    "import matplotlib.style as style\n",
    "import seaborn as sns"
   ]
  },
  {
   "cell_type": "code",
   "execution_count": 5,
   "metadata": {},
   "outputs": [],
   "source": [
    "style.use('seaborn-white')"
   ]
  },
  {
   "cell_type": "code",
   "execution_count": 18,
   "metadata": {},
   "outputs": [
    {
     "data": {
      "image/png": "[encoded data removed]",
      "text/plain": [
       "<Figure size 1080x576 with 1 Axes>"
      ]
     },
     "metadata": {},
     "output_type": "display_data"
    }
   ],
   "source": [
    "n_groups = 2\n",
    "means_fmri_stri = (-0.10, 0)\n",
    "means_eeg_rewp = (-0.18, -0.16)\n",
    "means_fmri_glob = (0.17,0.36)\n",
    "means_eeg_glob = (0.20, 0.20)\n",
    "\n",
    "plt.rcParams.update({'font.size': 15})\n",
    "\n",
    "# create plot\n",
    "fig, ax = plt.subplots(figsize=(15,8))\n",
    "index = np.arange(n_groups)\n",
    "bar_width = 0.2\n",
    "opacity = 0.8\n",
    "cap=10\n",
    "\n",
    "plt.errorbar(index-(.5*bar_width),means_fmri_stri, yerr=[0.08,0], capsize=10, elinewidth=1.5, markeredgewidth=5,color='black',fmt='none')\n",
    "plt.errorbar(index+(.5*bar_width),means_eeg_rewp, yerr=[0.13,0.11], capsize=10, elinewidth=1.5, markeredgewidth=5,color='black',fmt='none')\n",
    "plt.errorbar(index + (.5*bar_width)+bar_width,means_fmri_glob, yerr=[0.08,0.18], capsize=10, elinewidth=1.5, markeredgewidth=5,color='black',fmt='none')\n",
    "plt.errorbar(index + (.5*bar_width)+(bar_width*2),means_eeg_glob, yerr=[0.16,0.10], capsize=10, elinewidth=1.5, markeredgewidth=5,color='black',fmt='none')\n",
    "\n",
    "rects1 = plt.bar(index-bar_width,means_fmri_stri, bar_width,\n",
    "alpha=opacity,color='darkslategray',align='edge',\n",
    "label='fMRI, Striatum',capsize=20)\n",
    "\n",
    "rects2 = plt.bar(index, means_eeg_rewp, bar_width,\n",
    "alpha=opacity,color='cadetblue',align='edge',\n",
    "label='EEG, RewP',capsize=cap)\n",
    "\n",
    "rects3 = plt.bar(index + bar_width, means_fmri_glob, bar_width,\n",
    "alpha=opacity,color='powderblue',align='edge',\n",
    "label='fMRI, Global',capsize=cap)\n",
    "\n",
    "rects4 = plt.bar(index + (bar_width*2), means_eeg_glob, bar_width,\n",
    "alpha=opacity,color='skyblue',align='edge',\n",
    "label='EEG, Global',capsize=cap)\n",
    "\n",
    "plt.xlabel('Study Type')\n",
    "plt.ylabel('Pearson r')\n",
    "plt.xticks(index + bar_width, ('Observational','Treatment'))\n",
    "plt.legend(bbox_to_anchor=(.43, 1))\n",
    "\n",
    "plt.tight_layout()\n",
    "plt.show()"
   ]
  },
  {
   "cell_type": "code",
   "execution_count": null,
   "metadata": {},
   "outputs": [],
   "source": []
  }
 ],
 "metadata": {
  "kernelspec": {
   "display_name": "Python 3",
   "language": "python",
   "name": "python3"
  },
  "language_info": {
   "codemirror_mode": {
    "name": "ipython",
    "version": 3
   },
   "file_extension": ".py",
   "mimetype": "text/x-python",
   "name": "python",
   "nbconvert_exporter": "python",
   "pygments_lexer": "ipython3",
   "version": "3.7.6"
  },
  "toc": {
   "base_numbering": 1,
   "nav_menu": {},
   "number_sections": true,
   "sideBar": true,
   "skip_h1_title": false,
   "title_cell": "Table of Contents",
   "title_sidebar": "Contents",
   "toc_cell": false,
   "toc_position": {},
   "toc_section_display": true,
   "toc_window_display": false
  },
  "varInspector": {
   "cols": {
    "lenName": 16,
    "lenType": 16,
    "lenVar": 40
   },
   "kernels_config": {
    "python": {
     "delete_cmd_postfix": "",
     "delete_cmd_prefix": "del ",
     "library": "var_list.py",
     "varRefreshCmd": "print(var_dic_list())"
    },
    "r": {
     "delete_cmd_postfix": ") ",
     "delete_cmd_prefix": "rm(",
     "library": "var_list.r",
     "varRefreshCmd": "cat(var_dic_list()) "
    }
   },
   "types_to_exclude": [
    "module",
    "function",
    "builtin_function_or_method",
    "instance",
    "_Feature"
   ],
   "window_display": false
  }
 },
 "nbformat": 4,
 "nbformat_minor": 4
}
