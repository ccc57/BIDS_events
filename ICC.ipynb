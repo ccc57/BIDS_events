{
 "cells": [
  {
   "cell_type": "code",
   "execution_count": 133,
   "metadata": {},
   "outputs": [
    {
     "name": "stdout",
     "output_type": "stream",
     "text": [
      "Collecting pymer4\n",
      "  Downloading pymer4-0.7.0-py2.py3-none-any.whl (69 kB)\n",
      "\u001b[K     |████████████████████████████████| 69 kB 1.9 MB/s eta 0:00:011\n",
      "\u001b[?25hRequirement already satisfied: seaborn>=0.9.0 in /gpfs/gsfs11/users/MBDU/midla/env/lib/python3.7/site-packages (from pymer4) (0.9.0)\n",
      "Requirement already satisfied: patsy>=0.4.1 in /gpfs/gsfs11/users/MBDU/midla/env/lib/python3.7/site-packages (from pymer4) (0.5.1)\n",
      "Requirement already satisfied: scipy>=1.2.0 in /gpfs/gsfs11/users/MBDU/midla/env/lib/python3.7/site-packages (from pymer4) (1.2.1)\n",
      "Requirement already satisfied: deepdish>=0.3.6 in /gpfs/gsfs11/users/MBDU/midla/env/lib/python3.7/site-packages (from pymer4) (0.3.6)\n",
      "Requirement already satisfied: joblib>=0.11 in /gpfs/gsfs11/users/MBDU/midla/env/lib/python3.7/site-packages (from pymer4) (0.14.1)\n",
      "Requirement already satisfied: numpy>=1.16.0 in /gpfs/gsfs11/users/MBDU/midla/env/lib/python3.7/site-packages (from pymer4) (1.16.4)\n",
      "Requirement already satisfied: six in /gpfs/gsfs11/users/MBDU/midla/env/lib/python3.7/site-packages (from pymer4) (1.14.0)\n",
      "Requirement already satisfied: matplotlib>=3.0 in /gpfs/gsfs11/users/MBDU/midla/env/lib/python3.7/site-packages (from pymer4) (3.1.0)\n",
      "Requirement already satisfied: pandas>=0.23.4 in /gpfs/gsfs11/users/MBDU/midla/env/lib/python3.7/site-packages (from pymer4) (0.24.2)\n",
      "Requirement already satisfied: rpy2>=3.1.0 in /gpfs/gsfs11/users/MBDU/midla/env/lib/python3.7/site-packages (from pymer4) (3.1.0)\n",
      "Requirement already satisfied: tables in /gpfs/gsfs11/users/MBDU/midla/env/lib/python3.7/site-packages (from deepdish>=0.3.6->pymer4) (3.6.0)\n",
      "Requirement already satisfied: cycler>=0.10 in /gpfs/gsfs11/users/MBDU/midla/env/lib/python3.7/site-packages (from matplotlib>=3.0->pymer4) (0.10.0)\n",
      "Requirement already satisfied: kiwisolver>=1.0.1 in /gpfs/gsfs11/users/MBDU/midla/env/lib/python3.7/site-packages (from matplotlib>=3.0->pymer4) (1.2.0)\n",
      "Requirement already satisfied: pyparsing!=2.0.4,!=2.1.2,!=2.1.6,>=2.0.1 in /gpfs/gsfs11/users/MBDU/midla/env/lib/python3.7/site-packages (from matplotlib>=3.0->pymer4) (2.4.7)\n",
      "Requirement already satisfied: python-dateutil>=2.1 in /gpfs/gsfs11/users/MBDU/midla/env/lib/python3.7/site-packages (from matplotlib>=3.0->pymer4) (2.8.1)\n",
      "Requirement already satisfied: pytz>=2011k in /gpfs/gsfs11/users/MBDU/midla/env/lib/python3.7/site-packages (from pandas>=0.23.4->pymer4) (2019.3)\n",
      "Requirement already satisfied: tzlocal in /gpfs/gsfs11/users/MBDU/midla/env/lib/python3.7/site-packages (from rpy2>=3.1.0->pymer4) (2.0.0)\n",
      "Requirement already satisfied: cffi>=1.0.0 in /gpfs/gsfs11/users/MBDU/midla/env/lib/python3.7/site-packages (from rpy2>=3.1.0->pymer4) (1.14.0)\n",
      "Requirement already satisfied: pytest in /gpfs/gsfs11/users/MBDU/midla/env/lib/python3.7/site-packages (from rpy2>=3.1.0->pymer4) (5.2.0)\n",
      "Requirement already satisfied: jinja2 in /gpfs/gsfs11/users/MBDU/midla/env/lib/python3.7/site-packages (from rpy2>=3.1.0->pymer4) (2.10.3)\n",
      "Requirement already satisfied: simplegeneric in /gpfs/gsfs11/users/MBDU/midla/env/lib/python3.7/site-packages (from rpy2>=3.1.0->pymer4) (0.8.1)\n",
      "Requirement already satisfied: numexpr>=2.6.2 in /gpfs/gsfs11/users/MBDU/midla/env/lib/python3.7/site-packages (from tables->deepdish>=0.3.6->pymer4) (2.7.0)\n",
      "Requirement already satisfied: pycparser in /gpfs/gsfs11/users/MBDU/midla/env/lib/python3.7/site-packages (from cffi>=1.0.0->rpy2>=3.1.0->pymer4) (2.20)\n",
      "Requirement already satisfied: py>=1.5.0 in /gpfs/gsfs11/users/MBDU/midla/env/lib/python3.7/site-packages (from pytest->rpy2>=3.1.0->pymer4) (1.8.1)\n",
      "Requirement already satisfied: packaging in /gpfs/gsfs11/users/MBDU/midla/env/lib/python3.7/site-packages (from pytest->rpy2>=3.1.0->pymer4) (20.1)\n",
      "Requirement already satisfied: attrs>=17.4.0 in /gpfs/gsfs11/users/MBDU/midla/env/lib/python3.7/site-packages (from pytest->rpy2>=3.1.0->pymer4) (19.3.0)\n",
      "Requirement already satisfied: more-itertools>=4.0.0 in /gpfs/gsfs11/users/MBDU/midla/env/lib/python3.7/site-packages (from pytest->rpy2>=3.1.0->pymer4) (8.2.0)\n",
      "Requirement already satisfied: atomicwrites>=1.0 in /gpfs/gsfs11/users/MBDU/midla/env/lib/python3.7/site-packages (from pytest->rpy2>=3.1.0->pymer4) (1.3.0)\n",
      "Requirement already satisfied: pluggy<1.0,>=0.12 in /gpfs/gsfs11/users/MBDU/midla/env/lib/python3.7/site-packages (from pytest->rpy2>=3.1.0->pymer4) (0.12.0)\n",
      "Requirement already satisfied: wcwidth in /gpfs/gsfs11/users/MBDU/midla/env/lib/python3.7/site-packages (from pytest->rpy2>=3.1.0->pymer4) (0.1.9)\n",
      "Requirement already satisfied: importlib-metadata>=0.12 in /gpfs/gsfs11/users/MBDU/midla/env/lib/python3.7/site-packages (from pytest->rpy2>=3.1.0->pymer4) (1.6.0)\n",
      "Requirement already satisfied: MarkupSafe>=0.23 in /gpfs/gsfs11/users/MBDU/midla/env/lib/python3.7/site-packages (from jinja2->rpy2>=3.1.0->pymer4) (1.1.1)\n",
      "Requirement already satisfied: zipp>=0.5 in /gpfs/gsfs11/users/MBDU/midla/env/lib/python3.7/site-packages (from importlib-metadata>=0.12->pytest->rpy2>=3.1.0->pymer4) (3.1.0)\n",
      "Installing collected packages: pymer4\n",
      "Successfully installed pymer4-0.7.0\n",
      "Note: you may need to restart the kernel to use updated packages.\n"
     ]
    }
   ],
   "source": [
    "%pip install pymer4"
   ]
  },
  {
   "cell_type": "code",
   "execution_count": 2,
   "metadata": {},
   "outputs": [
    {
     "name": "stderr",
     "output_type": "stream",
     "text": [
      "/gpfs/gsfs11/users/MBDU/midla/env/lib/python3.7/site-packages/sklearn/externals/joblib/__init__.py:15: DeprecationWarning: sklearn.externals.joblib is deprecated in 0.21 and will be removed in 0.23. Please import this functionality directly from joblib, which can be installed with: pip install joblib. If this warning is raised when loading pickled models, you may need to re-serialize those models with scikit-learn 0.21+.\n",
      "  warnings.warn(msg, category=DeprecationWarning)\n"
     ]
    },
    {
     "data": {
      "text/html": [
       "<style>#notebook { padding-top:0px !important; } .container { width:100% !important; } .end_space { min-height:0px !important; } </style>"
      ],
      "text/plain": [
       "<IPython.core.display.HTML object>"
      ]
     },
     "metadata": {},
     "output_type": "display_data"
    }
   ],
   "source": [
    "from pathlib import Path\n",
    "import pandas as pd\n",
    "from bids import BIDSLayout\n",
    "from joblib import Parallel, delayed\n",
    "import nilearn\n",
    "from nilearn import datasets, image, plotting, input_data\n",
    "from nilearn.masking import apply_mask\n",
    "from nilearn.image import resample_to_img\n",
    "from nilearn.image import concat_imgs, index_img\n",
    "import numpy as np\n",
    "from matplotlib import pyplot as plt\n",
    "import rpy2\n",
    "from rpy2.robjects.packages import importr\n",
    "from pymer4 import Lmer\n",
    "psych = importr('psych')\n",
    "\n",
    "import scipy.stats as sp\n",
    "import statistics as stat\n",
    "import rpy2.robjects as ro\n",
    "from rpy2.robjects import pandas2ri\n",
    "\n",
    "from rpy2.robjects.conversion import localconverter\n",
    "\n",
    "%matplotlib inline\n",
    "pd.set_option('display.max_rows', 500)\n",
    "pd.set_option('display.max_columns', 500)\n",
    "pd.set_option('display.max_colwidth', 500)\n",
    "pd.set_option('display.width', 1000)\n",
    "\n",
    "from IPython.core.display import display, HTML\n",
    "display(HTML(\"<style>\"\n",
    "    + \"#notebook { padding-top:0px !important; } \" \n",
    "    + \".container { width:100% !important; } \"\n",
    "    + \".end_space { min-height:0px !important; } \"\n",
    "    + \"</style>\"))"
   ]
  },
  {
   "cell_type": "code",
   "execution_count": 2,
   "metadata": {},
   "outputs": [],
   "source": [
    "bg_cnf = pd.read_csv('/data/MBDU/midla/notebooks/campcc/test_retest/confound_iccs.csv')\n",
    "bg_cnf = bg_cnf[bg_cnf.type == 'ICC2']"
   ]
  },
  {
   "cell_type": "code",
   "execution_count": 23,
   "metadata": {},
   "outputs": [],
   "source": [
    "concat = pd.read_csv('/data/MBDU/midla/notebooks/campcc/test_retest/concat_iccs2.csv')\n",
    "concat = concat[concat.type == 'ICC2']"
   ]
  },
  {
   "cell_type": "code",
   "execution_count": 8,
   "metadata": {},
   "outputs": [],
   "source": [
    "intrin_conn = pd.read_csv('/data/MBDU/midla/notebooks/campcc/test_retest/intrinsic_connectivity_iccs.csv')\n",
    "intrin_conn = intrin_conn[intrin_conn.type == 'ICC2']"
   ]
  },
  {
   "cell_type": "code",
   "execution_count": 9,
   "metadata": {},
   "outputs": [],
   "source": [
    "bg_conn = pd.read_csv('/data/MBDU/midla/notebooks/campcc/test_retest/background_connectivity_iccs.csv')\n",
    "bg_conn = bg_conn[bg_conn.type == 'ICC2']"
   ]
  },
  {
   "cell_type": "code",
   "execution_count": 10,
   "metadata": {},
   "outputs": [],
   "source": [
    "rs_conn = pd.read_csv('/data/MBDU/midla/notebooks/campcc/test_retest/resting_state_iccs.csv')\n",
    "rs_conn = rs_conn[rs_conn.type == 'ICC2']"
   ]
  },
  {
   "cell_type": "code",
   "execution_count": 11,
   "metadata": {},
   "outputs": [],
   "source": [
    "rs_conn_cfds = pd.read_csv('/data/MBDU/midla/notebooks/campcc/test_retest/resting_state_iccs_newcfds.csv')\n",
    "rs_conn_cfds = rs_conn_cfds[rs_conn_cfds.type == 'ICC2']"
   ]
  },
  {
   "cell_type": "code",
   "execution_count": 12,
   "metadata": {},
   "outputs": [],
   "source": [
    "rs_conn_complex = pd.read_csv('/data/MBDU/midla/notebooks/campcc/test_retest/resting_state_iccs_complex.csv')\n",
    "rs_conn_complex = rs_conn_complex[rs_conn_complex.type == 'ICC2']"
   ]
  },
  {
   "cell_type": "code",
   "execution_count": 13,
   "metadata": {},
   "outputs": [],
   "source": [
    "intrin_conn_cfds = pd.read_csv('/data/MBDU/midla/notebooks/campcc/test_retest/intrinsic_connectivity_iccs_newcfds.csv')\n",
    "intrin_conn_cfds = intrin_conn_cfds[intrin_conn_cfds.type == 'ICC2']"
   ]
  },
  {
   "cell_type": "code",
   "execution_count": 14,
   "metadata": {},
   "outputs": [],
   "source": [
    "intrin_conn_complex = pd.read_csv('/data/MBDU/midla/notebooks/campcc/test_retest/intrinsic_connectivity_iccs_complex.csv')\n",
    "intrin_conn_complex = intrin_conn_complex[intrin_conn_complex.type == 'ICC2']"
   ]
  },
  {
   "cell_type": "code",
   "execution_count": 4,
   "metadata": {},
   "outputs": [
    {
     "data": {
      "text/plain": [
       "count    2652.000000\n",
       "mean        0.152698\n",
       "std         0.116697\n",
       "min         0.000000\n",
       "25%         0.063082\n",
       "50%         0.137678\n",
       "75%         0.216574\n",
       "max         0.696629\n",
       "Name: ICC, dtype: float64"
      ]
     },
     "execution_count": 4,
     "metadata": {},
     "output_type": "execute_result"
    }
   ],
   "source": [
    "rs_conn_physio = pd.read_csv('/data/MBDU/midla/notebooks/campcc/test_retest/resting_state_iccs_physio.csv')\n",
    "rs_conn_physio = rs_conn_physio[rs_conn_physio.type == 'ICC2']\n",
    "rs_conn_physio.ICC.describe()"
   ]
  },
  {
   "cell_type": "code",
   "execution_count": 5,
   "metadata": {
    "scrolled": true
   },
   "outputs": [
    {
     "data": {
      "text/plain": [
       "count    2652.000000\n",
       "mean        0.251341\n",
       "std         0.140064\n",
       "min         0.000000\n",
       "25%         0.148804\n",
       "50%         0.243071\n",
       "75%         0.347648\n",
       "max         0.790776\n",
       "Name: ICC, dtype: float64"
      ]
     },
     "execution_count": 5,
     "metadata": {},
     "output_type": "execute_result"
    }
   ],
   "source": [
    "bgc_conn_physio = pd.read_csv('/data/MBDU/midla/notebooks/campcc/test_retest/bgc_iccs_physio.csv')\n",
    "bgc_conn_physio = bgc_conn_physio[bgc_conn_physio.type == 'ICC2']\n",
    "bgc_conn_physio.ICC.describe()"
   ]
  },
  {
   "cell_type": "code",
   "execution_count": 6,
   "metadata": {},
   "outputs": [
    {
     "data": {
      "text/plain": [
       "count    2652.000000\n",
       "mean        0.239422\n",
       "std         0.139563\n",
       "min         0.000000\n",
       "25%         0.136023\n",
       "50%         0.233038\n",
       "75%         0.335682\n",
       "max         0.785705\n",
       "Name: ICC, dtype: float64"
      ]
     },
     "execution_count": 6,
     "metadata": {},
     "output_type": "execute_result"
    }
   ],
   "source": [
    "ifc_conn_physio = pd.read_csv('/data/MBDU/midla/notebooks/campcc/test_retest/ifc_iccs_physio.csv')\n",
    "ifc_conn_physio = ifc_conn_physio[ifc_conn_physio.type == 'ICC2']\n",
    "ifc_conn_physio.ICC.describe()"
   ]
  },
  {
   "cell_type": "code",
   "execution_count": 7,
   "metadata": {},
   "outputs": [],
   "source": [
    "measure_ind = []\n",
    "for i in bgc_conn_physio.measure:\n",
    "    splitstr = i.split('_')\n",
    "    splitstr.sort()\n",
    "    measure_ind.append(''.join(splitstr))\n",
    "bgc_conn_physio['measure_ind'] = measure_ind\n",
    "bgc_conn_physio = bgc_conn_physio.loc[bgc_conn_physio[bgc_conn_physio.columns[-1]].duplicated(keep='first') == False]\n",
    "\n",
    "measure_ind = []\n",
    "for i in ifc_conn_physio.measure:\n",
    "    splitstr = i.split('_')\n",
    "    splitstr.sort()\n",
    "    measure_ind.append(''.join(splitstr))\n",
    "ifc_conn_physio['measure_ind'] = measure_ind\n",
    "ifc_conn_physio = ifc_conn_physio.loc[ifc_conn_physio[ifc_conn_physio.columns[-1]].duplicated(keep='first') == False]\n",
    "\n",
    "measure_ind = []\n",
    "for i in rs_conn_physio.measure:\n",
    "    splitstr = i.split('_')\n",
    "    splitstr.sort()\n",
    "    measure_ind.append(''.join(splitstr))\n",
    "rs_conn_physio['measure_ind'] = measure_ind\n",
    "rs_conn_physio = rs_conn_physio.loc[rs_conn_physio[rs_conn_physio.columns[-1]].duplicated(keep='first') == False]"
   ]
  },
  {
   "cell_type": "code",
   "execution_count": 8,
   "metadata": {},
   "outputs": [
    {
     "data": {
      "text/plain": [
       "16"
      ]
     },
     "execution_count": 8,
     "metadata": {},
     "output_type": "execute_result"
    }
   ],
   "source": [
    "len(rs_conn_physio.ICC[rs_conn_physio.ICC >= .5])"
   ]
  },
  {
   "cell_type": "code",
   "execution_count": 9,
   "metadata": {},
   "outputs": [
    {
     "data": {
      "text/plain": [
       "49"
      ]
     },
     "execution_count": 9,
     "metadata": {},
     "output_type": "execute_result"
    }
   ],
   "source": [
    "len(ifc_conn_physio.ICC[ifc_conn_physio.ICC >= .5])"
   ]
  },
  {
   "cell_type": "code",
   "execution_count": 10,
   "metadata": {},
   "outputs": [
    {
     "data": {
      "text/plain": [
       "56"
      ]
     },
     "execution_count": 10,
     "metadata": {},
     "output_type": "execute_result"
    }
   ],
   "source": [
    "len(bgc_conn_physio.ICC[bgc_conn_physio.ICC >= .5])"
   ]
  },
  {
   "cell_type": "code",
   "execution_count": 24,
   "metadata": {},
   "outputs": [],
   "source": [
    "measure_ind = []\n",
    "for i in concat.measure:\n",
    "    splitstr = i.split('_')\n",
    "    splitstr.sort()\n",
    "    measure_ind.append(''.join(splitstr))\n",
    "concat['measure_ind'] = measure_ind\n",
    "concat = concat.loc[concat[concat.columns[-1]].duplicated(keep='first') == False]"
   ]
  },
  {
   "cell_type": "code",
   "execution_count": 16,
   "metadata": {},
   "outputs": [],
   "source": [
    "measure_ind = []\n",
    "for i in bg_conn.measure:\n",
    "    splitstr = i.split('_')\n",
    "    splitstr.sort()\n",
    "    measure_ind.append(''.join(splitstr))\n",
    "bg_conn['measure_ind'] = measure_ind\n",
    "bg_conn = bg_conn.loc[bg_conn[bg_conn.columns[-1]].duplicated(keep='first') == False]"
   ]
  },
  {
   "cell_type": "code",
   "execution_count": 17,
   "metadata": {},
   "outputs": [],
   "source": [
    "measure_ind = []\n",
    "for i in rs_conn_complex.measure:\n",
    "    splitstr = i.split('_')\n",
    "    splitstr.sort()\n",
    "    measure_ind.append(''.join(splitstr))\n",
    "rs_conn_complex['measure_ind'] = measure_ind\n",
    "rs_conn_complex = rs_conn_complex.loc[rs_conn_complex[rs_conn_complex.columns[-1]].duplicated(keep='first') == False]"
   ]
  },
  {
   "cell_type": "code",
   "execution_count": 18,
   "metadata": {},
   "outputs": [],
   "source": [
    "measure_ind = []\n",
    "for i in intrin_conn_complex.measure:\n",
    "    splitstr = i.split('_')\n",
    "    splitstr.sort()\n",
    "    measure_ind.append(''.join(splitstr))\n",
    "intrin_conn_complex['measure_ind'] = measure_ind\n",
    "intrin_conn_complex = intrin_conn_complex.loc[intrin_conn_complex[intrin_conn_complex.columns[-1]].duplicated(keep='first') == False]"
   ]
  },
  {
   "cell_type": "code",
   "execution_count": 28,
   "metadata": {},
   "outputs": [
    {
     "name": "stdout",
     "output_type": "stream",
     "text": [
      "Ttest_indResult(statistic=2.444226111038727, pvalue=0.01458470455506783) Ttest_indResult(statistic=2.904485345686481, pvalue=0.003710722897943054) Ttest_indResult(statistic=19.709074578342705, pvalue=1.6227029713715764e-80)\n"
     ]
    }
   ],
   "source": [
    "print(sp.ttest_ind(concat.ICC,intrin_conn_complex.ICC, nan_policy = 'omit'),sp.ttest_ind(concat.ICC,bg_conn.ICC, nan_policy = 'omit'),sp.ttest_ind(concat.ICC,rs_conn_complex.ICC, nan_policy = 'omit'))"
   ]
  },
  {
   "cell_type": "code",
   "execution_count": 146,
   "metadata": {},
   "outputs": [
    {
     "data": {
      "text/plain": [
       "Ttest_indResult(statistic=-0.47935531288218153, pvalue=0.6317276392505862)"
      ]
     },
     "execution_count": 146,
     "metadata": {},
     "output_type": "execute_result"
    }
   ],
   "source": [
    "sp.ttest_ind(bg_conn.ICC,intrin_conn_complex.ICC, nan_policy = 'omit')"
   ]
  },
  {
   "cell_type": "code",
   "execution_count": 147,
   "metadata": {},
   "outputs": [
    {
     "data": {
      "text/plain": [
       "Ttest_indResult(statistic=-17.949072881014793, pvalue=7.1394971338772565e-68)"
      ]
     },
     "execution_count": 147,
     "metadata": {},
     "output_type": "execute_result"
    }
   ],
   "source": [
    "sp.ttest_ind(rs_conn_complex.ICC,intrin_conn_complex.ICC, nan_policy = 'omit')"
   ]
  },
  {
   "cell_type": "code",
   "execution_count": 148,
   "metadata": {
    "scrolled": true
   },
   "outputs": [
    {
     "data": {
      "text/plain": [
       "Ttest_indResult(statistic=17.44801718803916, pvalue=1.942940547842119e-64)"
      ]
     },
     "execution_count": 148,
     "metadata": {},
     "output_type": "execute_result"
    }
   ],
   "source": [
    "sp.ttest_ind(bg_conn.ICC,rs_conn_complex.ICC, nan_policy = 'omit')"
   ]
  },
  {
   "cell_type": "code",
   "execution_count": 157,
   "metadata": {
    "scrolled": true
   },
   "outputs": [
    {
     "data": {
      "text/plain": [
       "33"
      ]
     },
     "execution_count": 157,
     "metadata": {},
     "output_type": "execute_result"
    }
   ],
   "source": [
    "len(intrin_conn_complex.ICC[intrin_conn_complex.ICC >= .5])"
   ]
  },
  {
   "cell_type": "code",
   "execution_count": 3,
   "metadata": {},
   "outputs": [
    {
     "data": {
      "text/plain": [
       "count    2080.000000\n",
       "mean        0.213942\n",
       "std         0.217115\n",
       "min         0.000000\n",
       "25%         0.026696\n",
       "50%         0.129259\n",
       "75%         0.384862\n",
       "max         0.834852\n",
       "Name: ICC, dtype: float64"
      ]
     },
     "execution_count": 3,
     "metadata": {},
     "output_type": "execute_result"
    }
   ],
   "source": [
    "bg_cnf.ICC.describe()"
   ]
  },
  {
   "cell_type": "code",
   "execution_count": 27,
   "metadata": {},
   "outputs": [
    {
     "data": {
      "text/plain": [
       "57"
      ]
     },
     "execution_count": 27,
     "metadata": {},
     "output_type": "execute_result"
    }
   ],
   "source": [
    "len(concat.ICC[concat.ICC >= .5])"
   ]
  },
  {
   "cell_type": "code",
   "execution_count": 155,
   "metadata": {},
   "outputs": [
    {
     "data": {
      "text/plain": [
       "count    1256.000000\n",
       "mean        0.235326\n",
       "std         0.127624\n",
       "min         0.000000\n",
       "25%         0.143463\n",
       "50%         0.226695\n",
       "75%         0.322308\n",
       "max         0.709449\n",
       "Name: ICC, dtype: float64"
      ]
     },
     "execution_count": 155,
     "metadata": {},
     "output_type": "execute_result"
    }
   ],
   "source": [
    "intrin_conn_complex.ICC.describe()"
   ]
  },
  {
   "cell_type": "code",
   "execution_count": 153,
   "metadata": {},
   "outputs": [
    {
     "data": {
      "text/plain": [
       "count    1256.000000\n",
       "mean        0.148395\n",
       "std         0.114776\n",
       "min         0.000000\n",
       "25%         0.061534\n",
       "50%         0.135349\n",
       "75%         0.209168\n",
       "max         0.683262\n",
       "Name: ICC, dtype: float64"
      ]
     },
     "execution_count": 153,
     "metadata": {},
     "output_type": "execute_result"
    }
   ],
   "source": [
    "rs_conn_complex.ICC.describe()"
   ]
  },
  {
   "cell_type": "code",
   "execution_count": 154,
   "metadata": {},
   "outputs": [
    {
     "data": {
      "text/plain": [
       "count    1256.000000\n",
       "mean        0.232885\n",
       "std         0.127585\n",
       "min         0.000000\n",
       "25%         0.142344\n",
       "50%         0.225231\n",
       "75%         0.319810\n",
       "max         0.697041\n",
       "Name: ICC, dtype: float64"
      ]
     },
     "execution_count": 154,
     "metadata": {},
     "output_type": "execute_result"
    }
   ],
   "source": [
    "bg_conn.ICC.describe()"
   ]
  },
  {
   "cell_type": "code",
   "execution_count": 9,
   "metadata": {
    "scrolled": true
   },
   "outputs": [
    {
     "data": {
      "text/plain": [
       "count    2652.000000\n",
       "mean        0.350285\n",
       "std         0.117292\n",
       "min         0.012348\n",
       "25%         0.259572\n",
       "50%         0.362516\n",
       "75%         0.440005\n",
       "max         0.786371\n",
       "Name: ICC, dtype: float64"
      ]
     },
     "execution_count": 9,
     "metadata": {},
     "output_type": "execute_result"
    }
   ],
   "source": [
    "intrin_conn.ICC.describe()"
   ]
  },
  {
   "cell_type": "code",
   "execution_count": 11,
   "metadata": {},
   "outputs": [
    {
     "data": {
      "text/plain": [
       "0.425258794777126"
      ]
     },
     "execution_count": 11,
     "metadata": {},
     "output_type": "execute_result"
    }
   ],
   "source": [
    "stat.median(intrin_conn.ICC)"
   ]
  },
  {
   "cell_type": "code",
   "execution_count": 20,
   "metadata": {},
   "outputs": [
    {
     "data": {
      "text/plain": [
       "count    2652.000000\n",
       "mean        0.401947\n",
       "std         0.131368\n",
       "min         0.028559\n",
       "25%         0.296536\n",
       "50%         0.408850\n",
       "75%         0.508058\n",
       "max         0.809705\n",
       "Name: ICC, dtype: float64"
      ]
     },
     "execution_count": 20,
     "metadata": {},
     "output_type": "execute_result"
    }
   ],
   "source": [
    "intrin_conn_cfds.ICC.describe()"
   ]
  },
  {
   "cell_type": "code",
   "execution_count": 21,
   "metadata": {},
   "outputs": [
    {
     "data": {
      "text/plain": [
       "0.4226560225608325"
      ]
     },
     "execution_count": 21,
     "metadata": {},
     "output_type": "execute_result"
    }
   ],
   "source": [
    "stat.median(intrin_conn_cfds.ICC)"
   ]
  },
  {
   "cell_type": "code",
   "execution_count": 7,
   "metadata": {},
   "outputs": [
    {
     "data": {
      "text/plain": [
       "count    2652.000000\n",
       "mean        0.317736\n",
       "std         0.106375\n",
       "min         0.000000\n",
       "25%         0.254525\n",
       "50%         0.337225\n",
       "75%         0.392786\n",
       "max         0.698972\n",
       "Name: ICC, dtype: float64"
      ]
     },
     "execution_count": 7,
     "metadata": {},
     "output_type": "execute_result"
    }
   ],
   "source": [
    "rs_conn.ICC.describe()"
   ]
  },
  {
   "cell_type": "code",
   "execution_count": 13,
   "metadata": {},
   "outputs": [
    {
     "data": {
      "text/plain": [
       "0.1765911543827745"
      ]
     },
     "execution_count": 13,
     "metadata": {},
     "output_type": "execute_result"
    }
   ],
   "source": [
    "stat.median(rs_conn.ICC)"
   ]
  },
  {
   "cell_type": "code",
   "execution_count": 16,
   "metadata": {},
   "outputs": [
    {
     "data": {
      "text/plain": [
       "count    2652.000000\n",
       "mean        0.351616\n",
       "std         0.093181\n",
       "min         0.000000\n",
       "25%         0.297481\n",
       "50%         0.357094\n",
       "75%         0.413342\n",
       "max         0.658294\n",
       "Name: ICC, dtype: float64"
      ]
     },
     "execution_count": 16,
     "metadata": {},
     "output_type": "execute_result"
    }
   ],
   "source": [
    "rs_conn_cfds.ICC.describe()"
   ]
  },
  {
   "cell_type": "code",
   "execution_count": 18,
   "metadata": {},
   "outputs": [
    {
     "data": {
      "text/plain": [
       "0.29344321306551535"
      ]
     },
     "execution_count": 18,
     "metadata": {},
     "output_type": "execute_result"
    }
   ],
   "source": [
    "stat.median(rs_conn_cfds.ICC)"
   ]
  },
  {
   "cell_type": "code",
   "execution_count": 3,
   "metadata": {},
   "outputs": [],
   "source": [
    "fs_dat = pd.read_csv('/data/MBDU/midla/notebooks/campcc/dat_paths_12092019.csv')\n",
    "baseline_ses2_inc = pd.read_csv('/data/MBDU/midla/notebooks/campcc/test_retest/correlation_matrix_baseline_ses2_inc_subjects.csv')\n",
    "baseline_1yr_inc = pd.read_csv('/data/MBDU/midla/notebooks/campcc/test_retest/correlation_matrix_baseline_one_year_inc_subjects.csv')\n",
    "baseline_ses2 = pd.read_csv('/data/MBDU/midla/notebooks/campcc/test_retest/correlation_matrix_baseline_ses2.csv')\n",
    "baseline_1yr = pd.read_csv('/data/MBDU/midla/notebooks/campcc/test_retest/correlation_matrix_baseline_one_year.csv')"
   ]
  },
  {
   "cell_type": "code",
   "execution_count": 12,
   "metadata": {},
   "outputs": [],
   "source": [
    "matrix_ts1 = []\n",
    "for i in range(0,50):\n",
    "    matrix_ts1.append([])\n",
    "    for j in range(0,50):\n",
    "        matrix_ts1[i].append([])\n",
    "        subject_values = pd.read_csv('/data/MBDU/midla/notebooks/campcc/test_retest/ts_1/conn_matrix_{}_{}'.format(i,j),index_col=0)\n",
    "        matrix_ts1[i][j] = subject_values\n",
    "\n",
    "matrix_ts0 = []\n",
    "for i in range(0,50):\n",
    "    matrix_ts0.append([])\n",
    "    for j in range(0,50):\n",
    "        matrix_ts0[i].append([])\n",
    "        subject_values = pd.read_csv('/data/MBDU/midla/notebooks/campcc/test_retest/ts_0/conn_matrix_{}_{}'.format(i,j),index_col=0)\n",
    "        matrix_ts0[i][j] = subject_values"
   ]
  },
  {
   "cell_type": "code",
   "execution_count": 121,
   "metadata": {},
   "outputs": [],
   "source": [
    "test_dat = pd.DataFrame()"
   ]
  },
  {
   "cell_type": "code",
   "execution_count": 4,
   "metadata": {
    "scrolled": true
   },
   "outputs": [
    {
     "ename": "FileNotFoundError",
     "evalue": "[Errno 2] File b'/data/MBDU/midla/notebooks/campcc/test_retest/corr_files/corr_matrix_sub-20900_ses-1.csv' does not exist: b'/data/MBDU/midla/notebooks/campcc/test_retest/corr_files/corr_matrix_sub-20900_ses-1.csv'",
     "output_type": "error",
     "traceback": [
      "\u001b[0;31m---------------------------------------------------------------------------\u001b[0m",
      "\u001b[0;31mFileNotFoundError\u001b[0m                         Traceback (most recent call last)",
      "\u001b[0;32m<ipython-input-4-2d844a61e7ca>\u001b[0m in \u001b[0;36m<module>\u001b[0;34m\u001b[0m\n\u001b[1;32m      6\u001b[0m         \u001b[0mdat\u001b[0m\u001b[0;34m[\u001b[0m\u001b[0;34m'{}_{}'\u001b[0m\u001b[0;34m.\u001b[0m\u001b[0mformat\u001b[0m\u001b[0;34m(\u001b[0m\u001b[0mi\u001b[0m\u001b[0;34m,\u001b[0m\u001b[0mj\u001b[0m\u001b[0;34m)\u001b[0m\u001b[0;34m]\u001b[0m \u001b[0;34m=\u001b[0m \u001b[0;34m[\u001b[0m\u001b[0;36m0.0\u001b[0m\u001b[0;34m]\u001b[0m\u001b[0;34m\u001b[0m\u001b[0;34m\u001b[0m\u001b[0m\n\u001b[1;32m      7\u001b[0m \u001b[0;32mfor\u001b[0m \u001b[0m_\u001b[0m\u001b[0;34m,\u001b[0m\u001b[0mrow\u001b[0m \u001b[0;32min\u001b[0m \u001b[0mfs_dat\u001b[0m\u001b[0;34m.\u001b[0m\u001b[0miterrows\u001b[0m\u001b[0;34m(\u001b[0m\u001b[0;34m)\u001b[0m\u001b[0;34m:\u001b[0m\u001b[0;34m\u001b[0m\u001b[0;34m\u001b[0m\u001b[0m\n\u001b[0;32m----> 8\u001b[0;31m     \u001b[0mcorr\u001b[0m \u001b[0;34m=\u001b[0m \u001b[0mpd\u001b[0m\u001b[0;34m.\u001b[0m\u001b[0mread_csv\u001b[0m\u001b[0;34m(\u001b[0m\u001b[0;34m'/data/MBDU/midla/notebooks/campcc/test_retest/corr_files/corr_matrix_sub-{}_ses-{}.csv'\u001b[0m\u001b[0;34m.\u001b[0m\u001b[0mformat\u001b[0m\u001b[0;34m(\u001b[0m\u001b[0mrow\u001b[0m\u001b[0;34m.\u001b[0m\u001b[0msubject\u001b[0m\u001b[0;34m,\u001b[0m\u001b[0mrow\u001b[0m\u001b[0;34m.\u001b[0m\u001b[0msession\u001b[0m\u001b[0;34m)\u001b[0m\u001b[0;34m,\u001b[0m\u001b[0mindex_col\u001b[0m\u001b[0;34m=\u001b[0m\u001b[0;36m0\u001b[0m\u001b[0;34m)\u001b[0m\u001b[0;34m\u001b[0m\u001b[0;34m\u001b[0m\u001b[0m\n\u001b[0m\u001b[1;32m      9\u001b[0m     \u001b[0mnewrow\u001b[0m \u001b[0;34m=\u001b[0m \u001b[0;34m[\u001b[0m\u001b[0;34m]\u001b[0m\u001b[0;34m\u001b[0m\u001b[0;34m\u001b[0m\u001b[0m\n\u001b[1;32m     10\u001b[0m     \u001b[0mnewrow\u001b[0m\u001b[0;34m.\u001b[0m\u001b[0mappend\u001b[0m\u001b[0;34m(\u001b[0m\u001b[0;34m'{}'\u001b[0m\u001b[0;34m.\u001b[0m\u001b[0mformat\u001b[0m\u001b[0;34m(\u001b[0m\u001b[0mrow\u001b[0m\u001b[0;34m.\u001b[0m\u001b[0msubject\u001b[0m\u001b[0;34m)\u001b[0m\u001b[0;34m)\u001b[0m\u001b[0;34m\u001b[0m\u001b[0;34m\u001b[0m\u001b[0m\n",
      "\u001b[0;32m/gpfs/gsfs11/users/MBDU/midla/env/lib/python3.7/site-packages/pandas/io/parsers.py\u001b[0m in \u001b[0;36mparser_f\u001b[0;34m(filepath_or_buffer, sep, delimiter, header, names, index_col, usecols, squeeze, prefix, mangle_dupe_cols, dtype, engine, converters, true_values, false_values, skipinitialspace, skiprows, skipfooter, nrows, na_values, keep_default_na, na_filter, verbose, skip_blank_lines, parse_dates, infer_datetime_format, keep_date_col, date_parser, dayfirst, iterator, chunksize, compression, thousands, decimal, lineterminator, quotechar, quoting, doublequote, escapechar, comment, encoding, dialect, tupleize_cols, error_bad_lines, warn_bad_lines, delim_whitespace, low_memory, memory_map, float_precision)\u001b[0m\n\u001b[1;32m    700\u001b[0m                     skip_blank_lines=skip_blank_lines)\n\u001b[1;32m    701\u001b[0m \u001b[0;34m\u001b[0m\u001b[0m\n\u001b[0;32m--> 702\u001b[0;31m         \u001b[0;32mreturn\u001b[0m \u001b[0m_read\u001b[0m\u001b[0;34m(\u001b[0m\u001b[0mfilepath_or_buffer\u001b[0m\u001b[0;34m,\u001b[0m \u001b[0mkwds\u001b[0m\u001b[0;34m)\u001b[0m\u001b[0;34m\u001b[0m\u001b[0;34m\u001b[0m\u001b[0m\n\u001b[0m\u001b[1;32m    703\u001b[0m \u001b[0;34m\u001b[0m\u001b[0m\n\u001b[1;32m    704\u001b[0m     \u001b[0mparser_f\u001b[0m\u001b[0;34m.\u001b[0m\u001b[0m__name__\u001b[0m \u001b[0;34m=\u001b[0m \u001b[0mname\u001b[0m\u001b[0;34m\u001b[0m\u001b[0;34m\u001b[0m\u001b[0m\n",
      "\u001b[0;32m/gpfs/gsfs11/users/MBDU/midla/env/lib/python3.7/site-packages/pandas/io/parsers.py\u001b[0m in \u001b[0;36m_read\u001b[0;34m(filepath_or_buffer, kwds)\u001b[0m\n\u001b[1;32m    427\u001b[0m \u001b[0;34m\u001b[0m\u001b[0m\n\u001b[1;32m    428\u001b[0m     \u001b[0;31m# Create the parser.\u001b[0m\u001b[0;34m\u001b[0m\u001b[0;34m\u001b[0m\u001b[0;34m\u001b[0m\u001b[0m\n\u001b[0;32m--> 429\u001b[0;31m     \u001b[0mparser\u001b[0m \u001b[0;34m=\u001b[0m \u001b[0mTextFileReader\u001b[0m\u001b[0;34m(\u001b[0m\u001b[0mfilepath_or_buffer\u001b[0m\u001b[0;34m,\u001b[0m \u001b[0;34m**\u001b[0m\u001b[0mkwds\u001b[0m\u001b[0;34m)\u001b[0m\u001b[0;34m\u001b[0m\u001b[0;34m\u001b[0m\u001b[0m\n\u001b[0m\u001b[1;32m    430\u001b[0m \u001b[0;34m\u001b[0m\u001b[0m\n\u001b[1;32m    431\u001b[0m     \u001b[0;32mif\u001b[0m \u001b[0mchunksize\u001b[0m \u001b[0;32mor\u001b[0m \u001b[0miterator\u001b[0m\u001b[0;34m:\u001b[0m\u001b[0;34m\u001b[0m\u001b[0;34m\u001b[0m\u001b[0m\n",
      "\u001b[0;32m/gpfs/gsfs11/users/MBDU/midla/env/lib/python3.7/site-packages/pandas/io/parsers.py\u001b[0m in \u001b[0;36m__init__\u001b[0;34m(self, f, engine, **kwds)\u001b[0m\n\u001b[1;32m    893\u001b[0m             \u001b[0mself\u001b[0m\u001b[0;34m.\u001b[0m\u001b[0moptions\u001b[0m\u001b[0;34m[\u001b[0m\u001b[0;34m'has_index_names'\u001b[0m\u001b[0;34m]\u001b[0m \u001b[0;34m=\u001b[0m \u001b[0mkwds\u001b[0m\u001b[0;34m[\u001b[0m\u001b[0;34m'has_index_names'\u001b[0m\u001b[0;34m]\u001b[0m\u001b[0;34m\u001b[0m\u001b[0;34m\u001b[0m\u001b[0m\n\u001b[1;32m    894\u001b[0m \u001b[0;34m\u001b[0m\u001b[0m\n\u001b[0;32m--> 895\u001b[0;31m         \u001b[0mself\u001b[0m\u001b[0;34m.\u001b[0m\u001b[0m_make_engine\u001b[0m\u001b[0;34m(\u001b[0m\u001b[0mself\u001b[0m\u001b[0;34m.\u001b[0m\u001b[0mengine\u001b[0m\u001b[0;34m)\u001b[0m\u001b[0;34m\u001b[0m\u001b[0;34m\u001b[0m\u001b[0m\n\u001b[0m\u001b[1;32m    896\u001b[0m \u001b[0;34m\u001b[0m\u001b[0m\n\u001b[1;32m    897\u001b[0m     \u001b[0;32mdef\u001b[0m \u001b[0mclose\u001b[0m\u001b[0;34m(\u001b[0m\u001b[0mself\u001b[0m\u001b[0;34m)\u001b[0m\u001b[0;34m:\u001b[0m\u001b[0;34m\u001b[0m\u001b[0;34m\u001b[0m\u001b[0m\n",
      "\u001b[0;32m/gpfs/gsfs11/users/MBDU/midla/env/lib/python3.7/site-packages/pandas/io/parsers.py\u001b[0m in \u001b[0;36m_make_engine\u001b[0;34m(self, engine)\u001b[0m\n\u001b[1;32m   1120\u001b[0m     \u001b[0;32mdef\u001b[0m \u001b[0m_make_engine\u001b[0m\u001b[0;34m(\u001b[0m\u001b[0mself\u001b[0m\u001b[0;34m,\u001b[0m \u001b[0mengine\u001b[0m\u001b[0;34m=\u001b[0m\u001b[0;34m'c'\u001b[0m\u001b[0;34m)\u001b[0m\u001b[0;34m:\u001b[0m\u001b[0;34m\u001b[0m\u001b[0;34m\u001b[0m\u001b[0m\n\u001b[1;32m   1121\u001b[0m         \u001b[0;32mif\u001b[0m \u001b[0mengine\u001b[0m \u001b[0;34m==\u001b[0m \u001b[0;34m'c'\u001b[0m\u001b[0;34m:\u001b[0m\u001b[0;34m\u001b[0m\u001b[0;34m\u001b[0m\u001b[0m\n\u001b[0;32m-> 1122\u001b[0;31m             \u001b[0mself\u001b[0m\u001b[0;34m.\u001b[0m\u001b[0m_engine\u001b[0m \u001b[0;34m=\u001b[0m \u001b[0mCParserWrapper\u001b[0m\u001b[0;34m(\u001b[0m\u001b[0mself\u001b[0m\u001b[0;34m.\u001b[0m\u001b[0mf\u001b[0m\u001b[0;34m,\u001b[0m \u001b[0;34m**\u001b[0m\u001b[0mself\u001b[0m\u001b[0;34m.\u001b[0m\u001b[0moptions\u001b[0m\u001b[0;34m)\u001b[0m\u001b[0;34m\u001b[0m\u001b[0;34m\u001b[0m\u001b[0m\n\u001b[0m\u001b[1;32m   1123\u001b[0m         \u001b[0;32melse\u001b[0m\u001b[0;34m:\u001b[0m\u001b[0;34m\u001b[0m\u001b[0;34m\u001b[0m\u001b[0m\n\u001b[1;32m   1124\u001b[0m             \u001b[0;32mif\u001b[0m \u001b[0mengine\u001b[0m \u001b[0;34m==\u001b[0m \u001b[0;34m'python'\u001b[0m\u001b[0;34m:\u001b[0m\u001b[0;34m\u001b[0m\u001b[0;34m\u001b[0m\u001b[0m\n",
      "\u001b[0;32m/gpfs/gsfs11/users/MBDU/midla/env/lib/python3.7/site-packages/pandas/io/parsers.py\u001b[0m in \u001b[0;36m__init__\u001b[0;34m(self, src, **kwds)\u001b[0m\n\u001b[1;32m   1851\u001b[0m         \u001b[0mkwds\u001b[0m\u001b[0;34m[\u001b[0m\u001b[0;34m'usecols'\u001b[0m\u001b[0;34m]\u001b[0m \u001b[0;34m=\u001b[0m \u001b[0mself\u001b[0m\u001b[0;34m.\u001b[0m\u001b[0musecols\u001b[0m\u001b[0;34m\u001b[0m\u001b[0;34m\u001b[0m\u001b[0m\n\u001b[1;32m   1852\u001b[0m \u001b[0;34m\u001b[0m\u001b[0m\n\u001b[0;32m-> 1853\u001b[0;31m         \u001b[0mself\u001b[0m\u001b[0;34m.\u001b[0m\u001b[0m_reader\u001b[0m \u001b[0;34m=\u001b[0m \u001b[0mparsers\u001b[0m\u001b[0;34m.\u001b[0m\u001b[0mTextReader\u001b[0m\u001b[0;34m(\u001b[0m\u001b[0msrc\u001b[0m\u001b[0;34m,\u001b[0m \u001b[0;34m**\u001b[0m\u001b[0mkwds\u001b[0m\u001b[0;34m)\u001b[0m\u001b[0;34m\u001b[0m\u001b[0;34m\u001b[0m\u001b[0m\n\u001b[0m\u001b[1;32m   1854\u001b[0m         \u001b[0mself\u001b[0m\u001b[0;34m.\u001b[0m\u001b[0munnamed_cols\u001b[0m \u001b[0;34m=\u001b[0m \u001b[0mself\u001b[0m\u001b[0;34m.\u001b[0m\u001b[0m_reader\u001b[0m\u001b[0;34m.\u001b[0m\u001b[0munnamed_cols\u001b[0m\u001b[0;34m\u001b[0m\u001b[0;34m\u001b[0m\u001b[0m\n\u001b[1;32m   1855\u001b[0m \u001b[0;34m\u001b[0m\u001b[0m\n",
      "\u001b[0;32mpandas/_libs/parsers.pyx\u001b[0m in \u001b[0;36mpandas._libs.parsers.TextReader.__cinit__\u001b[0;34m()\u001b[0m\n",
      "\u001b[0;32mpandas/_libs/parsers.pyx\u001b[0m in \u001b[0;36mpandas._libs.parsers.TextReader._setup_parser_source\u001b[0;34m()\u001b[0m\n",
      "\u001b[0;31mFileNotFoundError\u001b[0m: [Errno 2] File b'/data/MBDU/midla/notebooks/campcc/test_retest/corr_files/corr_matrix_sub-20900_ses-1.csv' does not exist: b'/data/MBDU/midla/notebooks/campcc/test_retest/corr_files/corr_matrix_sub-20900_ses-1.csv'"
     ]
    }
   ],
   "source": [
    "dat = pd.DataFrame()\n",
    "dat['subject'] = ['']\n",
    "dat['session'] = ['']\n",
    "for i in range(0,50):\n",
    "    for j in range(0,50):\n",
    "        dat['{}_{}'.format(i,j)] = [0.0]\n",
    "for _,row in fs_dat.iterrows():\n",
    "    corr = pd.read_csv('/data/MBDU/midla/notebooks/campcc/test_retest/corr_files/corr_matrix_sub-{}_ses-{}.csv'.format(row.subject,row.session),index_col=0)\n",
    "    newrow = []\n",
    "    newrow.append('{}'.format(row.subject))\n",
    "    newrow.append('{}'.format(row.session))\n",
    "    for i in range(0,50):\n",
    "            for j in range(0,50):\n",
    "                newrow.append(corr.loc[i][j])\n",
    "    dat.loc[_] = newrow\n",
    "    print('Done {} out of 440'.format(_))"
   ]
  },
  {
   "cell_type": "code",
   "execution_count": 152,
   "metadata": {},
   "outputs": [],
   "source": [
    "dat.to_csv('/data/MBDU/midla/notebooks/campcc/test_retest/icc_matrix.csv')"
   ]
  },
  {
   "cell_type": "code",
   "execution_count": 27,
   "metadata": {},
   "outputs": [],
   "source": [
    "dat = pd.read_csv('/data/MBDU/midla/notebooks/campcc/test_retest/matrix_for_icc.csv',index_col=0)"
   ]
  },
  {
   "cell_type": "code",
   "execution_count": 30,
   "metadata": {},
   "outputs": [],
   "source": [
    "included_subjects = pd.read_csv('/data/MBDU/midla/notebooks/campcc/test_retest/included_subjects.csv',index_col = 0)\n",
    "included_subjects.reset_index(inplace=True)\n",
    "dat = dat[dat['subject'].isin(included_subjects['SDAN'])]"
   ]
  },
  {
   "cell_type": "code",
   "execution_count": 16,
   "metadata": {},
   "outputs": [],
   "source": [
    "dat.subject = dat.subject.astype(str)\n",
    "dat.session = dat.session.astype(str)"
   ]
  },
  {
   "cell_type": "code",
   "execution_count": 19,
   "metadata": {},
   "outputs": [],
   "source": [
    "dat.reset_index(inplace=True)"
   ]
  },
  {
   "cell_type": "code",
   "execution_count": 33,
   "metadata": {},
   "outputs": [
    {
     "name": "stderr",
     "output_type": "stream",
     "text": [
      "R[write to console]: boundary (singular) fit: see ?isSingular\n",
      "\n",
      "R[write to console]: boundary (singular) fit: see ?isSingular\n",
      "\n"
     ]
    },
    {
     "name": "stdout",
     "output_type": "stream",
     "text": [
      "Done 1 of 2500\n",
      "Done 2 of 2500\n",
      "Done 3 of 2500\n",
      "Done 4 of 2500\n"
     ]
    },
    {
     "name": "stderr",
     "output_type": "stream",
     "text": [
      "R[write to console]: boundary (singular) fit: see ?isSingular\n",
      "\n",
      "R[write to console]: boundary (singular) fit: see ?isSingular\n",
      "\n",
      "R[write to console]: boundary (singular) fit: see ?isSingular\n",
      "\n",
      "R[write to console]: boundary (singular) fit: see ?isSingular\n",
      "\n"
     ]
    },
    {
     "name": "stdout",
     "output_type": "stream",
     "text": [
      "Done 5 of 2500\n",
      "Done 6 of 2500\n",
      "Done 7 of 2500\n",
      "Done 8 of 2500\n",
      "Done 9 of 2500\n"
     ]
    },
    {
     "name": "stderr",
     "output_type": "stream",
     "text": [
      "R[write to console]: boundary (singular) fit: see ?isSingular\n",
      "\n",
      "R[write to console]: boundary (singular) fit: see ?isSingular\n",
      "\n"
     ]
    },
    {
     "name": "stdout",
     "output_type": "stream",
     "text": [
      "Done 10 of 2500\n",
      "Done 11 of 2500\n",
      "Done 12 of 2500\n",
      "Done 13 of 2500\n",
      "Done 14 of 2500\n"
     ]
    },
    {
     "name": "stderr",
     "output_type": "stream",
     "text": [
      "R[write to console]: boundary (singular) fit: see ?isSingular\n",
      "\n",
      "R[write to console]: boundary (singular) fit: see ?isSingular\n",
      "\n",
      "R[write to console]: boundary (singular) fit: see ?isSingular\n",
      "\n",
      "R[write to console]: boundary (singular) fit: see ?isSingular\n",
      "\n",
      "R[write to console]: boundary (singular) fit: see ?isSingular\n",
      "\n"
     ]
    },
    {
     "name": "stdout",
     "output_type": "stream",
     "text": [
      "Done 15 of 2500\n",
      "Done 16 of 2500\n",
      "Done 17 of 2500\n",
      "Done 18 of 2500\n",
      "Done 19 of 2500\n"
     ]
    },
    {
     "name": "stderr",
     "output_type": "stream",
     "text": [
      "R[write to console]: boundary (singular) fit: see ?isSingular\n",
      "\n",
      "R[write to console]: boundary (singular) fit: see ?isSingular\n",
      "\n",
      "R[write to console]: boundary (singular) fit: see ?isSingular\n",
      "\n",
      "R[write to console]: boundary (singular) fit: see ?isSingular\n",
      "\n",
      "R[write to console]: boundary (singular) fit: see ?isSingular\n",
      "\n"
     ]
    },
    {
     "name": "stdout",
     "output_type": "stream",
     "text": [
      "Done 20 of 2500\n",
      "Done 21 of 2500\n",
      "Done 22 of 2500\n",
      "Done 23 of 2500\n",
      "Done 24 of 2500\n"
     ]
    },
    {
     "name": "stderr",
     "output_type": "stream",
     "text": [
      "R[write to console]: boundary (singular) fit: see ?isSingular\n",
      "\n",
      "R[write to console]: boundary (singular) fit: see ?isSingular\n",
      "\n",
      "R[write to console]: boundary (singular) fit: see ?isSingular\n",
      "\n",
      "R[write to console]: boundary (singular) fit: see ?isSingular\n",
      "\n"
     ]
    },
    {
     "name": "stdout",
     "output_type": "stream",
     "text": [
      "Done 25 of 2500\n",
      "Done 26 of 2500\n",
      "Done 27 of 2500\n",
      "Done 28 of 2500\n"
     ]
    },
    {
     "name": "stderr",
     "output_type": "stream",
     "text": [
      "R[write to console]: boundary (singular) fit: see ?isSingular\n",
      "\n",
      "R[write to console]: boundary (singular) fit: see ?isSingular\n",
      "\n",
      "R[write to console]: boundary (singular) fit: see ?isSingular\n",
      "\n",
      "R[write to console]: boundary (singular) fit: see ?isSingular\n",
      "\n"
     ]
    },
    {
     "name": "stdout",
     "output_type": "stream",
     "text": [
      "Done 29 of 2500\n",
      "Done 30 of 2500\n",
      "Done 31 of 2500\n",
      "Done 32 of 2500\n",
      "Done 33 of 2500\n"
     ]
    },
    {
     "name": "stderr",
     "output_type": "stream",
     "text": [
      "R[write to console]: boundary (singular) fit: see ?isSingular\n",
      "\n",
      "R[write to console]: boundary (singular) fit: see ?isSingular\n",
      "\n",
      "R[write to console]: boundary (singular) fit: see ?isSingular\n",
      "\n",
      "R[write to console]: boundary (singular) fit: see ?isSingular\n",
      "\n",
      "R[write to console]: boundary (singular) fit: see ?isSingular\n",
      "\n"
     ]
    },
    {
     "name": "stdout",
     "output_type": "stream",
     "text": [
      "Done 34 of 2500\n",
      "Done 35 of 2500\n",
      "Done 36 of 2500\n",
      "Done 37 of 2500\n",
      "Done 38 of 2500\n"
     ]
    },
    {
     "name": "stderr",
     "output_type": "stream",
     "text": [
      "R[write to console]: boundary (singular) fit: see ?isSingular\n",
      "\n"
     ]
    },
    {
     "name": "stdout",
     "output_type": "stream",
     "text": [
      "Done 39 of 2500\n",
      "Done 40 of 2500\n",
      "Done 41 of 2500\n",
      "Done 42 of 2500\n",
      "Done 43 of 2500\n"
     ]
    },
    {
     "name": "stderr",
     "output_type": "stream",
     "text": [
      "R[write to console]: boundary (singular) fit: see ?isSingular\n",
      "\n"
     ]
    },
    {
     "name": "stdout",
     "output_type": "stream",
     "text": [
      "Done 44 of 2500\n",
      "Done 45 of 2500\n",
      "Done 46 of 2500\n",
      "Done 47 of 2500\n",
      "Done 48 of 2500\n"
     ]
    },
    {
     "name": "stderr",
     "output_type": "stream",
     "text": [
      "R[write to console]: boundary (singular) fit: see ?isSingular\n",
      "\n",
      "R[write to console]: boundary (singular) fit: see ?isSingular\n",
      "\n"
     ]
    },
    {
     "name": "stdout",
     "output_type": "stream",
     "text": [
      "Done 49 of 2500\n",
      "Done 50 of 2500\n",
      "Done 51 of 2500\n",
      "Done 52 of 2500\n",
      "Done 53 of 2500\n"
     ]
    },
    {
     "name": "stderr",
     "output_type": "stream",
     "text": [
      "R[write to console]: boundary (singular) fit: see ?isSingular\n",
      "\n",
      "R[write to console]: boundary (singular) fit: see ?isSingular\n",
      "\n",
      "R[write to console]: boundary (singular) fit: see ?isSingular\n",
      "\n"
     ]
    },
    {
     "name": "stdout",
     "output_type": "stream",
     "text": [
      "Done 54 of 2500\n",
      "Done 55 of 2500\n",
      "Done 56 of 2500\n"
     ]
    },
    {
     "name": "stderr",
     "output_type": "stream",
     "text": [
      "R[write to console]: boundary (singular) fit: see ?isSingular\n",
      "\n",
      "R[write to console]: boundary (singular) fit: see ?isSingular\n",
      "\n",
      "R[write to console]: boundary (singular) fit: see ?isSingular\n",
      "\n"
     ]
    },
    {
     "name": "stdout",
     "output_type": "stream",
     "text": [
      "Done 57 of 2500\n",
      "Done 58 of 2500\n",
      "Done 59 of 2500\n",
      "Done 60 of 2500\n",
      "Done 61 of 2500\n"
     ]
    },
    {
     "name": "stderr",
     "output_type": "stream",
     "text": [
      "R[write to console]: boundary (singular) fit: see ?isSingular\n",
      "\n",
      "R[write to console]: boundary (singular) fit: see ?isSingular\n",
      "\n",
      "R[write to console]: boundary (singular) fit: see ?isSingular\n",
      "\n",
      "R[write to console]: boundary (singular) fit: see ?isSingular\n",
      "\n"
     ]
    },
    {
     "name": "stdout",
     "output_type": "stream",
     "text": [
      "Done 62 of 2500\n",
      "Done 63 of 2500\n",
      "Done 64 of 2500\n",
      "Done 65 of 2500\n",
      "Done 66 of 2500\n"
     ]
    },
    {
     "name": "stderr",
     "output_type": "stream",
     "text": [
      "R[write to console]: boundary (singular) fit: see ?isSingular\n",
      "\n",
      "R[write to console]: boundary (singular) fit: see ?isSingular\n",
      "\n",
      "R[write to console]: boundary (singular) fit: see ?isSingular\n",
      "\n",
      "R[write to console]: boundary (singular) fit: see ?isSingular\n",
      "\n",
      "R[write to console]: boundary (singular) fit: see ?isSingular\n",
      "\n"
     ]
    },
    {
     "name": "stdout",
     "output_type": "stream",
     "text": [
      "Done 67 of 2500\n",
      "Done 68 of 2500\n",
      "Done 69 of 2500\n",
      "Done 70 of 2500\n",
      "Done 71 of 2500\n"
     ]
    },
    {
     "name": "stderr",
     "output_type": "stream",
     "text": [
      "R[write to console]: boundary (singular) fit: see ?isSingular\n",
      "\n",
      "R[write to console]: boundary (singular) fit: see ?isSingular\n",
      "\n",
      "R[write to console]: boundary (singular) fit: see ?isSingular\n",
      "\n",
      "R[write to console]: boundary (singular) fit: see ?isSingular\n",
      "\n"
     ]
    },
    {
     "name": "stdout",
     "output_type": "stream",
     "text": [
      "Done 72 of 2500\n",
      "Done 73 of 2500\n",
      "Done 74 of 2500\n",
      "Done 75 of 2500\n",
      "Done 76 of 2500\n"
     ]
    },
    {
     "name": "stderr",
     "output_type": "stream",
     "text": [
      "R[write to console]: boundary (singular) fit: see ?isSingular\n",
      "\n",
      "R[write to console]: boundary (singular) fit: see ?isSingular\n",
      "\n",
      "R[write to console]: boundary (singular) fit: see ?isSingular\n",
      "\n",
      "R[write to console]: boundary (singular) fit: see ?isSingular\n",
      "\n"
     ]
    },
    {
     "name": "stdout",
     "output_type": "stream",
     "text": [
      "Done 77 of 2500\n",
      "Done 78 of 2500\n",
      "Done 79 of 2500\n",
      "Done 80 of 2500\n",
      "Done 81 of 2500\n"
     ]
    },
    {
     "name": "stderr",
     "output_type": "stream",
     "text": [
      "R[write to console]: boundary (singular) fit: see ?isSingular\n",
      "\n",
      "R[write to console]: boundary (singular) fit: see ?isSingular\n",
      "\n",
      "R[write to console]: boundary (singular) fit: see ?isSingular\n",
      "\n",
      "R[write to console]: boundary (singular) fit: see ?isSingular\n",
      "\n",
      "R[write to console]: boundary (singular) fit: see ?isSingular\n",
      "\n"
     ]
    },
    {
     "name": "stdout",
     "output_type": "stream",
     "text": [
      "Done 82 of 2500\n",
      "Done 83 of 2500\n",
      "Done 84 of 2500\n",
      "Done 85 of 2500\n",
      "Done 86 of 2500\n"
     ]
    },
    {
     "name": "stderr",
     "output_type": "stream",
     "text": [
      "R[write to console]: boundary (singular) fit: see ?isSingular\n",
      "\n",
      "R[write to console]: boundary (singular) fit: see ?isSingular\n",
      "\n"
     ]
    },
    {
     "name": "stdout",
     "output_type": "stream",
     "text": [
      "Done 87 of 2500\n",
      "Done 88 of 2500\n",
      "Done 89 of 2500\n",
      "Done 90 of 2500\n"
     ]
    },
    {
     "name": "stderr",
     "output_type": "stream",
     "text": [
      "R[write to console]: boundary (singular) fit: see ?isSingular\n",
      "\n",
      "R[write to console]: boundary (singular) fit: see ?isSingular\n",
      "\n"
     ]
    },
    {
     "name": "stdout",
     "output_type": "stream",
     "text": [
      "Done 91 of 2500\n",
      "Done 92 of 2500\n",
      "Done 93 of 2500\n",
      "Done 94 of 2500\n"
     ]
    },
    {
     "name": "stderr",
     "output_type": "stream",
     "text": [
      "R[write to console]: boundary (singular) fit: see ?isSingular\n",
      "\n"
     ]
    },
    {
     "name": "stdout",
     "output_type": "stream",
     "text": [
      "Done 95 of 2500\n",
      "Done 96 of 2500\n",
      "Done 97 of 2500\n",
      "Done 98 of 2500\n"
     ]
    },
    {
     "name": "stderr",
     "output_type": "stream",
     "text": [
      "R[write to console]: boundary (singular) fit: see ?isSingular\n",
      "\n"
     ]
    },
    {
     "name": "stdout",
     "output_type": "stream",
     "text": [
      "Done 99 of 2500\n",
      "Done 100 of 2500\n",
      "Done 101 of 2500\n",
      "Done 102 of 2500\n",
      "Done 103 of 2500\n"
     ]
    },
    {
     "name": "stderr",
     "output_type": "stream",
     "text": [
      "R[write to console]: boundary (singular) fit: see ?isSingular\n",
      "\n",
      "R[write to console]: boundary (singular) fit: see ?isSingular\n",
      "\n",
      "R[write to console]: boundary (singular) fit: see ?isSingular\n",
      "\n",
      "R[write to console]: boundary (singular) fit: see ?isSingular\n",
      "\n"
     ]
    },
    {
     "name": "stdout",
     "output_type": "stream",
     "text": [
      "Done 104 of 2500\n",
      "Done 105 of 2500\n",
      "Done 106 of 2500\n",
      "Done 107 of 2500\n"
     ]
    },
    {
     "name": "stderr",
     "output_type": "stream",
     "text": [
      "R[write to console]: boundary (singular) fit: see ?isSingular\n",
      "\n",
      "R[write to console]: boundary (singular) fit: see ?isSingular\n",
      "\n",
      "R[write to console]: boundary (singular) fit: see ?isSingular\n",
      "\n",
      "R[write to console]: boundary (singular) fit: see ?isSingular\n",
      "\n"
     ]
    },
    {
     "name": "stdout",
     "output_type": "stream",
     "text": [
      "Done 108 of 2500\n",
      "Done 109 of 2500\n",
      "Done 110 of 2500\n",
      "Done 111 of 2500\n",
      "Done 112 of 2500\n"
     ]
    },
    {
     "name": "stderr",
     "output_type": "stream",
     "text": [
      "R[write to console]: boundary (singular) fit: see ?isSingular\n",
      "\n",
      "R[write to console]: boundary (singular) fit: see ?isSingular\n",
      "\n"
     ]
    },
    {
     "name": "stdout",
     "output_type": "stream",
     "text": [
      "Done 113 of 2500\n",
      "Done 114 of 2500\n",
      "Done 115 of 2500\n",
      "Done 116 of 2500\n",
      "Done 117 of 2500\n"
     ]
    },
    {
     "name": "stderr",
     "output_type": "stream",
     "text": [
      "R[write to console]: boundary (singular) fit: see ?isSingular\n",
      "\n",
      "R[write to console]: boundary (singular) fit: see ?isSingular\n",
      "\n",
      "R[write to console]: boundary (singular) fit: see ?isSingular\n",
      "\n",
      "R[write to console]: boundary (singular) fit: see ?isSingular\n",
      "\n"
     ]
    },
    {
     "name": "stdout",
     "output_type": "stream",
     "text": [
      "Done 118 of 2500\n",
      "Done 119 of 2500\n",
      "Done 120 of 2500\n",
      "Done 121 of 2500\n"
     ]
    },
    {
     "name": "stderr",
     "output_type": "stream",
     "text": [
      "R[write to console]: boundary (singular) fit: see ?isSingular\n",
      "\n"
     ]
    },
    {
     "name": "stdout",
     "output_type": "stream",
     "text": [
      "Done 122 of 2500\n",
      "Done 123 of 2500\n",
      "Done 124 of 2500\n",
      "Done 125 of 2500\n",
      "Done 126 of 2500\n"
     ]
    },
    {
     "name": "stderr",
     "output_type": "stream",
     "text": [
      "R[write to console]: boundary (singular) fit: see ?isSingular\n",
      "\n",
      "R[write to console]: boundary (singular) fit: see ?isSingular\n",
      "\n",
      "R[write to console]: boundary (singular) fit: see ?isSingular\n",
      "\n",
      "R[write to console]: boundary (singular) fit: see ?isSingular\n",
      "\n"
     ]
    },
    {
     "name": "stdout",
     "output_type": "stream",
     "text": [
      "Done 127 of 2500\n",
      "Done 128 of 2500\n",
      "Done 129 of 2500\n",
      "Done 130 of 2500\n",
      "Done 131 of 2500\n"
     ]
    },
    {
     "name": "stderr",
     "output_type": "stream",
     "text": [
      "R[write to console]: boundary (singular) fit: see ?isSingular\n",
      "\n",
      "R[write to console]: boundary (singular) fit: see ?isSingular\n",
      "\n",
      "R[write to console]: boundary (singular) fit: see ?isSingular\n",
      "\n",
      "R[write to console]: boundary (singular) fit: see ?isSingular\n",
      "\n",
      "R[write to console]: boundary (singular) fit: see ?isSingular\n",
      "\n"
     ]
    },
    {
     "name": "stdout",
     "output_type": "stream",
     "text": [
      "Done 132 of 2500\n",
      "Done 133 of 2500\n",
      "Done 134 of 2500\n",
      "Done 135 of 2500\n"
     ]
    },
    {
     "name": "stderr",
     "output_type": "stream",
     "text": [
      "R[write to console]: boundary (singular) fit: see ?isSingular\n",
      "\n",
      "R[write to console]: boundary (singular) fit: see ?isSingular\n",
      "\n"
     ]
    },
    {
     "name": "stdout",
     "output_type": "stream",
     "text": [
      "Done 136 of 2500\n",
      "Done 137 of 2500\n",
      "Done 138 of 2500\n",
      "Done 139 of 2500\n",
      "Done 140 of 2500\n"
     ]
    },
    {
     "name": "stderr",
     "output_type": "stream",
     "text": [
      "R[write to console]: boundary (singular) fit: see ?isSingular\n",
      "\n",
      "R[write to console]: boundary (singular) fit: see ?isSingular\n",
      "\n",
      "R[write to console]: boundary (singular) fit: see ?isSingular\n",
      "\n",
      "R[write to console]: boundary (singular) fit: see ?isSingular\n",
      "\n",
      "R[write to console]: boundary (singular) fit: see ?isSingular\n",
      "\n"
     ]
    },
    {
     "name": "stdout",
     "output_type": "stream",
     "text": [
      "Done 141 of 2500\n",
      "Done 142 of 2500\n",
      "Done 143 of 2500\n",
      "Done 144 of 2500\n"
     ]
    },
    {
     "name": "stderr",
     "output_type": "stream",
     "text": [
      "R[write to console]: boundary (singular) fit: see ?isSingular\n",
      "\n",
      "R[write to console]: boundary (singular) fit: see ?isSingular\n",
      "\n"
     ]
    },
    {
     "name": "stdout",
     "output_type": "stream",
     "text": [
      "Done 145 of 2500\n",
      "Done 146 of 2500\n",
      "Done 147 of 2500\n",
      "Done 148 of 2500\n"
     ]
    },
    {
     "name": "stderr",
     "output_type": "stream",
     "text": [
      "R[write to console]: boundary (singular) fit: see ?isSingular\n",
      "\n",
      "R[write to console]: boundary (singular) fit: see ?isSingular\n",
      "\n",
      "R[write to console]: boundary (singular) fit: see ?isSingular\n",
      "\n",
      "R[write to console]: boundary (singular) fit: see ?isSingular\n",
      "\n"
     ]
    },
    {
     "name": "stdout",
     "output_type": "stream",
     "text": [
      "Done 149 of 2500\n",
      "Done 150 of 2500\n",
      "Done 151 of 2500\n",
      "Done 152 of 2500\n",
      "Done 153 of 2500\n"
     ]
    },
    {
     "name": "stderr",
     "output_type": "stream",
     "text": [
      "R[write to console]: boundary (singular) fit: see ?isSingular\n",
      "\n",
      "R[write to console]: boundary (singular) fit: see ?isSingular\n",
      "\n",
      "R[write to console]: boundary (singular) fit: see ?isSingular\n",
      "\n",
      "R[write to console]: boundary (singular) fit: see ?isSingular\n",
      "\n"
     ]
    },
    {
     "name": "stdout",
     "output_type": "stream",
     "text": [
      "Done 154 of 2500\n",
      "Done 155 of 2500\n",
      "Done 156 of 2500\n",
      "Done 157 of 2500\n"
     ]
    },
    {
     "name": "stderr",
     "output_type": "stream",
     "text": [
      "R[write to console]: boundary (singular) fit: see ?isSingular\n",
      "\n",
      "R[write to console]: boundary (singular) fit: see ?isSingular\n",
      "\n",
      "R[write to console]: boundary (singular) fit: see ?isSingular\n",
      "\n"
     ]
    },
    {
     "name": "stdout",
     "output_type": "stream",
     "text": [
      "Done 158 of 2500\n",
      "Done 159 of 2500\n",
      "Done 160 of 2500\n",
      "Done 161 of 2500\n",
      "Done 162 of 2500\n"
     ]
    },
    {
     "name": "stderr",
     "output_type": "stream",
     "text": [
      "R[write to console]: boundary (singular) fit: see ?isSingular\n",
      "\n",
      "R[write to console]: boundary (singular) fit: see ?isSingular\n",
      "\n",
      "R[write to console]: boundary (singular) fit: see ?isSingular\n",
      "\n",
      "R[write to console]: boundary (singular) fit: see ?isSingular\n",
      "\n"
     ]
    },
    {
     "name": "stdout",
     "output_type": "stream",
     "text": [
      "Done 163 of 2500\n",
      "Done 164 of 2500\n",
      "Done 165 of 2500\n",
      "Done 166 of 2500\n",
      "Done 167 of 2500\n"
     ]
    },
    {
     "name": "stderr",
     "output_type": "stream",
     "text": [
      "R[write to console]: boundary (singular) fit: see ?isSingular\n",
      "\n",
      "R[write to console]: boundary (singular) fit: see ?isSingular\n",
      "\n"
     ]
    },
    {
     "name": "stdout",
     "output_type": "stream",
     "text": [
      "Done 168 of 2500\n",
      "Done 169 of 2500\n",
      "Done 170 of 2500\n",
      "Done 171 of 2500\n",
      "Done 172 of 2500\n"
     ]
    },
    {
     "name": "stderr",
     "output_type": "stream",
     "text": [
      "R[write to console]: boundary (singular) fit: see ?isSingular\n",
      "\n",
      "R[write to console]: boundary (singular) fit: see ?isSingular\n",
      "\n",
      "R[write to console]: boundary (singular) fit: see ?isSingular\n",
      "\n"
     ]
    },
    {
     "name": "stdout",
     "output_type": "stream",
     "text": [
      "Done 173 of 2500\n",
      "Done 174 of 2500\n",
      "Done 175 of 2500\n",
      "Done 176 of 2500\n",
      "Done 177 of 2500\n"
     ]
    },
    {
     "name": "stderr",
     "output_type": "stream",
     "text": [
      "R[write to console]: boundary (singular) fit: see ?isSingular\n",
      "\n",
      "R[write to console]: boundary (singular) fit: see ?isSingular\n",
      "\n",
      "R[write to console]: boundary (singular) fit: see ?isSingular\n",
      "\n",
      "R[write to console]: boundary (singular) fit: see ?isSingular\n",
      "\n",
      "R[write to console]: boundary (singular) fit: see ?isSingular\n",
      "\n"
     ]
    },
    {
     "name": "stdout",
     "output_type": "stream",
     "text": [
      "Done 178 of 2500\n",
      "Done 179 of 2500\n",
      "Done 180 of 2500\n",
      "Done 181 of 2500\n",
      "Done 182 of 2500\n"
     ]
    },
    {
     "name": "stderr",
     "output_type": "stream",
     "text": [
      "R[write to console]: boundary (singular) fit: see ?isSingular\n",
      "\n",
      "R[write to console]: boundary (singular) fit: see ?isSingular\n",
      "\n",
      "R[write to console]: boundary (singular) fit: see ?isSingular\n",
      "\n"
     ]
    },
    {
     "name": "stdout",
     "output_type": "stream",
     "text": [
      "Done 183 of 2500\n",
      "Done 184 of 2500\n",
      "Done 185 of 2500\n",
      "Done 186 of 2500\n",
      "Done 187 of 2500\n"
     ]
    },
    {
     "name": "stderr",
     "output_type": "stream",
     "text": [
      "R[write to console]: boundary (singular) fit: see ?isSingular\n",
      "\n",
      "R[write to console]: boundary (singular) fit: see ?isSingular\n",
      "\n",
      "R[write to console]: boundary (singular) fit: see ?isSingular\n",
      "\n",
      "R[write to console]: boundary (singular) fit: see ?isSingular\n",
      "\n"
     ]
    },
    {
     "name": "stdout",
     "output_type": "stream",
     "text": [
      "Done 188 of 2500\n",
      "Done 189 of 2500\n",
      "Done 190 of 2500\n",
      "Done 191 of 2500\n",
      "Done 192 of 2500\n"
     ]
    },
    {
     "name": "stderr",
     "output_type": "stream",
     "text": [
      "R[write to console]: boundary (singular) fit: see ?isSingular\n",
      "\n",
      "R[write to console]: boundary (singular) fit: see ?isSingular\n",
      "\n",
      "R[write to console]: boundary (singular) fit: see ?isSingular\n",
      "\n"
     ]
    },
    {
     "name": "stdout",
     "output_type": "stream",
     "text": [
      "Done 193 of 2500\n",
      "Done 194 of 2500\n",
      "Done 195 of 2500\n",
      "Done 196 of 2500\n"
     ]
    },
    {
     "name": "stderr",
     "output_type": "stream",
     "text": [
      "R[write to console]: boundary (singular) fit: see ?isSingular\n",
      "\n",
      "R[write to console]: boundary (singular) fit: see ?isSingular\n",
      "\n",
      "R[write to console]: boundary (singular) fit: see ?isSingular\n",
      "\n"
     ]
    },
    {
     "name": "stdout",
     "output_type": "stream",
     "text": [
      "Done 197 of 2500\n",
      "Done 198 of 2500\n",
      "Done 199 of 2500\n",
      "Done 200 of 2500\n",
      "Done 201 of 2500\n"
     ]
    },
    {
     "name": "stderr",
     "output_type": "stream",
     "text": [
      "R[write to console]: boundary (singular) fit: see ?isSingular\n",
      "\n",
      "R[write to console]: boundary (singular) fit: see ?isSingular\n",
      "\n",
      "R[write to console]: boundary (singular) fit: see ?isSingular\n",
      "\n",
      "R[write to console]: boundary (singular) fit: see ?isSingular\n",
      "\n"
     ]
    },
    {
     "name": "stdout",
     "output_type": "stream",
     "text": [
      "Done 202 of 2500\n",
      "Done 203 of 2500\n",
      "Done 204 of 2500\n",
      "Done 205 of 2500\n",
      "Done 206 of 2500\n"
     ]
    },
    {
     "name": "stderr",
     "output_type": "stream",
     "text": [
      "R[write to console]: boundary (singular) fit: see ?isSingular\n",
      "\n",
      "R[write to console]: boundary (singular) fit: see ?isSingular\n",
      "\n",
      "R[write to console]: boundary (singular) fit: see ?isSingular\n",
      "\n"
     ]
    },
    {
     "name": "stdout",
     "output_type": "stream",
     "text": [
      "Done 207 of 2500\n",
      "Done 208 of 2500\n",
      "Done 209 of 2500\n",
      "Done 210 of 2500\n",
      "Done 211 of 2500\n"
     ]
    },
    {
     "name": "stderr",
     "output_type": "stream",
     "text": [
      "R[write to console]: boundary (singular) fit: see ?isSingular\n",
      "\n",
      "R[write to console]: boundary (singular) fit: see ?isSingular\n",
      "\n",
      "R[write to console]: boundary (singular) fit: see ?isSingular\n",
      "\n",
      "R[write to console]: boundary (singular) fit: see ?isSingular\n",
      "\n"
     ]
    },
    {
     "name": "stdout",
     "output_type": "stream",
     "text": [
      "Done 212 of 2500\n",
      "Done 213 of 2500\n",
      "Done 214 of 2500\n",
      "Done 215 of 2500\n",
      "Done 216 of 2500\n"
     ]
    },
    {
     "name": "stderr",
     "output_type": "stream",
     "text": [
      "R[write to console]: boundary (singular) fit: see ?isSingular\n",
      "\n",
      "R[write to console]: boundary (singular) fit: see ?isSingular\n",
      "\n",
      "R[write to console]: boundary (singular) fit: see ?isSingular\n",
      "\n"
     ]
    },
    {
     "name": "stdout",
     "output_type": "stream",
     "text": [
      "Done 217 of 2500\n",
      "Done 218 of 2500\n",
      "Done 219 of 2500\n",
      "Done 220 of 2500\n",
      "Done 221 of 2500\n"
     ]
    },
    {
     "name": "stderr",
     "output_type": "stream",
     "text": [
      "R[write to console]: boundary (singular) fit: see ?isSingular\n",
      "\n",
      "R[write to console]: boundary (singular) fit: see ?isSingular\n",
      "\n",
      "R[write to console]: boundary (singular) fit: see ?isSingular\n",
      "\n",
      "R[write to console]: boundary (singular) fit: see ?isSingular\n",
      "\n"
     ]
    },
    {
     "name": "stdout",
     "output_type": "stream",
     "text": [
      "Done 222 of 2500\n",
      "Done 223 of 2500\n",
      "Done 224 of 2500\n",
      "Done 225 of 2500\n",
      "Done 226 of 2500\n"
     ]
    },
    {
     "name": "stderr",
     "output_type": "stream",
     "text": [
      "R[write to console]: boundary (singular) fit: see ?isSingular\n",
      "\n",
      "R[write to console]: boundary (singular) fit: see ?isSingular\n",
      "\n",
      "R[write to console]: boundary (singular) fit: see ?isSingular\n",
      "\n",
      "R[write to console]: boundary (singular) fit: see ?isSingular\n",
      "\n",
      "R[write to console]: boundary (singular) fit: see ?isSingular\n",
      "\n"
     ]
    },
    {
     "name": "stdout",
     "output_type": "stream",
     "text": [
      "Done 227 of 2500\n",
      "Done 228 of 2500\n",
      "Done 229 of 2500\n",
      "Done 230 of 2500\n",
      "Done 231 of 2500\n"
     ]
    },
    {
     "name": "stderr",
     "output_type": "stream",
     "text": [
      "R[write to console]: boundary (singular) fit: see ?isSingular\n",
      "\n",
      "R[write to console]: boundary (singular) fit: see ?isSingular\n",
      "\n",
      "R[write to console]: boundary (singular) fit: see ?isSingular\n",
      "\n",
      "R[write to console]: boundary (singular) fit: see ?isSingular\n",
      "\n"
     ]
    },
    {
     "name": "stdout",
     "output_type": "stream",
     "text": [
      "Done 232 of 2500\n",
      "Done 233 of 2500\n",
      "Done 234 of 2500\n",
      "Done 235 of 2500\n"
     ]
    },
    {
     "name": "stderr",
     "output_type": "stream",
     "text": [
      "R[write to console]: boundary (singular) fit: see ?isSingular\n",
      "\n",
      "R[write to console]: boundary (singular) fit: see ?isSingular\n",
      "\n"
     ]
    },
    {
     "name": "stdout",
     "output_type": "stream",
     "text": [
      "Done 236 of 2500\n",
      "Done 237 of 2500\n",
      "Done 238 of 2500\n",
      "Done 239 of 2500\n"
     ]
    },
    {
     "name": "stderr",
     "output_type": "stream",
     "text": [
      "R[write to console]: boundary (singular) fit: see ?isSingular\n",
      "\n"
     ]
    },
    {
     "name": "stdout",
     "output_type": "stream",
     "text": [
      "Done 240 of 2500\n",
      "Done 241 of 2500\n",
      "Done 242 of 2500\n",
      "Done 243 of 2500\n",
      "Done 244 of 2500\n"
     ]
    },
    {
     "name": "stderr",
     "output_type": "stream",
     "text": [
      "R[write to console]: boundary (singular) fit: see ?isSingular\n",
      "\n",
      "R[write to console]: boundary (singular) fit: see ?isSingular\n",
      "\n"
     ]
    },
    {
     "name": "stdout",
     "output_type": "stream",
     "text": [
      "Done 245 of 2500\n",
      "Done 246 of 2500\n",
      "Done 247 of 2500\n",
      "Done 248 of 2500\n",
      "Done 249 of 2500\n"
     ]
    },
    {
     "name": "stderr",
     "output_type": "stream",
     "text": [
      "R[write to console]: boundary (singular) fit: see ?isSingular\n",
      "\n",
      "R[write to console]: boundary (singular) fit: see ?isSingular\n",
      "\n",
      "R[write to console]: boundary (singular) fit: see ?isSingular\n",
      "\n"
     ]
    },
    {
     "name": "stdout",
     "output_type": "stream",
     "text": [
      "Done 250 of 2500\n",
      "Done 251 of 2500\n",
      "Done 252 of 2500\n",
      "Done 253 of 2500\n"
     ]
    },
    {
     "name": "stderr",
     "output_type": "stream",
     "text": [
      "R[write to console]: boundary (singular) fit: see ?isSingular\n",
      "\n",
      "R[write to console]: boundary (singular) fit: see ?isSingular\n",
      "\n",
      "R[write to console]: boundary (singular) fit: see ?isSingular\n",
      "\n"
     ]
    },
    {
     "name": "stdout",
     "output_type": "stream",
     "text": [
      "Done 254 of 2500\n",
      "Done 255 of 2500\n",
      "Done 256 of 2500\n",
      "Done 257 of 2500\n",
      "Done 258 of 2500\n"
     ]
    },
    {
     "name": "stderr",
     "output_type": "stream",
     "text": [
      "R[write to console]: boundary (singular) fit: see ?isSingular\n",
      "\n",
      "R[write to console]: boundary (singular) fit: see ?isSingular\n",
      "\n",
      "R[write to console]: boundary (singular) fit: see ?isSingular\n",
      "\n"
     ]
    },
    {
     "name": "stdout",
     "output_type": "stream",
     "text": [
      "Done 259 of 2500\n",
      "Done 260 of 2500\n",
      "Done 261 of 2500\n",
      "Done 262 of 2500\n",
      "Done 263 of 2500\n"
     ]
    },
    {
     "name": "stderr",
     "output_type": "stream",
     "text": [
      "R[write to console]: boundary (singular) fit: see ?isSingular\n",
      "\n",
      "R[write to console]: boundary (singular) fit: see ?isSingular\n",
      "\n",
      "R[write to console]: boundary (singular) fit: see ?isSingular\n",
      "\n",
      "R[write to console]: boundary (singular) fit: see ?isSingular\n",
      "\n",
      "R[write to console]: boundary (singular) fit: see ?isSingular\n",
      "\n"
     ]
    },
    {
     "name": "stdout",
     "output_type": "stream",
     "text": [
      "Done 264 of 2500\n",
      "Done 265 of 2500\n",
      "Done 266 of 2500\n",
      "Done 267 of 2500\n",
      "Done 268 of 2500\n"
     ]
    },
    {
     "name": "stderr",
     "output_type": "stream",
     "text": [
      "R[write to console]: boundary (singular) fit: see ?isSingular\n",
      "\n",
      "R[write to console]: boundary (singular) fit: see ?isSingular\n",
      "\n",
      "R[write to console]: boundary (singular) fit: see ?isSingular\n",
      "\n",
      "R[write to console]: boundary (singular) fit: see ?isSingular\n",
      "\n"
     ]
    },
    {
     "name": "stdout",
     "output_type": "stream",
     "text": [
      "Done 269 of 2500\n",
      "Done 270 of 2500\n",
      "Done 271 of 2500\n",
      "Done 272 of 2500\n",
      "Done 273 of 2500\n"
     ]
    },
    {
     "name": "stderr",
     "output_type": "stream",
     "text": [
      "R[write to console]: boundary (singular) fit: see ?isSingular\n",
      "\n",
      "R[write to console]: boundary (singular) fit: see ?isSingular\n",
      "\n",
      "R[write to console]: boundary (singular) fit: see ?isSingular\n",
      "\n",
      "R[write to console]: boundary (singular) fit: see ?isSingular\n",
      "\n"
     ]
    },
    {
     "name": "stdout",
     "output_type": "stream",
     "text": [
      "Done 274 of 2500\n",
      "Done 275 of 2500\n",
      "Done 276 of 2500\n",
      "Done 277 of 2500\n",
      "Done 278 of 2500\n"
     ]
    },
    {
     "name": "stderr",
     "output_type": "stream",
     "text": [
      "R[write to console]: boundary (singular) fit: see ?isSingular\n",
      "\n",
      "R[write to console]: boundary (singular) fit: see ?isSingular\n",
      "\n",
      "R[write to console]: boundary (singular) fit: see ?isSingular\n",
      "\n",
      "R[write to console]: boundary (singular) fit: see ?isSingular\n",
      "\n"
     ]
    },
    {
     "name": "stdout",
     "output_type": "stream",
     "text": [
      "Done 279 of 2500\n",
      "Done 280 of 2500\n",
      "Done 281 of 2500\n",
      "Done 282 of 2500\n",
      "Done 283 of 2500\n"
     ]
    },
    {
     "name": "stderr",
     "output_type": "stream",
     "text": [
      "R[write to console]: boundary (singular) fit: see ?isSingular\n",
      "\n",
      "R[write to console]: boundary (singular) fit: see ?isSingular\n",
      "\n"
     ]
    },
    {
     "name": "stdout",
     "output_type": "stream",
     "text": [
      "Done 284 of 2500\n",
      "Done 285 of 2500\n",
      "Done 286 of 2500\n",
      "Done 287 of 2500\n",
      "Done 288 of 2500\n",
      "Done 289 of 2500\n",
      "Done 290 of 2500\n",
      "Done 291 of 2500\n",
      "Done 292 of 2500\n"
     ]
    },
    {
     "name": "stderr",
     "output_type": "stream",
     "text": [
      "R[write to console]: boundary (singular) fit: see ?isSingular\n",
      "\n"
     ]
    },
    {
     "name": "stdout",
     "output_type": "stream",
     "text": [
      "Done 293 of 2500\n",
      "Done 294 of 2500\n",
      "Done 295 of 2500\n",
      "Done 296 of 2500\n",
      "Done 297 of 2500\n"
     ]
    },
    {
     "name": "stderr",
     "output_type": "stream",
     "text": [
      "R[write to console]: boundary (singular) fit: see ?isSingular\n",
      "\n",
      "R[write to console]: boundary (singular) fit: see ?isSingular\n",
      "\n"
     ]
    },
    {
     "name": "stdout",
     "output_type": "stream",
     "text": [
      "Done 298 of 2500\n",
      "Done 299 of 2500\n",
      "Done 300 of 2500\n",
      "Done 301 of 2500\n",
      "Done 302 of 2500\n"
     ]
    },
    {
     "name": "stderr",
     "output_type": "stream",
     "text": [
      "R[write to console]: boundary (singular) fit: see ?isSingular\n",
      "\n",
      "R[write to console]: boundary (singular) fit: see ?isSingular\n",
      "\n"
     ]
    },
    {
     "name": "stdout",
     "output_type": "stream",
     "text": [
      "Done 303 of 2500\n",
      "Done 304 of 2500\n",
      "Done 305 of 2500\n",
      "Done 306 of 2500\n",
      "Done 307 of 2500\n"
     ]
    },
    {
     "name": "stderr",
     "output_type": "stream",
     "text": [
      "R[write to console]: boundary (singular) fit: see ?isSingular\n",
      "\n",
      "R[write to console]: boundary (singular) fit: see ?isSingular\n",
      "\n",
      "R[write to console]: boundary (singular) fit: see ?isSingular\n",
      "\n"
     ]
    },
    {
     "name": "stdout",
     "output_type": "stream",
     "text": [
      "Done 308 of 2500\n",
      "Done 309 of 2500\n",
      "Done 310 of 2500\n",
      "Done 311 of 2500\n",
      "Done 312 of 2500\n"
     ]
    },
    {
     "name": "stderr",
     "output_type": "stream",
     "text": [
      "R[write to console]: boundary (singular) fit: see ?isSingular\n",
      "\n",
      "R[write to console]: boundary (singular) fit: see ?isSingular\n",
      "\n",
      "R[write to console]: boundary (singular) fit: see ?isSingular\n",
      "\n",
      "R[write to console]: boundary (singular) fit: see ?isSingular\n",
      "\n"
     ]
    },
    {
     "name": "stdout",
     "output_type": "stream",
     "text": [
      "Done 313 of 2500\n",
      "Done 314 of 2500\n",
      "Done 315 of 2500\n",
      "Done 316 of 2500\n"
     ]
    },
    {
     "name": "stderr",
     "output_type": "stream",
     "text": [
      "R[write to console]: boundary (singular) fit: see ?isSingular\n",
      "\n",
      "R[write to console]: boundary (singular) fit: see ?isSingular\n",
      "\n",
      "R[write to console]: boundary (singular) fit: see ?isSingular\n",
      "\n"
     ]
    },
    {
     "name": "stdout",
     "output_type": "stream",
     "text": [
      "Done 317 of 2500\n",
      "Done 318 of 2500\n",
      "Done 319 of 2500\n",
      "Done 320 of 2500\n",
      "Done 321 of 2500\n"
     ]
    },
    {
     "name": "stderr",
     "output_type": "stream",
     "text": [
      "R[write to console]: boundary (singular) fit: see ?isSingular\n",
      "\n",
      "R[write to console]: boundary (singular) fit: see ?isSingular\n",
      "\n",
      "R[write to console]: boundary (singular) fit: see ?isSingular\n",
      "\n",
      "R[write to console]: boundary (singular) fit: see ?isSingular\n",
      "\n"
     ]
    },
    {
     "name": "stdout",
     "output_type": "stream",
     "text": [
      "Done 322 of 2500\n",
      "Done 323 of 2500\n",
      "Done 324 of 2500\n",
      "Done 325 of 2500\n",
      "Done 326 of 2500\n"
     ]
    },
    {
     "name": "stderr",
     "output_type": "stream",
     "text": [
      "R[write to console]: boundary (singular) fit: see ?isSingular\n",
      "\n",
      "R[write to console]: boundary (singular) fit: see ?isSingular\n",
      "\n",
      "R[write to console]: boundary (singular) fit: see ?isSingular\n",
      "\n",
      "R[write to console]: boundary (singular) fit: see ?isSingular\n",
      "\n"
     ]
    },
    {
     "name": "stdout",
     "output_type": "stream",
     "text": [
      "Done 327 of 2500\n",
      "Done 328 of 2500\n",
      "Done 329 of 2500\n",
      "Done 330 of 2500\n",
      "Done 331 of 2500\n"
     ]
    },
    {
     "name": "stderr",
     "output_type": "stream",
     "text": [
      "R[write to console]: boundary (singular) fit: see ?isSingular\n",
      "\n",
      "R[write to console]: boundary (singular) fit: see ?isSingular\n",
      "\n",
      "R[write to console]: boundary (singular) fit: see ?isSingular\n",
      "\n",
      "R[write to console]: boundary (singular) fit: see ?isSingular\n",
      "\n"
     ]
    },
    {
     "name": "stdout",
     "output_type": "stream",
     "text": [
      "Done 332 of 2500\n",
      "Done 333 of 2500\n",
      "Done 334 of 2500\n",
      "Done 335 of 2500\n"
     ]
    },
    {
     "name": "stderr",
     "output_type": "stream",
     "text": [
      "R[write to console]: boundary (singular) fit: see ?isSingular\n",
      "\n"
     ]
    },
    {
     "name": "stdout",
     "output_type": "stream",
     "text": [
      "Done 336 of 2500\n",
      "Done 337 of 2500\n",
      "Done 338 of 2500\n",
      "Done 339 of 2500\n",
      "Done 340 of 2500\n"
     ]
    },
    {
     "name": "stderr",
     "output_type": "stream",
     "text": [
      "R[write to console]: boundary (singular) fit: see ?isSingular\n",
      "\n",
      "R[write to console]: boundary (singular) fit: see ?isSingular\n",
      "\n",
      "R[write to console]: boundary (singular) fit: see ?isSingular\n",
      "\n",
      "R[write to console]: boundary (singular) fit: see ?isSingular\n",
      "\n"
     ]
    },
    {
     "name": "stdout",
     "output_type": "stream",
     "text": [
      "Done 341 of 2500\n",
      "Done 342 of 2500\n",
      "Done 343 of 2500\n",
      "Done 344 of 2500\n",
      "Done 345 of 2500\n"
     ]
    },
    {
     "name": "stderr",
     "output_type": "stream",
     "text": [
      "R[write to console]: boundary (singular) fit: see ?isSingular\n",
      "\n",
      "R[write to console]: boundary (singular) fit: see ?isSingular\n",
      "\n",
      "R[write to console]: boundary (singular) fit: see ?isSingular\n",
      "\n",
      "R[write to console]: boundary (singular) fit: see ?isSingular\n",
      "\n",
      "R[write to console]: boundary (singular) fit: see ?isSingular\n",
      "\n"
     ]
    },
    {
     "name": "stdout",
     "output_type": "stream",
     "text": [
      "Done 346 of 2500\n",
      "Done 347 of 2500\n",
      "Done 348 of 2500\n",
      "Done 349 of 2500\n"
     ]
    },
    {
     "name": "stderr",
     "output_type": "stream",
     "text": [
      "R[write to console]: boundary (singular) fit: see ?isSingular\n",
      "\n",
      "R[write to console]: boundary (singular) fit: see ?isSingular\n",
      "\n",
      "R[write to console]: boundary (singular) fit: see ?isSingular\n",
      "\n",
      "R[write to console]: boundary (singular) fit: see ?isSingular\n",
      "\n"
     ]
    },
    {
     "name": "stdout",
     "output_type": "stream",
     "text": [
      "Done 350 of 2500\n",
      "Done 351 of 2500\n",
      "Done 352 of 2500\n",
      "Done 353 of 2500\n",
      "Done 354 of 2500\n"
     ]
    },
    {
     "name": "stderr",
     "output_type": "stream",
     "text": [
      "R[write to console]: boundary (singular) fit: see ?isSingular\n",
      "\n"
     ]
    },
    {
     "name": "stdout",
     "output_type": "stream",
     "text": [
      "Done 355 of 2500\n",
      "Done 356 of 2500\n",
      "Done 357 of 2500\n",
      "Done 358 of 2500\n",
      "Done 359 of 2500\n"
     ]
    },
    {
     "name": "stderr",
     "output_type": "stream",
     "text": [
      "R[write to console]: boundary (singular) fit: see ?isSingular\n",
      "\n",
      "R[write to console]: boundary (singular) fit: see ?isSingular\n",
      "\n",
      "R[write to console]: boundary (singular) fit: see ?isSingular\n",
      "\n",
      "R[write to console]: boundary (singular) fit: see ?isSingular\n",
      "\n"
     ]
    },
    {
     "name": "stdout",
     "output_type": "stream",
     "text": [
      "Done 360 of 2500\n",
      "Done 361 of 2500\n",
      "Done 362 of 2500\n",
      "Done 363 of 2500\n",
      "Done 364 of 2500\n"
     ]
    },
    {
     "name": "stderr",
     "output_type": "stream",
     "text": [
      "R[write to console]: boundary (singular) fit: see ?isSingular\n",
      "\n",
      "R[write to console]: boundary (singular) fit: see ?isSingular\n",
      "\n",
      "R[write to console]: boundary (singular) fit: see ?isSingular\n",
      "\n",
      "R[write to console]: boundary (singular) fit: see ?isSingular\n",
      "\n",
      "R[write to console]: boundary (singular) fit: see ?isSingular\n",
      "\n"
     ]
    },
    {
     "name": "stdout",
     "output_type": "stream",
     "text": [
      "Done 365 of 2500\n",
      "Done 366 of 2500\n",
      "Done 367 of 2500\n",
      "Done 368 of 2500\n"
     ]
    },
    {
     "name": "stderr",
     "output_type": "stream",
     "text": [
      "R[write to console]: boundary (singular) fit: see ?isSingular\n",
      "\n",
      "R[write to console]: boundary (singular) fit: see ?isSingular\n",
      "\n"
     ]
    },
    {
     "name": "stdout",
     "output_type": "stream",
     "text": [
      "Done 369 of 2500\n",
      "Done 370 of 2500\n",
      "Done 371 of 2500\n",
      "Done 372 of 2500\n"
     ]
    },
    {
     "name": "stderr",
     "output_type": "stream",
     "text": [
      "R[write to console]: boundary (singular) fit: see ?isSingular\n",
      "\n",
      "R[write to console]: boundary (singular) fit: see ?isSingular\n",
      "\n",
      "R[write to console]: boundary (singular) fit: see ?isSingular\n",
      "\n"
     ]
    },
    {
     "name": "stdout",
     "output_type": "stream",
     "text": [
      "Done 373 of 2500\n",
      "Done 374 of 2500\n",
      "Done 375 of 2500\n",
      "Done 376 of 2500\n",
      "Done 377 of 2500\n"
     ]
    },
    {
     "name": "stderr",
     "output_type": "stream",
     "text": [
      "R[write to console]: boundary (singular) fit: see ?isSingular\n",
      "\n",
      "R[write to console]: boundary (singular) fit: see ?isSingular\n",
      "\n",
      "R[write to console]: boundary (singular) fit: see ?isSingular\n",
      "\n",
      "R[write to console]: boundary (singular) fit: see ?isSingular\n",
      "\n"
     ]
    },
    {
     "name": "stdout",
     "output_type": "stream",
     "text": [
      "Done 378 of 2500\n",
      "Done 379 of 2500\n",
      "Done 380 of 2500\n",
      "Done 381 of 2500\n",
      "Done 382 of 2500\n"
     ]
    },
    {
     "name": "stderr",
     "output_type": "stream",
     "text": [
      "R[write to console]: boundary (singular) fit: see ?isSingular\n",
      "\n",
      "R[write to console]: boundary (singular) fit: see ?isSingular\n",
      "\n",
      "R[write to console]: boundary (singular) fit: see ?isSingular\n",
      "\n",
      "R[write to console]: boundary (singular) fit: see ?isSingular\n",
      "\n",
      "R[write to console]: boundary (singular) fit: see ?isSingular\n",
      "\n"
     ]
    },
    {
     "name": "stdout",
     "output_type": "stream",
     "text": [
      "Done 383 of 2500\n",
      "Done 384 of 2500\n",
      "Done 385 of 2500\n",
      "Done 386 of 2500\n",
      "Done 387 of 2500\n"
     ]
    },
    {
     "name": "stderr",
     "output_type": "stream",
     "text": [
      "R[write to console]: boundary (singular) fit: see ?isSingular\n",
      "\n",
      "R[write to console]: boundary (singular) fit: see ?isSingular\n",
      "\n",
      "R[write to console]: boundary (singular) fit: see ?isSingular\n",
      "\n",
      "R[write to console]: boundary (singular) fit: see ?isSingular\n",
      "\n"
     ]
    },
    {
     "name": "stdout",
     "output_type": "stream",
     "text": [
      "Done 388 of 2500\n",
      "Done 389 of 2500\n",
      "Done 390 of 2500\n",
      "Done 391 of 2500\n",
      "Done 392 of 2500\n"
     ]
    },
    {
     "name": "stderr",
     "output_type": "stream",
     "text": [
      "R[write to console]: boundary (singular) fit: see ?isSingular\n",
      "\n",
      "R[write to console]: boundary (singular) fit: see ?isSingular\n",
      "\n",
      "R[write to console]: boundary (singular) fit: see ?isSingular\n",
      "\n",
      "R[write to console]: boundary (singular) fit: see ?isSingular\n",
      "\n",
      "R[write to console]: boundary (singular) fit: see ?isSingular\n",
      "\n"
     ]
    },
    {
     "name": "stdout",
     "output_type": "stream",
     "text": [
      "Done 393 of 2500\n",
      "Done 394 of 2500\n",
      "Done 395 of 2500\n",
      "Done 396 of 2500\n",
      "Done 397 of 2500\n"
     ]
    },
    {
     "name": "stderr",
     "output_type": "stream",
     "text": [
      "R[write to console]: boundary (singular) fit: see ?isSingular\n",
      "\n",
      "R[write to console]: boundary (singular) fit: see ?isSingular\n",
      "\n",
      "R[write to console]: boundary (singular) fit: see ?isSingular\n",
      "\n",
      "R[write to console]: boundary (singular) fit: see ?isSingular\n",
      "\n"
     ]
    },
    {
     "name": "stdout",
     "output_type": "stream",
     "text": [
      "Done 398 of 2500\n",
      "Done 399 of 2500\n",
      "Done 400 of 2500\n",
      "Done 401 of 2500\n",
      "Done 402 of 2500\n"
     ]
    },
    {
     "name": "stderr",
     "output_type": "stream",
     "text": [
      "R[write to console]: boundary (singular) fit: see ?isSingular\n",
      "\n",
      "R[write to console]: boundary (singular) fit: see ?isSingular\n",
      "\n",
      "R[write to console]: boundary (singular) fit: see ?isSingular\n",
      "\n",
      "R[write to console]: boundary (singular) fit: see ?isSingular\n",
      "\n",
      "R[write to console]: boundary (singular) fit: see ?isSingular\n",
      "\n"
     ]
    },
    {
     "name": "stdout",
     "output_type": "stream",
     "text": [
      "Done 403 of 2500\n",
      "Done 404 of 2500\n",
      "Done 405 of 2500\n",
      "Done 406 of 2500\n",
      "Done 407 of 2500\n"
     ]
    },
    {
     "name": "stderr",
     "output_type": "stream",
     "text": [
      "R[write to console]: boundary (singular) fit: see ?isSingular\n",
      "\n",
      "R[write to console]: boundary (singular) fit: see ?isSingular\n",
      "\n",
      "R[write to console]: boundary (singular) fit: see ?isSingular\n",
      "\n"
     ]
    },
    {
     "name": "stdout",
     "output_type": "stream",
     "text": [
      "Done 408 of 2500\n",
      "Done 409 of 2500\n",
      "Done 410 of 2500\n",
      "Done 411 of 2500\n",
      "Done 412 of 2500\n"
     ]
    },
    {
     "name": "stderr",
     "output_type": "stream",
     "text": [
      "R[write to console]: boundary (singular) fit: see ?isSingular\n",
      "\n",
      "R[write to console]: boundary (singular) fit: see ?isSingular\n",
      "\n",
      "R[write to console]: boundary (singular) fit: see ?isSingular\n",
      "\n"
     ]
    },
    {
     "name": "stdout",
     "output_type": "stream",
     "text": [
      "Done 413 of 2500\n",
      "Done 414 of 2500\n",
      "Done 415 of 2500\n",
      "Done 416 of 2500\n",
      "Done 417 of 2500\n"
     ]
    },
    {
     "name": "stderr",
     "output_type": "stream",
     "text": [
      "R[write to console]: boundary (singular) fit: see ?isSingular\n",
      "\n",
      "R[write to console]: boundary (singular) fit: see ?isSingular\n",
      "\n",
      "R[write to console]: boundary (singular) fit: see ?isSingular\n",
      "\n",
      "R[write to console]: boundary (singular) fit: see ?isSingular\n",
      "\n"
     ]
    },
    {
     "name": "stdout",
     "output_type": "stream",
     "text": [
      "Done 418 of 2500\n",
      "Done 419 of 2500\n",
      "Done 420 of 2500\n",
      "Done 421 of 2500\n",
      "Done 422 of 2500\n"
     ]
    },
    {
     "name": "stderr",
     "output_type": "stream",
     "text": [
      "R[write to console]: boundary (singular) fit: see ?isSingular\n",
      "\n",
      "R[write to console]: boundary (singular) fit: see ?isSingular\n",
      "\n",
      "R[write to console]: boundary (singular) fit: see ?isSingular\n",
      "\n"
     ]
    },
    {
     "name": "stdout",
     "output_type": "stream",
     "text": [
      "Done 423 of 2500\n",
      "Done 424 of 2500\n",
      "Done 425 of 2500\n",
      "Done 426 of 2500\n",
      "Done 427 of 2500\n"
     ]
    },
    {
     "name": "stderr",
     "output_type": "stream",
     "text": [
      "R[write to console]: boundary (singular) fit: see ?isSingular\n",
      "\n",
      "R[write to console]: boundary (singular) fit: see ?isSingular\n",
      "\n",
      "R[write to console]: boundary (singular) fit: see ?isSingular\n",
      "\n",
      "R[write to console]: boundary (singular) fit: see ?isSingular\n",
      "\n",
      "R[write to console]: boundary (singular) fit: see ?isSingular\n",
      "\n"
     ]
    },
    {
     "name": "stdout",
     "output_type": "stream",
     "text": [
      "Done 428 of 2500\n",
      "Done 429 of 2500\n",
      "Done 430 of 2500\n",
      "Done 431 of 2500\n",
      "Done 432 of 2500\n"
     ]
    },
    {
     "name": "stderr",
     "output_type": "stream",
     "text": [
      "R[write to console]: boundary (singular) fit: see ?isSingular\n",
      "\n",
      "R[write to console]: boundary (singular) fit: see ?isSingular\n",
      "\n",
      "R[write to console]: boundary (singular) fit: see ?isSingular\n",
      "\n",
      "R[write to console]: boundary (singular) fit: see ?isSingular\n",
      "\n"
     ]
    },
    {
     "name": "stdout",
     "output_type": "stream",
     "text": [
      "Done 433 of 2500\n",
      "Done 434 of 2500\n",
      "Done 435 of 2500\n",
      "Done 436 of 2500\n",
      "Done 437 of 2500\n"
     ]
    },
    {
     "name": "stderr",
     "output_type": "stream",
     "text": [
      "R[write to console]: boundary (singular) fit: see ?isSingular\n",
      "\n",
      "R[write to console]: boundary (singular) fit: see ?isSingular\n",
      "\n",
      "R[write to console]: boundary (singular) fit: see ?isSingular\n",
      "\n",
      "R[write to console]: boundary (singular) fit: see ?isSingular\n",
      "\n"
     ]
    },
    {
     "name": "stdout",
     "output_type": "stream",
     "text": [
      "Done 438 of 2500\n",
      "Done 439 of 2500\n",
      "Done 440 of 2500\n",
      "Done 441 of 2500\n",
      "Done 442 of 2500\n"
     ]
    },
    {
     "name": "stderr",
     "output_type": "stream",
     "text": [
      "R[write to console]: boundary (singular) fit: see ?isSingular\n",
      "\n",
      "R[write to console]: boundary (singular) fit: see ?isSingular\n",
      "\n",
      "R[write to console]: boundary (singular) fit: see ?isSingular\n",
      "\n"
     ]
    },
    {
     "name": "stdout",
     "output_type": "stream",
     "text": [
      "Done 443 of 2500\n",
      "Done 444 of 2500\n",
      "Done 445 of 2500\n",
      "Done 446 of 2500\n",
      "Done 447 of 2500\n"
     ]
    },
    {
     "name": "stderr",
     "output_type": "stream",
     "text": [
      "R[write to console]: boundary (singular) fit: see ?isSingular\n",
      "\n",
      "R[write to console]: boundary (singular) fit: see ?isSingular\n",
      "\n"
     ]
    },
    {
     "name": "stdout",
     "output_type": "stream",
     "text": [
      "Done 448 of 2500\n",
      "Done 449 of 2500\n",
      "Done 450 of 2500\n",
      "Done 451 of 2500\n",
      "Done 452 of 2500\n"
     ]
    },
    {
     "name": "stderr",
     "output_type": "stream",
     "text": [
      "R[write to console]: boundary (singular) fit: see ?isSingular\n",
      "\n",
      "R[write to console]: boundary (singular) fit: see ?isSingular\n",
      "\n",
      "R[write to console]: boundary (singular) fit: see ?isSingular\n",
      "\n",
      "R[write to console]: boundary (singular) fit: see ?isSingular\n",
      "\n"
     ]
    },
    {
     "name": "stdout",
     "output_type": "stream",
     "text": [
      "Done 453 of 2500\n",
      "Done 454 of 2500\n",
      "Done 455 of 2500\n",
      "Done 456 of 2500\n",
      "Done 457 of 2500\n"
     ]
    },
    {
     "name": "stderr",
     "output_type": "stream",
     "text": [
      "R[write to console]: boundary (singular) fit: see ?isSingular\n",
      "\n",
      "R[write to console]: boundary (singular) fit: see ?isSingular\n",
      "\n",
      "R[write to console]: boundary (singular) fit: see ?isSingular\n",
      "\n"
     ]
    },
    {
     "name": "stdout",
     "output_type": "stream",
     "text": [
      "Done 458 of 2500\n",
      "Done 459 of 2500\n",
      "Done 460 of 2500\n",
      "Done 461 of 2500\n",
      "Done 462 of 2500\n"
     ]
    },
    {
     "name": "stderr",
     "output_type": "stream",
     "text": [
      "R[write to console]: boundary (singular) fit: see ?isSingular\n",
      "\n",
      "R[write to console]: boundary (singular) fit: see ?isSingular\n",
      "\n"
     ]
    },
    {
     "name": "stdout",
     "output_type": "stream",
     "text": [
      "Done 463 of 2500\n",
      "Done 464 of 2500\n",
      "Done 465 of 2500\n",
      "Done 466 of 2500\n",
      "Done 467 of 2500\n"
     ]
    },
    {
     "name": "stderr",
     "output_type": "stream",
     "text": [
      "R[write to console]: boundary (singular) fit: see ?isSingular\n",
      "\n",
      "R[write to console]: boundary (singular) fit: see ?isSingular\n",
      "\n",
      "R[write to console]: boundary (singular) fit: see ?isSingular\n",
      "\n"
     ]
    },
    {
     "name": "stdout",
     "output_type": "stream",
     "text": [
      "Done 468 of 2500\n",
      "Done 469 of 2500\n",
      "Done 470 of 2500\n",
      "Done 471 of 2500\n",
      "Done 472 of 2500\n"
     ]
    },
    {
     "name": "stderr",
     "output_type": "stream",
     "text": [
      "R[write to console]: boundary (singular) fit: see ?isSingular\n",
      "\n",
      "R[write to console]: boundary (singular) fit: see ?isSingular\n",
      "\n",
      "R[write to console]: boundary (singular) fit: see ?isSingular\n",
      "\n",
      "R[write to console]: boundary (singular) fit: see ?isSingular\n",
      "\n"
     ]
    },
    {
     "name": "stdout",
     "output_type": "stream",
     "text": [
      "Done 473 of 2500\n",
      "Done 474 of 2500\n",
      "Done 475 of 2500\n",
      "Done 476 of 2500\n",
      "Done 477 of 2500\n"
     ]
    },
    {
     "name": "stderr",
     "output_type": "stream",
     "text": [
      "R[write to console]: boundary (singular) fit: see ?isSingular\n",
      "\n",
      "R[write to console]: boundary (singular) fit: see ?isSingular\n",
      "\n",
      "R[write to console]: boundary (singular) fit: see ?isSingular\n",
      "\n",
      "R[write to console]: boundary (singular) fit: see ?isSingular\n",
      "\n",
      "R[write to console]: boundary (singular) fit: see ?isSingular\n",
      "\n"
     ]
    },
    {
     "name": "stdout",
     "output_type": "stream",
     "text": [
      "Done 478 of 2500\n",
      "Done 479 of 2500\n",
      "Done 480 of 2500\n",
      "Done 481 of 2500\n",
      "Done 482 of 2500\n"
     ]
    },
    {
     "name": "stderr",
     "output_type": "stream",
     "text": [
      "R[write to console]: boundary (singular) fit: see ?isSingular\n",
      "\n",
      "R[write to console]: boundary (singular) fit: see ?isSingular\n",
      "\n",
      "R[write to console]: boundary (singular) fit: see ?isSingular\n",
      "\n",
      "R[write to console]: boundary (singular) fit: see ?isSingular\n",
      "\n",
      "R[write to console]: boundary (singular) fit: see ?isSingular\n",
      "\n"
     ]
    },
    {
     "name": "stdout",
     "output_type": "stream",
     "text": [
      "Done 483 of 2500\n",
      "Done 484 of 2500\n",
      "Done 485 of 2500\n",
      "Done 486 of 2500\n",
      "Done 487 of 2500\n"
     ]
    },
    {
     "name": "stderr",
     "output_type": "stream",
     "text": [
      "R[write to console]: boundary (singular) fit: see ?isSingular\n",
      "\n",
      "R[write to console]: boundary (singular) fit: see ?isSingular\n",
      "\n",
      "R[write to console]: boundary (singular) fit: see ?isSingular\n",
      "\n"
     ]
    },
    {
     "name": "stdout",
     "output_type": "stream",
     "text": [
      "Done 488 of 2500\n",
      "Done 489 of 2500\n",
      "Done 490 of 2500\n",
      "Done 491 of 2500\n",
      "Done 492 of 2500\n"
     ]
    },
    {
     "name": "stderr",
     "output_type": "stream",
     "text": [
      "R[write to console]: boundary (singular) fit: see ?isSingular\n",
      "\n",
      "R[write to console]: boundary (singular) fit: see ?isSingular\n",
      "\n",
      "R[write to console]: boundary (singular) fit: see ?isSingular\n",
      "\n",
      "R[write to console]: boundary (singular) fit: see ?isSingular\n",
      "\n"
     ]
    },
    {
     "name": "stdout",
     "output_type": "stream",
     "text": [
      "Done 493 of 2500\n",
      "Done 494 of 2500\n",
      "Done 495 of 2500\n",
      "Done 496 of 2500\n",
      "Done 497 of 2500\n"
     ]
    },
    {
     "name": "stderr",
     "output_type": "stream",
     "text": [
      "R[write to console]: boundary (singular) fit: see ?isSingular\n",
      "\n",
      "R[write to console]: boundary (singular) fit: see ?isSingular\n",
      "\n",
      "R[write to console]: boundary (singular) fit: see ?isSingular\n",
      "\n",
      "R[write to console]: boundary (singular) fit: see ?isSingular\n",
      "\n",
      "R[write to console]: boundary (singular) fit: see ?isSingular\n",
      "\n"
     ]
    },
    {
     "name": "stdout",
     "output_type": "stream",
     "text": [
      "Done 498 of 2500\n",
      "Done 499 of 2500\n",
      "Done 500 of 2500\n",
      "Done 501 of 2500\n",
      "Done 502 of 2500\n"
     ]
    },
    {
     "name": "stderr",
     "output_type": "stream",
     "text": [
      "R[write to console]: boundary (singular) fit: see ?isSingular\n",
      "\n",
      "R[write to console]: boundary (singular) fit: see ?isSingular\n",
      "\n",
      "R[write to console]: boundary (singular) fit: see ?isSingular\n",
      "\n",
      "R[write to console]: boundary (singular) fit: see ?isSingular\n",
      "\n"
     ]
    },
    {
     "name": "stdout",
     "output_type": "stream",
     "text": [
      "Done 503 of 2500\n",
      "Done 504 of 2500\n",
      "Done 505 of 2500\n",
      "Done 506 of 2500\n",
      "Done 507 of 2500\n"
     ]
    },
    {
     "name": "stderr",
     "output_type": "stream",
     "text": [
      "R[write to console]: boundary (singular) fit: see ?isSingular\n",
      "\n",
      "R[write to console]: boundary (singular) fit: see ?isSingular\n",
      "\n",
      "R[write to console]: boundary (singular) fit: see ?isSingular\n",
      "\n",
      "R[write to console]: boundary (singular) fit: see ?isSingular\n",
      "\n"
     ]
    },
    {
     "name": "stdout",
     "output_type": "stream",
     "text": [
      "Done 508 of 2500\n",
      "Done 509 of 2500\n",
      "Done 510 of 2500\n",
      "Done 511 of 2500\n",
      "Done 512 of 2500\n"
     ]
    },
    {
     "name": "stderr",
     "output_type": "stream",
     "text": [
      "R[write to console]: boundary (singular) fit: see ?isSingular\n",
      "\n"
     ]
    },
    {
     "name": "stdout",
     "output_type": "stream",
     "text": [
      "Done 513 of 2500\n",
      "Done 514 of 2500\n",
      "Done 515 of 2500\n",
      "Done 516 of 2500\n",
      "Done 517 of 2500\n"
     ]
    },
    {
     "name": "stderr",
     "output_type": "stream",
     "text": [
      "R[write to console]: boundary (singular) fit: see ?isSingular\n",
      "\n",
      "R[write to console]: boundary (singular) fit: see ?isSingular\n",
      "\n",
      "R[write to console]: boundary (singular) fit: see ?isSingular\n",
      "\n"
     ]
    },
    {
     "name": "stdout",
     "output_type": "stream",
     "text": [
      "Done 518 of 2500\n",
      "Done 519 of 2500\n",
      "Done 520 of 2500\n",
      "Done 521 of 2500\n",
      "Done 522 of 2500\n"
     ]
    },
    {
     "name": "stderr",
     "output_type": "stream",
     "text": [
      "R[write to console]: boundary (singular) fit: see ?isSingular\n",
      "\n",
      "R[write to console]: boundary (singular) fit: see ?isSingular\n",
      "\n",
      "R[write to console]: boundary (singular) fit: see ?isSingular\n",
      "\n",
      "R[write to console]: boundary (singular) fit: see ?isSingular\n",
      "\n"
     ]
    },
    {
     "name": "stdout",
     "output_type": "stream",
     "text": [
      "Done 523 of 2500\n",
      "Done 524 of 2500\n",
      "Done 525 of 2500\n",
      "Done 526 of 2500\n",
      "Done 527 of 2500\n"
     ]
    },
    {
     "name": "stderr",
     "output_type": "stream",
     "text": [
      "R[write to console]: boundary (singular) fit: see ?isSingular\n",
      "\n",
      "R[write to console]: boundary (singular) fit: see ?isSingular\n",
      "\n",
      "R[write to console]: boundary (singular) fit: see ?isSingular\n",
      "\n",
      "R[write to console]: boundary (singular) fit: see ?isSingular\n",
      "\n",
      "R[write to console]: boundary (singular) fit: see ?isSingular\n",
      "\n"
     ]
    },
    {
     "name": "stdout",
     "output_type": "stream",
     "text": [
      "Done 528 of 2500\n",
      "Done 529 of 2500\n",
      "Done 530 of 2500\n",
      "Done 531 of 2500\n",
      "Done 532 of 2500\n"
     ]
    },
    {
     "name": "stderr",
     "output_type": "stream",
     "text": [
      "R[write to console]: boundary (singular) fit: see ?isSingular\n",
      "\n",
      "R[write to console]: boundary (singular) fit: see ?isSingular\n",
      "\n",
      "R[write to console]: boundary (singular) fit: see ?isSingular\n",
      "\n"
     ]
    },
    {
     "name": "stdout",
     "output_type": "stream",
     "text": [
      "Done 533 of 2500\n",
      "Done 534 of 2500\n",
      "Done 535 of 2500\n",
      "Done 536 of 2500\n",
      "Done 537 of 2500\n"
     ]
    },
    {
     "name": "stderr",
     "output_type": "stream",
     "text": [
      "R[write to console]: boundary (singular) fit: see ?isSingular\n",
      "\n"
     ]
    },
    {
     "name": "stdout",
     "output_type": "stream",
     "text": [
      "Done 538 of 2500\n",
      "Done 539 of 2500\n",
      "Done 540 of 2500\n",
      "Done 541 of 2500\n",
      "Done 542 of 2500\n"
     ]
    },
    {
     "name": "stderr",
     "output_type": "stream",
     "text": [
      "R[write to console]: boundary (singular) fit: see ?isSingular\n",
      "\n",
      "R[write to console]: boundary (singular) fit: see ?isSingular\n",
      "\n",
      "R[write to console]: boundary (singular) fit: see ?isSingular\n",
      "\n"
     ]
    },
    {
     "name": "stdout",
     "output_type": "stream",
     "text": [
      "Done 543 of 2500\n",
      "Done 544 of 2500\n",
      "Done 545 of 2500\n",
      "Done 546 of 2500\n",
      "Done 547 of 2500\n"
     ]
    },
    {
     "name": "stderr",
     "output_type": "stream",
     "text": [
      "R[write to console]: boundary (singular) fit: see ?isSingular\n",
      "\n",
      "R[write to console]: boundary (singular) fit: see ?isSingular\n",
      "\n"
     ]
    },
    {
     "name": "stdout",
     "output_type": "stream",
     "text": [
      "Done 548 of 2500\n",
      "Done 549 of 2500\n",
      "Done 550 of 2500\n",
      "Done 551 of 2500\n",
      "Done 552 of 2500\n"
     ]
    },
    {
     "name": "stderr",
     "output_type": "stream",
     "text": [
      "R[write to console]: boundary (singular) fit: see ?isSingular\n",
      "\n",
      "R[write to console]: boundary (singular) fit: see ?isSingular\n",
      "\n",
      "R[write to console]: boundary (singular) fit: see ?isSingular\n",
      "\n",
      "R[write to console]: boundary (singular) fit: see ?isSingular\n",
      "\n"
     ]
    },
    {
     "name": "stdout",
     "output_type": "stream",
     "text": [
      "Done 553 of 2500\n",
      "Done 554 of 2500\n",
      "Done 555 of 2500\n",
      "Done 556 of 2500\n",
      "Done 557 of 2500\n"
     ]
    },
    {
     "name": "stderr",
     "output_type": "stream",
     "text": [
      "R[write to console]: boundary (singular) fit: see ?isSingular\n",
      "\n",
      "R[write to console]: boundary (singular) fit: see ?isSingular\n",
      "\n"
     ]
    },
    {
     "name": "stdout",
     "output_type": "stream",
     "text": [
      "Done 558 of 2500\n",
      "Done 559 of 2500\n",
      "Done 560 of 2500\n",
      "Done 561 of 2500\n",
      "Done 562 of 2500\n"
     ]
    },
    {
     "name": "stderr",
     "output_type": "stream",
     "text": [
      "R[write to console]: boundary (singular) fit: see ?isSingular\n",
      "\n"
     ]
    },
    {
     "name": "stdout",
     "output_type": "stream",
     "text": [
      "Done 563 of 2500\n",
      "Done 564 of 2500\n",
      "Done 565 of 2500\n",
      "Done 566 of 2500\n",
      "Done 567 of 2500\n"
     ]
    },
    {
     "name": "stderr",
     "output_type": "stream",
     "text": [
      "R[write to console]: boundary (singular) fit: see ?isSingular\n",
      "\n",
      "R[write to console]: boundary (singular) fit: see ?isSingular\n",
      "\n"
     ]
    },
    {
     "name": "stdout",
     "output_type": "stream",
     "text": [
      "Done 568 of 2500\n",
      "Done 569 of 2500\n",
      "Done 570 of 2500\n",
      "Done 571 of 2500\n",
      "Done 572 of 2500\n"
     ]
    },
    {
     "name": "stderr",
     "output_type": "stream",
     "text": [
      "R[write to console]: boundary (singular) fit: see ?isSingular\n",
      "\n",
      "R[write to console]: boundary (singular) fit: see ?isSingular\n",
      "\n",
      "R[write to console]: boundary (singular) fit: see ?isSingular\n",
      "\n"
     ]
    },
    {
     "name": "stdout",
     "output_type": "stream",
     "text": [
      "Done 573 of 2500\n",
      "Done 574 of 2500\n",
      "Done 575 of 2500\n",
      "Done 576 of 2500\n",
      "Done 577 of 2500\n"
     ]
    },
    {
     "name": "stderr",
     "output_type": "stream",
     "text": [
      "R[write to console]: boundary (singular) fit: see ?isSingular\n",
      "\n",
      "R[write to console]: boundary (singular) fit: see ?isSingular\n",
      "\n",
      "R[write to console]: boundary (singular) fit: see ?isSingular\n",
      "\n",
      "R[write to console]: boundary (singular) fit: see ?isSingular\n",
      "\n"
     ]
    },
    {
     "name": "stdout",
     "output_type": "stream",
     "text": [
      "Done 578 of 2500\n",
      "Done 579 of 2500\n",
      "Done 580 of 2500\n",
      "Done 581 of 2500\n",
      "Done 582 of 2500\n"
     ]
    },
    {
     "name": "stderr",
     "output_type": "stream",
     "text": [
      "R[write to console]: boundary (singular) fit: see ?isSingular\n",
      "\n",
      "R[write to console]: boundary (singular) fit: see ?isSingular\n",
      "\n",
      "R[write to console]: boundary (singular) fit: see ?isSingular\n",
      "\n"
     ]
    },
    {
     "name": "stdout",
     "output_type": "stream",
     "text": [
      "Done 583 of 2500\n",
      "Done 584 of 2500\n",
      "Done 585 of 2500\n",
      "Done 586 of 2500\n",
      "Done 587 of 2500\n"
     ]
    },
    {
     "name": "stderr",
     "output_type": "stream",
     "text": [
      "R[write to console]: boundary (singular) fit: see ?isSingular\n",
      "\n",
      "R[write to console]: boundary (singular) fit: see ?isSingular\n",
      "\n",
      "R[write to console]: boundary (singular) fit: see ?isSingular\n",
      "\n"
     ]
    },
    {
     "name": "stdout",
     "output_type": "stream",
     "text": [
      "Done 588 of 2500\n",
      "Done 589 of 2500\n",
      "Done 590 of 2500\n",
      "Done 591 of 2500\n",
      "Done 592 of 2500\n"
     ]
    },
    {
     "name": "stderr",
     "output_type": "stream",
     "text": [
      "R[write to console]: boundary (singular) fit: see ?isSingular\n",
      "\n",
      "R[write to console]: boundary (singular) fit: see ?isSingular\n",
      "\n"
     ]
    },
    {
     "name": "stdout",
     "output_type": "stream",
     "text": [
      "Done 593 of 2500\n",
      "Done 594 of 2500\n",
      "Done 595 of 2500\n",
      "Done 596 of 2500\n",
      "Done 597 of 2500\n"
     ]
    },
    {
     "name": "stderr",
     "output_type": "stream",
     "text": [
      "R[write to console]: boundary (singular) fit: see ?isSingular\n",
      "\n",
      "R[write to console]: boundary (singular) fit: see ?isSingular\n",
      "\n"
     ]
    },
    {
     "name": "stdout",
     "output_type": "stream",
     "text": [
      "Done 598 of 2500\n",
      "Done 599 of 2500\n",
      "Done 600 of 2500\n",
      "Done 601 of 2500\n",
      "Done 602 of 2500\n"
     ]
    },
    {
     "name": "stderr",
     "output_type": "stream",
     "text": [
      "R[write to console]: boundary (singular) fit: see ?isSingular\n",
      "\n",
      "R[write to console]: boundary (singular) fit: see ?isSingular\n",
      "\n",
      "R[write to console]: boundary (singular) fit: see ?isSingular\n",
      "\n",
      "R[write to console]: boundary (singular) fit: see ?isSingular\n",
      "\n"
     ]
    },
    {
     "name": "stdout",
     "output_type": "stream",
     "text": [
      "Done 603 of 2500\n",
      "Done 604 of 2500\n",
      "Done 605 of 2500\n",
      "Done 606 of 2500\n",
      "Done 607 of 2500\n"
     ]
    },
    {
     "name": "stderr",
     "output_type": "stream",
     "text": [
      "R[write to console]: boundary (singular) fit: see ?isSingular\n",
      "\n",
      "R[write to console]: boundary (singular) fit: see ?isSingular\n",
      "\n",
      "R[write to console]: boundary (singular) fit: see ?isSingular\n",
      "\n",
      "R[write to console]: boundary (singular) fit: see ?isSingular\n",
      "\n"
     ]
    },
    {
     "name": "stdout",
     "output_type": "stream",
     "text": [
      "Done 608 of 2500\n",
      "Done 609 of 2500\n",
      "Done 610 of 2500\n",
      "Done 611 of 2500\n"
     ]
    },
    {
     "name": "stderr",
     "output_type": "stream",
     "text": [
      "R[write to console]: boundary (singular) fit: see ?isSingular\n",
      "\n",
      "R[write to console]: boundary (singular) fit: see ?isSingular\n",
      "\n"
     ]
    },
    {
     "name": "stdout",
     "output_type": "stream",
     "text": [
      "Done 612 of 2500\n",
      "Done 613 of 2500\n",
      "Done 614 of 2500\n",
      "Done 615 of 2500\n",
      "Done 616 of 2500\n"
     ]
    },
    {
     "name": "stderr",
     "output_type": "stream",
     "text": [
      "R[write to console]: boundary (singular) fit: see ?isSingular\n",
      "\n",
      "R[write to console]: boundary (singular) fit: see ?isSingular\n",
      "\n",
      "R[write to console]: boundary (singular) fit: see ?isSingular\n",
      "\n"
     ]
    },
    {
     "name": "stdout",
     "output_type": "stream",
     "text": [
      "Done 617 of 2500\n",
      "Done 618 of 2500\n",
      "Done 619 of 2500\n",
      "Done 620 of 2500\n"
     ]
    },
    {
     "name": "stderr",
     "output_type": "stream",
     "text": [
      "R[write to console]: boundary (singular) fit: see ?isSingular\n",
      "\n",
      "R[write to console]: boundary (singular) fit: see ?isSingular\n",
      "\n"
     ]
    },
    {
     "name": "stdout",
     "output_type": "stream",
     "text": [
      "Done 621 of 2500\n",
      "Done 622 of 2500\n",
      "Done 623 of 2500\n",
      "Done 624 of 2500\n",
      "Done 625 of 2500\n"
     ]
    },
    {
     "name": "stderr",
     "output_type": "stream",
     "text": [
      "R[write to console]: boundary (singular) fit: see ?isSingular\n",
      "\n",
      "R[write to console]: boundary (singular) fit: see ?isSingular\n",
      "\n",
      "R[write to console]: boundary (singular) fit: see ?isSingular\n",
      "\n",
      "R[write to console]: boundary (singular) fit: see ?isSingular\n",
      "\n"
     ]
    },
    {
     "name": "stdout",
     "output_type": "stream",
     "text": [
      "Done 626 of 2500\n",
      "Done 627 of 2500\n",
      "Done 628 of 2500\n",
      "Done 629 of 2500\n",
      "Done 630 of 2500\n"
     ]
    },
    {
     "name": "stderr",
     "output_type": "stream",
     "text": [
      "R[write to console]: boundary (singular) fit: see ?isSingular\n",
      "\n",
      "R[write to console]: boundary (singular) fit: see ?isSingular\n",
      "\n"
     ]
    },
    {
     "name": "stdout",
     "output_type": "stream",
     "text": [
      "Done 631 of 2500\n",
      "Done 632 of 2500\n",
      "Done 633 of 2500\n",
      "Done 634 of 2500\n",
      "Done 635 of 2500\n"
     ]
    },
    {
     "name": "stderr",
     "output_type": "stream",
     "text": [
      "R[write to console]: boundary (singular) fit: see ?isSingular\n",
      "\n",
      "R[write to console]: boundary (singular) fit: see ?isSingular\n",
      "\n",
      "R[write to console]: boundary (singular) fit: see ?isSingular\n",
      "\n",
      "R[write to console]: boundary (singular) fit: see ?isSingular\n",
      "\n",
      "R[write to console]: boundary (singular) fit: see ?isSingular\n",
      "\n"
     ]
    },
    {
     "name": "stdout",
     "output_type": "stream",
     "text": [
      "Done 636 of 2500\n",
      "Done 637 of 2500\n",
      "Done 638 of 2500\n",
      "Done 639 of 2500\n",
      "Done 640 of 2500\n"
     ]
    },
    {
     "name": "stderr",
     "output_type": "stream",
     "text": [
      "R[write to console]: boundary (singular) fit: see ?isSingular\n",
      "\n",
      "R[write to console]: boundary (singular) fit: see ?isSingular\n",
      "\n",
      "R[write to console]: boundary (singular) fit: see ?isSingular\n",
      "\n",
      "R[write to console]: boundary (singular) fit: see ?isSingular\n",
      "\n",
      "R[write to console]: boundary (singular) fit: see ?isSingular\n",
      "\n"
     ]
    },
    {
     "name": "stdout",
     "output_type": "stream",
     "text": [
      "Done 641 of 2500\n",
      "Done 642 of 2500\n",
      "Done 643 of 2500\n",
      "Done 644 of 2500\n"
     ]
    },
    {
     "name": "stderr",
     "output_type": "stream",
     "text": [
      "R[write to console]: boundary (singular) fit: see ?isSingular\n",
      "\n",
      "R[write to console]: boundary (singular) fit: see ?isSingular\n",
      "\n",
      "R[write to console]: boundary (singular) fit: see ?isSingular\n",
      "\n"
     ]
    },
    {
     "name": "stdout",
     "output_type": "stream",
     "text": [
      "Done 645 of 2500\n",
      "Done 646 of 2500\n",
      "Done 647 of 2500\n",
      "Done 648 of 2500\n",
      "Done 649 of 2500\n"
     ]
    },
    {
     "name": "stderr",
     "output_type": "stream",
     "text": [
      "R[write to console]: boundary (singular) fit: see ?isSingular\n",
      "\n",
      "R[write to console]: boundary (singular) fit: see ?isSingular\n",
      "\n"
     ]
    },
    {
     "name": "stdout",
     "output_type": "stream",
     "text": [
      "Done 650 of 2500\n",
      "Done 651 of 2500\n",
      "Done 652 of 2500\n",
      "Done 653 of 2500\n",
      "Done 654 of 2500\n"
     ]
    },
    {
     "name": "stderr",
     "output_type": "stream",
     "text": [
      "R[write to console]: boundary (singular) fit: see ?isSingular\n",
      "\n",
      "R[write to console]: boundary (singular) fit: see ?isSingular\n",
      "\n",
      "R[write to console]: boundary (singular) fit: see ?isSingular\n",
      "\n",
      "R[write to console]: boundary (singular) fit: see ?isSingular\n",
      "\n"
     ]
    },
    {
     "name": "stdout",
     "output_type": "stream",
     "text": [
      "Done 655 of 2500\n",
      "Done 656 of 2500\n",
      "Done 657 of 2500\n",
      "Done 658 of 2500\n",
      "Done 659 of 2500\n"
     ]
    },
    {
     "name": "stderr",
     "output_type": "stream",
     "text": [
      "R[write to console]: boundary (singular) fit: see ?isSingular\n",
      "\n"
     ]
    },
    {
     "name": "stdout",
     "output_type": "stream",
     "text": [
      "Done 660 of 2500\n",
      "Done 661 of 2500\n",
      "Done 662 of 2500\n",
      "Done 663 of 2500\n",
      "Done 664 of 2500\n"
     ]
    },
    {
     "name": "stderr",
     "output_type": "stream",
     "text": [
      "R[write to console]: boundary (singular) fit: see ?isSingular\n",
      "\n",
      "R[write to console]: boundary (singular) fit: see ?isSingular\n",
      "\n",
      "R[write to console]: boundary (singular) fit: see ?isSingular\n",
      "\n"
     ]
    },
    {
     "name": "stdout",
     "output_type": "stream",
     "text": [
      "Done 665 of 2500\n",
      "Done 666 of 2500\n",
      "Done 667 of 2500\n",
      "Done 668 of 2500\n"
     ]
    },
    {
     "name": "stderr",
     "output_type": "stream",
     "text": [
      "R[write to console]: boundary (singular) fit: see ?isSingular\n",
      "\n",
      "R[write to console]: boundary (singular) fit: see ?isSingular\n",
      "\n"
     ]
    },
    {
     "name": "stdout",
     "output_type": "stream",
     "text": [
      "Done 669 of 2500\n",
      "Done 670 of 2500\n",
      "Done 671 of 2500\n",
      "Done 672 of 2500\n",
      "Done 673 of 2500\n"
     ]
    },
    {
     "name": "stderr",
     "output_type": "stream",
     "text": [
      "R[write to console]: boundary (singular) fit: see ?isSingular\n",
      "\n",
      "R[write to console]: boundary (singular) fit: see ?isSingular\n",
      "\n",
      "R[write to console]: boundary (singular) fit: see ?isSingular\n",
      "\n",
      "R[write to console]: boundary (singular) fit: see ?isSingular\n",
      "\n"
     ]
    },
    {
     "name": "stdout",
     "output_type": "stream",
     "text": [
      "Done 674 of 2500\n",
      "Done 675 of 2500\n",
      "Done 676 of 2500\n",
      "Done 677 of 2500\n",
      "Done 678 of 2500\n"
     ]
    },
    {
     "name": "stderr",
     "output_type": "stream",
     "text": [
      "R[write to console]: boundary (singular) fit: see ?isSingular\n",
      "\n",
      "R[write to console]: boundary (singular) fit: see ?isSingular\n",
      "\n",
      "R[write to console]: boundary (singular) fit: see ?isSingular\n",
      "\n",
      "R[write to console]: boundary (singular) fit: see ?isSingular\n",
      "\n"
     ]
    },
    {
     "name": "stdout",
     "output_type": "stream",
     "text": [
      "Done 679 of 2500\n",
      "Done 680 of 2500\n",
      "Done 681 of 2500\n",
      "Done 682 of 2500\n",
      "Done 683 of 2500\n"
     ]
    },
    {
     "name": "stderr",
     "output_type": "stream",
     "text": [
      "R[write to console]: boundary (singular) fit: see ?isSingular\n",
      "\n",
      "R[write to console]: boundary (singular) fit: see ?isSingular\n",
      "\n",
      "R[write to console]: boundary (singular) fit: see ?isSingular\n",
      "\n"
     ]
    },
    {
     "name": "stdout",
     "output_type": "stream",
     "text": [
      "Done 684 of 2500\n",
      "Done 685 of 2500\n",
      "Done 686 of 2500\n",
      "Done 687 of 2500\n",
      "Done 688 of 2500\n"
     ]
    },
    {
     "name": "stderr",
     "output_type": "stream",
     "text": [
      "R[write to console]: boundary (singular) fit: see ?isSingular\n",
      "\n",
      "R[write to console]: boundary (singular) fit: see ?isSingular\n",
      "\n",
      "R[write to console]: boundary (singular) fit: see ?isSingular\n",
      "\n"
     ]
    },
    {
     "name": "stdout",
     "output_type": "stream",
     "text": [
      "Done 689 of 2500\n",
      "Done 690 of 2500\n",
      "Done 691 of 2500\n",
      "Done 692 of 2500\n",
      "Done 693 of 2500\n"
     ]
    },
    {
     "name": "stderr",
     "output_type": "stream",
     "text": [
      "R[write to console]: boundary (singular) fit: see ?isSingular\n",
      "\n",
      "R[write to console]: boundary (singular) fit: see ?isSingular\n",
      "\n",
      "R[write to console]: boundary (singular) fit: see ?isSingular\n",
      "\n"
     ]
    },
    {
     "name": "stdout",
     "output_type": "stream",
     "text": [
      "Done 694 of 2500\n",
      "Done 695 of 2500\n",
      "Done 696 of 2500\n",
      "Done 697 of 2500\n",
      "Done 698 of 2500\n"
     ]
    },
    {
     "name": "stderr",
     "output_type": "stream",
     "text": [
      "R[write to console]: boundary (singular) fit: see ?isSingular\n",
      "\n",
      "R[write to console]: boundary (singular) fit: see ?isSingular\n",
      "\n"
     ]
    },
    {
     "name": "stdout",
     "output_type": "stream",
     "text": [
      "Done 699 of 2500\n",
      "Done 700 of 2500\n",
      "Done 701 of 2500\n",
      "Done 702 of 2500\n",
      "Done 703 of 2500\n"
     ]
    },
    {
     "name": "stderr",
     "output_type": "stream",
     "text": [
      "R[write to console]: boundary (singular) fit: see ?isSingular\n",
      "\n",
      "R[write to console]: boundary (singular) fit: see ?isSingular\n",
      "\n",
      "R[write to console]: boundary (singular) fit: see ?isSingular\n",
      "\n"
     ]
    },
    {
     "name": "stdout",
     "output_type": "stream",
     "text": [
      "Done 704 of 2500\n",
      "Done 705 of 2500\n",
      "Done 706 of 2500\n",
      "Done 707 of 2500\n",
      "Done 708 of 2500\n"
     ]
    },
    {
     "name": "stderr",
     "output_type": "stream",
     "text": [
      "R[write to console]: boundary (singular) fit: see ?isSingular\n",
      "\n",
      "R[write to console]: boundary (singular) fit: see ?isSingular\n",
      "\n"
     ]
    },
    {
     "name": "stdout",
     "output_type": "stream",
     "text": [
      "Done 709 of 2500\n",
      "Done 710 of 2500\n",
      "Done 711 of 2500\n",
      "Done 712 of 2500\n",
      "Done 713 of 2500\n"
     ]
    },
    {
     "name": "stderr",
     "output_type": "stream",
     "text": [
      "R[write to console]: boundary (singular) fit: see ?isSingular\n",
      "\n",
      "R[write to console]: boundary (singular) fit: see ?isSingular\n",
      "\n"
     ]
    },
    {
     "name": "stdout",
     "output_type": "stream",
     "text": [
      "Done 714 of 2500\n",
      "Done 715 of 2500\n",
      "Done 716 of 2500\n",
      "Done 717 of 2500\n",
      "Done 718 of 2500\n"
     ]
    },
    {
     "name": "stderr",
     "output_type": "stream",
     "text": [
      "R[write to console]: boundary (singular) fit: see ?isSingular\n",
      "\n",
      "R[write to console]: boundary (singular) fit: see ?isSingular\n",
      "\n",
      "R[write to console]: boundary (singular) fit: see ?isSingular\n",
      "\n"
     ]
    },
    {
     "name": "stdout",
     "output_type": "stream",
     "text": [
      "Done 719 of 2500\n",
      "Done 720 of 2500\n",
      "Done 721 of 2500\n",
      "Done 722 of 2500\n",
      "Done 723 of 2500\n"
     ]
    },
    {
     "name": "stderr",
     "output_type": "stream",
     "text": [
      "R[write to console]: boundary (singular) fit: see ?isSingular\n",
      "\n",
      "R[write to console]: boundary (singular) fit: see ?isSingular\n",
      "\n",
      "R[write to console]: boundary (singular) fit: see ?isSingular\n",
      "\n",
      "R[write to console]: boundary (singular) fit: see ?isSingular\n",
      "\n"
     ]
    },
    {
     "name": "stdout",
     "output_type": "stream",
     "text": [
      "Done 724 of 2500\n",
      "Done 725 of 2500\n",
      "Done 726 of 2500\n",
      "Done 727 of 2500\n",
      "Done 728 of 2500\n",
      "Done 729 of 2500\n",
      "Done 730 of 2500\n",
      "Done 731 of 2500\n",
      "Done 732 of 2500\n"
     ]
    },
    {
     "name": "stderr",
     "output_type": "stream",
     "text": [
      "R[write to console]: boundary (singular) fit: see ?isSingular\n",
      "\n",
      "R[write to console]: boundary (singular) fit: see ?isSingular\n",
      "\n",
      "R[write to console]: boundary (singular) fit: see ?isSingular\n",
      "\n",
      "R[write to console]: boundary (singular) fit: see ?isSingular\n",
      "\n"
     ]
    },
    {
     "name": "stdout",
     "output_type": "stream",
     "text": [
      "Done 733 of 2500\n",
      "Done 734 of 2500\n",
      "Done 735 of 2500\n",
      "Done 736 of 2500\n",
      "Done 737 of 2500\n"
     ]
    },
    {
     "name": "stderr",
     "output_type": "stream",
     "text": [
      "R[write to console]: boundary (singular) fit: see ?isSingular\n",
      "\n",
      "R[write to console]: boundary (singular) fit: see ?isSingular\n",
      "\n",
      "R[write to console]: boundary (singular) fit: see ?isSingular\n",
      "\n"
     ]
    },
    {
     "name": "stdout",
     "output_type": "stream",
     "text": [
      "Done 738 of 2500\n",
      "Done 739 of 2500\n",
      "Done 740 of 2500\n",
      "Done 741 of 2500\n",
      "Done 742 of 2500\n"
     ]
    },
    {
     "name": "stderr",
     "output_type": "stream",
     "text": [
      "R[write to console]: boundary (singular) fit: see ?isSingular\n",
      "\n",
      "R[write to console]: boundary (singular) fit: see ?isSingular\n",
      "\n",
      "R[write to console]: boundary (singular) fit: see ?isSingular\n",
      "\n",
      "R[write to console]: boundary (singular) fit: see ?isSingular\n",
      "\n"
     ]
    },
    {
     "name": "stdout",
     "output_type": "stream",
     "text": [
      "Done 743 of 2500\n",
      "Done 744 of 2500\n",
      "Done 745 of 2500\n",
      "Done 746 of 2500\n",
      "Done 747 of 2500\n"
     ]
    },
    {
     "name": "stderr",
     "output_type": "stream",
     "text": [
      "R[write to console]: boundary (singular) fit: see ?isSingular\n",
      "\n",
      "R[write to console]: boundary (singular) fit: see ?isSingular\n",
      "\n",
      "R[write to console]: boundary (singular) fit: see ?isSingular\n",
      "\n"
     ]
    },
    {
     "name": "stdout",
     "output_type": "stream",
     "text": [
      "Done 748 of 2500\n",
      "Done 749 of 2500\n",
      "Done 750 of 2500\n",
      "Done 751 of 2500\n",
      "Done 752 of 2500\n"
     ]
    },
    {
     "name": "stderr",
     "output_type": "stream",
     "text": [
      "R[write to console]: boundary (singular) fit: see ?isSingular\n",
      "\n",
      "R[write to console]: boundary (singular) fit: see ?isSingular\n",
      "\n",
      "R[write to console]: boundary (singular) fit: see ?isSingular\n",
      "\n",
      "R[write to console]: boundary (singular) fit: see ?isSingular\n",
      "\n"
     ]
    },
    {
     "name": "stdout",
     "output_type": "stream",
     "text": [
      "Done 753 of 2500\n",
      "Done 754 of 2500\n",
      "Done 755 of 2500\n",
      "Done 756 of 2500\n",
      "Done 757 of 2500\n"
     ]
    },
    {
     "name": "stderr",
     "output_type": "stream",
     "text": [
      "R[write to console]: boundary (singular) fit: see ?isSingular\n",
      "\n"
     ]
    },
    {
     "name": "stdout",
     "output_type": "stream",
     "text": [
      "Done 758 of 2500\n",
      "Done 759 of 2500\n",
      "Done 760 of 2500\n",
      "Done 761 of 2500\n",
      "Done 762 of 2500\n"
     ]
    },
    {
     "name": "stderr",
     "output_type": "stream",
     "text": [
      "R[write to console]: boundary (singular) fit: see ?isSingular\n",
      "\n",
      "R[write to console]: boundary (singular) fit: see ?isSingular\n",
      "\n",
      "R[write to console]: boundary (singular) fit: see ?isSingular\n",
      "\n"
     ]
    },
    {
     "name": "stdout",
     "output_type": "stream",
     "text": [
      "Done 763 of 2500\n",
      "Done 764 of 2500\n",
      "Done 765 of 2500\n",
      "Done 766 of 2500\n",
      "Done 767 of 2500\n"
     ]
    },
    {
     "name": "stderr",
     "output_type": "stream",
     "text": [
      "R[write to console]: boundary (singular) fit: see ?isSingular\n",
      "\n",
      "R[write to console]: boundary (singular) fit: see ?isSingular\n",
      "\n",
      "R[write to console]: boundary (singular) fit: see ?isSingular\n",
      "\n"
     ]
    },
    {
     "name": "stdout",
     "output_type": "stream",
     "text": [
      "Done 768 of 2500\n",
      "Done 769 of 2500\n",
      "Done 770 of 2500\n",
      "Done 771 of 2500\n",
      "Done 772 of 2500\n"
     ]
    },
    {
     "name": "stderr",
     "output_type": "stream",
     "text": [
      "R[write to console]: boundary (singular) fit: see ?isSingular\n",
      "\n",
      "R[write to console]: boundary (singular) fit: see ?isSingular\n",
      "\n"
     ]
    },
    {
     "name": "stdout",
     "output_type": "stream",
     "text": [
      "Done 773 of 2500\n",
      "Done 774 of 2500\n",
      "Done 775 of 2500\n",
      "Done 776 of 2500\n"
     ]
    },
    {
     "name": "stderr",
     "output_type": "stream",
     "text": [
      "R[write to console]: boundary (singular) fit: see ?isSingular\n",
      "\n",
      "R[write to console]: boundary (singular) fit: see ?isSingular\n",
      "\n",
      "R[write to console]: boundary (singular) fit: see ?isSingular\n",
      "\n"
     ]
    },
    {
     "name": "stdout",
     "output_type": "stream",
     "text": [
      "Done 777 of 2500\n",
      "Done 778 of 2500\n",
      "Done 779 of 2500\n",
      "Done 780 of 2500\n",
      "Done 781 of 2500\n"
     ]
    },
    {
     "name": "stderr",
     "output_type": "stream",
     "text": [
      "R[write to console]: boundary (singular) fit: see ?isSingular\n",
      "\n",
      "R[write to console]: boundary (singular) fit: see ?isSingular\n",
      "\n",
      "R[write to console]: boundary (singular) fit: see ?isSingular\n",
      "\n"
     ]
    },
    {
     "name": "stdout",
     "output_type": "stream",
     "text": [
      "Done 782 of 2500\n",
      "Done 783 of 2500\n",
      "Done 784 of 2500\n",
      "Done 785 of 2500\n"
     ]
    },
    {
     "name": "stderr",
     "output_type": "stream",
     "text": [
      "R[write to console]: boundary (singular) fit: see ?isSingular\n",
      "\n",
      "R[write to console]: boundary (singular) fit: see ?isSingular\n",
      "\n",
      "R[write to console]: boundary (singular) fit: see ?isSingular\n",
      "\n"
     ]
    },
    {
     "name": "stdout",
     "output_type": "stream",
     "text": [
      "Done 786 of 2500\n",
      "Done 787 of 2500\n",
      "Done 788 of 2500\n",
      "Done 789 of 2500\n",
      "Done 790 of 2500\n"
     ]
    },
    {
     "name": "stderr",
     "output_type": "stream",
     "text": [
      "R[write to console]: boundary (singular) fit: see ?isSingular\n",
      "\n",
      "R[write to console]: boundary (singular) fit: see ?isSingular\n",
      "\n"
     ]
    },
    {
     "name": "stdout",
     "output_type": "stream",
     "text": [
      "Done 791 of 2500\n",
      "Done 792 of 2500\n",
      "Done 793 of 2500\n",
      "Done 794 of 2500\n"
     ]
    },
    {
     "name": "stderr",
     "output_type": "stream",
     "text": [
      "R[write to console]: boundary (singular) fit: see ?isSingular\n",
      "\n",
      "R[write to console]: boundary (singular) fit: see ?isSingular\n",
      "\n"
     ]
    },
    {
     "name": "stdout",
     "output_type": "stream",
     "text": [
      "Done 795 of 2500\n",
      "Done 796 of 2500\n",
      "Done 797 of 2500\n",
      "Done 798 of 2500\n"
     ]
    },
    {
     "name": "stderr",
     "output_type": "stream",
     "text": [
      "R[write to console]: boundary (singular) fit: see ?isSingular\n",
      "\n",
      "R[write to console]: boundary (singular) fit: see ?isSingular\n",
      "\n",
      "R[write to console]: boundary (singular) fit: see ?isSingular\n",
      "\n"
     ]
    },
    {
     "name": "stdout",
     "output_type": "stream",
     "text": [
      "Done 799 of 2500\n",
      "Done 800 of 2500\n",
      "Done 801 of 2500\n",
      "Done 802 of 2500\n",
      "Done 803 of 2500\n"
     ]
    },
    {
     "name": "stderr",
     "output_type": "stream",
     "text": [
      "R[write to console]: boundary (singular) fit: see ?isSingular\n",
      "\n",
      "R[write to console]: boundary (singular) fit: see ?isSingular\n",
      "\n",
      "R[write to console]: boundary (singular) fit: see ?isSingular\n",
      "\n",
      "R[write to console]: boundary (singular) fit: see ?isSingular\n",
      "\n",
      "R[write to console]: boundary (singular) fit: see ?isSingular\n",
      "\n"
     ]
    },
    {
     "name": "stdout",
     "output_type": "stream",
     "text": [
      "Done 804 of 2500\n",
      "Done 805 of 2500\n",
      "Done 806 of 2500\n",
      "Done 807 of 2500\n",
      "Done 808 of 2500\n"
     ]
    },
    {
     "name": "stderr",
     "output_type": "stream",
     "text": [
      "R[write to console]: boundary (singular) fit: see ?isSingular\n",
      "\n",
      "R[write to console]: boundary (singular) fit: see ?isSingular\n",
      "\n"
     ]
    },
    {
     "name": "stdout",
     "output_type": "stream",
     "text": [
      "Done 809 of 2500\n",
      "Done 810 of 2500\n",
      "Done 811 of 2500\n",
      "Done 812 of 2500\n",
      "Done 813 of 2500\n"
     ]
    },
    {
     "name": "stderr",
     "output_type": "stream",
     "text": [
      "R[write to console]: boundary (singular) fit: see ?isSingular\n",
      "\n",
      "R[write to console]: boundary (singular) fit: see ?isSingular\n",
      "\n",
      "R[write to console]: boundary (singular) fit: see ?isSingular\n",
      "\n"
     ]
    },
    {
     "name": "stdout",
     "output_type": "stream",
     "text": [
      "Done 814 of 2500\n",
      "Done 815 of 2500\n",
      "Done 816 of 2500\n",
      "Done 817 of 2500\n",
      "Done 818 of 2500\n"
     ]
    },
    {
     "name": "stderr",
     "output_type": "stream",
     "text": [
      "R[write to console]: boundary (singular) fit: see ?isSingular\n",
      "\n",
      "R[write to console]: boundary (singular) fit: see ?isSingular\n",
      "\n",
      "R[write to console]: boundary (singular) fit: see ?isSingular\n",
      "\n",
      "R[write to console]: boundary (singular) fit: see ?isSingular\n",
      "\n"
     ]
    },
    {
     "name": "stdout",
     "output_type": "stream",
     "text": [
      "Done 819 of 2500\n",
      "Done 820 of 2500\n",
      "Done 821 of 2500\n",
      "Done 822 of 2500\n",
      "Done 823 of 2500\n"
     ]
    },
    {
     "name": "stderr",
     "output_type": "stream",
     "text": [
      "R[write to console]: boundary (singular) fit: see ?isSingular\n",
      "\n",
      "R[write to console]: boundary (singular) fit: see ?isSingular\n",
      "\n",
      "R[write to console]: boundary (singular) fit: see ?isSingular\n",
      "\n",
      "R[write to console]: boundary (singular) fit: see ?isSingular\n",
      "\n"
     ]
    },
    {
     "name": "stdout",
     "output_type": "stream",
     "text": [
      "Done 824 of 2500\n",
      "Done 825 of 2500\n",
      "Done 826 of 2500\n",
      "Done 827 of 2500\n",
      "Done 828 of 2500\n"
     ]
    },
    {
     "name": "stderr",
     "output_type": "stream",
     "text": [
      "R[write to console]: boundary (singular) fit: see ?isSingular\n",
      "\n",
      "R[write to console]: boundary (singular) fit: see ?isSingular\n",
      "\n"
     ]
    },
    {
     "name": "stdout",
     "output_type": "stream",
     "text": [
      "Done 829 of 2500\n",
      "Done 830 of 2500\n",
      "Done 831 of 2500\n",
      "Done 832 of 2500\n",
      "Done 833 of 2500\n"
     ]
    },
    {
     "name": "stderr",
     "output_type": "stream",
     "text": [
      "R[write to console]: boundary (singular) fit: see ?isSingular\n",
      "\n"
     ]
    },
    {
     "name": "stdout",
     "output_type": "stream",
     "text": [
      "Done 834 of 2500\n",
      "Done 835 of 2500\n",
      "Done 836 of 2500\n",
      "Done 837 of 2500\n",
      "Done 838 of 2500\n"
     ]
    },
    {
     "name": "stderr",
     "output_type": "stream",
     "text": [
      "R[write to console]: boundary (singular) fit: see ?isSingular\n",
      "\n"
     ]
    },
    {
     "name": "stdout",
     "output_type": "stream",
     "text": [
      "Done 839 of 2500\n",
      "Done 840 of 2500\n",
      "Done 841 of 2500\n",
      "Done 842 of 2500\n",
      "Done 843 of 2500\n"
     ]
    },
    {
     "name": "stderr",
     "output_type": "stream",
     "text": [
      "R[write to console]: boundary (singular) fit: see ?isSingular\n",
      "\n",
      "R[write to console]: boundary (singular) fit: see ?isSingular\n",
      "\n"
     ]
    },
    {
     "name": "stdout",
     "output_type": "stream",
     "text": [
      "Done 844 of 2500\n",
      "Done 845 of 2500\n",
      "Done 846 of 2500\n",
      "Done 847 of 2500\n",
      "Done 848 of 2500\n"
     ]
    },
    {
     "name": "stderr",
     "output_type": "stream",
     "text": [
      "R[write to console]: boundary (singular) fit: see ?isSingular\n",
      "\n",
      "R[write to console]: boundary (singular) fit: see ?isSingular\n",
      "\n"
     ]
    },
    {
     "name": "stdout",
     "output_type": "stream",
     "text": [
      "Done 849 of 2500\n",
      "Done 850 of 2500\n",
      "Done 851 of 2500\n",
      "Done 852 of 2500\n",
      "Done 853 of 2500\n"
     ]
    },
    {
     "name": "stderr",
     "output_type": "stream",
     "text": [
      "R[write to console]: boundary (singular) fit: see ?isSingular\n",
      "\n",
      "R[write to console]: boundary (singular) fit: see ?isSingular\n",
      "\n",
      "R[write to console]: boundary (singular) fit: see ?isSingular\n",
      "\n"
     ]
    },
    {
     "name": "stdout",
     "output_type": "stream",
     "text": [
      "Done 854 of 2500\n",
      "Done 855 of 2500\n",
      "Done 856 of 2500\n",
      "Done 857 of 2500\n"
     ]
    },
    {
     "name": "stderr",
     "output_type": "stream",
     "text": [
      "R[write to console]: boundary (singular) fit: see ?isSingular\n",
      "\n",
      "R[write to console]: boundary (singular) fit: see ?isSingular\n",
      "\n"
     ]
    },
    {
     "name": "stdout",
     "output_type": "stream",
     "text": [
      "Done 858 of 2500\n",
      "Done 859 of 2500\n",
      "Done 860 of 2500\n",
      "Done 861 of 2500\n",
      "Done 862 of 2500\n"
     ]
    },
    {
     "name": "stderr",
     "output_type": "stream",
     "text": [
      "R[write to console]: boundary (singular) fit: see ?isSingular\n",
      "\n",
      "R[write to console]: boundary (singular) fit: see ?isSingular\n",
      "\n"
     ]
    },
    {
     "name": "stdout",
     "output_type": "stream",
     "text": [
      "Done 863 of 2500\n",
      "Done 864 of 2500\n",
      "Done 865 of 2500\n",
      "Done 866 of 2500\n"
     ]
    },
    {
     "name": "stderr",
     "output_type": "stream",
     "text": [
      "R[write to console]: boundary (singular) fit: see ?isSingular\n",
      "\n"
     ]
    },
    {
     "name": "stdout",
     "output_type": "stream",
     "text": [
      "Done 867 of 2500\n",
      "Done 868 of 2500\n",
      "Done 869 of 2500\n",
      "Done 870 of 2500\n",
      "Done 871 of 2500\n"
     ]
    },
    {
     "name": "stderr",
     "output_type": "stream",
     "text": [
      "R[write to console]: boundary (singular) fit: see ?isSingular\n",
      "\n",
      "R[write to console]: boundary (singular) fit: see ?isSingular\n",
      "\n",
      "R[write to console]: boundary (singular) fit: see ?isSingular\n",
      "\n"
     ]
    },
    {
     "name": "stdout",
     "output_type": "stream",
     "text": [
      "Done 872 of 2500\n",
      "Done 873 of 2500\n",
      "Done 874 of 2500\n",
      "Done 875 of 2500\n",
      "Done 876 of 2500\n"
     ]
    },
    {
     "name": "stderr",
     "output_type": "stream",
     "text": [
      "R[write to console]: boundary (singular) fit: see ?isSingular\n",
      "\n",
      "R[write to console]: boundary (singular) fit: see ?isSingular\n",
      "\n",
      "R[write to console]: boundary (singular) fit: see ?isSingular\n",
      "\n",
      "R[write to console]: boundary (singular) fit: see ?isSingular\n",
      "\n"
     ]
    },
    {
     "name": "stdout",
     "output_type": "stream",
     "text": [
      "Done 877 of 2500\n",
      "Done 878 of 2500\n",
      "Done 879 of 2500\n",
      "Done 880 of 2500\n",
      "Done 881 of 2500\n"
     ]
    },
    {
     "name": "stderr",
     "output_type": "stream",
     "text": [
      "R[write to console]: boundary (singular) fit: see ?isSingular\n",
      "\n",
      "R[write to console]: boundary (singular) fit: see ?isSingular\n",
      "\n",
      "R[write to console]: boundary (singular) fit: see ?isSingular\n",
      "\n",
      "R[write to console]: boundary (singular) fit: see ?isSingular\n",
      "\n"
     ]
    },
    {
     "name": "stdout",
     "output_type": "stream",
     "text": [
      "Done 882 of 2500\n",
      "Done 883 of 2500\n",
      "Done 884 of 2500\n",
      "Done 885 of 2500\n",
      "Done 886 of 2500\n"
     ]
    },
    {
     "name": "stderr",
     "output_type": "stream",
     "text": [
      "R[write to console]: boundary (singular) fit: see ?isSingular\n",
      "\n",
      "R[write to console]: boundary (singular) fit: see ?isSingular\n",
      "\n",
      "R[write to console]: boundary (singular) fit: see ?isSingular\n",
      "\n"
     ]
    },
    {
     "name": "stdout",
     "output_type": "stream",
     "text": [
      "Done 887 of 2500\n",
      "Done 888 of 2500\n",
      "Done 889 of 2500\n",
      "Done 890 of 2500\n",
      "Done 891 of 2500\n"
     ]
    },
    {
     "name": "stderr",
     "output_type": "stream",
     "text": [
      "R[write to console]: boundary (singular) fit: see ?isSingular\n",
      "\n",
      "R[write to console]: boundary (singular) fit: see ?isSingular\n",
      "\n",
      "R[write to console]: boundary (singular) fit: see ?isSingular\n",
      "\n",
      "R[write to console]: boundary (singular) fit: see ?isSingular\n",
      "\n"
     ]
    },
    {
     "name": "stdout",
     "output_type": "stream",
     "text": [
      "Done 892 of 2500\n",
      "Done 893 of 2500\n",
      "Done 894 of 2500\n",
      "Done 895 of 2500\n",
      "Done 896 of 2500\n"
     ]
    },
    {
     "name": "stderr",
     "output_type": "stream",
     "text": [
      "R[write to console]: boundary (singular) fit: see ?isSingular\n",
      "\n",
      "R[write to console]: boundary (singular) fit: see ?isSingular\n",
      "\n",
      "R[write to console]: boundary (singular) fit: see ?isSingular\n",
      "\n",
      "R[write to console]: boundary (singular) fit: see ?isSingular\n",
      "\n"
     ]
    },
    {
     "name": "stdout",
     "output_type": "stream",
     "text": [
      "Done 897 of 2500\n",
      "Done 898 of 2500\n",
      "Done 899 of 2500\n",
      "Done 900 of 2500\n",
      "Done 901 of 2500\n"
     ]
    },
    {
     "name": "stderr",
     "output_type": "stream",
     "text": [
      "R[write to console]: boundary (singular) fit: see ?isSingular\n",
      "\n",
      "R[write to console]: boundary (singular) fit: see ?isSingular\n",
      "\n",
      "R[write to console]: boundary (singular) fit: see ?isSingular\n",
      "\n"
     ]
    },
    {
     "name": "stdout",
     "output_type": "stream",
     "text": [
      "Done 902 of 2500\n",
      "Done 903 of 2500\n",
      "Done 904 of 2500\n",
      "Done 905 of 2500\n",
      "Done 906 of 2500\n"
     ]
    },
    {
     "name": "stderr",
     "output_type": "stream",
     "text": [
      "R[write to console]: boundary (singular) fit: see ?isSingular\n",
      "\n",
      "R[write to console]: boundary (singular) fit: see ?isSingular\n",
      "\n",
      "R[write to console]: boundary (singular) fit: see ?isSingular\n",
      "\n"
     ]
    },
    {
     "name": "stdout",
     "output_type": "stream",
     "text": [
      "Done 907 of 2500\n",
      "Done 908 of 2500\n",
      "Done 909 of 2500\n",
      "Done 910 of 2500\n",
      "Done 911 of 2500\n"
     ]
    },
    {
     "name": "stderr",
     "output_type": "stream",
     "text": [
      "R[write to console]: boundary (singular) fit: see ?isSingular\n",
      "\n",
      "R[write to console]: boundary (singular) fit: see ?isSingular\n",
      "\n",
      "R[write to console]: boundary (singular) fit: see ?isSingular\n",
      "\n",
      "R[write to console]: boundary (singular) fit: see ?isSingular\n",
      "\n"
     ]
    },
    {
     "name": "stdout",
     "output_type": "stream",
     "text": [
      "Done 912 of 2500\n",
      "Done 913 of 2500\n",
      "Done 914 of 2500\n",
      "Done 915 of 2500\n",
      "Done 916 of 2500\n"
     ]
    },
    {
     "name": "stderr",
     "output_type": "stream",
     "text": [
      "R[write to console]: boundary (singular) fit: see ?isSingular\n",
      "\n"
     ]
    },
    {
     "name": "stdout",
     "output_type": "stream",
     "text": [
      "Done 917 of 2500\n",
      "Done 918 of 2500\n",
      "Done 919 of 2500\n",
      "Done 920 of 2500\n",
      "Done 921 of 2500\n"
     ]
    },
    {
     "name": "stderr",
     "output_type": "stream",
     "text": [
      "R[write to console]: boundary (singular) fit: see ?isSingular\n",
      "\n",
      "R[write to console]: boundary (singular) fit: see ?isSingular\n",
      "\n",
      "R[write to console]: boundary (singular) fit: see ?isSingular\n",
      "\n"
     ]
    },
    {
     "name": "stdout",
     "output_type": "stream",
     "text": [
      "Done 922 of 2500\n",
      "Done 923 of 2500\n",
      "Done 924 of 2500\n",
      "Done 925 of 2500\n",
      "Done 926 of 2500\n"
     ]
    },
    {
     "name": "stderr",
     "output_type": "stream",
     "text": [
      "R[write to console]: boundary (singular) fit: see ?isSingular\n",
      "\n",
      "R[write to console]: boundary (singular) fit: see ?isSingular\n",
      "\n",
      "R[write to console]: boundary (singular) fit: see ?isSingular\n",
      "\n",
      "R[write to console]: boundary (singular) fit: see ?isSingular\n",
      "\n"
     ]
    },
    {
     "name": "stdout",
     "output_type": "stream",
     "text": [
      "Done 927 of 2500\n",
      "Done 928 of 2500\n",
      "Done 929 of 2500\n",
      "Done 930 of 2500\n",
      "Done 931 of 2500\n"
     ]
    },
    {
     "name": "stderr",
     "output_type": "stream",
     "text": [
      "R[write to console]: boundary (singular) fit: see ?isSingular\n",
      "\n",
      "R[write to console]: boundary (singular) fit: see ?isSingular\n",
      "\n",
      "R[write to console]: boundary (singular) fit: see ?isSingular\n",
      "\n",
      "R[write to console]: boundary (singular) fit: see ?isSingular\n",
      "\n",
      "R[write to console]: boundary (singular) fit: see ?isSingular\n",
      "\n"
     ]
    },
    {
     "name": "stdout",
     "output_type": "stream",
     "text": [
      "Done 932 of 2500\n",
      "Done 933 of 2500\n",
      "Done 934 of 2500\n",
      "Done 935 of 2500\n",
      "Done 936 of 2500\n"
     ]
    },
    {
     "name": "stderr",
     "output_type": "stream",
     "text": [
      "R[write to console]: boundary (singular) fit: see ?isSingular\n",
      "\n",
      "R[write to console]: boundary (singular) fit: see ?isSingular\n",
      "\n",
      "R[write to console]: boundary (singular) fit: see ?isSingular\n",
      "\n",
      "R[write to console]: boundary (singular) fit: see ?isSingular\n",
      "\n"
     ]
    },
    {
     "name": "stdout",
     "output_type": "stream",
     "text": [
      "Done 937 of 2500\n",
      "Done 938 of 2500\n",
      "Done 939 of 2500\n",
      "Done 940 of 2500\n",
      "Done 941 of 2500\n"
     ]
    },
    {
     "name": "stderr",
     "output_type": "stream",
     "text": [
      "R[write to console]: boundary (singular) fit: see ?isSingular\n",
      "\n",
      "R[write to console]: boundary (singular) fit: see ?isSingular\n",
      "\n",
      "R[write to console]: boundary (singular) fit: see ?isSingular\n",
      "\n",
      "R[write to console]: boundary (singular) fit: see ?isSingular\n",
      "\n"
     ]
    },
    {
     "name": "stdout",
     "output_type": "stream",
     "text": [
      "Done 942 of 2500\n",
      "Done 943 of 2500\n",
      "Done 944 of 2500\n",
      "Done 945 of 2500\n",
      "Done 946 of 2500\n"
     ]
    },
    {
     "name": "stderr",
     "output_type": "stream",
     "text": [
      "R[write to console]: boundary (singular) fit: see ?isSingular\n",
      "\n",
      "R[write to console]: boundary (singular) fit: see ?isSingular\n",
      "\n",
      "R[write to console]: boundary (singular) fit: see ?isSingular\n",
      "\n"
     ]
    },
    {
     "name": "stdout",
     "output_type": "stream",
     "text": [
      "Done 947 of 2500\n",
      "Done 948 of 2500\n",
      "Done 949 of 2500\n",
      "Done 950 of 2500\n",
      "Done 951 of 2500\n"
     ]
    },
    {
     "name": "stderr",
     "output_type": "stream",
     "text": [
      "R[write to console]: boundary (singular) fit: see ?isSingular\n",
      "\n",
      "R[write to console]: boundary (singular) fit: see ?isSingular\n",
      "\n",
      "R[write to console]: boundary (singular) fit: see ?isSingular\n",
      "\n",
      "R[write to console]: boundary (singular) fit: see ?isSingular\n",
      "\n"
     ]
    },
    {
     "name": "stdout",
     "output_type": "stream",
     "text": [
      "Done 952 of 2500\n",
      "Done 953 of 2500\n",
      "Done 954 of 2500\n",
      "Done 955 of 2500\n",
      "Done 956 of 2500\n"
     ]
    },
    {
     "name": "stderr",
     "output_type": "stream",
     "text": [
      "R[write to console]: boundary (singular) fit: see ?isSingular\n",
      "\n",
      "R[write to console]: boundary (singular) fit: see ?isSingular\n",
      "\n",
      "R[write to console]: boundary (singular) fit: see ?isSingular\n",
      "\n"
     ]
    },
    {
     "name": "stdout",
     "output_type": "stream",
     "text": [
      "Done 957 of 2500\n",
      "Done 958 of 2500\n",
      "Done 959 of 2500\n",
      "Done 960 of 2500\n",
      "Done 961 of 2500\n"
     ]
    },
    {
     "name": "stderr",
     "output_type": "stream",
     "text": [
      "R[write to console]: boundary (singular) fit: see ?isSingular\n",
      "\n",
      "R[write to console]: boundary (singular) fit: see ?isSingular\n",
      "\n",
      "R[write to console]: boundary (singular) fit: see ?isSingular\n",
      "\n",
      "R[write to console]: boundary (singular) fit: see ?isSingular\n",
      "\n"
     ]
    },
    {
     "name": "stdout",
     "output_type": "stream",
     "text": [
      "Done 962 of 2500\n",
      "Done 963 of 2500\n",
      "Done 964 of 2500\n",
      "Done 965 of 2500\n",
      "Done 966 of 2500\n"
     ]
    },
    {
     "name": "stderr",
     "output_type": "stream",
     "text": [
      "R[write to console]: boundary (singular) fit: see ?isSingular\n",
      "\n",
      "R[write to console]: boundary (singular) fit: see ?isSingular\n",
      "\n"
     ]
    },
    {
     "name": "stdout",
     "output_type": "stream",
     "text": [
      "Done 967 of 2500\n",
      "Done 968 of 2500\n",
      "Done 969 of 2500\n",
      "Done 970 of 2500\n",
      "Done 971 of 2500\n"
     ]
    },
    {
     "name": "stderr",
     "output_type": "stream",
     "text": [
      "R[write to console]: boundary (singular) fit: see ?isSingular\n",
      "\n",
      "R[write to console]: boundary (singular) fit: see ?isSingular\n",
      "\n",
      "R[write to console]: boundary (singular) fit: see ?isSingular\n",
      "\n"
     ]
    },
    {
     "name": "stdout",
     "output_type": "stream",
     "text": [
      "Done 972 of 2500\n",
      "Done 973 of 2500\n",
      "Done 974 of 2500\n",
      "Done 975 of 2500\n",
      "Done 976 of 2500\n"
     ]
    },
    {
     "name": "stderr",
     "output_type": "stream",
     "text": [
      "R[write to console]: boundary (singular) fit: see ?isSingular\n",
      "\n",
      "R[write to console]: boundary (singular) fit: see ?isSingular\n",
      "\n"
     ]
    },
    {
     "name": "stdout",
     "output_type": "stream",
     "text": [
      "Done 977 of 2500\n",
      "Done 978 of 2500\n",
      "Done 979 of 2500\n",
      "Done 980 of 2500\n",
      "Done 981 of 2500\n"
     ]
    },
    {
     "name": "stderr",
     "output_type": "stream",
     "text": [
      "R[write to console]: boundary (singular) fit: see ?isSingular\n",
      "\n",
      "R[write to console]: boundary (singular) fit: see ?isSingular\n",
      "\n",
      "R[write to console]: boundary (singular) fit: see ?isSingular\n",
      "\n"
     ]
    },
    {
     "name": "stdout",
     "output_type": "stream",
     "text": [
      "Done 982 of 2500\n",
      "Done 983 of 2500\n",
      "Done 984 of 2500\n",
      "Done 985 of 2500\n",
      "Done 986 of 2500\n"
     ]
    },
    {
     "name": "stderr",
     "output_type": "stream",
     "text": [
      "R[write to console]: boundary (singular) fit: see ?isSingular\n",
      "\n",
      "R[write to console]: boundary (singular) fit: see ?isSingular\n",
      "\n"
     ]
    },
    {
     "name": "stdout",
     "output_type": "stream",
     "text": [
      "Done 987 of 2500\n",
      "Done 988 of 2500\n",
      "Done 989 of 2500\n",
      "Done 990 of 2500\n",
      "Done 991 of 2500\n"
     ]
    },
    {
     "name": "stderr",
     "output_type": "stream",
     "text": [
      "R[write to console]: boundary (singular) fit: see ?isSingular\n",
      "\n",
      "R[write to console]: boundary (singular) fit: see ?isSingular\n",
      "\n",
      "R[write to console]: boundary (singular) fit: see ?isSingular\n",
      "\n"
     ]
    },
    {
     "name": "stdout",
     "output_type": "stream",
     "text": [
      "Done 992 of 2500\n",
      "Done 993 of 2500\n",
      "Done 994 of 2500\n",
      "Done 995 of 2500\n",
      "Done 996 of 2500\n"
     ]
    },
    {
     "name": "stderr",
     "output_type": "stream",
     "text": [
      "R[write to console]: boundary (singular) fit: see ?isSingular\n",
      "\n",
      "R[write to console]: boundary (singular) fit: see ?isSingular\n",
      "\n",
      "R[write to console]: boundary (singular) fit: see ?isSingular\n",
      "\n"
     ]
    },
    {
     "name": "stdout",
     "output_type": "stream",
     "text": [
      "Done 997 of 2500\n",
      "Done 998 of 2500\n",
      "Done 999 of 2500\n",
      "Done 1000 of 2500\n",
      "Done 1001 of 2500\n"
     ]
    },
    {
     "name": "stderr",
     "output_type": "stream",
     "text": [
      "R[write to console]: boundary (singular) fit: see ?isSingular\n",
      "\n",
      "R[write to console]: boundary (singular) fit: see ?isSingular\n",
      "\n",
      "R[write to console]: boundary (singular) fit: see ?isSingular\n",
      "\n"
     ]
    },
    {
     "name": "stdout",
     "output_type": "stream",
     "text": [
      "Done 1002 of 2500\n",
      "Done 1003 of 2500\n",
      "Done 1004 of 2500\n",
      "Done 1005 of 2500\n",
      "Done 1006 of 2500\n"
     ]
    },
    {
     "name": "stderr",
     "output_type": "stream",
     "text": [
      "R[write to console]: boundary (singular) fit: see ?isSingular\n",
      "\n",
      "R[write to console]: boundary (singular) fit: see ?isSingular\n",
      "\n",
      "R[write to console]: boundary (singular) fit: see ?isSingular\n",
      "\n",
      "R[write to console]: boundary (singular) fit: see ?isSingular\n",
      "\n",
      "R[write to console]: boundary (singular) fit: see ?isSingular\n",
      "\n"
     ]
    },
    {
     "name": "stdout",
     "output_type": "stream",
     "text": [
      "Done 1007 of 2500\n",
      "Done 1008 of 2500\n",
      "Done 1009 of 2500\n",
      "Done 1010 of 2500\n",
      "Done 1011 of 2500\n"
     ]
    },
    {
     "name": "stderr",
     "output_type": "stream",
     "text": [
      "R[write to console]: boundary (singular) fit: see ?isSingular\n",
      "\n"
     ]
    },
    {
     "name": "stdout",
     "output_type": "stream",
     "text": [
      "Done 1012 of 2500\n",
      "Done 1013 of 2500\n",
      "Done 1014 of 2500\n",
      "Done 1015 of 2500\n",
      "Done 1016 of 2500\n"
     ]
    },
    {
     "name": "stderr",
     "output_type": "stream",
     "text": [
      "R[write to console]: boundary (singular) fit: see ?isSingular\n",
      "\n",
      "R[write to console]: boundary (singular) fit: see ?isSingular\n",
      "\n",
      "R[write to console]: boundary (singular) fit: see ?isSingular\n",
      "\n",
      "R[write to console]: boundary (singular) fit: see ?isSingular\n",
      "\n"
     ]
    },
    {
     "name": "stdout",
     "output_type": "stream",
     "text": [
      "Done 1017 of 2500\n",
      "Done 1018 of 2500\n",
      "Done 1019 of 2500\n",
      "Done 1020 of 2500\n",
      "Done 1021 of 2500\n"
     ]
    },
    {
     "name": "stderr",
     "output_type": "stream",
     "text": [
      "R[write to console]: boundary (singular) fit: see ?isSingular\n",
      "\n",
      "R[write to console]: boundary (singular) fit: see ?isSingular\n",
      "\n"
     ]
    },
    {
     "name": "stdout",
     "output_type": "stream",
     "text": [
      "Done 1022 of 2500\n",
      "Done 1023 of 2500\n",
      "Done 1024 of 2500\n",
      "Done 1025 of 2500\n",
      "Done 1026 of 2500\n"
     ]
    },
    {
     "name": "stderr",
     "output_type": "stream",
     "text": [
      "R[write to console]: boundary (singular) fit: see ?isSingular\n",
      "\n",
      "R[write to console]: boundary (singular) fit: see ?isSingular\n",
      "\n",
      "R[write to console]: boundary (singular) fit: see ?isSingular\n",
      "\n",
      "R[write to console]: boundary (singular) fit: see ?isSingular\n",
      "\n"
     ]
    },
    {
     "name": "stdout",
     "output_type": "stream",
     "text": [
      "Done 1027 of 2500\n",
      "Done 1028 of 2500\n",
      "Done 1029 of 2500\n",
      "Done 1030 of 2500\n",
      "Done 1031 of 2500\n"
     ]
    },
    {
     "name": "stderr",
     "output_type": "stream",
     "text": [
      "R[write to console]: boundary (singular) fit: see ?isSingular\n",
      "\n"
     ]
    },
    {
     "name": "stdout",
     "output_type": "stream",
     "text": [
      "Done 1032 of 2500\n",
      "Done 1033 of 2500\n",
      "Done 1034 of 2500\n",
      "Done 1035 of 2500\n",
      "Done 1036 of 2500\n"
     ]
    },
    {
     "name": "stderr",
     "output_type": "stream",
     "text": [
      "R[write to console]: boundary (singular) fit: see ?isSingular\n",
      "\n",
      "R[write to console]: boundary (singular) fit: see ?isSingular\n",
      "\n",
      "R[write to console]: boundary (singular) fit: see ?isSingular\n",
      "\n"
     ]
    },
    {
     "name": "stdout",
     "output_type": "stream",
     "text": [
      "Done 1037 of 2500\n",
      "Done 1038 of 2500\n",
      "Done 1039 of 2500\n",
      "Done 1040 of 2500\n",
      "Done 1041 of 2500\n"
     ]
    },
    {
     "name": "stderr",
     "output_type": "stream",
     "text": [
      "R[write to console]: boundary (singular) fit: see ?isSingular\n",
      "\n"
     ]
    },
    {
     "name": "stdout",
     "output_type": "stream",
     "text": [
      "Done 1042 of 2500\n",
      "Done 1043 of 2500\n",
      "Done 1044 of 2500\n",
      "Done 1045 of 2500\n",
      "Done 1046 of 2500\n"
     ]
    },
    {
     "name": "stderr",
     "output_type": "stream",
     "text": [
      "R[write to console]: boundary (singular) fit: see ?isSingular\n",
      "\n",
      "R[write to console]: boundary (singular) fit: see ?isSingular\n",
      "\n"
     ]
    },
    {
     "name": "stdout",
     "output_type": "stream",
     "text": [
      "Done 1047 of 2500\n",
      "Done 1048 of 2500\n",
      "Done 1049 of 2500\n",
      "Done 1050 of 2500\n",
      "Done 1051 of 2500\n"
     ]
    },
    {
     "name": "stderr",
     "output_type": "stream",
     "text": [
      "R[write to console]: boundary (singular) fit: see ?isSingular\n",
      "\n",
      "R[write to console]: boundary (singular) fit: see ?isSingular\n",
      "\n",
      "R[write to console]: boundary (singular) fit: see ?isSingular\n",
      "\n",
      "R[write to console]: boundary (singular) fit: see ?isSingular\n",
      "\n",
      "R[write to console]: boundary (singular) fit: see ?isSingular\n",
      "\n"
     ]
    },
    {
     "name": "stdout",
     "output_type": "stream",
     "text": [
      "Done 1052 of 2500\n",
      "Done 1053 of 2500\n",
      "Done 1054 of 2500\n",
      "Done 1055 of 2500\n",
      "Done 1056 of 2500\n"
     ]
    },
    {
     "name": "stderr",
     "output_type": "stream",
     "text": [
      "R[write to console]: boundary (singular) fit: see ?isSingular\n",
      "\n",
      "R[write to console]: boundary (singular) fit: see ?isSingular\n",
      "\n",
      "R[write to console]: boundary (singular) fit: see ?isSingular\n",
      "\n",
      "R[write to console]: boundary (singular) fit: see ?isSingular\n",
      "\n"
     ]
    },
    {
     "name": "stdout",
     "output_type": "stream",
     "text": [
      "Done 1057 of 2500\n",
      "Done 1058 of 2500\n",
      "Done 1059 of 2500\n",
      "Done 1060 of 2500\n",
      "Done 1061 of 2500\n"
     ]
    },
    {
     "name": "stderr",
     "output_type": "stream",
     "text": [
      "R[write to console]: boundary (singular) fit: see ?isSingular\n",
      "\n",
      "R[write to console]: boundary (singular) fit: see ?isSingular\n",
      "\n",
      "R[write to console]: boundary (singular) fit: see ?isSingular\n",
      "\n"
     ]
    },
    {
     "name": "stdout",
     "output_type": "stream",
     "text": [
      "Done 1062 of 2500\n",
      "Done 1063 of 2500\n",
      "Done 1064 of 2500\n",
      "Done 1065 of 2500\n",
      "Done 1066 of 2500\n"
     ]
    },
    {
     "name": "stderr",
     "output_type": "stream",
     "text": [
      "R[write to console]: boundary (singular) fit: see ?isSingular\n",
      "\n",
      "R[write to console]: boundary (singular) fit: see ?isSingular\n",
      "\n",
      "R[write to console]: boundary (singular) fit: see ?isSingular\n",
      "\n",
      "R[write to console]: boundary (singular) fit: see ?isSingular\n",
      "\n"
     ]
    },
    {
     "name": "stdout",
     "output_type": "stream",
     "text": [
      "Done 1067 of 2500\n",
      "Done 1068 of 2500\n",
      "Done 1069 of 2500\n",
      "Done 1070 of 2500\n"
     ]
    },
    {
     "name": "stderr",
     "output_type": "stream",
     "text": [
      "R[write to console]: boundary (singular) fit: see ?isSingular\n",
      "\n",
      "R[write to console]: boundary (singular) fit: see ?isSingular\n",
      "\n",
      "R[write to console]: boundary (singular) fit: see ?isSingular\n",
      "\n"
     ]
    },
    {
     "name": "stdout",
     "output_type": "stream",
     "text": [
      "Done 1071 of 2500\n",
      "Done 1072 of 2500\n",
      "Done 1073 of 2500\n",
      "Done 1074 of 2500\n",
      "Done 1075 of 2500\n"
     ]
    },
    {
     "name": "stderr",
     "output_type": "stream",
     "text": [
      "R[write to console]: boundary (singular) fit: see ?isSingular\n",
      "\n"
     ]
    },
    {
     "name": "stdout",
     "output_type": "stream",
     "text": [
      "Done 1076 of 2500\n",
      "Done 1077 of 2500\n",
      "Done 1078 of 2500\n",
      "Done 1079 of 2500\n",
      "Done 1080 of 2500\n"
     ]
    },
    {
     "name": "stderr",
     "output_type": "stream",
     "text": [
      "R[write to console]: boundary (singular) fit: see ?isSingular\n",
      "\n",
      "R[write to console]: boundary (singular) fit: see ?isSingular\n",
      "\n"
     ]
    },
    {
     "name": "stdout",
     "output_type": "stream",
     "text": [
      "Done 1081 of 2500\n",
      "Done 1082 of 2500\n",
      "Done 1083 of 2500\n",
      "Done 1084 of 2500\n",
      "Done 1085 of 2500\n"
     ]
    },
    {
     "name": "stderr",
     "output_type": "stream",
     "text": [
      "R[write to console]: boundary (singular) fit: see ?isSingular\n",
      "\n",
      "R[write to console]: boundary (singular) fit: see ?isSingular\n",
      "\n",
      "R[write to console]: boundary (singular) fit: see ?isSingular\n",
      "\n",
      "R[write to console]: boundary (singular) fit: see ?isSingular\n",
      "\n"
     ]
    },
    {
     "name": "stdout",
     "output_type": "stream",
     "text": [
      "Done 1086 of 2500\n",
      "Done 1087 of 2500\n",
      "Done 1088 of 2500\n",
      "Done 1089 of 2500\n",
      "Done 1090 of 2500\n"
     ]
    },
    {
     "name": "stderr",
     "output_type": "stream",
     "text": [
      "R[write to console]: boundary (singular) fit: see ?isSingular\n",
      "\n",
      "R[write to console]: boundary (singular) fit: see ?isSingular\n",
      "\n"
     ]
    },
    {
     "name": "stdout",
     "output_type": "stream",
     "text": [
      "Done 1091 of 2500\n",
      "Done 1092 of 2500\n",
      "Done 1093 of 2500\n",
      "Done 1094 of 2500\n",
      "Done 1095 of 2500\n"
     ]
    },
    {
     "name": "stderr",
     "output_type": "stream",
     "text": [
      "R[write to console]: boundary (singular) fit: see ?isSingular\n",
      "\n",
      "R[write to console]: boundary (singular) fit: see ?isSingular\n",
      "\n",
      "R[write to console]: boundary (singular) fit: see ?isSingular\n",
      "\n",
      "R[write to console]: boundary (singular) fit: see ?isSingular\n",
      "\n"
     ]
    },
    {
     "name": "stdout",
     "output_type": "stream",
     "text": [
      "Done 1096 of 2500\n",
      "Done 1097 of 2500\n",
      "Done 1098 of 2500\n",
      "Done 1099 of 2500\n",
      "Done 1100 of 2500\n"
     ]
    },
    {
     "name": "stderr",
     "output_type": "stream",
     "text": [
      "R[write to console]: boundary (singular) fit: see ?isSingular\n",
      "\n",
      "R[write to console]: boundary (singular) fit: see ?isSingular\n",
      "\n"
     ]
    },
    {
     "name": "stdout",
     "output_type": "stream",
     "text": [
      "Done 1101 of 2500\n",
      "Done 1102 of 2500\n",
      "Done 1103 of 2500\n",
      "Done 1104 of 2500\n"
     ]
    },
    {
     "name": "stderr",
     "output_type": "stream",
     "text": [
      "R[write to console]: boundary (singular) fit: see ?isSingular\n",
      "\n",
      "R[write to console]: boundary (singular) fit: see ?isSingular\n",
      "\n"
     ]
    },
    {
     "name": "stdout",
     "output_type": "stream",
     "text": [
      "Done 1105 of 2500\n",
      "Done 1106 of 2500\n",
      "Done 1107 of 2500\n",
      "Done 1108 of 2500\n",
      "Done 1109 of 2500\n"
     ]
    },
    {
     "name": "stderr",
     "output_type": "stream",
     "text": [
      "R[write to console]: boundary (singular) fit: see ?isSingular\n",
      "\n",
      "R[write to console]: boundary (singular) fit: see ?isSingular\n",
      "\n",
      "R[write to console]: boundary (singular) fit: see ?isSingular\n",
      "\n"
     ]
    },
    {
     "name": "stdout",
     "output_type": "stream",
     "text": [
      "Done 1110 of 2500\n",
      "Done 1111 of 2500\n",
      "Done 1112 of 2500\n",
      "Done 1113 of 2500\n",
      "Done 1114 of 2500\n"
     ]
    },
    {
     "name": "stderr",
     "output_type": "stream",
     "text": [
      "R[write to console]: boundary (singular) fit: see ?isSingular\n",
      "\n",
      "R[write to console]: boundary (singular) fit: see ?isSingular\n",
      "\n",
      "R[write to console]: boundary (singular) fit: see ?isSingular\n",
      "\n",
      "R[write to console]: boundary (singular) fit: see ?isSingular\n",
      "\n"
     ]
    },
    {
     "name": "stdout",
     "output_type": "stream",
     "text": [
      "Done 1115 of 2500\n",
      "Done 1116 of 2500\n",
      "Done 1117 of 2500\n",
      "Done 1118 of 2500\n",
      "Done 1119 of 2500\n"
     ]
    },
    {
     "name": "stderr",
     "output_type": "stream",
     "text": [
      "R[write to console]: boundary (singular) fit: see ?isSingular\n",
      "\n",
      "R[write to console]: boundary (singular) fit: see ?isSingular\n",
      "\n",
      "R[write to console]: boundary (singular) fit: see ?isSingular\n",
      "\n"
     ]
    },
    {
     "name": "stdout",
     "output_type": "stream",
     "text": [
      "Done 1120 of 2500\n",
      "Done 1121 of 2500\n",
      "Done 1122 of 2500\n",
      "Done 1123 of 2500\n",
      "Done 1124 of 2500\n"
     ]
    },
    {
     "name": "stderr",
     "output_type": "stream",
     "text": [
      "R[write to console]: boundary (singular) fit: see ?isSingular\n",
      "\n",
      "R[write to console]: boundary (singular) fit: see ?isSingular\n",
      "\n",
      "R[write to console]: boundary (singular) fit: see ?isSingular\n",
      "\n",
      "R[write to console]: boundary (singular) fit: see ?isSingular\n",
      "\n"
     ]
    },
    {
     "name": "stdout",
     "output_type": "stream",
     "text": [
      "Done 1125 of 2500\n",
      "Done 1126 of 2500\n",
      "Done 1127 of 2500\n",
      "Done 1128 of 2500\n"
     ]
    },
    {
     "name": "stderr",
     "output_type": "stream",
     "text": [
      "R[write to console]: boundary (singular) fit: see ?isSingular\n",
      "\n",
      "R[write to console]: boundary (singular) fit: see ?isSingular\n",
      "\n",
      "R[write to console]: boundary (singular) fit: see ?isSingular\n",
      "\n"
     ]
    },
    {
     "name": "stdout",
     "output_type": "stream",
     "text": [
      "Done 1129 of 2500\n",
      "Done 1130 of 2500\n",
      "Done 1131 of 2500\n",
      "Done 1132 of 2500\n",
      "Done 1133 of 2500\n"
     ]
    },
    {
     "name": "stderr",
     "output_type": "stream",
     "text": [
      "R[write to console]: boundary (singular) fit: see ?isSingular\n",
      "\n",
      "R[write to console]: boundary (singular) fit: see ?isSingular\n",
      "\n"
     ]
    },
    {
     "name": "stdout",
     "output_type": "stream",
     "text": [
      "Done 1134 of 2500\n",
      "Done 1135 of 2500\n",
      "Done 1136 of 2500\n",
      "Done 1137 of 2500\n",
      "Done 1138 of 2500\n"
     ]
    },
    {
     "name": "stderr",
     "output_type": "stream",
     "text": [
      "R[write to console]: boundary (singular) fit: see ?isSingular\n",
      "\n",
      "R[write to console]: boundary (singular) fit: see ?isSingular\n",
      "\n",
      "R[write to console]: boundary (singular) fit: see ?isSingular\n",
      "\n",
      "R[write to console]: boundary (singular) fit: see ?isSingular\n",
      "\n"
     ]
    },
    {
     "name": "stdout",
     "output_type": "stream",
     "text": [
      "Done 1139 of 2500\n",
      "Done 1140 of 2500\n",
      "Done 1141 of 2500\n",
      "Done 1142 of 2500\n",
      "Done 1143 of 2500\n",
      "Done 1144 of 2500\n",
      "Done 1145 of 2500\n",
      "Done 1146 of 2500\n",
      "Done 1147 of 2500\n"
     ]
    },
    {
     "name": "stderr",
     "output_type": "stream",
     "text": [
      "R[write to console]: boundary (singular) fit: see ?isSingular\n",
      "\n",
      "R[write to console]: boundary (singular) fit: see ?isSingular\n",
      "\n",
      "R[write to console]: boundary (singular) fit: see ?isSingular\n",
      "\n"
     ]
    },
    {
     "name": "stdout",
     "output_type": "stream",
     "text": [
      "Done 1148 of 2500\n",
      "Done 1149 of 2500\n",
      "Done 1150 of 2500\n",
      "Done 1151 of 2500\n",
      "Done 1152 of 2500\n"
     ]
    },
    {
     "name": "stderr",
     "output_type": "stream",
     "text": [
      "R[write to console]: boundary (singular) fit: see ?isSingular\n",
      "\n",
      "R[write to console]: boundary (singular) fit: see ?isSingular\n",
      "\n",
      "R[write to console]: boundary (singular) fit: see ?isSingular\n",
      "\n",
      "R[write to console]: boundary (singular) fit: see ?isSingular\n",
      "\n"
     ]
    },
    {
     "name": "stdout",
     "output_type": "stream",
     "text": [
      "Done 1153 of 2500\n",
      "Done 1154 of 2500\n",
      "Done 1155 of 2500\n",
      "Done 1156 of 2500\n",
      "Done 1157 of 2500\n"
     ]
    },
    {
     "name": "stderr",
     "output_type": "stream",
     "text": [
      "R[write to console]: boundary (singular) fit: see ?isSingular\n",
      "\n",
      "R[write to console]: boundary (singular) fit: see ?isSingular\n",
      "\n",
      "R[write to console]: boundary (singular) fit: see ?isSingular\n",
      "\n",
      "R[write to console]: boundary (singular) fit: see ?isSingular\n",
      "\n",
      "R[write to console]: boundary (singular) fit: see ?isSingular\n",
      "\n"
     ]
    },
    {
     "name": "stdout",
     "output_type": "stream",
     "text": [
      "Done 1158 of 2500\n",
      "Done 1159 of 2500\n",
      "Done 1160 of 2500\n",
      "Done 1161 of 2500\n",
      "Done 1162 of 2500\n"
     ]
    },
    {
     "name": "stderr",
     "output_type": "stream",
     "text": [
      "R[write to console]: boundary (singular) fit: see ?isSingular\n",
      "\n",
      "R[write to console]: boundary (singular) fit: see ?isSingular\n",
      "\n",
      "R[write to console]: boundary (singular) fit: see ?isSingular\n",
      "\n",
      "R[write to console]: boundary (singular) fit: see ?isSingular\n",
      "\n"
     ]
    },
    {
     "name": "stdout",
     "output_type": "stream",
     "text": [
      "Done 1163 of 2500\n",
      "Done 1164 of 2500\n",
      "Done 1165 of 2500\n",
      "Done 1166 of 2500\n",
      "Done 1167 of 2500\n"
     ]
    },
    {
     "name": "stderr",
     "output_type": "stream",
     "text": [
      "R[write to console]: boundary (singular) fit: see ?isSingular\n",
      "\n",
      "R[write to console]: boundary (singular) fit: see ?isSingular\n",
      "\n"
     ]
    },
    {
     "name": "stdout",
     "output_type": "stream",
     "text": [
      "Done 1168 of 2500\n",
      "Done 1169 of 2500\n",
      "Done 1170 of 2500\n",
      "Done 1171 of 2500\n",
      "Done 1172 of 2500\n"
     ]
    },
    {
     "name": "stderr",
     "output_type": "stream",
     "text": [
      "R[write to console]: boundary (singular) fit: see ?isSingular\n",
      "\n",
      "R[write to console]: boundary (singular) fit: see ?isSingular\n",
      "\n",
      "R[write to console]: boundary (singular) fit: see ?isSingular\n",
      "\n"
     ]
    },
    {
     "name": "stdout",
     "output_type": "stream",
     "text": [
      "Done 1173 of 2500\n",
      "Done 1174 of 2500\n",
      "Done 1175 of 2500\n",
      "Done 1176 of 2500\n",
      "Done 1177 of 2500\n"
     ]
    },
    {
     "name": "stderr",
     "output_type": "stream",
     "text": [
      "R[write to console]: boundary (singular) fit: see ?isSingular\n",
      "\n",
      "R[write to console]: boundary (singular) fit: see ?isSingular\n",
      "\n",
      "R[write to console]: boundary (singular) fit: see ?isSingular\n",
      "\n",
      "R[write to console]: boundary (singular) fit: see ?isSingular\n",
      "\n",
      "R[write to console]: boundary (singular) fit: see ?isSingular\n",
      "\n"
     ]
    },
    {
     "name": "stdout",
     "output_type": "stream",
     "text": [
      "Done 1178 of 2500\n",
      "Done 1179 of 2500\n",
      "Done 1180 of 2500\n",
      "Done 1181 of 2500\n",
      "Done 1182 of 2500\n"
     ]
    },
    {
     "name": "stderr",
     "output_type": "stream",
     "text": [
      "R[write to console]: boundary (singular) fit: see ?isSingular\n",
      "\n"
     ]
    },
    {
     "name": "stdout",
     "output_type": "stream",
     "text": [
      "Done 1183 of 2500\n",
      "Done 1184 of 2500\n",
      "Done 1185 of 2500\n",
      "Done 1186 of 2500\n",
      "Done 1187 of 2500\n"
     ]
    },
    {
     "name": "stderr",
     "output_type": "stream",
     "text": [
      "R[write to console]: boundary (singular) fit: see ?isSingular\n",
      "\n",
      "R[write to console]: boundary (singular) fit: see ?isSingular\n",
      "\n"
     ]
    },
    {
     "name": "stdout",
     "output_type": "stream",
     "text": [
      "Done 1188 of 2500\n",
      "Done 1189 of 2500\n",
      "Done 1190 of 2500\n",
      "Done 1191 of 2500\n",
      "Done 1192 of 2500\n"
     ]
    },
    {
     "name": "stderr",
     "output_type": "stream",
     "text": [
      "R[write to console]: boundary (singular) fit: see ?isSingular\n",
      "\n",
      "R[write to console]: boundary (singular) fit: see ?isSingular\n",
      "\n",
      "R[write to console]: boundary (singular) fit: see ?isSingular\n",
      "\n",
      "R[write to console]: boundary (singular) fit: see ?isSingular\n",
      "\n",
      "R[write to console]: boundary (singular) fit: see ?isSingular\n",
      "\n"
     ]
    },
    {
     "name": "stdout",
     "output_type": "stream",
     "text": [
      "Done 1193 of 2500\n",
      "Done 1194 of 2500\n",
      "Done 1195 of 2500\n",
      "Done 1196 of 2500\n",
      "Done 1197 of 2500\n"
     ]
    },
    {
     "name": "stderr",
     "output_type": "stream",
     "text": [
      "R[write to console]: boundary (singular) fit: see ?isSingular\n",
      "\n",
      "R[write to console]: boundary (singular) fit: see ?isSingular\n",
      "\n",
      "R[write to console]: boundary (singular) fit: see ?isSingular\n",
      "\n"
     ]
    },
    {
     "name": "stdout",
     "output_type": "stream",
     "text": [
      "Done 1198 of 2500\n",
      "Done 1199 of 2500\n",
      "Done 1200 of 2500\n",
      "Done 1201 of 2500\n"
     ]
    },
    {
     "name": "stderr",
     "output_type": "stream",
     "text": [
      "R[write to console]: boundary (singular) fit: see ?isSingular\n",
      "\n"
     ]
    },
    {
     "name": "stdout",
     "output_type": "stream",
     "text": [
      "Done 1202 of 2500\n",
      "Done 1203 of 2500\n",
      "Done 1204 of 2500\n",
      "Done 1205 of 2500\n",
      "Done 1206 of 2500\n"
     ]
    },
    {
     "name": "stderr",
     "output_type": "stream",
     "text": [
      "R[write to console]: boundary (singular) fit: see ?isSingular\n",
      "\n"
     ]
    },
    {
     "name": "stdout",
     "output_type": "stream",
     "text": [
      "Done 1207 of 2500\n",
      "Done 1208 of 2500\n",
      "Done 1209 of 2500\n",
      "Done 1210 of 2500\n",
      "Done 1211 of 2500\n"
     ]
    },
    {
     "name": "stderr",
     "output_type": "stream",
     "text": [
      "R[write to console]: boundary (singular) fit: see ?isSingular\n",
      "\n",
      "R[write to console]: boundary (singular) fit: see ?isSingular\n",
      "\n"
     ]
    },
    {
     "name": "stdout",
     "output_type": "stream",
     "text": [
      "Done 1212 of 2500\n",
      "Done 1213 of 2500\n",
      "Done 1214 of 2500\n",
      "Done 1215 of 2500\n",
      "Done 1216 of 2500\n"
     ]
    },
    {
     "name": "stderr",
     "output_type": "stream",
     "text": [
      "R[write to console]: boundary (singular) fit: see ?isSingular\n",
      "\n",
      "R[write to console]: boundary (singular) fit: see ?isSingular\n",
      "\n",
      "R[write to console]: boundary (singular) fit: see ?isSingular\n",
      "\n"
     ]
    },
    {
     "name": "stdout",
     "output_type": "stream",
     "text": [
      "Done 1217 of 2500\n",
      "Done 1218 of 2500\n",
      "Done 1219 of 2500\n",
      "Done 1220 of 2500\n",
      "Done 1221 of 2500\n"
     ]
    },
    {
     "name": "stderr",
     "output_type": "stream",
     "text": [
      "R[write to console]: boundary (singular) fit: see ?isSingular\n",
      "\n",
      "R[write to console]: boundary (singular) fit: see ?isSingular\n",
      "\n",
      "R[write to console]: boundary (singular) fit: see ?isSingular\n",
      "\n"
     ]
    },
    {
     "name": "stdout",
     "output_type": "stream",
     "text": [
      "Done 1222 of 2500\n",
      "Done 1223 of 2500\n",
      "Done 1224 of 2500\n",
      "Done 1225 of 2500\n",
      "Done 1226 of 2500\n"
     ]
    },
    {
     "name": "stderr",
     "output_type": "stream",
     "text": [
      "R[write to console]: boundary (singular) fit: see ?isSingular\n",
      "\n",
      "R[write to console]: boundary (singular) fit: see ?isSingular\n",
      "\n",
      "R[write to console]: boundary (singular) fit: see ?isSingular\n",
      "\n"
     ]
    },
    {
     "name": "stdout",
     "output_type": "stream",
     "text": [
      "Done 1227 of 2500\n",
      "Done 1228 of 2500\n",
      "Done 1229 of 2500\n",
      "Done 1230 of 2500\n",
      "Done 1231 of 2500\n"
     ]
    },
    {
     "name": "stderr",
     "output_type": "stream",
     "text": [
      "R[write to console]: boundary (singular) fit: see ?isSingular\n",
      "\n",
      "R[write to console]: boundary (singular) fit: see ?isSingular\n",
      "\n",
      "R[write to console]: boundary (singular) fit: see ?isSingular\n",
      "\n"
     ]
    },
    {
     "name": "stdout",
     "output_type": "stream",
     "text": [
      "Done 1232 of 2500\n",
      "Done 1233 of 2500\n",
      "Done 1234 of 2500\n",
      "Done 1235 of 2500\n"
     ]
    },
    {
     "name": "stderr",
     "output_type": "stream",
     "text": [
      "R[write to console]: boundary (singular) fit: see ?isSingular\n",
      "\n",
      "R[write to console]: boundary (singular) fit: see ?isSingular\n",
      "\n",
      "R[write to console]: boundary (singular) fit: see ?isSingular\n",
      "\n",
      "R[write to console]: boundary (singular) fit: see ?isSingular\n",
      "\n"
     ]
    },
    {
     "name": "stdout",
     "output_type": "stream",
     "text": [
      "Done 1236 of 2500\n",
      "Done 1237 of 2500\n",
      "Done 1238 of 2500\n",
      "Done 1239 of 2500\n",
      "Done 1240 of 2500\n"
     ]
    },
    {
     "name": "stderr",
     "output_type": "stream",
     "text": [
      "R[write to console]: boundary (singular) fit: see ?isSingular\n",
      "\n",
      "R[write to console]: boundary (singular) fit: see ?isSingular\n",
      "\n",
      "R[write to console]: boundary (singular) fit: see ?isSingular\n",
      "\n",
      "R[write to console]: boundary (singular) fit: see ?isSingular\n",
      "\n"
     ]
    },
    {
     "name": "stdout",
     "output_type": "stream",
     "text": [
      "Done 1241 of 2500\n",
      "Done 1242 of 2500\n",
      "Done 1243 of 2500\n",
      "Done 1244 of 2500\n",
      "Done 1245 of 2500\n"
     ]
    },
    {
     "name": "stderr",
     "output_type": "stream",
     "text": [
      "R[write to console]: boundary (singular) fit: see ?isSingular\n",
      "\n",
      "R[write to console]: boundary (singular) fit: see ?isSingular\n",
      "\n",
      "R[write to console]: boundary (singular) fit: see ?isSingular\n",
      "\n"
     ]
    },
    {
     "name": "stdout",
     "output_type": "stream",
     "text": [
      "Done 1246 of 2500\n",
      "Done 1247 of 2500\n",
      "Done 1248 of 2500\n",
      "Done 1249 of 2500\n",
      "Done 1250 of 2500\n"
     ]
    },
    {
     "name": "stderr",
     "output_type": "stream",
     "text": [
      "R[write to console]: boundary (singular) fit: see ?isSingular\n",
      "\n",
      "R[write to console]: boundary (singular) fit: see ?isSingular\n",
      "\n",
      "R[write to console]: boundary (singular) fit: see ?isSingular\n",
      "\n",
      "R[write to console]: boundary (singular) fit: see ?isSingular\n",
      "\n",
      "R[write to console]: boundary (singular) fit: see ?isSingular\n",
      "\n"
     ]
    },
    {
     "name": "stdout",
     "output_type": "stream",
     "text": [
      "Done 1251 of 2500\n",
      "Done 1252 of 2500\n",
      "Done 1253 of 2500\n",
      "Done 1254 of 2500\n",
      "Done 1255 of 2500\n"
     ]
    },
    {
     "name": "stderr",
     "output_type": "stream",
     "text": [
      "R[write to console]: boundary (singular) fit: see ?isSingular\n",
      "\n",
      "R[write to console]: boundary (singular) fit: see ?isSingular\n",
      "\n",
      "R[write to console]: boundary (singular) fit: see ?isSingular\n",
      "\n",
      "R[write to console]: boundary (singular) fit: see ?isSingular\n",
      "\n",
      "R[write to console]: boundary (singular) fit: see ?isSingular\n",
      "\n"
     ]
    },
    {
     "name": "stdout",
     "output_type": "stream",
     "text": [
      "Done 1256 of 2500\n",
      "Done 1257 of 2500\n",
      "Done 1258 of 2500\n",
      "Done 1259 of 2500\n"
     ]
    },
    {
     "name": "stderr",
     "output_type": "stream",
     "text": [
      "R[write to console]: boundary (singular) fit: see ?isSingular\n",
      "\n",
      "R[write to console]: boundary (singular) fit: see ?isSingular\n",
      "\n",
      "R[write to console]: boundary (singular) fit: see ?isSingular\n",
      "\n",
      "R[write to console]: boundary (singular) fit: see ?isSingular\n",
      "\n"
     ]
    },
    {
     "name": "stdout",
     "output_type": "stream",
     "text": [
      "Done 1260 of 2500\n",
      "Done 1261 of 2500\n",
      "Done 1262 of 2500\n",
      "Done 1263 of 2500\n",
      "Done 1264 of 2500\n"
     ]
    },
    {
     "name": "stderr",
     "output_type": "stream",
     "text": [
      "R[write to console]: boundary (singular) fit: see ?isSingular\n",
      "\n",
      "R[write to console]: boundary (singular) fit: see ?isSingular\n",
      "\n",
      "R[write to console]: boundary (singular) fit: see ?isSingular\n",
      "\n"
     ]
    },
    {
     "name": "stdout",
     "output_type": "stream",
     "text": [
      "Done 1265 of 2500\n",
      "Done 1266 of 2500\n",
      "Done 1267 of 2500\n",
      "Done 1268 of 2500\n",
      "Done 1269 of 2500\n"
     ]
    },
    {
     "name": "stderr",
     "output_type": "stream",
     "text": [
      "R[write to console]: boundary (singular) fit: see ?isSingular\n",
      "\n",
      "R[write to console]: boundary (singular) fit: see ?isSingular\n",
      "\n"
     ]
    },
    {
     "name": "stdout",
     "output_type": "stream",
     "text": [
      "Done 1270 of 2500\n",
      "Done 1271 of 2500\n",
      "Done 1272 of 2500\n",
      "Done 1273 of 2500\n",
      "Done 1274 of 2500\n"
     ]
    },
    {
     "name": "stderr",
     "output_type": "stream",
     "text": [
      "R[write to console]: boundary (singular) fit: see ?isSingular\n",
      "\n",
      "R[write to console]: boundary (singular) fit: see ?isSingular\n",
      "\n",
      "R[write to console]: boundary (singular) fit: see ?isSingular\n",
      "\n"
     ]
    },
    {
     "name": "stdout",
     "output_type": "stream",
     "text": [
      "Done 1275 of 2500\n",
      "Done 1276 of 2500\n",
      "Done 1277 of 2500\n",
      "Done 1278 of 2500\n",
      "Done 1279 of 2500\n"
     ]
    },
    {
     "name": "stderr",
     "output_type": "stream",
     "text": [
      "R[write to console]: boundary (singular) fit: see ?isSingular\n",
      "\n",
      "R[write to console]: boundary (singular) fit: see ?isSingular\n",
      "\n"
     ]
    },
    {
     "name": "stdout",
     "output_type": "stream",
     "text": [
      "Done 1280 of 2500\n",
      "Done 1281 of 2500\n",
      "Done 1282 of 2500\n",
      "Done 1283 of 2500\n"
     ]
    },
    {
     "name": "stderr",
     "output_type": "stream",
     "text": [
      "R[write to console]: boundary (singular) fit: see ?isSingular\n",
      "\n",
      "R[write to console]: boundary (singular) fit: see ?isSingular\n",
      "\n"
     ]
    },
    {
     "name": "stdout",
     "output_type": "stream",
     "text": [
      "Done 1284 of 2500\n",
      "Done 1285 of 2500\n",
      "Done 1286 of 2500\n",
      "Done 1287 of 2500\n",
      "Done 1288 of 2500\n"
     ]
    },
    {
     "name": "stderr",
     "output_type": "stream",
     "text": [
      "R[write to console]: boundary (singular) fit: see ?isSingular\n",
      "\n",
      "R[write to console]: boundary (singular) fit: see ?isSingular\n",
      "\n"
     ]
    },
    {
     "name": "stdout",
     "output_type": "stream",
     "text": [
      "Done 1289 of 2500\n",
      "Done 1290 of 2500\n",
      "Done 1291 of 2500\n",
      "Done 1292 of 2500\n"
     ]
    },
    {
     "name": "stderr",
     "output_type": "stream",
     "text": [
      "R[write to console]: boundary (singular) fit: see ?isSingular\n",
      "\n",
      "R[write to console]: boundary (singular) fit: see ?isSingular\n",
      "\n",
      "R[write to console]: boundary (singular) fit: see ?isSingular\n",
      "\n"
     ]
    },
    {
     "name": "stdout",
     "output_type": "stream",
     "text": [
      "Done 1293 of 2500\n",
      "Done 1294 of 2500\n",
      "Done 1295 of 2500\n",
      "Done 1296 of 2500\n",
      "Done 1297 of 2500\n"
     ]
    },
    {
     "name": "stderr",
     "output_type": "stream",
     "text": [
      "R[write to console]: boundary (singular) fit: see ?isSingular\n",
      "\n",
      "R[write to console]: boundary (singular) fit: see ?isSingular\n",
      "\n",
      "R[write to console]: boundary (singular) fit: see ?isSingular\n",
      "\n"
     ]
    },
    {
     "name": "stdout",
     "output_type": "stream",
     "text": [
      "Done 1298 of 2500\n",
      "Done 1299 of 2500\n",
      "Done 1300 of 2500\n",
      "Done 1301 of 2500\n",
      "Done 1302 of 2500\n"
     ]
    },
    {
     "name": "stderr",
     "output_type": "stream",
     "text": [
      "R[write to console]: boundary (singular) fit: see ?isSingular\n",
      "\n",
      "R[write to console]: boundary (singular) fit: see ?isSingular\n",
      "\n",
      "R[write to console]: boundary (singular) fit: see ?isSingular\n",
      "\n",
      "R[write to console]: boundary (singular) fit: see ?isSingular\n",
      "\n",
      "R[write to console]: boundary (singular) fit: see ?isSingular\n",
      "\n"
     ]
    },
    {
     "name": "stdout",
     "output_type": "stream",
     "text": [
      "Done 1303 of 2500\n",
      "Done 1304 of 2500\n",
      "Done 1305 of 2500\n",
      "Done 1306 of 2500\n"
     ]
    },
    {
     "name": "stderr",
     "output_type": "stream",
     "text": [
      "R[write to console]: boundary (singular) fit: see ?isSingular\n",
      "\n",
      "R[write to console]: boundary (singular) fit: see ?isSingular\n",
      "\n",
      "R[write to console]: boundary (singular) fit: see ?isSingular\n",
      "\n"
     ]
    },
    {
     "name": "stdout",
     "output_type": "stream",
     "text": [
      "Done 1307 of 2500\n",
      "Done 1308 of 2500\n",
      "Done 1309 of 2500\n",
      "Done 1310 of 2500\n",
      "Done 1311 of 2500\n"
     ]
    },
    {
     "name": "stderr",
     "output_type": "stream",
     "text": [
      "R[write to console]: boundary (singular) fit: see ?isSingular\n",
      "\n",
      "R[write to console]: boundary (singular) fit: see ?isSingular\n",
      "\n",
      "R[write to console]: boundary (singular) fit: see ?isSingular\n",
      "\n"
     ]
    },
    {
     "name": "stdout",
     "output_type": "stream",
     "text": [
      "Done 1312 of 2500\n",
      "Done 1313 of 2500\n",
      "Done 1314 of 2500\n",
      "Done 1315 of 2500\n"
     ]
    },
    {
     "name": "stderr",
     "output_type": "stream",
     "text": [
      "R[write to console]: boundary (singular) fit: see ?isSingular\n",
      "\n",
      "R[write to console]: boundary (singular) fit: see ?isSingular\n",
      "\n",
      "R[write to console]: boundary (singular) fit: see ?isSingular\n",
      "\n"
     ]
    },
    {
     "name": "stdout",
     "output_type": "stream",
     "text": [
      "Done 1316 of 2500\n",
      "Done 1317 of 2500\n",
      "Done 1318 of 2500\n",
      "Done 1319 of 2500\n",
      "Done 1320 of 2500\n"
     ]
    },
    {
     "name": "stderr",
     "output_type": "stream",
     "text": [
      "R[write to console]: boundary (singular) fit: see ?isSingular\n",
      "\n",
      "R[write to console]: boundary (singular) fit: see ?isSingular\n",
      "\n",
      "R[write to console]: boundary (singular) fit: see ?isSingular\n",
      "\n"
     ]
    },
    {
     "name": "stdout",
     "output_type": "stream",
     "text": [
      "Done 1321 of 2500\n",
      "Done 1322 of 2500\n",
      "Done 1323 of 2500\n",
      "Done 1324 of 2500\n",
      "Done 1325 of 2500\n"
     ]
    },
    {
     "name": "stderr",
     "output_type": "stream",
     "text": [
      "R[write to console]: boundary (singular) fit: see ?isSingular\n",
      "\n",
      "R[write to console]: boundary (singular) fit: see ?isSingular\n",
      "\n"
     ]
    },
    {
     "name": "stdout",
     "output_type": "stream",
     "text": [
      "Done 1326 of 2500\n",
      "Done 1327 of 2500\n",
      "Done 1328 of 2500\n",
      "Done 1329 of 2500\n",
      "Done 1330 of 2500\n"
     ]
    },
    {
     "name": "stderr",
     "output_type": "stream",
     "text": [
      "R[write to console]: boundary (singular) fit: see ?isSingular\n",
      "\n",
      "R[write to console]: boundary (singular) fit: see ?isSingular\n",
      "\n"
     ]
    },
    {
     "name": "stdout",
     "output_type": "stream",
     "text": [
      "Done 1331 of 2500\n",
      "Done 1332 of 2500\n",
      "Done 1333 of 2500\n",
      "Done 1334 of 2500\n",
      "Done 1335 of 2500\n"
     ]
    },
    {
     "name": "stderr",
     "output_type": "stream",
     "text": [
      "R[write to console]: boundary (singular) fit: see ?isSingular\n",
      "\n",
      "R[write to console]: boundary (singular) fit: see ?isSingular\n",
      "\n",
      "R[write to console]: boundary (singular) fit: see ?isSingular\n",
      "\n"
     ]
    },
    {
     "name": "stdout",
     "output_type": "stream",
     "text": [
      "Done 1336 of 2500\n",
      "Done 1337 of 2500\n",
      "Done 1338 of 2500\n",
      "Done 1339 of 2500\n"
     ]
    },
    {
     "name": "stderr",
     "output_type": "stream",
     "text": [
      "R[write to console]: boundary (singular) fit: see ?isSingular\n",
      "\n",
      "R[write to console]: boundary (singular) fit: see ?isSingular\n",
      "\n",
      "R[write to console]: boundary (singular) fit: see ?isSingular\n",
      "\n"
     ]
    },
    {
     "name": "stdout",
     "output_type": "stream",
     "text": [
      "Done 1340 of 2500\n",
      "Done 1341 of 2500\n",
      "Done 1342 of 2500\n",
      "Done 1343 of 2500\n",
      "Done 1344 of 2500\n"
     ]
    },
    {
     "name": "stderr",
     "output_type": "stream",
     "text": [
      "R[write to console]: boundary (singular) fit: see ?isSingular\n",
      "\n",
      "R[write to console]: boundary (singular) fit: see ?isSingular\n",
      "\n"
     ]
    },
    {
     "name": "stdout",
     "output_type": "stream",
     "text": [
      "Done 1345 of 2500\n",
      "Done 1346 of 2500\n",
      "Done 1347 of 2500\n",
      "Done 1348 of 2500\n",
      "Done 1349 of 2500\n"
     ]
    },
    {
     "name": "stderr",
     "output_type": "stream",
     "text": [
      "R[write to console]: boundary (singular) fit: see ?isSingular\n",
      "\n",
      "R[write to console]: boundary (singular) fit: see ?isSingular\n",
      "\n",
      "R[write to console]: boundary (singular) fit: see ?isSingular\n",
      "\n"
     ]
    },
    {
     "name": "stdout",
     "output_type": "stream",
     "text": [
      "Done 1350 of 2500\n",
      "Done 1351 of 2500\n",
      "Done 1352 of 2500\n",
      "Done 1353 of 2500\n"
     ]
    },
    {
     "name": "stderr",
     "output_type": "stream",
     "text": [
      "R[write to console]: boundary (singular) fit: see ?isSingular\n",
      "\n",
      "R[write to console]: boundary (singular) fit: see ?isSingular\n",
      "\n",
      "R[write to console]: boundary (singular) fit: see ?isSingular\n",
      "\n",
      "R[write to console]: boundary (singular) fit: see ?isSingular\n",
      "\n"
     ]
    },
    {
     "name": "stdout",
     "output_type": "stream",
     "text": [
      "Done 1354 of 2500\n",
      "Done 1355 of 2500\n",
      "Done 1356 of 2500\n",
      "Done 1357 of 2500\n",
      "Done 1358 of 2500\n"
     ]
    },
    {
     "name": "stderr",
     "output_type": "stream",
     "text": [
      "R[write to console]: boundary (singular) fit: see ?isSingular\n",
      "\n",
      "R[write to console]: boundary (singular) fit: see ?isSingular\n",
      "\n",
      "R[write to console]: boundary (singular) fit: see ?isSingular\n",
      "\n",
      "R[write to console]: boundary (singular) fit: see ?isSingular\n",
      "\n",
      "R[write to console]: boundary (singular) fit: see ?isSingular\n",
      "\n"
     ]
    },
    {
     "name": "stdout",
     "output_type": "stream",
     "text": [
      "Done 1359 of 2500\n",
      "Done 1360 of 2500\n",
      "Done 1361 of 2500\n",
      "Done 1362 of 2500\n"
     ]
    },
    {
     "name": "stderr",
     "output_type": "stream",
     "text": [
      "R[write to console]: boundary (singular) fit: see ?isSingular\n",
      "\n",
      "R[write to console]: boundary (singular) fit: see ?isSingular\n",
      "\n",
      "R[write to console]: boundary (singular) fit: see ?isSingular\n",
      "\n"
     ]
    },
    {
     "name": "stdout",
     "output_type": "stream",
     "text": [
      "Done 1363 of 2500\n",
      "Done 1364 of 2500\n",
      "Done 1365 of 2500\n",
      "Done 1366 of 2500\n",
      "Done 1367 of 2500\n"
     ]
    },
    {
     "name": "stderr",
     "output_type": "stream",
     "text": [
      "R[write to console]: boundary (singular) fit: see ?isSingular\n",
      "\n",
      "R[write to console]: boundary (singular) fit: see ?isSingular\n",
      "\n",
      "R[write to console]: boundary (singular) fit: see ?isSingular\n",
      "\n"
     ]
    },
    {
     "name": "stdout",
     "output_type": "stream",
     "text": [
      "Done 1368 of 2500\n",
      "Done 1369 of 2500\n",
      "Done 1370 of 2500\n",
      "Done 1371 of 2500\n",
      "Done 1372 of 2500\n"
     ]
    },
    {
     "name": "stderr",
     "output_type": "stream",
     "text": [
      "R[write to console]: boundary (singular) fit: see ?isSingular\n",
      "\n",
      "R[write to console]: boundary (singular) fit: see ?isSingular\n",
      "\n",
      "R[write to console]: boundary (singular) fit: see ?isSingular\n",
      "\n"
     ]
    },
    {
     "name": "stdout",
     "output_type": "stream",
     "text": [
      "Done 1373 of 2500\n",
      "Done 1374 of 2500\n",
      "Done 1375 of 2500\n",
      "Done 1376 of 2500\n",
      "Done 1377 of 2500\n"
     ]
    },
    {
     "name": "stderr",
     "output_type": "stream",
     "text": [
      "R[write to console]: boundary (singular) fit: see ?isSingular\n",
      "\n",
      "R[write to console]: boundary (singular) fit: see ?isSingular\n",
      "\n",
      "R[write to console]: boundary (singular) fit: see ?isSingular\n",
      "\n"
     ]
    },
    {
     "name": "stdout",
     "output_type": "stream",
     "text": [
      "Done 1378 of 2500\n",
      "Done 1379 of 2500\n",
      "Done 1380 of 2500\n",
      "Done 1381 of 2500\n",
      "Done 1382 of 2500\n"
     ]
    },
    {
     "name": "stderr",
     "output_type": "stream",
     "text": [
      "R[write to console]: boundary (singular) fit: see ?isSingular\n",
      "\n",
      "R[write to console]: boundary (singular) fit: see ?isSingular\n",
      "\n"
     ]
    },
    {
     "name": "stdout",
     "output_type": "stream",
     "text": [
      "Done 1383 of 2500\n",
      "Done 1384 of 2500\n",
      "Done 1385 of 2500\n",
      "Done 1386 of 2500\n"
     ]
    },
    {
     "name": "stderr",
     "output_type": "stream",
     "text": [
      "R[write to console]: boundary (singular) fit: see ?isSingular\n",
      "\n",
      "R[write to console]: boundary (singular) fit: see ?isSingular\n",
      "\n",
      "R[write to console]: boundary (singular) fit: see ?isSingular\n",
      "\n",
      "R[write to console]: boundary (singular) fit: see ?isSingular\n",
      "\n"
     ]
    },
    {
     "name": "stdout",
     "output_type": "stream",
     "text": [
      "Done 1387 of 2500\n",
      "Done 1388 of 2500\n",
      "Done 1389 of 2500\n",
      "Done 1390 of 2500\n",
      "Done 1391 of 2500\n"
     ]
    },
    {
     "name": "stderr",
     "output_type": "stream",
     "text": [
      "R[write to console]: boundary (singular) fit: see ?isSingular\n",
      "\n",
      "R[write to console]: boundary (singular) fit: see ?isSingular\n",
      "\n",
      "R[write to console]: boundary (singular) fit: see ?isSingular\n",
      "\n",
      "R[write to console]: boundary (singular) fit: see ?isSingular\n",
      "\n",
      "R[write to console]: boundary (singular) fit: see ?isSingular\n",
      "\n"
     ]
    },
    {
     "name": "stdout",
     "output_type": "stream",
     "text": [
      "Done 1392 of 2500\n",
      "Done 1393 of 2500\n",
      "Done 1394 of 2500\n",
      "Done 1395 of 2500\n",
      "Done 1396 of 2500\n"
     ]
    },
    {
     "name": "stderr",
     "output_type": "stream",
     "text": [
      "R[write to console]: boundary (singular) fit: see ?isSingular\n",
      "\n",
      "R[write to console]: boundary (singular) fit: see ?isSingular\n",
      "\n",
      "R[write to console]: boundary (singular) fit: see ?isSingular\n",
      "\n"
     ]
    },
    {
     "name": "stdout",
     "output_type": "stream",
     "text": [
      "Done 1397 of 2500\n",
      "Done 1398 of 2500\n",
      "Done 1399 of 2500\n",
      "Done 1400 of 2500\n",
      "Done 1401 of 2500\n"
     ]
    },
    {
     "name": "stderr",
     "output_type": "stream",
     "text": [
      "R[write to console]: boundary (singular) fit: see ?isSingular\n",
      "\n",
      "R[write to console]: boundary (singular) fit: see ?isSingular\n",
      "\n",
      "R[write to console]: boundary (singular) fit: see ?isSingular\n",
      "\n",
      "R[write to console]: boundary (singular) fit: see ?isSingular\n",
      "\n",
      "R[write to console]: boundary (singular) fit: see ?isSingular\n",
      "\n"
     ]
    },
    {
     "name": "stdout",
     "output_type": "stream",
     "text": [
      "Done 1402 of 2500\n",
      "Done 1403 of 2500\n",
      "Done 1404 of 2500\n",
      "Done 1405 of 2500\n",
      "Done 1406 of 2500\n"
     ]
    },
    {
     "name": "stderr",
     "output_type": "stream",
     "text": [
      "R[write to console]: boundary (singular) fit: see ?isSingular\n",
      "\n",
      "R[write to console]: boundary (singular) fit: see ?isSingular\n",
      "\n",
      "R[write to console]: boundary (singular) fit: see ?isSingular\n",
      "\n",
      "R[write to console]: boundary (singular) fit: see ?isSingular\n",
      "\n"
     ]
    },
    {
     "name": "stdout",
     "output_type": "stream",
     "text": [
      "Done 1407 of 2500\n",
      "Done 1408 of 2500\n",
      "Done 1409 of 2500\n",
      "Done 1410 of 2500\n"
     ]
    },
    {
     "name": "stderr",
     "output_type": "stream",
     "text": [
      "R[write to console]: boundary (singular) fit: see ?isSingular\n",
      "\n"
     ]
    },
    {
     "name": "stdout",
     "output_type": "stream",
     "text": [
      "Done 1411 of 2500\n",
      "Done 1412 of 2500\n",
      "Done 1413 of 2500\n",
      "Done 1414 of 2500\n",
      "Done 1415 of 2500\n"
     ]
    },
    {
     "name": "stderr",
     "output_type": "stream",
     "text": [
      "R[write to console]: boundary (singular) fit: see ?isSingular\n",
      "\n"
     ]
    },
    {
     "name": "stdout",
     "output_type": "stream",
     "text": [
      "Done 1416 of 2500\n",
      "Done 1417 of 2500\n",
      "Done 1418 of 2500\n",
      "Done 1419 of 2500\n",
      "Done 1420 of 2500\n"
     ]
    },
    {
     "name": "stderr",
     "output_type": "stream",
     "text": [
      "R[write to console]: boundary (singular) fit: see ?isSingular\n",
      "\n",
      "R[write to console]: boundary (singular) fit: see ?isSingular\n",
      "\n",
      "R[write to console]: boundary (singular) fit: see ?isSingular\n",
      "\n"
     ]
    },
    {
     "name": "stdout",
     "output_type": "stream",
     "text": [
      "Done 1421 of 2500\n",
      "Done 1422 of 2500\n",
      "Done 1423 of 2500\n",
      "Done 1424 of 2500\n",
      "Done 1425 of 2500\n"
     ]
    },
    {
     "name": "stderr",
     "output_type": "stream",
     "text": [
      "R[write to console]: boundary (singular) fit: see ?isSingular\n",
      "\n",
      "R[write to console]: boundary (singular) fit: see ?isSingular\n",
      "\n",
      "R[write to console]: boundary (singular) fit: see ?isSingular\n",
      "\n"
     ]
    },
    {
     "name": "stdout",
     "output_type": "stream",
     "text": [
      "Done 1426 of 2500\n",
      "Done 1427 of 2500\n",
      "Done 1428 of 2500\n",
      "Done 1429 of 2500\n",
      "Done 1430 of 2500\n"
     ]
    },
    {
     "name": "stderr",
     "output_type": "stream",
     "text": [
      "R[write to console]: boundary (singular) fit: see ?isSingular\n",
      "\n"
     ]
    },
    {
     "name": "stdout",
     "output_type": "stream",
     "text": [
      "Done 1431 of 2500\n",
      "Done 1432 of 2500\n",
      "Done 1433 of 2500\n",
      "Done 1434 of 2500\n",
      "Done 1435 of 2500\n"
     ]
    },
    {
     "name": "stderr",
     "output_type": "stream",
     "text": [
      "R[write to console]: boundary (singular) fit: see ?isSingular\n",
      "\n",
      "R[write to console]: boundary (singular) fit: see ?isSingular\n",
      "\n",
      "R[write to console]: boundary (singular) fit: see ?isSingular\n",
      "\n",
      "R[write to console]: boundary (singular) fit: see ?isSingular\n",
      "\n",
      "R[write to console]: boundary (singular) fit: see ?isSingular\n",
      "\n"
     ]
    },
    {
     "name": "stdout",
     "output_type": "stream",
     "text": [
      "Done 1436 of 2500\n",
      "Done 1437 of 2500\n",
      "Done 1438 of 2500\n",
      "Done 1439 of 2500\n",
      "Done 1440 of 2500\n"
     ]
    },
    {
     "name": "stderr",
     "output_type": "stream",
     "text": [
      "R[write to console]: boundary (singular) fit: see ?isSingular\n",
      "\n",
      "R[write to console]: boundary (singular) fit: see ?isSingular\n",
      "\n",
      "R[write to console]: boundary (singular) fit: see ?isSingular\n",
      "\n",
      "R[write to console]: boundary (singular) fit: see ?isSingular\n",
      "\n"
     ]
    },
    {
     "name": "stdout",
     "output_type": "stream",
     "text": [
      "Done 1441 of 2500\n",
      "Done 1442 of 2500\n",
      "Done 1443 of 2500\n",
      "Done 1444 of 2500\n",
      "Done 1445 of 2500\n"
     ]
    },
    {
     "name": "stderr",
     "output_type": "stream",
     "text": [
      "R[write to console]: boundary (singular) fit: see ?isSingular\n",
      "\n",
      "R[write to console]: boundary (singular) fit: see ?isSingular\n",
      "\n",
      "R[write to console]: boundary (singular) fit: see ?isSingular\n",
      "\n"
     ]
    },
    {
     "name": "stdout",
     "output_type": "stream",
     "text": [
      "Done 1446 of 2500\n",
      "Done 1447 of 2500\n",
      "Done 1448 of 2500\n",
      "Done 1449 of 2500\n",
      "Done 1450 of 2500\n"
     ]
    },
    {
     "name": "stderr",
     "output_type": "stream",
     "text": [
      "R[write to console]: boundary (singular) fit: see ?isSingular\n",
      "\n",
      "R[write to console]: boundary (singular) fit: see ?isSingular\n",
      "\n",
      "R[write to console]: boundary (singular) fit: see ?isSingular\n",
      "\n",
      "R[write to console]: boundary (singular) fit: see ?isSingular\n",
      "\n",
      "R[write to console]: boundary (singular) fit: see ?isSingular\n",
      "\n"
     ]
    },
    {
     "name": "stdout",
     "output_type": "stream",
     "text": [
      "Done 1451 of 2500\n",
      "Done 1452 of 2500\n",
      "Done 1453 of 2500\n",
      "Done 1454 of 2500\n",
      "Done 1455 of 2500\n"
     ]
    },
    {
     "name": "stderr",
     "output_type": "stream",
     "text": [
      "R[write to console]: boundary (singular) fit: see ?isSingular\n",
      "\n",
      "R[write to console]: boundary (singular) fit: see ?isSingular\n",
      "\n",
      "R[write to console]: boundary (singular) fit: see ?isSingular\n",
      "\n",
      "R[write to console]: boundary (singular) fit: see ?isSingular\n",
      "\n",
      "R[write to console]: boundary (singular) fit: see ?isSingular\n",
      "\n"
     ]
    },
    {
     "name": "stdout",
     "output_type": "stream",
     "text": [
      "Done 1456 of 2500\n",
      "Done 1457 of 2500\n",
      "Done 1458 of 2500\n",
      "Done 1459 of 2500\n"
     ]
    },
    {
     "name": "stderr",
     "output_type": "stream",
     "text": [
      "R[write to console]: boundary (singular) fit: see ?isSingular\n",
      "\n",
      "R[write to console]: boundary (singular) fit: see ?isSingular\n",
      "\n",
      "R[write to console]: boundary (singular) fit: see ?isSingular\n",
      "\n",
      "R[write to console]: boundary (singular) fit: see ?isSingular\n",
      "\n"
     ]
    },
    {
     "name": "stdout",
     "output_type": "stream",
     "text": [
      "Done 1460 of 2500\n",
      "Done 1461 of 2500\n",
      "Done 1462 of 2500\n",
      "Done 1463 of 2500\n",
      "Done 1464 of 2500\n"
     ]
    },
    {
     "name": "stderr",
     "output_type": "stream",
     "text": [
      "R[write to console]: boundary (singular) fit: see ?isSingular\n",
      "\n",
      "R[write to console]: boundary (singular) fit: see ?isSingular\n",
      "\n",
      "R[write to console]: boundary (singular) fit: see ?isSingular\n",
      "\n"
     ]
    },
    {
     "name": "stdout",
     "output_type": "stream",
     "text": [
      "Done 1465 of 2500\n",
      "Done 1466 of 2500\n",
      "Done 1467 of 2500\n",
      "Done 1468 of 2500\n",
      "Done 1469 of 2500\n"
     ]
    },
    {
     "name": "stderr",
     "output_type": "stream",
     "text": [
      "R[write to console]: boundary (singular) fit: see ?isSingular\n",
      "\n",
      "R[write to console]: boundary (singular) fit: see ?isSingular\n",
      "\n",
      "R[write to console]: boundary (singular) fit: see ?isSingular\n",
      "\n",
      "R[write to console]: boundary (singular) fit: see ?isSingular\n",
      "\n",
      "R[write to console]: boundary (singular) fit: see ?isSingular\n",
      "\n"
     ]
    },
    {
     "name": "stdout",
     "output_type": "stream",
     "text": [
      "Done 1470 of 2500\n",
      "Done 1471 of 2500\n",
      "Done 1472 of 2500\n",
      "Done 1473 of 2500\n",
      "Done 1474 of 2500\n"
     ]
    },
    {
     "name": "stderr",
     "output_type": "stream",
     "text": [
      "R[write to console]: boundary (singular) fit: see ?isSingular\n",
      "\n",
      "R[write to console]: boundary (singular) fit: see ?isSingular\n",
      "\n"
     ]
    },
    {
     "name": "stdout",
     "output_type": "stream",
     "text": [
      "Done 1475 of 2500\n",
      "Done 1476 of 2500\n",
      "Done 1477 of 2500\n",
      "Done 1478 of 2500\n",
      "Done 1479 of 2500\n"
     ]
    },
    {
     "name": "stderr",
     "output_type": "stream",
     "text": [
      "R[write to console]: boundary (singular) fit: see ?isSingular\n",
      "\n",
      "R[write to console]: boundary (singular) fit: see ?isSingular\n",
      "\n",
      "R[write to console]: boundary (singular) fit: see ?isSingular\n",
      "\n"
     ]
    },
    {
     "name": "stdout",
     "output_type": "stream",
     "text": [
      "Done 1480 of 2500\n",
      "Done 1481 of 2500\n",
      "Done 1482 of 2500\n",
      "Done 1483 of 2500\n"
     ]
    },
    {
     "name": "stderr",
     "output_type": "stream",
     "text": [
      "R[write to console]: boundary (singular) fit: see ?isSingular\n",
      "\n",
      "R[write to console]: boundary (singular) fit: see ?isSingular\n",
      "\n",
      "R[write to console]: boundary (singular) fit: see ?isSingular\n",
      "\n"
     ]
    },
    {
     "name": "stdout",
     "output_type": "stream",
     "text": [
      "Done 1484 of 2500\n",
      "Done 1485 of 2500\n",
      "Done 1486 of 2500\n",
      "Done 1487 of 2500\n",
      "Done 1488 of 2500\n"
     ]
    },
    {
     "name": "stderr",
     "output_type": "stream",
     "text": [
      "R[write to console]: boundary (singular) fit: see ?isSingular\n",
      "\n",
      "R[write to console]: boundary (singular) fit: see ?isSingular\n",
      "\n"
     ]
    },
    {
     "name": "stdout",
     "output_type": "stream",
     "text": [
      "Done 1489 of 2500\n",
      "Done 1490 of 2500\n",
      "Done 1491 of 2500\n",
      "Done 1492 of 2500\n"
     ]
    },
    {
     "name": "stderr",
     "output_type": "stream",
     "text": [
      "R[write to console]: boundary (singular) fit: see ?isSingular\n",
      "\n",
      "R[write to console]: boundary (singular) fit: see ?isSingular\n",
      "\n",
      "R[write to console]: boundary (singular) fit: see ?isSingular\n",
      "\n",
      "R[write to console]: boundary (singular) fit: see ?isSingular\n",
      "\n"
     ]
    },
    {
     "name": "stdout",
     "output_type": "stream",
     "text": [
      "Done 1493 of 2500\n",
      "Done 1494 of 2500\n",
      "Done 1495 of 2500\n",
      "Done 1496 of 2500\n",
      "Done 1497 of 2500\n"
     ]
    },
    {
     "name": "stderr",
     "output_type": "stream",
     "text": [
      "R[write to console]: boundary (singular) fit: see ?isSingular\n",
      "\n",
      "R[write to console]: boundary (singular) fit: see ?isSingular\n",
      "\n",
      "R[write to console]: boundary (singular) fit: see ?isSingular\n",
      "\n"
     ]
    },
    {
     "name": "stdout",
     "output_type": "stream",
     "text": [
      "Done 1498 of 2500\n",
      "Done 1499 of 2500\n",
      "Done 1500 of 2500\n",
      "Done 1501 of 2500\n",
      "Done 1502 of 2500\n"
     ]
    },
    {
     "name": "stderr",
     "output_type": "stream",
     "text": [
      "R[write to console]: boundary (singular) fit: see ?isSingular\n",
      "\n",
      "R[write to console]: boundary (singular) fit: see ?isSingular\n",
      "\n",
      "R[write to console]: boundary (singular) fit: see ?isSingular\n",
      "\n",
      "R[write to console]: boundary (singular) fit: see ?isSingular\n",
      "\n",
      "R[write to console]: boundary (singular) fit: see ?isSingular\n",
      "\n"
     ]
    },
    {
     "name": "stdout",
     "output_type": "stream",
     "text": [
      "Done 1503 of 2500\n",
      "Done 1504 of 2500\n",
      "Done 1505 of 2500\n",
      "Done 1506 of 2500\n"
     ]
    },
    {
     "name": "stderr",
     "output_type": "stream",
     "text": [
      "R[write to console]: boundary (singular) fit: see ?isSingular\n",
      "\n",
      "R[write to console]: boundary (singular) fit: see ?isSingular\n",
      "\n",
      "R[write to console]: boundary (singular) fit: see ?isSingular\n",
      "\n",
      "R[write to console]: boundary (singular) fit: see ?isSingular\n",
      "\n"
     ]
    },
    {
     "name": "stdout",
     "output_type": "stream",
     "text": [
      "Done 1507 of 2500\n",
      "Done 1508 of 2500\n",
      "Done 1509 of 2500\n",
      "Done 1510 of 2500\n",
      "Done 1511 of 2500\n"
     ]
    },
    {
     "name": "stderr",
     "output_type": "stream",
     "text": [
      "R[write to console]: boundary (singular) fit: see ?isSingular\n",
      "\n",
      "R[write to console]: boundary (singular) fit: see ?isSingular\n",
      "\n"
     ]
    },
    {
     "name": "stdout",
     "output_type": "stream",
     "text": [
      "Done 1512 of 2500\n",
      "Done 1513 of 2500\n",
      "Done 1514 of 2500\n",
      "Done 1515 of 2500\n",
      "Done 1516 of 2500\n"
     ]
    },
    {
     "name": "stderr",
     "output_type": "stream",
     "text": [
      "R[write to console]: boundary (singular) fit: see ?isSingular\n",
      "\n",
      "R[write to console]: boundary (singular) fit: see ?isSingular\n",
      "\n",
      "R[write to console]: boundary (singular) fit: see ?isSingular\n",
      "\n",
      "R[write to console]: boundary (singular) fit: see ?isSingular\n",
      "\n"
     ]
    },
    {
     "name": "stdout",
     "output_type": "stream",
     "text": [
      "Done 1517 of 2500\n",
      "Done 1518 of 2500\n",
      "Done 1519 of 2500\n",
      "Done 1520 of 2500\n",
      "Done 1521 of 2500\n"
     ]
    },
    {
     "name": "stderr",
     "output_type": "stream",
     "text": [
      "R[write to console]: boundary (singular) fit: see ?isSingular\n",
      "\n",
      "R[write to console]: boundary (singular) fit: see ?isSingular\n",
      "\n",
      "R[write to console]: boundary (singular) fit: see ?isSingular\n",
      "\n"
     ]
    },
    {
     "name": "stdout",
     "output_type": "stream",
     "text": [
      "Done 1522 of 2500\n",
      "Done 1523 of 2500\n",
      "Done 1524 of 2500\n",
      "Done 1525 of 2500\n",
      "Done 1526 of 2500\n"
     ]
    },
    {
     "name": "stderr",
     "output_type": "stream",
     "text": [
      "R[write to console]: boundary (singular) fit: see ?isSingular\n",
      "\n",
      "R[write to console]: boundary (singular) fit: see ?isSingular\n",
      "\n",
      "R[write to console]: boundary (singular) fit: see ?isSingular\n",
      "\n"
     ]
    },
    {
     "name": "stdout",
     "output_type": "stream",
     "text": [
      "Done 1527 of 2500\n",
      "Done 1528 of 2500\n",
      "Done 1529 of 2500\n",
      "Done 1530 of 2500\n",
      "Done 1531 of 2500\n"
     ]
    },
    {
     "name": "stderr",
     "output_type": "stream",
     "text": [
      "R[write to console]: boundary (singular) fit: see ?isSingular\n",
      "\n",
      "R[write to console]: boundary (singular) fit: see ?isSingular\n",
      "\n",
      "R[write to console]: boundary (singular) fit: see ?isSingular\n",
      "\n"
     ]
    },
    {
     "name": "stdout",
     "output_type": "stream",
     "text": [
      "Done 1532 of 2500\n",
      "Done 1533 of 2500\n",
      "Done 1534 of 2500\n",
      "Done 1535 of 2500\n",
      "Done 1536 of 2500\n"
     ]
    },
    {
     "name": "stderr",
     "output_type": "stream",
     "text": [
      "R[write to console]: boundary (singular) fit: see ?isSingular\n",
      "\n",
      "R[write to console]: boundary (singular) fit: see ?isSingular\n",
      "\n",
      "R[write to console]: boundary (singular) fit: see ?isSingular\n",
      "\n"
     ]
    },
    {
     "name": "stdout",
     "output_type": "stream",
     "text": [
      "Done 1537 of 2500\n",
      "Done 1538 of 2500\n",
      "Done 1539 of 2500\n",
      "Done 1540 of 2500\n"
     ]
    },
    {
     "name": "stderr",
     "output_type": "stream",
     "text": [
      "R[write to console]: boundary (singular) fit: see ?isSingular\n",
      "\n",
      "R[write to console]: boundary (singular) fit: see ?isSingular\n",
      "\n"
     ]
    },
    {
     "name": "stdout",
     "output_type": "stream",
     "text": [
      "Done 1541 of 2500\n",
      "Done 1542 of 2500\n",
      "Done 1543 of 2500\n",
      "Done 1544 of 2500\n",
      "Done 1545 of 2500\n"
     ]
    },
    {
     "name": "stderr",
     "output_type": "stream",
     "text": [
      "R[write to console]: boundary (singular) fit: see ?isSingular\n",
      "\n",
      "R[write to console]: boundary (singular) fit: see ?isSingular\n",
      "\n",
      "R[write to console]: boundary (singular) fit: see ?isSingular\n",
      "\n",
      "R[write to console]: boundary (singular) fit: see ?isSingular\n",
      "\n",
      "R[write to console]: boundary (singular) fit: see ?isSingular\n",
      "\n"
     ]
    },
    {
     "name": "stdout",
     "output_type": "stream",
     "text": [
      "Done 1546 of 2500\n",
      "Done 1547 of 2500\n",
      "Done 1548 of 2500\n",
      "Done 1549 of 2500\n",
      "Done 1550 of 2500\n"
     ]
    },
    {
     "name": "stderr",
     "output_type": "stream",
     "text": [
      "R[write to console]: boundary (singular) fit: see ?isSingular\n",
      "\n",
      "R[write to console]: boundary (singular) fit: see ?isSingular\n",
      "\n",
      "R[write to console]: boundary (singular) fit: see ?isSingular\n",
      "\n",
      "R[write to console]: boundary (singular) fit: see ?isSingular\n",
      "\n",
      "R[write to console]: boundary (singular) fit: see ?isSingular\n",
      "\n"
     ]
    },
    {
     "name": "stdout",
     "output_type": "stream",
     "text": [
      "Done 1551 of 2500\n",
      "Done 1552 of 2500\n",
      "Done 1553 of 2500\n",
      "Done 1554 of 2500\n",
      "Done 1555 of 2500\n"
     ]
    },
    {
     "name": "stderr",
     "output_type": "stream",
     "text": [
      "R[write to console]: boundary (singular) fit: see ?isSingular\n",
      "\n",
      "R[write to console]: boundary (singular) fit: see ?isSingular\n",
      "\n",
      "R[write to console]: boundary (singular) fit: see ?isSingular\n",
      "\n",
      "R[write to console]: boundary (singular) fit: see ?isSingular\n",
      "\n",
      "R[write to console]: boundary (singular) fit: see ?isSingular\n",
      "\n"
     ]
    },
    {
     "name": "stdout",
     "output_type": "stream",
     "text": [
      "Done 1556 of 2500\n",
      "Done 1557 of 2500\n",
      "Done 1558 of 2500\n",
      "Done 1559 of 2500\n",
      "Done 1560 of 2500\n"
     ]
    },
    {
     "name": "stderr",
     "output_type": "stream",
     "text": [
      "R[write to console]: boundary (singular) fit: see ?isSingular\n",
      "\n",
      "R[write to console]: boundary (singular) fit: see ?isSingular\n",
      "\n",
      "R[write to console]: boundary (singular) fit: see ?isSingular\n",
      "\n",
      "R[write to console]: boundary (singular) fit: see ?isSingular\n",
      "\n"
     ]
    },
    {
     "name": "stdout",
     "output_type": "stream",
     "text": [
      "Done 1561 of 2500\n",
      "Done 1562 of 2500\n",
      "Done 1563 of 2500\n",
      "Done 1564 of 2500\n",
      "Done 1565 of 2500\n"
     ]
    },
    {
     "name": "stderr",
     "output_type": "stream",
     "text": [
      "R[write to console]: boundary (singular) fit: see ?isSingular\n",
      "\n",
      "R[write to console]: boundary (singular) fit: see ?isSingular\n",
      "\n",
      "R[write to console]: boundary (singular) fit: see ?isSingular\n",
      "\n",
      "R[write to console]: boundary (singular) fit: see ?isSingular\n",
      "\n",
      "R[write to console]: boundary (singular) fit: see ?isSingular\n",
      "\n"
     ]
    },
    {
     "name": "stdout",
     "output_type": "stream",
     "text": [
      "Done 1566 of 2500\n",
      "Done 1567 of 2500\n",
      "Done 1568 of 2500\n",
      "Done 1569 of 2500\n",
      "Done 1570 of 2500\n"
     ]
    },
    {
     "name": "stderr",
     "output_type": "stream",
     "text": [
      "R[write to console]: boundary (singular) fit: see ?isSingular\n",
      "\n",
      "R[write to console]: boundary (singular) fit: see ?isSingular\n",
      "\n",
      "R[write to console]: boundary (singular) fit: see ?isSingular\n",
      "\n",
      "R[write to console]: boundary (singular) fit: see ?isSingular\n",
      "\n"
     ]
    },
    {
     "name": "stdout",
     "output_type": "stream",
     "text": [
      "Done 1571 of 2500\n",
      "Done 1572 of 2500\n",
      "Done 1573 of 2500\n",
      "Done 1574 of 2500\n"
     ]
    },
    {
     "name": "stderr",
     "output_type": "stream",
     "text": [
      "R[write to console]: boundary (singular) fit: see ?isSingular\n",
      "\n",
      "R[write to console]: boundary (singular) fit: see ?isSingular\n",
      "\n"
     ]
    },
    {
     "name": "stdout",
     "output_type": "stream",
     "text": [
      "Done 1575 of 2500\n",
      "Done 1576 of 2500\n",
      "Done 1577 of 2500\n",
      "Done 1578 of 2500\n",
      "Done 1579 of 2500\n"
     ]
    },
    {
     "name": "stderr",
     "output_type": "stream",
     "text": [
      "R[write to console]: boundary (singular) fit: see ?isSingular\n",
      "\n",
      "R[write to console]: boundary (singular) fit: see ?isSingular\n",
      "\n"
     ]
    },
    {
     "name": "stdout",
     "output_type": "stream",
     "text": [
      "Done 1580 of 2500\n",
      "Done 1581 of 2500\n",
      "Done 1582 of 2500\n",
      "Done 1583 of 2500\n",
      "Done 1584 of 2500\n"
     ]
    },
    {
     "name": "stderr",
     "output_type": "stream",
     "text": [
      "R[write to console]: boundary (singular) fit: see ?isSingular\n",
      "\n",
      "R[write to console]: boundary (singular) fit: see ?isSingular\n",
      "\n",
      "R[write to console]: boundary (singular) fit: see ?isSingular\n",
      "\n",
      "R[write to console]: boundary (singular) fit: see ?isSingular\n",
      "\n"
     ]
    },
    {
     "name": "stdout",
     "output_type": "stream",
     "text": [
      "Done 1585 of 2500\n",
      "Done 1586 of 2500\n",
      "Done 1587 of 2500\n",
      "Done 1588 of 2500\n"
     ]
    },
    {
     "name": "stderr",
     "output_type": "stream",
     "text": [
      "R[write to console]: boundary (singular) fit: see ?isSingular\n",
      "\n",
      "R[write to console]: boundary (singular) fit: see ?isSingular\n",
      "\n"
     ]
    },
    {
     "name": "stdout",
     "output_type": "stream",
     "text": [
      "Done 1589 of 2500\n",
      "Done 1590 of 2500\n",
      "Done 1591 of 2500\n",
      "Done 1592 of 2500\n",
      "Done 1593 of 2500\n"
     ]
    },
    {
     "name": "stderr",
     "output_type": "stream",
     "text": [
      "R[write to console]: boundary (singular) fit: see ?isSingular\n",
      "\n",
      "R[write to console]: boundary (singular) fit: see ?isSingular\n",
      "\n",
      "R[write to console]: boundary (singular) fit: see ?isSingular\n",
      "\n"
     ]
    },
    {
     "name": "stdout",
     "output_type": "stream",
     "text": [
      "Done 1594 of 2500\n",
      "Done 1595 of 2500\n",
      "Done 1596 of 2500\n",
      "Done 1597 of 2500\n"
     ]
    },
    {
     "name": "stderr",
     "output_type": "stream",
     "text": [
      "R[write to console]: boundary (singular) fit: see ?isSingular\n",
      "\n",
      "R[write to console]: boundary (singular) fit: see ?isSingular\n",
      "\n",
      "R[write to console]: boundary (singular) fit: see ?isSingular\n",
      "\n",
      "R[write to console]: boundary (singular) fit: see ?isSingular\n",
      "\n"
     ]
    },
    {
     "name": "stdout",
     "output_type": "stream",
     "text": [
      "Done 1598 of 2500\n",
      "Done 1599 of 2500\n",
      "Done 1600 of 2500\n",
      "Done 1601 of 2500\n",
      "Done 1602 of 2500\n"
     ]
    },
    {
     "name": "stderr",
     "output_type": "stream",
     "text": [
      "R[write to console]: boundary (singular) fit: see ?isSingular\n",
      "\n",
      "R[write to console]: boundary (singular) fit: see ?isSingular\n",
      "\n",
      "R[write to console]: boundary (singular) fit: see ?isSingular\n",
      "\n",
      "R[write to console]: boundary (singular) fit: see ?isSingular\n",
      "\n"
     ]
    },
    {
     "name": "stdout",
     "output_type": "stream",
     "text": [
      "Done 1603 of 2500\n",
      "Done 1604 of 2500\n",
      "Done 1605 of 2500\n",
      "Done 1606 of 2500\n",
      "Done 1607 of 2500\n"
     ]
    },
    {
     "name": "stderr",
     "output_type": "stream",
     "text": [
      "R[write to console]: boundary (singular) fit: see ?isSingular\n",
      "\n",
      "R[write to console]: boundary (singular) fit: see ?isSingular\n",
      "\n",
      "R[write to console]: boundary (singular) fit: see ?isSingular\n",
      "\n",
      "R[write to console]: boundary (singular) fit: see ?isSingular\n",
      "\n",
      "R[write to console]: boundary (singular) fit: see ?isSingular\n",
      "\n"
     ]
    },
    {
     "name": "stdout",
     "output_type": "stream",
     "text": [
      "Done 1608 of 2500\n",
      "Done 1609 of 2500\n",
      "Done 1610 of 2500\n",
      "Done 1611 of 2500\n"
     ]
    },
    {
     "name": "stderr",
     "output_type": "stream",
     "text": [
      "R[write to console]: boundary (singular) fit: see ?isSingular\n",
      "\n",
      "R[write to console]: boundary (singular) fit: see ?isSingular\n",
      "\n",
      "R[write to console]: boundary (singular) fit: see ?isSingular\n",
      "\n"
     ]
    },
    {
     "name": "stdout",
     "output_type": "stream",
     "text": [
      "Done 1612 of 2500\n",
      "Done 1613 of 2500\n",
      "Done 1614 of 2500\n",
      "Done 1615 of 2500\n",
      "Done 1616 of 2500\n"
     ]
    },
    {
     "name": "stderr",
     "output_type": "stream",
     "text": [
      "R[write to console]: boundary (singular) fit: see ?isSingular\n",
      "\n",
      "R[write to console]: boundary (singular) fit: see ?isSingular\n",
      "\n",
      "R[write to console]: boundary (singular) fit: see ?isSingular\n",
      "\n",
      "R[write to console]: boundary (singular) fit: see ?isSingular\n",
      "\n"
     ]
    },
    {
     "name": "stdout",
     "output_type": "stream",
     "text": [
      "Done 1617 of 2500\n",
      "Done 1618 of 2500\n",
      "Done 1619 of 2500\n",
      "Done 1620 of 2500\n"
     ]
    },
    {
     "name": "stderr",
     "output_type": "stream",
     "text": [
      "R[write to console]: boundary (singular) fit: see ?isSingular\n",
      "\n",
      "R[write to console]: boundary (singular) fit: see ?isSingular\n",
      "\n"
     ]
    },
    {
     "name": "stdout",
     "output_type": "stream",
     "text": [
      "Done 1621 of 2500\n",
      "Done 1622 of 2500\n",
      "Done 1623 of 2500\n",
      "Done 1624 of 2500\n",
      "Done 1625 of 2500\n"
     ]
    },
    {
     "name": "stderr",
     "output_type": "stream",
     "text": [
      "R[write to console]: boundary (singular) fit: see ?isSingular\n",
      "\n"
     ]
    },
    {
     "name": "stdout",
     "output_type": "stream",
     "text": [
      "Done 1626 of 2500\n",
      "Done 1627 of 2500\n",
      "Done 1628 of 2500\n",
      "Done 1629 of 2500\n",
      "Done 1630 of 2500\n"
     ]
    },
    {
     "name": "stderr",
     "output_type": "stream",
     "text": [
      "R[write to console]: boundary (singular) fit: see ?isSingular\n",
      "\n",
      "R[write to console]: boundary (singular) fit: see ?isSingular\n",
      "\n"
     ]
    },
    {
     "name": "stdout",
     "output_type": "stream",
     "text": [
      "Done 1631 of 2500\n",
      "Done 1632 of 2500\n",
      "Done 1633 of 2500\n",
      "Done 1634 of 2500\n",
      "Done 1635 of 2500\n"
     ]
    },
    {
     "name": "stderr",
     "output_type": "stream",
     "text": [
      "R[write to console]: boundary (singular) fit: see ?isSingular\n",
      "\n",
      "R[write to console]: boundary (singular) fit: see ?isSingular\n",
      "\n",
      "R[write to console]: boundary (singular) fit: see ?isSingular\n",
      "\n"
     ]
    },
    {
     "name": "stdout",
     "output_type": "stream",
     "text": [
      "Done 1636 of 2500\n",
      "Done 1637 of 2500\n",
      "Done 1638 of 2500\n",
      "Done 1639 of 2500\n",
      "Done 1640 of 2500\n"
     ]
    },
    {
     "name": "stderr",
     "output_type": "stream",
     "text": [
      "R[write to console]: boundary (singular) fit: see ?isSingular\n",
      "\n",
      "R[write to console]: boundary (singular) fit: see ?isSingular\n",
      "\n",
      "R[write to console]: boundary (singular) fit: see ?isSingular\n",
      "\n"
     ]
    },
    {
     "name": "stdout",
     "output_type": "stream",
     "text": [
      "Done 1641 of 2500\n",
      "Done 1642 of 2500\n",
      "Done 1643 of 2500\n",
      "Done 1644 of 2500\n"
     ]
    },
    {
     "name": "stderr",
     "output_type": "stream",
     "text": [
      "R[write to console]: boundary (singular) fit: see ?isSingular\n",
      "\n",
      "R[write to console]: boundary (singular) fit: see ?isSingular\n",
      "\n",
      "R[write to console]: boundary (singular) fit: see ?isSingular\n",
      "\n"
     ]
    },
    {
     "name": "stdout",
     "output_type": "stream",
     "text": [
      "Done 1645 of 2500\n",
      "Done 1646 of 2500\n",
      "Done 1647 of 2500\n",
      "Done 1648 of 2500\n",
      "Done 1649 of 2500\n"
     ]
    },
    {
     "name": "stderr",
     "output_type": "stream",
     "text": [
      "R[write to console]: boundary (singular) fit: see ?isSingular\n",
      "\n",
      "R[write to console]: boundary (singular) fit: see ?isSingular\n",
      "\n",
      "R[write to console]: boundary (singular) fit: see ?isSingular\n",
      "\n",
      "R[write to console]: boundary (singular) fit: see ?isSingular\n",
      "\n",
      "R[write to console]: boundary (singular) fit: see ?isSingular\n",
      "\n"
     ]
    },
    {
     "name": "stdout",
     "output_type": "stream",
     "text": [
      "Done 1650 of 2500\n",
      "Done 1651 of 2500\n",
      "Done 1652 of 2500\n",
      "Done 1653 of 2500\n",
      "Done 1654 of 2500\n"
     ]
    },
    {
     "name": "stderr",
     "output_type": "stream",
     "text": [
      "R[write to console]: boundary (singular) fit: see ?isSingular\n",
      "\n",
      "R[write to console]: boundary (singular) fit: see ?isSingular\n",
      "\n",
      "R[write to console]: boundary (singular) fit: see ?isSingular\n",
      "\n"
     ]
    },
    {
     "name": "stdout",
     "output_type": "stream",
     "text": [
      "Done 1655 of 2500\n",
      "Done 1656 of 2500\n",
      "Done 1657 of 2500\n",
      "Done 1658 of 2500\n"
     ]
    },
    {
     "name": "stderr",
     "output_type": "stream",
     "text": [
      "R[write to console]: boundary (singular) fit: see ?isSingular\n",
      "\n"
     ]
    },
    {
     "name": "stdout",
     "output_type": "stream",
     "text": [
      "Done 1659 of 2500\n",
      "Done 1660 of 2500\n",
      "Done 1661 of 2500\n",
      "Done 1662 of 2500\n",
      "Done 1663 of 2500\n"
     ]
    },
    {
     "name": "stderr",
     "output_type": "stream",
     "text": [
      "R[write to console]: boundary (singular) fit: see ?isSingular\n",
      "\n",
      "R[write to console]: boundary (singular) fit: see ?isSingular\n",
      "\n",
      "R[write to console]: boundary (singular) fit: see ?isSingular\n",
      "\n"
     ]
    },
    {
     "name": "stdout",
     "output_type": "stream",
     "text": [
      "Done 1664 of 2500\n",
      "Done 1665 of 2500\n",
      "Done 1666 of 2500\n",
      "Done 1667 of 2500\n",
      "Done 1668 of 2500\n"
     ]
    },
    {
     "name": "stderr",
     "output_type": "stream",
     "text": [
      "R[write to console]: boundary (singular) fit: see ?isSingular\n",
      "\n",
      "R[write to console]: boundary (singular) fit: see ?isSingular\n",
      "\n"
     ]
    },
    {
     "name": "stdout",
     "output_type": "stream",
     "text": [
      "Done 1669 of 2500\n",
      "Done 1670 of 2500\n",
      "Done 1671 of 2500\n",
      "Done 1672 of 2500\n",
      "Done 1673 of 2500\n"
     ]
    },
    {
     "name": "stderr",
     "output_type": "stream",
     "text": [
      "R[write to console]: boundary (singular) fit: see ?isSingular\n",
      "\n",
      "R[write to console]: boundary (singular) fit: see ?isSingular\n",
      "\n",
      "R[write to console]: boundary (singular) fit: see ?isSingular\n",
      "\n",
      "R[write to console]: boundary (singular) fit: see ?isSingular\n",
      "\n"
     ]
    },
    {
     "name": "stdout",
     "output_type": "stream",
     "text": [
      "Done 1674 of 2500\n",
      "Done 1675 of 2500\n",
      "Done 1676 of 2500\n",
      "Done 1677 of 2500\n",
      "Done 1678 of 2500\n"
     ]
    },
    {
     "name": "stderr",
     "output_type": "stream",
     "text": [
      "R[write to console]: boundary (singular) fit: see ?isSingular\n",
      "\n",
      "R[write to console]: boundary (singular) fit: see ?isSingular\n",
      "\n",
      "R[write to console]: boundary (singular) fit: see ?isSingular\n",
      "\n"
     ]
    },
    {
     "name": "stdout",
     "output_type": "stream",
     "text": [
      "Done 1679 of 2500\n",
      "Done 1680 of 2500\n",
      "Done 1681 of 2500\n",
      "Done 1682 of 2500\n",
      "Done 1683 of 2500\n"
     ]
    },
    {
     "name": "stderr",
     "output_type": "stream",
     "text": [
      "R[write to console]: boundary (singular) fit: see ?isSingular\n",
      "\n",
      "R[write to console]: boundary (singular) fit: see ?isSingular\n",
      "\n"
     ]
    },
    {
     "name": "stdout",
     "output_type": "stream",
     "text": [
      "Done 1684 of 2500\n",
      "Done 1685 of 2500\n",
      "Done 1686 of 2500\n",
      "Done 1687 of 2500\n",
      "Done 1688 of 2500\n"
     ]
    },
    {
     "name": "stderr",
     "output_type": "stream",
     "text": [
      "R[write to console]: boundary (singular) fit: see ?isSingular\n",
      "\n",
      "R[write to console]: boundary (singular) fit: see ?isSingular\n",
      "\n",
      "R[write to console]: boundary (singular) fit: see ?isSingular\n",
      "\n",
      "R[write to console]: boundary (singular) fit: see ?isSingular\n",
      "\n",
      "R[write to console]: boundary (singular) fit: see ?isSingular\n",
      "\n"
     ]
    },
    {
     "name": "stdout",
     "output_type": "stream",
     "text": [
      "Done 1689 of 2500\n",
      "Done 1690 of 2500\n",
      "Done 1691 of 2500\n",
      "Done 1692 of 2500\n"
     ]
    },
    {
     "name": "stderr",
     "output_type": "stream",
     "text": [
      "R[write to console]: boundary (singular) fit: see ?isSingular\n",
      "\n"
     ]
    },
    {
     "name": "stdout",
     "output_type": "stream",
     "text": [
      "Done 1693 of 2500\n",
      "Done 1694 of 2500\n",
      "Done 1695 of 2500\n",
      "Done 1696 of 2500\n",
      "Done 1697 of 2500\n"
     ]
    },
    {
     "name": "stderr",
     "output_type": "stream",
     "text": [
      "R[write to console]: boundary (singular) fit: see ?isSingular\n",
      "\n",
      "R[write to console]: boundary (singular) fit: see ?isSingular\n",
      "\n"
     ]
    },
    {
     "name": "stdout",
     "output_type": "stream",
     "text": [
      "Done 1698 of 2500\n",
      "Done 1699 of 2500\n",
      "Done 1700 of 2500\n",
      "Done 1701 of 2500\n",
      "Done 1702 of 2500\n"
     ]
    },
    {
     "name": "stderr",
     "output_type": "stream",
     "text": [
      "R[write to console]: boundary (singular) fit: see ?isSingular\n",
      "\n",
      "R[write to console]: boundary (singular) fit: see ?isSingular\n",
      "\n"
     ]
    },
    {
     "name": "stdout",
     "output_type": "stream",
     "text": [
      "Done 1703 of 2500\n",
      "Done 1704 of 2500\n",
      "Done 1705 of 2500\n"
     ]
    },
    {
     "name": "stderr",
     "output_type": "stream",
     "text": [
      "R[write to console]: boundary (singular) fit: see ?isSingular\n",
      "\n",
      "R[write to console]: boundary (singular) fit: see ?isSingular\n",
      "\n",
      "R[write to console]: boundary (singular) fit: see ?isSingular\n",
      "\n"
     ]
    },
    {
     "name": "stdout",
     "output_type": "stream",
     "text": [
      "Done 1706 of 2500\n",
      "Done 1707 of 2500\n",
      "Done 1708 of 2500\n",
      "Done 1709 of 2500\n",
      "Done 1710 of 2500\n"
     ]
    },
    {
     "name": "stderr",
     "output_type": "stream",
     "text": [
      "R[write to console]: boundary (singular) fit: see ?isSingular\n",
      "\n",
      "R[write to console]: boundary (singular) fit: see ?isSingular\n",
      "\n",
      "R[write to console]: boundary (singular) fit: see ?isSingular\n",
      "\n",
      "R[write to console]: boundary (singular) fit: see ?isSingular\n",
      "\n",
      "R[write to console]: boundary (singular) fit: see ?isSingular\n",
      "\n"
     ]
    },
    {
     "name": "stdout",
     "output_type": "stream",
     "text": [
      "Done 1711 of 2500\n",
      "Done 1712 of 2500\n",
      "Done 1713 of 2500\n",
      "Done 1714 of 2500\n",
      "Done 1715 of 2500\n"
     ]
    },
    {
     "name": "stderr",
     "output_type": "stream",
     "text": [
      "R[write to console]: boundary (singular) fit: see ?isSingular\n",
      "\n",
      "R[write to console]: boundary (singular) fit: see ?isSingular\n",
      "\n",
      "R[write to console]: boundary (singular) fit: see ?isSingular\n",
      "\n",
      "R[write to console]: boundary (singular) fit: see ?isSingular\n",
      "\n"
     ]
    },
    {
     "name": "stdout",
     "output_type": "stream",
     "text": [
      "Done 1716 of 2500\n",
      "Done 1717 of 2500\n",
      "Done 1718 of 2500\n",
      "Done 1719 of 2500\n",
      "Done 1720 of 2500\n"
     ]
    },
    {
     "name": "stderr",
     "output_type": "stream",
     "text": [
      "R[write to console]: boundary (singular) fit: see ?isSingular\n",
      "\n"
     ]
    },
    {
     "name": "stdout",
     "output_type": "stream",
     "text": [
      "Done 1721 of 2500\n",
      "Done 1722 of 2500\n",
      "Done 1723 of 2500\n",
      "Done 1724 of 2500\n",
      "Done 1725 of 2500\n"
     ]
    },
    {
     "name": "stderr",
     "output_type": "stream",
     "text": [
      "R[write to console]: boundary (singular) fit: see ?isSingular\n",
      "\n"
     ]
    },
    {
     "name": "stdout",
     "output_type": "stream",
     "text": [
      "Done 1726 of 2500\n",
      "Done 1727 of 2500\n",
      "Done 1728 of 2500\n",
      "Done 1729 of 2500\n"
     ]
    },
    {
     "name": "stderr",
     "output_type": "stream",
     "text": [
      "R[write to console]: boundary (singular) fit: see ?isSingular\n",
      "\n",
      "R[write to console]: boundary (singular) fit: see ?isSingular\n",
      "\n",
      "R[write to console]: boundary (singular) fit: see ?isSingular\n",
      "\n",
      "R[write to console]: boundary (singular) fit: see ?isSingular\n",
      "\n"
     ]
    },
    {
     "name": "stdout",
     "output_type": "stream",
     "text": [
      "Done 1730 of 2500\n",
      "Done 1731 of 2500\n",
      "Done 1732 of 2500\n",
      "Done 1733 of 2500\n",
      "Done 1734 of 2500\n"
     ]
    },
    {
     "name": "stderr",
     "output_type": "stream",
     "text": [
      "R[write to console]: boundary (singular) fit: see ?isSingular\n",
      "\n",
      "R[write to console]: boundary (singular) fit: see ?isSingular\n",
      "\n"
     ]
    },
    {
     "name": "stdout",
     "output_type": "stream",
     "text": [
      "Done 1735 of 2500\n",
      "Done 1736 of 2500\n",
      "Done 1737 of 2500\n",
      "Done 1738 of 2500\n"
     ]
    },
    {
     "name": "stderr",
     "output_type": "stream",
     "text": [
      "R[write to console]: boundary (singular) fit: see ?isSingular\n",
      "\n",
      "R[write to console]: boundary (singular) fit: see ?isSingular\n",
      "\n",
      "R[write to console]: boundary (singular) fit: see ?isSingular\n",
      "\n",
      "R[write to console]: boundary (singular) fit: see ?isSingular\n",
      "\n"
     ]
    },
    {
     "name": "stdout",
     "output_type": "stream",
     "text": [
      "Done 1739 of 2500\n",
      "Done 1740 of 2500\n",
      "Done 1741 of 2500\n",
      "Done 1742 of 2500\n",
      "Done 1743 of 2500\n"
     ]
    },
    {
     "name": "stderr",
     "output_type": "stream",
     "text": [
      "R[write to console]: boundary (singular) fit: see ?isSingular\n",
      "\n",
      "R[write to console]: boundary (singular) fit: see ?isSingular\n",
      "\n",
      "R[write to console]: boundary (singular) fit: see ?isSingular\n",
      "\n"
     ]
    },
    {
     "name": "stdout",
     "output_type": "stream",
     "text": [
      "Done 1744 of 2500\n",
      "Done 1745 of 2500\n",
      "Done 1746 of 2500\n",
      "Done 1747 of 2500\n",
      "Done 1748 of 2500\n"
     ]
    },
    {
     "name": "stderr",
     "output_type": "stream",
     "text": [
      "R[write to console]: boundary (singular) fit: see ?isSingular\n",
      "\n",
      "R[write to console]: boundary (singular) fit: see ?isSingular\n",
      "\n",
      "R[write to console]: boundary (singular) fit: see ?isSingular\n",
      "\n",
      "R[write to console]: boundary (singular) fit: see ?isSingular\n",
      "\n",
      "R[write to console]: boundary (singular) fit: see ?isSingular\n",
      "\n"
     ]
    },
    {
     "name": "stdout",
     "output_type": "stream",
     "text": [
      "Done 1749 of 2500\n",
      "Done 1750 of 2500\n",
      "Done 1751 of 2500\n",
      "Done 1752 of 2500\n"
     ]
    },
    {
     "name": "stderr",
     "output_type": "stream",
     "text": [
      "R[write to console]: boundary (singular) fit: see ?isSingular\n",
      "\n",
      "R[write to console]: boundary (singular) fit: see ?isSingular\n",
      "\n"
     ]
    },
    {
     "name": "stdout",
     "output_type": "stream",
     "text": [
      "Done 1753 of 2500\n",
      "Done 1754 of 2500\n",
      "Done 1755 of 2500\n",
      "Done 1756 of 2500\n",
      "Done 1757 of 2500\n"
     ]
    },
    {
     "name": "stderr",
     "output_type": "stream",
     "text": [
      "R[write to console]: boundary (singular) fit: see ?isSingular\n",
      "\n",
      "R[write to console]: boundary (singular) fit: see ?isSingular\n",
      "\n",
      "R[write to console]: boundary (singular) fit: see ?isSingular\n",
      "\n",
      "R[write to console]: boundary (singular) fit: see ?isSingular\n",
      "\n",
      "R[write to console]: boundary (singular) fit: see ?isSingular\n",
      "\n"
     ]
    },
    {
     "name": "stdout",
     "output_type": "stream",
     "text": [
      "Done 1758 of 2500\n",
      "Done 1759 of 2500\n",
      "Done 1760 of 2500\n",
      "Done 1761 of 2500\n"
     ]
    },
    {
     "name": "stderr",
     "output_type": "stream",
     "text": [
      "R[write to console]: boundary (singular) fit: see ?isSingular\n",
      "\n",
      "R[write to console]: boundary (singular) fit: see ?isSingular\n",
      "\n",
      "R[write to console]: boundary (singular) fit: see ?isSingular\n",
      "\n"
     ]
    },
    {
     "name": "stdout",
     "output_type": "stream",
     "text": [
      "Done 1762 of 2500\n",
      "Done 1763 of 2500\n",
      "Done 1764 of 2500\n",
      "Done 1765 of 2500\n",
      "Done 1766 of 2500\n"
     ]
    },
    {
     "name": "stderr",
     "output_type": "stream",
     "text": [
      "R[write to console]: boundary (singular) fit: see ?isSingular\n",
      "\n"
     ]
    },
    {
     "name": "stdout",
     "output_type": "stream",
     "text": [
      "Done 1767 of 2500\n",
      "Done 1768 of 2500\n",
      "Done 1769 of 2500\n",
      "Done 1770 of 2500\n",
      "Done 1771 of 2500\n"
     ]
    },
    {
     "name": "stderr",
     "output_type": "stream",
     "text": [
      "R[write to console]: boundary (singular) fit: see ?isSingular\n",
      "\n",
      "R[write to console]: boundary (singular) fit: see ?isSingular\n",
      "\n"
     ]
    },
    {
     "name": "stdout",
     "output_type": "stream",
     "text": [
      "Done 1772 of 2500\n",
      "Done 1773 of 2500\n",
      "Done 1774 of 2500\n",
      "Done 1775 of 2500\n"
     ]
    },
    {
     "name": "stderr",
     "output_type": "stream",
     "text": [
      "R[write to console]: boundary (singular) fit: see ?isSingular\n",
      "\n",
      "R[write to console]: boundary (singular) fit: see ?isSingular\n",
      "\n",
      "R[write to console]: boundary (singular) fit: see ?isSingular\n",
      "\n"
     ]
    },
    {
     "name": "stdout",
     "output_type": "stream",
     "text": [
      "Done 1776 of 2500\n",
      "Done 1777 of 2500\n",
      "Done 1778 of 2500\n",
      "Done 1779 of 2500\n",
      "Done 1780 of 2500\n"
     ]
    },
    {
     "name": "stderr",
     "output_type": "stream",
     "text": [
      "R[write to console]: boundary (singular) fit: see ?isSingular\n",
      "\n",
      "R[write to console]: boundary (singular) fit: see ?isSingular\n",
      "\n"
     ]
    },
    {
     "name": "stdout",
     "output_type": "stream",
     "text": [
      "Done 1781 of 2500\n",
      "Done 1782 of 2500\n",
      "Done 1783 of 2500\n",
      "Done 1784 of 2500\n",
      "Done 1785 of 2500\n"
     ]
    },
    {
     "name": "stderr",
     "output_type": "stream",
     "text": [
      "R[write to console]: boundary (singular) fit: see ?isSingular\n",
      "\n",
      "R[write to console]: boundary (singular) fit: see ?isSingular\n",
      "\n",
      "R[write to console]: boundary (singular) fit: see ?isSingular\n",
      "\n",
      "R[write to console]: boundary (singular) fit: see ?isSingular\n",
      "\n"
     ]
    },
    {
     "name": "stdout",
     "output_type": "stream",
     "text": [
      "Done 1786 of 2500\n",
      "Done 1787 of 2500\n",
      "Done 1788 of 2500\n",
      "Done 1789 of 2500\n",
      "Done 1790 of 2500\n"
     ]
    },
    {
     "name": "stderr",
     "output_type": "stream",
     "text": [
      "R[write to console]: boundary (singular) fit: see ?isSingular\n",
      "\n",
      "R[write to console]: boundary (singular) fit: see ?isSingular\n",
      "\n",
      "R[write to console]: boundary (singular) fit: see ?isSingular\n",
      "\n",
      "R[write to console]: boundary (singular) fit: see ?isSingular\n",
      "\n"
     ]
    },
    {
     "name": "stdout",
     "output_type": "stream",
     "text": [
      "Done 1791 of 2500\n",
      "Done 1792 of 2500\n",
      "Done 1793 of 2500\n",
      "Done 1794 of 2500\n",
      "Done 1795 of 2500\n"
     ]
    },
    {
     "name": "stderr",
     "output_type": "stream",
     "text": [
      "R[write to console]: boundary (singular) fit: see ?isSingular\n",
      "\n",
      "R[write to console]: boundary (singular) fit: see ?isSingular\n",
      "\n"
     ]
    },
    {
     "name": "stdout",
     "output_type": "stream",
     "text": [
      "Done 1796 of 2500\n",
      "Done 1797 of 2500\n",
      "Done 1798 of 2500\n",
      "Done 1799 of 2500\n"
     ]
    },
    {
     "name": "stderr",
     "output_type": "stream",
     "text": [
      "R[write to console]: boundary (singular) fit: see ?isSingular\n",
      "\n",
      "R[write to console]: boundary (singular) fit: see ?isSingular\n",
      "\n",
      "R[write to console]: boundary (singular) fit: see ?isSingular\n",
      "\n"
     ]
    },
    {
     "name": "stdout",
     "output_type": "stream",
     "text": [
      "Done 1800 of 2500\n",
      "Done 1801 of 2500\n",
      "Done 1802 of 2500\n",
      "Done 1803 of 2500\n",
      "Done 1804 of 2500\n"
     ]
    },
    {
     "name": "stderr",
     "output_type": "stream",
     "text": [
      "R[write to console]: boundary (singular) fit: see ?isSingular\n",
      "\n",
      "R[write to console]: boundary (singular) fit: see ?isSingular\n",
      "\n",
      "R[write to console]: boundary (singular) fit: see ?isSingular\n",
      "\n",
      "R[write to console]: boundary (singular) fit: see ?isSingular\n",
      "\n"
     ]
    },
    {
     "name": "stdout",
     "output_type": "stream",
     "text": [
      "Done 1805 of 2500\n",
      "Done 1806 of 2500\n",
      "Done 1807 of 2500\n",
      "Done 1808 of 2500\n"
     ]
    },
    {
     "name": "stderr",
     "output_type": "stream",
     "text": [
      "R[write to console]: boundary (singular) fit: see ?isSingular\n",
      "\n",
      "R[write to console]: boundary (singular) fit: see ?isSingular\n",
      "\n"
     ]
    },
    {
     "name": "stdout",
     "output_type": "stream",
     "text": [
      "Done 1809 of 2500\n",
      "Done 1810 of 2500\n",
      "Done 1811 of 2500\n",
      "Done 1812 of 2500\n",
      "Done 1813 of 2500\n"
     ]
    },
    {
     "name": "stderr",
     "output_type": "stream",
     "text": [
      "R[write to console]: boundary (singular) fit: see ?isSingular\n",
      "\n",
      "R[write to console]: boundary (singular) fit: see ?isSingular\n",
      "\n",
      "R[write to console]: boundary (singular) fit: see ?isSingular\n",
      "\n"
     ]
    },
    {
     "name": "stdout",
     "output_type": "stream",
     "text": [
      "Done 1814 of 2500\n",
      "Done 1815 of 2500\n",
      "Done 1816 of 2500\n",
      "Done 1817 of 2500\n",
      "Done 1818 of 2500\n"
     ]
    },
    {
     "name": "stderr",
     "output_type": "stream",
     "text": [
      "R[write to console]: boundary (singular) fit: see ?isSingular\n",
      "\n",
      "R[write to console]: boundary (singular) fit: see ?isSingular\n",
      "\n",
      "R[write to console]: boundary (singular) fit: see ?isSingular\n",
      "\n",
      "R[write to console]: boundary (singular) fit: see ?isSingular\n",
      "\n"
     ]
    },
    {
     "name": "stdout",
     "output_type": "stream",
     "text": [
      "Done 1819 of 2500\n",
      "Done 1820 of 2500\n",
      "Done 1821 of 2500\n",
      "Done 1822 of 2500\n"
     ]
    },
    {
     "name": "stderr",
     "output_type": "stream",
     "text": [
      "R[write to console]: boundary (singular) fit: see ?isSingular\n",
      "\n",
      "R[write to console]: boundary (singular) fit: see ?isSingular\n",
      "\n"
     ]
    },
    {
     "name": "stdout",
     "output_type": "stream",
     "text": [
      "Done 1823 of 2500\n",
      "Done 1824 of 2500\n",
      "Done 1825 of 2500\n",
      "Done 1826 of 2500\n",
      "Done 1827 of 2500\n"
     ]
    },
    {
     "name": "stderr",
     "output_type": "stream",
     "text": [
      "R[write to console]: boundary (singular) fit: see ?isSingular\n",
      "\n",
      "R[write to console]: boundary (singular) fit: see ?isSingular\n",
      "\n",
      "R[write to console]: boundary (singular) fit: see ?isSingular\n",
      "\n",
      "R[write to console]: boundary (singular) fit: see ?isSingular\n",
      "\n"
     ]
    },
    {
     "name": "stdout",
     "output_type": "stream",
     "text": [
      "Done 1828 of 2500\n",
      "Done 1829 of 2500\n",
      "Done 1830 of 2500\n",
      "Done 1831 of 2500\n"
     ]
    },
    {
     "name": "stderr",
     "output_type": "stream",
     "text": [
      "R[write to console]: boundary (singular) fit: see ?isSingular\n",
      "\n",
      "R[write to console]: boundary (singular) fit: see ?isSingular\n",
      "\n"
     ]
    },
    {
     "name": "stdout",
     "output_type": "stream",
     "text": [
      "Done 1832 of 2500\n",
      "Done 1833 of 2500\n",
      "Done 1834 of 2500\n",
      "Done 1835 of 2500\n",
      "Done 1836 of 2500\n"
     ]
    },
    {
     "name": "stderr",
     "output_type": "stream",
     "text": [
      "R[write to console]: boundary (singular) fit: see ?isSingular\n",
      "\n",
      "R[write to console]: boundary (singular) fit: see ?isSingular\n",
      "\n",
      "R[write to console]: boundary (singular) fit: see ?isSingular\n",
      "\n"
     ]
    },
    {
     "name": "stdout",
     "output_type": "stream",
     "text": [
      "Done 1837 of 2500\n",
      "Done 1838 of 2500\n",
      "Done 1839 of 2500\n",
      "Done 1840 of 2500\n",
      "Done 1841 of 2500\n",
      "Done 1842 of 2500\n",
      "Done 1843 of 2500\n"
     ]
    },
    {
     "name": "stderr",
     "output_type": "stream",
     "text": [
      "R[write to console]: boundary (singular) fit: see ?isSingular\n",
      "\n",
      "R[write to console]: boundary (singular) fit: see ?isSingular\n",
      "\n",
      "R[write to console]: boundary (singular) fit: see ?isSingular\n",
      "\n",
      "R[write to console]: boundary (singular) fit: see ?isSingular\n",
      "\n"
     ]
    },
    {
     "name": "stdout",
     "output_type": "stream",
     "text": [
      "Done 1844 of 2500\n",
      "Done 1845 of 2500\n",
      "Done 1846 of 2500\n",
      "Done 1847 of 2500\n",
      "Done 1848 of 2500\n"
     ]
    },
    {
     "name": "stderr",
     "output_type": "stream",
     "text": [
      "R[write to console]: boundary (singular) fit: see ?isSingular\n",
      "\n",
      "R[write to console]: boundary (singular) fit: see ?isSingular\n",
      "\n",
      "R[write to console]: boundary (singular) fit: see ?isSingular\n",
      "\n"
     ]
    },
    {
     "name": "stdout",
     "output_type": "stream",
     "text": [
      "Done 1849 of 2500\n",
      "Done 1850 of 2500\n",
      "Done 1851 of 2500\n",
      "Done 1852 of 2500\n"
     ]
    },
    {
     "name": "stderr",
     "output_type": "stream",
     "text": [
      "R[write to console]: boundary (singular) fit: see ?isSingular\n",
      "\n",
      "R[write to console]: boundary (singular) fit: see ?isSingular\n",
      "\n",
      "R[write to console]: boundary (singular) fit: see ?isSingular\n",
      "\n"
     ]
    },
    {
     "name": "stdout",
     "output_type": "stream",
     "text": [
      "Done 1853 of 2500\n",
      "Done 1854 of 2500\n",
      "Done 1855 of 2500\n",
      "Done 1856 of 2500\n",
      "Done 1857 of 2500\n"
     ]
    },
    {
     "name": "stderr",
     "output_type": "stream",
     "text": [
      "R[write to console]: boundary (singular) fit: see ?isSingular\n",
      "\n",
      "R[write to console]: boundary (singular) fit: see ?isSingular\n",
      "\n",
      "R[write to console]: boundary (singular) fit: see ?isSingular\n",
      "\n",
      "R[write to console]: boundary (singular) fit: see ?isSingular\n",
      "\n"
     ]
    },
    {
     "name": "stdout",
     "output_type": "stream",
     "text": [
      "Done 1858 of 2500\n",
      "Done 1859 of 2500\n",
      "Done 1860 of 2500\n",
      "Done 1861 of 2500\n",
      "Done 1862 of 2500\n"
     ]
    },
    {
     "name": "stderr",
     "output_type": "stream",
     "text": [
      "R[write to console]: boundary (singular) fit: see ?isSingular\n",
      "\n",
      "R[write to console]: boundary (singular) fit: see ?isSingular\n",
      "\n",
      "R[write to console]: boundary (singular) fit: see ?isSingular\n",
      "\n"
     ]
    },
    {
     "name": "stdout",
     "output_type": "stream",
     "text": [
      "Done 1863 of 2500\n",
      "Done 1864 of 2500\n",
      "Done 1865 of 2500\n",
      "Done 1866 of 2500\n",
      "Done 1867 of 2500\n"
     ]
    },
    {
     "name": "stderr",
     "output_type": "stream",
     "text": [
      "R[write to console]: boundary (singular) fit: see ?isSingular\n",
      "\n",
      "R[write to console]: boundary (singular) fit: see ?isSingular\n",
      "\n",
      "R[write to console]: boundary (singular) fit: see ?isSingular\n",
      "\n",
      "R[write to console]: boundary (singular) fit: see ?isSingular\n",
      "\n"
     ]
    },
    {
     "name": "stdout",
     "output_type": "stream",
     "text": [
      "Done 1868 of 2500\n",
      "Done 1869 of 2500\n",
      "Done 1870 of 2500\n",
      "Done 1871 of 2500\n",
      "Done 1872 of 2500\n"
     ]
    },
    {
     "name": "stderr",
     "output_type": "stream",
     "text": [
      "R[write to console]: boundary (singular) fit: see ?isSingular\n",
      "\n",
      "R[write to console]: boundary (singular) fit: see ?isSingular\n",
      "\n",
      "R[write to console]: boundary (singular) fit: see ?isSingular\n",
      "\n"
     ]
    },
    {
     "name": "stdout",
     "output_type": "stream",
     "text": [
      "Done 1873 of 2500\n",
      "Done 1874 of 2500\n",
      "Done 1875 of 2500\n",
      "Done 1876 of 2500\n",
      "Done 1877 of 2500\n"
     ]
    },
    {
     "name": "stderr",
     "output_type": "stream",
     "text": [
      "R[write to console]: boundary (singular) fit: see ?isSingular\n",
      "\n",
      "R[write to console]: boundary (singular) fit: see ?isSingular\n",
      "\n",
      "R[write to console]: boundary (singular) fit: see ?isSingular\n",
      "\n",
      "R[write to console]: boundary (singular) fit: see ?isSingular\n",
      "\n"
     ]
    },
    {
     "name": "stdout",
     "output_type": "stream",
     "text": [
      "Done 1878 of 2500\n",
      "Done 1879 of 2500\n",
      "Done 1880 of 2500\n",
      "Done 1881 of 2500\n",
      "Done 1882 of 2500\n"
     ]
    },
    {
     "name": "stderr",
     "output_type": "stream",
     "text": [
      "R[write to console]: boundary (singular) fit: see ?isSingular\n",
      "\n",
      "R[write to console]: boundary (singular) fit: see ?isSingular\n",
      "\n",
      "R[write to console]: boundary (singular) fit: see ?isSingular\n",
      "\n",
      "R[write to console]: boundary (singular) fit: see ?isSingular\n",
      "\n",
      "R[write to console]: boundary (singular) fit: see ?isSingular\n",
      "\n"
     ]
    },
    {
     "name": "stdout",
     "output_type": "stream",
     "text": [
      "Done 1883 of 2500\n",
      "Done 1884 of 2500\n",
      "Done 1885 of 2500\n",
      "Done 1886 of 2500\n",
      "Done 1887 of 2500\n"
     ]
    },
    {
     "name": "stderr",
     "output_type": "stream",
     "text": [
      "R[write to console]: boundary (singular) fit: see ?isSingular\n",
      "\n",
      "R[write to console]: boundary (singular) fit: see ?isSingular\n",
      "\n"
     ]
    },
    {
     "name": "stdout",
     "output_type": "stream",
     "text": [
      "Done 1888 of 2500\n",
      "Done 1889 of 2500\n",
      "Done 1890 of 2500\n",
      "Done 1891 of 2500\n",
      "Done 1892 of 2500\n"
     ]
    },
    {
     "name": "stderr",
     "output_type": "stream",
     "text": [
      "R[write to console]: boundary (singular) fit: see ?isSingular\n",
      "\n",
      "R[write to console]: boundary (singular) fit: see ?isSingular\n",
      "\n",
      "R[write to console]: boundary (singular) fit: see ?isSingular\n",
      "\n"
     ]
    },
    {
     "name": "stdout",
     "output_type": "stream",
     "text": [
      "Done 1893 of 2500\n",
      "Done 1894 of 2500\n",
      "Done 1895 of 2500\n",
      "Done 1896 of 2500\n",
      "Done 1897 of 2500\n"
     ]
    },
    {
     "name": "stderr",
     "output_type": "stream",
     "text": [
      "R[write to console]: boundary (singular) fit: see ?isSingular\n",
      "\n",
      "R[write to console]: boundary (singular) fit: see ?isSingular\n",
      "\n",
      "R[write to console]: boundary (singular) fit: see ?isSingular\n",
      "\n"
     ]
    },
    {
     "name": "stdout",
     "output_type": "stream",
     "text": [
      "Done 1898 of 2500\n",
      "Done 1899 of 2500\n",
      "Done 1900 of 2500\n",
      "Done 1901 of 2500\n",
      "Done 1902 of 2500\n"
     ]
    },
    {
     "name": "stderr",
     "output_type": "stream",
     "text": [
      "R[write to console]: boundary (singular) fit: see ?isSingular\n",
      "\n"
     ]
    },
    {
     "name": "stdout",
     "output_type": "stream",
     "text": [
      "Done 1903 of 2500\n",
      "Done 1904 of 2500\n",
      "Done 1905 of 2500\n",
      "Done 1906 of 2500\n",
      "Done 1907 of 2500\n"
     ]
    },
    {
     "name": "stderr",
     "output_type": "stream",
     "text": [
      "R[write to console]: boundary (singular) fit: see ?isSingular\n",
      "\n",
      "R[write to console]: boundary (singular) fit: see ?isSingular\n",
      "\n",
      "R[write to console]: boundary (singular) fit: see ?isSingular\n",
      "\n"
     ]
    },
    {
     "name": "stdout",
     "output_type": "stream",
     "text": [
      "Done 1908 of 2500\n",
      "Done 1909 of 2500\n",
      "Done 1910 of 2500\n",
      "Done 1911 of 2500\n",
      "Done 1912 of 2500\n"
     ]
    },
    {
     "name": "stderr",
     "output_type": "stream",
     "text": [
      "R[write to console]: boundary (singular) fit: see ?isSingular\n",
      "\n",
      "R[write to console]: boundary (singular) fit: see ?isSingular\n",
      "\n"
     ]
    },
    {
     "name": "stdout",
     "output_type": "stream",
     "text": [
      "Done 1913 of 2500\n",
      "Done 1914 of 2500\n",
      "Done 1915 of 2500\n",
      "Done 1916 of 2500\n",
      "Done 1917 of 2500\n"
     ]
    },
    {
     "name": "stderr",
     "output_type": "stream",
     "text": [
      "R[write to console]: boundary (singular) fit: see ?isSingular\n",
      "\n",
      "R[write to console]: boundary (singular) fit: see ?isSingular\n",
      "\n",
      "R[write to console]: boundary (singular) fit: see ?isSingular\n",
      "\n"
     ]
    },
    {
     "name": "stdout",
     "output_type": "stream",
     "text": [
      "Done 1918 of 2500\n",
      "Done 1919 of 2500\n",
      "Done 1920 of 2500\n",
      "Done 1921 of 2500\n",
      "Done 1922 of 2500\n"
     ]
    },
    {
     "name": "stderr",
     "output_type": "stream",
     "text": [
      "R[write to console]: boundary (singular) fit: see ?isSingular\n",
      "\n",
      "R[write to console]: boundary (singular) fit: see ?isSingular\n",
      "\n",
      "R[write to console]: boundary (singular) fit: see ?isSingular\n",
      "\n"
     ]
    },
    {
     "name": "stdout",
     "output_type": "stream",
     "text": [
      "Done 1923 of 2500\n",
      "Done 1924 of 2500\n",
      "Done 1925 of 2500\n",
      "Done 1926 of 2500\n"
     ]
    },
    {
     "name": "stderr",
     "output_type": "stream",
     "text": [
      "R[write to console]: boundary (singular) fit: see ?isSingular\n",
      "\n",
      "R[write to console]: boundary (singular) fit: see ?isSingular\n",
      "\n"
     ]
    },
    {
     "name": "stdout",
     "output_type": "stream",
     "text": [
      "Done 1927 of 2500\n",
      "Done 1928 of 2500\n",
      "Done 1929 of 2500\n",
      "Done 1930 of 2500\n",
      "Done 1931 of 2500\n"
     ]
    },
    {
     "name": "stderr",
     "output_type": "stream",
     "text": [
      "R[write to console]: boundary (singular) fit: see ?isSingular\n",
      "\n",
      "R[write to console]: boundary (singular) fit: see ?isSingular\n",
      "\n",
      "R[write to console]: boundary (singular) fit: see ?isSingular\n",
      "\n"
     ]
    },
    {
     "name": "stdout",
     "output_type": "stream",
     "text": [
      "Done 1932 of 2500\n",
      "Done 1933 of 2500\n",
      "Done 1934 of 2500\n",
      "Done 1935 of 2500\n"
     ]
    },
    {
     "name": "stderr",
     "output_type": "stream",
     "text": [
      "R[write to console]: boundary (singular) fit: see ?isSingular\n",
      "\n",
      "R[write to console]: boundary (singular) fit: see ?isSingular\n",
      "\n",
      "R[write to console]: boundary (singular) fit: see ?isSingular\n",
      "\n"
     ]
    },
    {
     "name": "stdout",
     "output_type": "stream",
     "text": [
      "Done 1936 of 2500\n",
      "Done 1937 of 2500\n",
      "Done 1938 of 2500\n",
      "Done 1939 of 2500\n"
     ]
    },
    {
     "name": "stderr",
     "output_type": "stream",
     "text": [
      "R[write to console]: boundary (singular) fit: see ?isSingular\n",
      "\n"
     ]
    },
    {
     "name": "stdout",
     "output_type": "stream",
     "text": [
      "Done 1940 of 2500\n",
      "Done 1941 of 2500\n",
      "Done 1942 of 2500\n",
      "Done 1943 of 2500\n"
     ]
    },
    {
     "name": "stderr",
     "output_type": "stream",
     "text": [
      "R[write to console]: boundary (singular) fit: see ?isSingular\n",
      "\n",
      "R[write to console]: boundary (singular) fit: see ?isSingular\n",
      "\n",
      "R[write to console]: boundary (singular) fit: see ?isSingular\n",
      "\n",
      "R[write to console]: boundary (singular) fit: see ?isSingular\n",
      "\n"
     ]
    },
    {
     "name": "stdout",
     "output_type": "stream",
     "text": [
      "Done 1944 of 2500\n",
      "Done 1945 of 2500\n",
      "Done 1946 of 2500\n",
      "Done 1947 of 2500\n",
      "Done 1948 of 2500\n"
     ]
    },
    {
     "name": "stderr",
     "output_type": "stream",
     "text": [
      "R[write to console]: boundary (singular) fit: see ?isSingular\n",
      "\n",
      "R[write to console]: boundary (singular) fit: see ?isSingular\n",
      "\n"
     ]
    },
    {
     "name": "stdout",
     "output_type": "stream",
     "text": [
      "Done 1949 of 2500\n",
      "Done 1950 of 2500\n",
      "Done 1951 of 2500\n",
      "Done 1952 of 2500\n",
      "Done 1953 of 2500\n"
     ]
    },
    {
     "name": "stderr",
     "output_type": "stream",
     "text": [
      "R[write to console]: boundary (singular) fit: see ?isSingular\n",
      "\n"
     ]
    },
    {
     "name": "stdout",
     "output_type": "stream",
     "text": [
      "Done 1954 of 2500\n",
      "Done 1955 of 2500\n",
      "Done 1956 of 2500\n",
      "Done 1957 of 2500\n",
      "Done 1958 of 2500\n"
     ]
    },
    {
     "name": "stderr",
     "output_type": "stream",
     "text": [
      "R[write to console]: boundary (singular) fit: see ?isSingular\n",
      "\n",
      "R[write to console]: boundary (singular) fit: see ?isSingular\n",
      "\n",
      "R[write to console]: boundary (singular) fit: see ?isSingular\n",
      "\n"
     ]
    },
    {
     "name": "stdout",
     "output_type": "stream",
     "text": [
      "Done 1959 of 2500\n",
      "Done 1960 of 2500\n",
      "Done 1961 of 2500\n",
      "Done 1962 of 2500\n",
      "Done 1963 of 2500\n"
     ]
    },
    {
     "name": "stderr",
     "output_type": "stream",
     "text": [
      "R[write to console]: boundary (singular) fit: see ?isSingular\n",
      "\n"
     ]
    },
    {
     "name": "stdout",
     "output_type": "stream",
     "text": [
      "Done 1964 of 2500\n",
      "Done 1965 of 2500\n",
      "Done 1966 of 2500\n",
      "Done 1967 of 2500\n",
      "Done 1968 of 2500\n"
     ]
    },
    {
     "name": "stderr",
     "output_type": "stream",
     "text": [
      "R[write to console]: boundary (singular) fit: see ?isSingular\n",
      "\n",
      "R[write to console]: boundary (singular) fit: see ?isSingular\n",
      "\n",
      "R[write to console]: boundary (singular) fit: see ?isSingular\n",
      "\n",
      "R[write to console]: boundary (singular) fit: see ?isSingular\n",
      "\n"
     ]
    },
    {
     "name": "stdout",
     "output_type": "stream",
     "text": [
      "Done 1969 of 2500\n",
      "Done 1970 of 2500\n",
      "Done 1971 of 2500\n",
      "Done 1972 of 2500\n",
      "Done 1973 of 2500\n"
     ]
    },
    {
     "name": "stderr",
     "output_type": "stream",
     "text": [
      "R[write to console]: boundary (singular) fit: see ?isSingular\n",
      "\n",
      "R[write to console]: boundary (singular) fit: see ?isSingular\n",
      "\n",
      "R[write to console]: boundary (singular) fit: see ?isSingular\n",
      "\n"
     ]
    },
    {
     "name": "stdout",
     "output_type": "stream",
     "text": [
      "Done 1974 of 2500\n",
      "Done 1975 of 2500\n",
      "Done 1976 of 2500\n",
      "Done 1977 of 2500\n",
      "Done 1978 of 2500\n"
     ]
    },
    {
     "name": "stderr",
     "output_type": "stream",
     "text": [
      "R[write to console]: boundary (singular) fit: see ?isSingular\n",
      "\n",
      "R[write to console]: boundary (singular) fit: see ?isSingular\n",
      "\n",
      "R[write to console]: boundary (singular) fit: see ?isSingular\n",
      "\n",
      "R[write to console]: boundary (singular) fit: see ?isSingular\n",
      "\n"
     ]
    },
    {
     "name": "stdout",
     "output_type": "stream",
     "text": [
      "Done 1979 of 2500\n",
      "Done 1980 of 2500\n",
      "Done 1981 of 2500\n",
      "Done 1982 of 2500\n",
      "Done 1983 of 2500\n"
     ]
    },
    {
     "name": "stderr",
     "output_type": "stream",
     "text": [
      "R[write to console]: boundary (singular) fit: see ?isSingular\n",
      "\n",
      "R[write to console]: boundary (singular) fit: see ?isSingular\n",
      "\n",
      "R[write to console]: boundary (singular) fit: see ?isSingular\n",
      "\n"
     ]
    },
    {
     "name": "stdout",
     "output_type": "stream",
     "text": [
      "Done 1984 of 2500\n",
      "Done 1985 of 2500\n",
      "Done 1986 of 2500\n",
      "Done 1987 of 2500\n",
      "Done 1988 of 2500\n"
     ]
    },
    {
     "name": "stderr",
     "output_type": "stream",
     "text": [
      "R[write to console]: boundary (singular) fit: see ?isSingular\n",
      "\n",
      "R[write to console]: boundary (singular) fit: see ?isSingular\n",
      "\n"
     ]
    },
    {
     "name": "stdout",
     "output_type": "stream",
     "text": [
      "Done 1989 of 2500\n",
      "Done 1990 of 2500\n",
      "Done 1991 of 2500\n",
      "Done 1992 of 2500\n",
      "Done 1993 of 2500\n"
     ]
    },
    {
     "name": "stderr",
     "output_type": "stream",
     "text": [
      "R[write to console]: boundary (singular) fit: see ?isSingular\n",
      "\n",
      "R[write to console]: boundary (singular) fit: see ?isSingular\n",
      "\n"
     ]
    },
    {
     "name": "stdout",
     "output_type": "stream",
     "text": [
      "Done 1994 of 2500\n",
      "Done 1995 of 2500\n",
      "Done 1996 of 2500\n",
      "Done 1997 of 2500\n"
     ]
    },
    {
     "name": "stderr",
     "output_type": "stream",
     "text": [
      "R[write to console]: boundary (singular) fit: see ?isSingular\n",
      "\n",
      "R[write to console]: boundary (singular) fit: see ?isSingular\n",
      "\n",
      "R[write to console]: boundary (singular) fit: see ?isSingular\n",
      "\n"
     ]
    },
    {
     "name": "stdout",
     "output_type": "stream",
     "text": [
      "Done 1998 of 2500\n",
      "Done 1999 of 2500\n",
      "Done 2000 of 2500\n",
      "Done 2001 of 2500\n",
      "Done 2002 of 2500\n"
     ]
    },
    {
     "name": "stderr",
     "output_type": "stream",
     "text": [
      "R[write to console]: boundary (singular) fit: see ?isSingular\n",
      "\n",
      "R[write to console]: boundary (singular) fit: see ?isSingular\n",
      "\n",
      "R[write to console]: boundary (singular) fit: see ?isSingular\n",
      "\n"
     ]
    },
    {
     "name": "stdout",
     "output_type": "stream",
     "text": [
      "Done 2003 of 2500\n",
      "Done 2004 of 2500\n",
      "Done 2005 of 2500\n",
      "Done 2006 of 2500\n",
      "Done 2007 of 2500\n"
     ]
    },
    {
     "name": "stderr",
     "output_type": "stream",
     "text": [
      "R[write to console]: boundary (singular) fit: see ?isSingular\n",
      "\n",
      "R[write to console]: boundary (singular) fit: see ?isSingular\n",
      "\n",
      "R[write to console]: boundary (singular) fit: see ?isSingular\n",
      "\n"
     ]
    },
    {
     "name": "stdout",
     "output_type": "stream",
     "text": [
      "Done 2008 of 2500\n",
      "Done 2009 of 2500\n",
      "Done 2010 of 2500\n",
      "Done 2011 of 2500\n",
      "Done 2012 of 2500\n"
     ]
    },
    {
     "name": "stderr",
     "output_type": "stream",
     "text": [
      "R[write to console]: boundary (singular) fit: see ?isSingular\n",
      "\n",
      "R[write to console]: boundary (singular) fit: see ?isSingular\n",
      "\n"
     ]
    },
    {
     "name": "stdout",
     "output_type": "stream",
     "text": [
      "Done 2013 of 2500\n",
      "Done 2014 of 2500\n",
      "Done 2015 of 2500\n",
      "Done 2016 of 2500\n",
      "Done 2017 of 2500\n"
     ]
    },
    {
     "name": "stderr",
     "output_type": "stream",
     "text": [
      "R[write to console]: boundary (singular) fit: see ?isSingular\n",
      "\n"
     ]
    },
    {
     "name": "stdout",
     "output_type": "stream",
     "text": [
      "Done 2018 of 2500\n",
      "Done 2019 of 2500\n",
      "Done 2020 of 2500\n",
      "Done 2021 of 2500\n",
      "Done 2022 of 2500\n"
     ]
    },
    {
     "name": "stderr",
     "output_type": "stream",
     "text": [
      "R[write to console]: boundary (singular) fit: see ?isSingular\n",
      "\n",
      "R[write to console]: boundary (singular) fit: see ?isSingular\n",
      "\n",
      "R[write to console]: boundary (singular) fit: see ?isSingular\n",
      "\n"
     ]
    },
    {
     "name": "stdout",
     "output_type": "stream",
     "text": [
      "Done 2023 of 2500\n",
      "Done 2024 of 2500\n",
      "Done 2025 of 2500\n",
      "Done 2026 of 2500\n",
      "Done 2027 of 2500\n"
     ]
    },
    {
     "name": "stderr",
     "output_type": "stream",
     "text": [
      "R[write to console]: boundary (singular) fit: see ?isSingular\n",
      "\n",
      "R[write to console]: boundary (singular) fit: see ?isSingular\n",
      "\n",
      "R[write to console]: boundary (singular) fit: see ?isSingular\n",
      "\n",
      "R[write to console]: boundary (singular) fit: see ?isSingular\n",
      "\n"
     ]
    },
    {
     "name": "stdout",
     "output_type": "stream",
     "text": [
      "Done 2028 of 2500\n",
      "Done 2029 of 2500\n",
      "Done 2030 of 2500\n",
      "Done 2031 of 2500\n"
     ]
    },
    {
     "name": "stderr",
     "output_type": "stream",
     "text": [
      "R[write to console]: boundary (singular) fit: see ?isSingular\n",
      "\n",
      "R[write to console]: boundary (singular) fit: see ?isSingular\n",
      "\n",
      "R[write to console]: boundary (singular) fit: see ?isSingular\n",
      "\n",
      "R[write to console]: boundary (singular) fit: see ?isSingular\n",
      "\n"
     ]
    },
    {
     "name": "stdout",
     "output_type": "stream",
     "text": [
      "Done 2032 of 2500\n",
      "Done 2033 of 2500\n",
      "Done 2034 of 2500\n",
      "Done 2035 of 2500\n",
      "Done 2036 of 2500\n"
     ]
    },
    {
     "name": "stderr",
     "output_type": "stream",
     "text": [
      "R[write to console]: boundary (singular) fit: see ?isSingular\n",
      "\n",
      "R[write to console]: boundary (singular) fit: see ?isSingular\n",
      "\n"
     ]
    },
    {
     "name": "stdout",
     "output_type": "stream",
     "text": [
      "Done 2037 of 2500\n",
      "Done 2038 of 2500\n",
      "Done 2039 of 2500\n",
      "Done 2040 of 2500\n",
      "Done 2041 of 2500\n"
     ]
    },
    {
     "name": "stderr",
     "output_type": "stream",
     "text": [
      "R[write to console]: boundary (singular) fit: see ?isSingular\n",
      "\n",
      "R[write to console]: boundary (singular) fit: see ?isSingular\n",
      "\n",
      "R[write to console]: boundary (singular) fit: see ?isSingular\n",
      "\n",
      "R[write to console]: boundary (singular) fit: see ?isSingular\n",
      "\n",
      "R[write to console]: boundary (singular) fit: see ?isSingular\n",
      "\n"
     ]
    },
    {
     "name": "stdout",
     "output_type": "stream",
     "text": [
      "Done 2042 of 2500\n",
      "Done 2043 of 2500\n",
      "Done 2044 of 2500\n",
      "Done 2045 of 2500\n"
     ]
    },
    {
     "name": "stderr",
     "output_type": "stream",
     "text": [
      "R[write to console]: boundary (singular) fit: see ?isSingular\n",
      "\n",
      "R[write to console]: boundary (singular) fit: see ?isSingular\n",
      "\n"
     ]
    },
    {
     "name": "stdout",
     "output_type": "stream",
     "text": [
      "Done 2046 of 2500\n",
      "Done 2047 of 2500\n",
      "Done 2048 of 2500\n",
      "Done 2049 of 2500\n",
      "Done 2050 of 2500\n"
     ]
    },
    {
     "name": "stderr",
     "output_type": "stream",
     "text": [
      "R[write to console]: boundary (singular) fit: see ?isSingular\n",
      "\n",
      "R[write to console]: boundary (singular) fit: see ?isSingular\n",
      "\n"
     ]
    },
    {
     "name": "stdout",
     "output_type": "stream",
     "text": [
      "Done 2051 of 2500\n",
      "Done 2052 of 2500\n",
      "Done 2053 of 2500\n",
      "Done 2054 of 2500\n",
      "Done 2055 of 2500\n"
     ]
    },
    {
     "name": "stderr",
     "output_type": "stream",
     "text": [
      "R[write to console]: boundary (singular) fit: see ?isSingular\n",
      "\n"
     ]
    },
    {
     "name": "stdout",
     "output_type": "stream",
     "text": [
      "Done 2056 of 2500\n",
      "Done 2057 of 2500\n",
      "Done 2058 of 2500\n",
      "Done 2059 of 2500\n",
      "Done 2060 of 2500\n"
     ]
    },
    {
     "name": "stderr",
     "output_type": "stream",
     "text": [
      "R[write to console]: boundary (singular) fit: see ?isSingular\n",
      "\n",
      "R[write to console]: boundary (singular) fit: see ?isSingular\n",
      "\n",
      "R[write to console]: boundary (singular) fit: see ?isSingular\n",
      "\n",
      "R[write to console]: boundary (singular) fit: see ?isSingular\n",
      "\n",
      "R[write to console]: boundary (singular) fit: see ?isSingular\n",
      "\n"
     ]
    },
    {
     "name": "stdout",
     "output_type": "stream",
     "text": [
      "Done 2061 of 2500\n",
      "Done 2062 of 2500\n",
      "Done 2063 of 2500\n",
      "Done 2064 of 2500\n",
      "Done 2065 of 2500\n"
     ]
    },
    {
     "name": "stderr",
     "output_type": "stream",
     "text": [
      "R[write to console]: boundary (singular) fit: see ?isSingular\n",
      "\n",
      "R[write to console]: boundary (singular) fit: see ?isSingular\n",
      "\n",
      "R[write to console]: boundary (singular) fit: see ?isSingular\n",
      "\n",
      "R[write to console]: boundary (singular) fit: see ?isSingular\n",
      "\n"
     ]
    },
    {
     "name": "stdout",
     "output_type": "stream",
     "text": [
      "Done 2066 of 2500\n",
      "Done 2067 of 2500\n",
      "Done 2068 of 2500\n",
      "Done 2069 of 2500\n",
      "Done 2070 of 2500\n"
     ]
    },
    {
     "name": "stderr",
     "output_type": "stream",
     "text": [
      "R[write to console]: boundary (singular) fit: see ?isSingular\n",
      "\n"
     ]
    },
    {
     "name": "stdout",
     "output_type": "stream",
     "text": [
      "Done 2071 of 2500\n",
      "Done 2072 of 2500\n",
      "Done 2073 of 2500\n",
      "Done 2074 of 2500\n",
      "Done 2075 of 2500\n"
     ]
    },
    {
     "name": "stderr",
     "output_type": "stream",
     "text": [
      "R[write to console]: boundary (singular) fit: see ?isSingular\n",
      "\n",
      "R[write to console]: boundary (singular) fit: see ?isSingular\n",
      "\n",
      "R[write to console]: boundary (singular) fit: see ?isSingular\n",
      "\n"
     ]
    },
    {
     "name": "stdout",
     "output_type": "stream",
     "text": [
      "Done 2076 of 2500\n",
      "Done 2077 of 2500\n",
      "Done 2078 of 2500\n",
      "Done 2079 of 2500\n",
      "Done 2080 of 2500\n"
     ]
    },
    {
     "name": "stderr",
     "output_type": "stream",
     "text": [
      "R[write to console]: boundary (singular) fit: see ?isSingular\n",
      "\n",
      "R[write to console]: boundary (singular) fit: see ?isSingular\n",
      "\n",
      "R[write to console]: boundary (singular) fit: see ?isSingular\n",
      "\n",
      "R[write to console]: boundary (singular) fit: see ?isSingular\n",
      "\n"
     ]
    },
    {
     "name": "stdout",
     "output_type": "stream",
     "text": [
      "Done 2081 of 2500\n",
      "Done 2082 of 2500\n",
      "Done 2083 of 2500\n",
      "Done 2084 of 2500\n",
      "Done 2085 of 2500\n"
     ]
    },
    {
     "name": "stderr",
     "output_type": "stream",
     "text": [
      "R[write to console]: boundary (singular) fit: see ?isSingular\n",
      "\n",
      "R[write to console]: boundary (singular) fit: see ?isSingular\n",
      "\n"
     ]
    },
    {
     "name": "stdout",
     "output_type": "stream",
     "text": [
      "Done 2086 of 2500\n",
      "Done 2087 of 2500\n",
      "Done 2088 of 2500\n",
      "Done 2089 of 2500\n"
     ]
    },
    {
     "name": "stderr",
     "output_type": "stream",
     "text": [
      "R[write to console]: boundary (singular) fit: see ?isSingular\n",
      "\n",
      "R[write to console]: boundary (singular) fit: see ?isSingular\n",
      "\n",
      "R[write to console]: boundary (singular) fit: see ?isSingular\n",
      "\n"
     ]
    },
    {
     "name": "stdout",
     "output_type": "stream",
     "text": [
      "Done 2090 of 2500\n",
      "Done 2091 of 2500\n",
      "Done 2092 of 2500\n",
      "Done 2093 of 2500\n",
      "Done 2094 of 2500\n"
     ]
    },
    {
     "name": "stderr",
     "output_type": "stream",
     "text": [
      "R[write to console]: boundary (singular) fit: see ?isSingular\n",
      "\n",
      "R[write to console]: boundary (singular) fit: see ?isSingular\n",
      "\n",
      "R[write to console]: boundary (singular) fit: see ?isSingular\n",
      "\n"
     ]
    },
    {
     "name": "stdout",
     "output_type": "stream",
     "text": [
      "Done 2095 of 2500\n",
      "Done 2096 of 2500\n",
      "Done 2097 of 2500\n",
      "Done 2098 of 2500\n",
      "Done 2099 of 2500\n"
     ]
    },
    {
     "name": "stderr",
     "output_type": "stream",
     "text": [
      "R[write to console]: boundary (singular) fit: see ?isSingular\n",
      "\n",
      "R[write to console]: boundary (singular) fit: see ?isSingular\n",
      "\n"
     ]
    },
    {
     "name": "stdout",
     "output_type": "stream",
     "text": [
      "Done 2100 of 2500\n",
      "Done 2101 of 2500\n",
      "Done 2102 of 2500\n",
      "Done 2103 of 2500\n"
     ]
    },
    {
     "name": "stderr",
     "output_type": "stream",
     "text": [
      "R[write to console]: boundary (singular) fit: see ?isSingular\n",
      "\n",
      "R[write to console]: boundary (singular) fit: see ?isSingular\n",
      "\n"
     ]
    },
    {
     "name": "stdout",
     "output_type": "stream",
     "text": [
      "Done 2104 of 2500\n",
      "Done 2105 of 2500\n",
      "Done 2106 of 2500\n",
      "Done 2107 of 2500\n",
      "Done 2108 of 2500\n"
     ]
    },
    {
     "name": "stderr",
     "output_type": "stream",
     "text": [
      "R[write to console]: boundary (singular) fit: see ?isSingular\n",
      "\n",
      "R[write to console]: boundary (singular) fit: see ?isSingular\n",
      "\n",
      "R[write to console]: boundary (singular) fit: see ?isSingular\n",
      "\n"
     ]
    },
    {
     "name": "stdout",
     "output_type": "stream",
     "text": [
      "Done 2109 of 2500\n",
      "Done 2110 of 2500\n",
      "Done 2111 of 2500\n",
      "Done 2112 of 2500\n",
      "Done 2113 of 2500\n"
     ]
    },
    {
     "name": "stderr",
     "output_type": "stream",
     "text": [
      "R[write to console]: boundary (singular) fit: see ?isSingular\n",
      "\n",
      "R[write to console]: boundary (singular) fit: see ?isSingular\n",
      "\n",
      "R[write to console]: boundary (singular) fit: see ?isSingular\n",
      "\n",
      "R[write to console]: boundary (singular) fit: see ?isSingular\n",
      "\n"
     ]
    },
    {
     "name": "stdout",
     "output_type": "stream",
     "text": [
      "Done 2114 of 2500\n",
      "Done 2115 of 2500\n",
      "Done 2116 of 2500\n",
      "Done 2117 of 2500\n",
      "Done 2118 of 2500\n"
     ]
    },
    {
     "name": "stderr",
     "output_type": "stream",
     "text": [
      "R[write to console]: boundary (singular) fit: see ?isSingular\n",
      "\n",
      "R[write to console]: boundary (singular) fit: see ?isSingular\n",
      "\n",
      "R[write to console]: boundary (singular) fit: see ?isSingular\n",
      "\n"
     ]
    },
    {
     "name": "stdout",
     "output_type": "stream",
     "text": [
      "Done 2119 of 2500\n",
      "Done 2120 of 2500\n",
      "Done 2121 of 2500\n",
      "Done 2122 of 2500\n",
      "Done 2123 of 2500\n"
     ]
    },
    {
     "name": "stderr",
     "output_type": "stream",
     "text": [
      "R[write to console]: boundary (singular) fit: see ?isSingular\n",
      "\n",
      "R[write to console]: boundary (singular) fit: see ?isSingular\n",
      "\n",
      "R[write to console]: boundary (singular) fit: see ?isSingular\n",
      "\n",
      "R[write to console]: boundary (singular) fit: see ?isSingular\n",
      "\n"
     ]
    },
    {
     "name": "stdout",
     "output_type": "stream",
     "text": [
      "Done 2124 of 2500\n",
      "Done 2125 of 2500\n",
      "Done 2126 of 2500\n",
      "Done 2127 of 2500\n"
     ]
    },
    {
     "name": "stderr",
     "output_type": "stream",
     "text": [
      "R[write to console]: boundary (singular) fit: see ?isSingular\n",
      "\n"
     ]
    },
    {
     "name": "stdout",
     "output_type": "stream",
     "text": [
      "Done 2128 of 2500\n",
      "Done 2129 of 2500\n",
      "Done 2130 of 2500\n",
      "Done 2131 of 2500\n",
      "Done 2132 of 2500\n"
     ]
    },
    {
     "name": "stderr",
     "output_type": "stream",
     "text": [
      "R[write to console]: boundary (singular) fit: see ?isSingular\n",
      "\n",
      "R[write to console]: boundary (singular) fit: see ?isSingular\n",
      "\n",
      "R[write to console]: boundary (singular) fit: see ?isSingular\n",
      "\n",
      "R[write to console]: boundary (singular) fit: see ?isSingular\n",
      "\n"
     ]
    },
    {
     "name": "stdout",
     "output_type": "stream",
     "text": [
      "Done 2133 of 2500\n",
      "Done 2134 of 2500\n",
      "Done 2135 of 2500\n",
      "Done 2136 of 2500\n"
     ]
    },
    {
     "name": "stderr",
     "output_type": "stream",
     "text": [
      "R[write to console]: boundary (singular) fit: see ?isSingular\n",
      "\n",
      "R[write to console]: boundary (singular) fit: see ?isSingular\n",
      "\n"
     ]
    },
    {
     "name": "stdout",
     "output_type": "stream",
     "text": [
      "Done 2137 of 2500\n",
      "Done 2138 of 2500\n",
      "Done 2139 of 2500\n",
      "Done 2140 of 2500\n",
      "Done 2141 of 2500\n"
     ]
    },
    {
     "name": "stderr",
     "output_type": "stream",
     "text": [
      "R[write to console]: boundary (singular) fit: see ?isSingular\n",
      "\n",
      "R[write to console]: boundary (singular) fit: see ?isSingular\n",
      "\n"
     ]
    },
    {
     "name": "stdout",
     "output_type": "stream",
     "text": [
      "Done 2142 of 2500\n",
      "Done 2143 of 2500\n",
      "Done 2144 of 2500\n",
      "Done 2145 of 2500\n",
      "Done 2146 of 2500\n"
     ]
    },
    {
     "name": "stderr",
     "output_type": "stream",
     "text": [
      "R[write to console]: boundary (singular) fit: see ?isSingular\n",
      "\n",
      "R[write to console]: boundary (singular) fit: see ?isSingular\n",
      "\n"
     ]
    },
    {
     "name": "stdout",
     "output_type": "stream",
     "text": [
      "Done 2147 of 2500\n",
      "Done 2148 of 2500\n",
      "Done 2149 of 2500\n",
      "Done 2150 of 2500\n",
      "Done 2151 of 2500\n"
     ]
    },
    {
     "name": "stderr",
     "output_type": "stream",
     "text": [
      "R[write to console]: boundary (singular) fit: see ?isSingular\n",
      "\n",
      "R[write to console]: boundary (singular) fit: see ?isSingular\n",
      "\n",
      "R[write to console]: boundary (singular) fit: see ?isSingular\n",
      "\n"
     ]
    },
    {
     "name": "stdout",
     "output_type": "stream",
     "text": [
      "Done 2152 of 2500\n",
      "Done 2153 of 2500\n",
      "Done 2154 of 2500\n",
      "Done 2155 of 2500\n",
      "Done 2156 of 2500\n"
     ]
    },
    {
     "name": "stderr",
     "output_type": "stream",
     "text": [
      "R[write to console]: boundary (singular) fit: see ?isSingular\n",
      "\n",
      "R[write to console]: boundary (singular) fit: see ?isSingular\n",
      "\n"
     ]
    },
    {
     "name": "stdout",
     "output_type": "stream",
     "text": [
      "Done 2157 of 2500\n",
      "Done 2158 of 2500\n",
      "Done 2159 of 2500\n",
      "Done 2160 of 2500\n"
     ]
    },
    {
     "name": "stderr",
     "output_type": "stream",
     "text": [
      "R[write to console]: boundary (singular) fit: see ?isSingular\n",
      "\n",
      "R[write to console]: boundary (singular) fit: see ?isSingular\n",
      "\n",
      "R[write to console]: boundary (singular) fit: see ?isSingular\n",
      "\n"
     ]
    },
    {
     "name": "stdout",
     "output_type": "stream",
     "text": [
      "Done 2161 of 2500\n",
      "Done 2162 of 2500\n",
      "Done 2163 of 2500\n",
      "Done 2164 of 2500\n",
      "Done 2165 of 2500\n"
     ]
    },
    {
     "name": "stderr",
     "output_type": "stream",
     "text": [
      "R[write to console]: boundary (singular) fit: see ?isSingular\n",
      "\n",
      "R[write to console]: boundary (singular) fit: see ?isSingular\n",
      "\n",
      "R[write to console]: boundary (singular) fit: see ?isSingular\n",
      "\n",
      "R[write to console]: boundary (singular) fit: see ?isSingular\n",
      "\n",
      "R[write to console]: boundary (singular) fit: see ?isSingular\n",
      "\n"
     ]
    },
    {
     "name": "stdout",
     "output_type": "stream",
     "text": [
      "Done 2166 of 2500\n",
      "Done 2167 of 2500\n",
      "Done 2168 of 2500\n",
      "Done 2169 of 2500\n",
      "Done 2170 of 2500\n"
     ]
    },
    {
     "name": "stderr",
     "output_type": "stream",
     "text": [
      "R[write to console]: boundary (singular) fit: see ?isSingular\n",
      "\n",
      "R[write to console]: boundary (singular) fit: see ?isSingular\n",
      "\n",
      "R[write to console]: boundary (singular) fit: see ?isSingular\n",
      "\n",
      "R[write to console]: boundary (singular) fit: see ?isSingular\n",
      "\n"
     ]
    },
    {
     "name": "stdout",
     "output_type": "stream",
     "text": [
      "Done 2171 of 2500\n",
      "Done 2172 of 2500\n",
      "Done 2173 of 2500\n",
      "Done 2174 of 2500\n",
      "Done 2175 of 2500\n"
     ]
    },
    {
     "name": "stderr",
     "output_type": "stream",
     "text": [
      "R[write to console]: boundary (singular) fit: see ?isSingular\n",
      "\n",
      "R[write to console]: boundary (singular) fit: see ?isSingular\n",
      "\n",
      "R[write to console]: boundary (singular) fit: see ?isSingular\n",
      "\n",
      "R[write to console]: boundary (singular) fit: see ?isSingular\n",
      "\n",
      "R[write to console]: boundary (singular) fit: see ?isSingular\n",
      "\n"
     ]
    },
    {
     "name": "stdout",
     "output_type": "stream",
     "text": [
      "Done 2176 of 2500\n",
      "Done 2177 of 2500\n",
      "Done 2178 of 2500\n",
      "Done 2179 of 2500\n",
      "Done 2180 of 2500\n"
     ]
    },
    {
     "name": "stderr",
     "output_type": "stream",
     "text": [
      "R[write to console]: boundary (singular) fit: see ?isSingular\n",
      "\n",
      "R[write to console]: boundary (singular) fit: see ?isSingular\n",
      "\n",
      "R[write to console]: boundary (singular) fit: see ?isSingular\n",
      "\n"
     ]
    },
    {
     "name": "stdout",
     "output_type": "stream",
     "text": [
      "Done 2181 of 2500\n",
      "Done 2182 of 2500\n",
      "Done 2183 of 2500\n",
      "Done 2184 of 2500\n"
     ]
    },
    {
     "name": "stderr",
     "output_type": "stream",
     "text": [
      "R[write to console]: boundary (singular) fit: see ?isSingular\n",
      "\n",
      "R[write to console]: boundary (singular) fit: see ?isSingular\n",
      "\n",
      "R[write to console]: boundary (singular) fit: see ?isSingular\n",
      "\n",
      "R[write to console]: boundary (singular) fit: see ?isSingular\n",
      "\n"
     ]
    },
    {
     "name": "stdout",
     "output_type": "stream",
     "text": [
      "Done 2185 of 2500\n",
      "Done 2186 of 2500\n",
      "Done 2187 of 2500\n",
      "Done 2188 of 2500\n",
      "Done 2189 of 2500\n"
     ]
    },
    {
     "name": "stderr",
     "output_type": "stream",
     "text": [
      "R[write to console]: boundary (singular) fit: see ?isSingular\n",
      "\n",
      "R[write to console]: boundary (singular) fit: see ?isSingular\n",
      "\n"
     ]
    },
    {
     "name": "stdout",
     "output_type": "stream",
     "text": [
      "Done 2190 of 2500\n",
      "Done 2191 of 2500\n",
      "Done 2192 of 2500\n",
      "Done 2193 of 2500\n",
      "Done 2194 of 2500\n"
     ]
    },
    {
     "name": "stderr",
     "output_type": "stream",
     "text": [
      "R[write to console]: boundary (singular) fit: see ?isSingular\n",
      "\n",
      "R[write to console]: boundary (singular) fit: see ?isSingular\n",
      "\n",
      "R[write to console]: boundary (singular) fit: see ?isSingular\n",
      "\n",
      "R[write to console]: boundary (singular) fit: see ?isSingular\n",
      "\n",
      "R[write to console]: boundary (singular) fit: see ?isSingular\n",
      "\n"
     ]
    },
    {
     "name": "stdout",
     "output_type": "stream",
     "text": [
      "Done 2195 of 2500\n",
      "Done 2196 of 2500\n",
      "Done 2197 of 2500\n",
      "Done 2198 of 2500\n"
     ]
    },
    {
     "name": "stderr",
     "output_type": "stream",
     "text": [
      "R[write to console]: boundary (singular) fit: see ?isSingular\n",
      "\n",
      "R[write to console]: boundary (singular) fit: see ?isSingular\n",
      "\n",
      "R[write to console]: boundary (singular) fit: see ?isSingular\n",
      "\n"
     ]
    },
    {
     "name": "stdout",
     "output_type": "stream",
     "text": [
      "Done 2199 of 2500\n",
      "Done 2200 of 2500\n",
      "Done 2201 of 2500\n",
      "Done 2202 of 2500\n",
      "Done 2203 of 2500\n"
     ]
    },
    {
     "name": "stderr",
     "output_type": "stream",
     "text": [
      "R[write to console]: boundary (singular) fit: see ?isSingular\n",
      "\n",
      "R[write to console]: boundary (singular) fit: see ?isSingular\n",
      "\n",
      "R[write to console]: boundary (singular) fit: see ?isSingular\n",
      "\n",
      "R[write to console]: boundary (singular) fit: see ?isSingular\n",
      "\n"
     ]
    },
    {
     "name": "stdout",
     "output_type": "stream",
     "text": [
      "Done 2204 of 2500\n",
      "Done 2205 of 2500\n",
      "Done 2206 of 2500\n",
      "Done 2207 of 2500\n"
     ]
    },
    {
     "name": "stderr",
     "output_type": "stream",
     "text": [
      "R[write to console]: boundary (singular) fit: see ?isSingular\n",
      "\n",
      "R[write to console]: boundary (singular) fit: see ?isSingular\n",
      "\n",
      "R[write to console]: boundary (singular) fit: see ?isSingular\n",
      "\n",
      "R[write to console]: boundary (singular) fit: see ?isSingular\n",
      "\n"
     ]
    },
    {
     "name": "stdout",
     "output_type": "stream",
     "text": [
      "Done 2208 of 2500\n",
      "Done 2209 of 2500\n",
      "Done 2210 of 2500\n",
      "Done 2211 of 2500\n",
      "Done 2212 of 2500\n"
     ]
    },
    {
     "name": "stderr",
     "output_type": "stream",
     "text": [
      "R[write to console]: boundary (singular) fit: see ?isSingular\n",
      "\n",
      "R[write to console]: boundary (singular) fit: see ?isSingular\n",
      "\n",
      "R[write to console]: boundary (singular) fit: see ?isSingular\n",
      "\n",
      "R[write to console]: boundary (singular) fit: see ?isSingular\n",
      "\n"
     ]
    },
    {
     "name": "stdout",
     "output_type": "stream",
     "text": [
      "Done 2213 of 2500\n",
      "Done 2214 of 2500\n",
      "Done 2215 of 2500\n",
      "Done 2216 of 2500\n",
      "Done 2217 of 2500\n"
     ]
    },
    {
     "name": "stderr",
     "output_type": "stream",
     "text": [
      "R[write to console]: boundary (singular) fit: see ?isSingular\n",
      "\n",
      "R[write to console]: boundary (singular) fit: see ?isSingular\n",
      "\n",
      "R[write to console]: boundary (singular) fit: see ?isSingular\n",
      "\n"
     ]
    },
    {
     "name": "stdout",
     "output_type": "stream",
     "text": [
      "Done 2218 of 2500\n",
      "Done 2219 of 2500\n",
      "Done 2220 of 2500\n",
      "Done 2221 of 2500\n",
      "Done 2222 of 2500\n"
     ]
    },
    {
     "name": "stderr",
     "output_type": "stream",
     "text": [
      "R[write to console]: boundary (singular) fit: see ?isSingular\n",
      "\n",
      "R[write to console]: boundary (singular) fit: see ?isSingular\n",
      "\n",
      "R[write to console]: boundary (singular) fit: see ?isSingular\n",
      "\n",
      "R[write to console]: boundary (singular) fit: see ?isSingular\n",
      "\n"
     ]
    },
    {
     "name": "stdout",
     "output_type": "stream",
     "text": [
      "Done 2223 of 2500\n",
      "Done 2224 of 2500\n",
      "Done 2225 of 2500\n",
      "Done 2226 of 2500\n",
      "Done 2227 of 2500\n"
     ]
    },
    {
     "name": "stderr",
     "output_type": "stream",
     "text": [
      "R[write to console]: boundary (singular) fit: see ?isSingular\n",
      "\n",
      "R[write to console]: boundary (singular) fit: see ?isSingular\n",
      "\n",
      "R[write to console]: boundary (singular) fit: see ?isSingular\n",
      "\n",
      "R[write to console]: boundary (singular) fit: see ?isSingular\n",
      "\n",
      "R[write to console]: boundary (singular) fit: see ?isSingular\n",
      "\n"
     ]
    },
    {
     "name": "stdout",
     "output_type": "stream",
     "text": [
      "Done 2228 of 2500\n",
      "Done 2229 of 2500\n",
      "Done 2230 of 2500\n",
      "Done 2231 of 2500\n"
     ]
    },
    {
     "name": "stderr",
     "output_type": "stream",
     "text": [
      "R[write to console]: boundary (singular) fit: see ?isSingular\n",
      "\n",
      "R[write to console]: boundary (singular) fit: see ?isSingular\n",
      "\n",
      "R[write to console]: boundary (singular) fit: see ?isSingular\n",
      "\n"
     ]
    },
    {
     "name": "stdout",
     "output_type": "stream",
     "text": [
      "Done 2232 of 2500\n",
      "Done 2233 of 2500\n",
      "Done 2234 of 2500\n",
      "Done 2235 of 2500\n",
      "Done 2236 of 2500\n"
     ]
    },
    {
     "name": "stderr",
     "output_type": "stream",
     "text": [
      "R[write to console]: boundary (singular) fit: see ?isSingular\n",
      "\n",
      "R[write to console]: boundary (singular) fit: see ?isSingular\n",
      "\n",
      "R[write to console]: boundary (singular) fit: see ?isSingular\n",
      "\n",
      "R[write to console]: boundary (singular) fit: see ?isSingular\n",
      "\n",
      "R[write to console]: boundary (singular) fit: see ?isSingular\n",
      "\n"
     ]
    },
    {
     "name": "stdout",
     "output_type": "stream",
     "text": [
      "Done 2237 of 2500\n",
      "Done 2238 of 2500\n",
      "Done 2239 of 2500\n",
      "Done 2240 of 2500\n",
      "Done 2241 of 2500\n"
     ]
    },
    {
     "name": "stderr",
     "output_type": "stream",
     "text": [
      "R[write to console]: boundary (singular) fit: see ?isSingular\n",
      "\n",
      "R[write to console]: boundary (singular) fit: see ?isSingular\n",
      "\n"
     ]
    },
    {
     "name": "stdout",
     "output_type": "stream",
     "text": [
      "Done 2242 of 2500\n",
      "Done 2243 of 2500\n",
      "Done 2244 of 2500\n",
      "Done 2245 of 2500\n",
      "Done 2246 of 2500\n"
     ]
    },
    {
     "name": "stderr",
     "output_type": "stream",
     "text": [
      "R[write to console]: boundary (singular) fit: see ?isSingular\n",
      "\n",
      "R[write to console]: boundary (singular) fit: see ?isSingular\n",
      "\n"
     ]
    },
    {
     "name": "stdout",
     "output_type": "stream",
     "text": [
      "Done 2247 of 2500\n",
      "Done 2248 of 2500\n",
      "Done 2249 of 2500\n",
      "Done 2250 of 2500\n",
      "Done 2251 of 2500\n"
     ]
    },
    {
     "name": "stderr",
     "output_type": "stream",
     "text": [
      "R[write to console]: boundary (singular) fit: see ?isSingular\n",
      "\n"
     ]
    },
    {
     "name": "stdout",
     "output_type": "stream",
     "text": [
      "Done 2252 of 2500\n",
      "Done 2253 of 2500\n",
      "Done 2254 of 2500\n",
      "Done 2255 of 2500\n",
      "Done 2256 of 2500\n"
     ]
    },
    {
     "name": "stderr",
     "output_type": "stream",
     "text": [
      "R[write to console]: boundary (singular) fit: see ?isSingular\n",
      "\n",
      "R[write to console]: boundary (singular) fit: see ?isSingular\n",
      "\n",
      "R[write to console]: boundary (singular) fit: see ?isSingular\n",
      "\n",
      "R[write to console]: boundary (singular) fit: see ?isSingular\n",
      "\n",
      "R[write to console]: boundary (singular) fit: see ?isSingular\n",
      "\n"
     ]
    },
    {
     "name": "stdout",
     "output_type": "stream",
     "text": [
      "Done 2257 of 2500\n",
      "Done 2258 of 2500\n",
      "Done 2259 of 2500\n",
      "Done 2260 of 2500\n",
      "Done 2261 of 2500\n"
     ]
    },
    {
     "name": "stderr",
     "output_type": "stream",
     "text": [
      "R[write to console]: boundary (singular) fit: see ?isSingular\n",
      "\n",
      "R[write to console]: boundary (singular) fit: see ?isSingular\n",
      "\n"
     ]
    },
    {
     "name": "stdout",
     "output_type": "stream",
     "text": [
      "Done 2262 of 2500\n",
      "Done 2263 of 2500\n",
      "Done 2264 of 2500\n",
      "Done 2265 of 2500\n",
      "Done 2266 of 2500\n",
      "Done 2267 of 2500\n",
      "Done 2268 of 2500\n",
      "Done 2269 of 2500\n",
      "Done 2270 of 2500\n",
      "Done 2271 of 2500\n"
     ]
    },
    {
     "name": "stderr",
     "output_type": "stream",
     "text": [
      "R[write to console]: boundary (singular) fit: see ?isSingular\n",
      "\n",
      "R[write to console]: boundary (singular) fit: see ?isSingular\n",
      "\n"
     ]
    },
    {
     "name": "stdout",
     "output_type": "stream",
     "text": [
      "Done 2272 of 2500\n",
      "Done 2273 of 2500\n",
      "Done 2274 of 2500\n",
      "Done 2275 of 2500\n",
      "Done 2276 of 2500\n"
     ]
    },
    {
     "name": "stderr",
     "output_type": "stream",
     "text": [
      "R[write to console]: boundary (singular) fit: see ?isSingular\n",
      "\n",
      "R[write to console]: boundary (singular) fit: see ?isSingular\n",
      "\n",
      "R[write to console]: boundary (singular) fit: see ?isSingular\n",
      "\n",
      "R[write to console]: boundary (singular) fit: see ?isSingular\n",
      "\n"
     ]
    },
    {
     "name": "stdout",
     "output_type": "stream",
     "text": [
      "Done 2277 of 2500\n",
      "Done 2278 of 2500\n",
      "Done 2279 of 2500\n",
      "Done 2280 of 2500\n",
      "Done 2281 of 2500\n"
     ]
    },
    {
     "name": "stderr",
     "output_type": "stream",
     "text": [
      "R[write to console]: boundary (singular) fit: see ?isSingular\n",
      "\n",
      "R[write to console]: boundary (singular) fit: see ?isSingular\n",
      "\n"
     ]
    },
    {
     "name": "stdout",
     "output_type": "stream",
     "text": [
      "Done 2282 of 2500\n",
      "Done 2283 of 2500\n",
      "Done 2284 of 2500\n",
      "Done 2285 of 2500\n",
      "Done 2286 of 2500\n"
     ]
    },
    {
     "name": "stderr",
     "output_type": "stream",
     "text": [
      "R[write to console]: boundary (singular) fit: see ?isSingular\n",
      "\n",
      "R[write to console]: boundary (singular) fit: see ?isSingular\n",
      "\n",
      "R[write to console]: boundary (singular) fit: see ?isSingular\n",
      "\n",
      "R[write to console]: boundary (singular) fit: see ?isSingular\n",
      "\n"
     ]
    },
    {
     "name": "stdout",
     "output_type": "stream",
     "text": [
      "Done 2287 of 2500\n",
      "Done 2288 of 2500\n",
      "Done 2289 of 2500\n",
      "Done 2290 of 2500\n"
     ]
    },
    {
     "name": "stderr",
     "output_type": "stream",
     "text": [
      "R[write to console]: boundary (singular) fit: see ?isSingular\n",
      "\n"
     ]
    },
    {
     "name": "stdout",
     "output_type": "stream",
     "text": [
      "Done 2291 of 2500\n",
      "Done 2292 of 2500\n",
      "Done 2293 of 2500\n",
      "Done 2294 of 2500\n",
      "Done 2295 of 2500\n"
     ]
    },
    {
     "name": "stderr",
     "output_type": "stream",
     "text": [
      "R[write to console]: boundary (singular) fit: see ?isSingular\n",
      "\n"
     ]
    },
    {
     "name": "stdout",
     "output_type": "stream",
     "text": [
      "Done 2296 of 2500\n",
      "Done 2297 of 2500\n",
      "Done 2298 of 2500\n",
      "Done 2299 of 2500\n",
      "Done 2300 of 2500\n"
     ]
    },
    {
     "name": "stderr",
     "output_type": "stream",
     "text": [
      "R[write to console]: boundary (singular) fit: see ?isSingular\n",
      "\n",
      "R[write to console]: boundary (singular) fit: see ?isSingular\n",
      "\n",
      "R[write to console]: boundary (singular) fit: see ?isSingular\n",
      "\n",
      "R[write to console]: boundary (singular) fit: see ?isSingular\n",
      "\n"
     ]
    },
    {
     "name": "stdout",
     "output_type": "stream",
     "text": [
      "Done 2301 of 2500\n",
      "Done 2302 of 2500\n",
      "Done 2303 of 2500\n",
      "Done 2304 of 2500\n",
      "Done 2305 of 2500\n"
     ]
    },
    {
     "name": "stderr",
     "output_type": "stream",
     "text": [
      "R[write to console]: boundary (singular) fit: see ?isSingular\n",
      "\n",
      "R[write to console]: boundary (singular) fit: see ?isSingular\n",
      "\n",
      "R[write to console]: boundary (singular) fit: see ?isSingular\n",
      "\n",
      "R[write to console]: boundary (singular) fit: see ?isSingular\n",
      "\n",
      "R[write to console]: boundary (singular) fit: see ?isSingular\n",
      "\n"
     ]
    },
    {
     "name": "stdout",
     "output_type": "stream",
     "text": [
      "Done 2306 of 2500\n",
      "Done 2307 of 2500\n",
      "Done 2308 of 2500\n",
      "Done 2309 of 2500\n",
      "Done 2310 of 2500\n"
     ]
    },
    {
     "name": "stderr",
     "output_type": "stream",
     "text": [
      "R[write to console]: boundary (singular) fit: see ?isSingular\n",
      "\n",
      "R[write to console]: boundary (singular) fit: see ?isSingular\n",
      "\n"
     ]
    },
    {
     "name": "stdout",
     "output_type": "stream",
     "text": [
      "Done 2311 of 2500\n",
      "Done 2312 of 2500\n",
      "Done 2313 of 2500\n",
      "Done 2314 of 2500\n",
      "Done 2315 of 2500\n"
     ]
    },
    {
     "name": "stderr",
     "output_type": "stream",
     "text": [
      "R[write to console]: boundary (singular) fit: see ?isSingular\n",
      "\n"
     ]
    },
    {
     "name": "stdout",
     "output_type": "stream",
     "text": [
      "Done 2316 of 2500\n",
      "Done 2317 of 2500\n",
      "Done 2318 of 2500\n",
      "Done 2319 of 2500\n",
      "Done 2320 of 2500\n"
     ]
    },
    {
     "name": "stderr",
     "output_type": "stream",
     "text": [
      "R[write to console]: boundary (singular) fit: see ?isSingular\n",
      "\n",
      "R[write to console]: boundary (singular) fit: see ?isSingular\n",
      "\n",
      "R[write to console]: boundary (singular) fit: see ?isSingular\n",
      "\n"
     ]
    },
    {
     "name": "stdout",
     "output_type": "stream",
     "text": [
      "Done 2321 of 2500\n",
      "Done 2322 of 2500\n",
      "Done 2323 of 2500\n",
      "Done 2324 of 2500\n",
      "Done 2325 of 2500\n"
     ]
    },
    {
     "name": "stderr",
     "output_type": "stream",
     "text": [
      "R[write to console]: boundary (singular) fit: see ?isSingular\n",
      "\n",
      "R[write to console]: boundary (singular) fit: see ?isSingular\n",
      "\n",
      "R[write to console]: boundary (singular) fit: see ?isSingular\n",
      "\n"
     ]
    },
    {
     "name": "stdout",
     "output_type": "stream",
     "text": [
      "Done 2326 of 2500\n",
      "Done 2327 of 2500\n",
      "Done 2328 of 2500\n",
      "Done 2329 of 2500\n",
      "Done 2330 of 2500\n"
     ]
    },
    {
     "name": "stderr",
     "output_type": "stream",
     "text": [
      "R[write to console]: boundary (singular) fit: see ?isSingular\n",
      "\n",
      "R[write to console]: boundary (singular) fit: see ?isSingular\n",
      "\n",
      "R[write to console]: boundary (singular) fit: see ?isSingular\n",
      "\n"
     ]
    },
    {
     "name": "stdout",
     "output_type": "stream",
     "text": [
      "Done 2331 of 2500\n",
      "Done 2332 of 2500\n",
      "Done 2333 of 2500\n",
      "Done 2334 of 2500\n"
     ]
    },
    {
     "name": "stderr",
     "output_type": "stream",
     "text": [
      "R[write to console]: boundary (singular) fit: see ?isSingular\n",
      "\n",
      "R[write to console]: boundary (singular) fit: see ?isSingular\n",
      "\n",
      "R[write to console]: boundary (singular) fit: see ?isSingular\n",
      "\n"
     ]
    },
    {
     "name": "stdout",
     "output_type": "stream",
     "text": [
      "Done 2335 of 2500\n",
      "Done 2336 of 2500\n",
      "Done 2337 of 2500\n",
      "Done 2338 of 2500\n",
      "Done 2339 of 2500\n"
     ]
    },
    {
     "name": "stderr",
     "output_type": "stream",
     "text": [
      "R[write to console]: boundary (singular) fit: see ?isSingular\n",
      "\n",
      "R[write to console]: boundary (singular) fit: see ?isSingular\n",
      "\n",
      "R[write to console]: boundary (singular) fit: see ?isSingular\n",
      "\n"
     ]
    },
    {
     "name": "stdout",
     "output_type": "stream",
     "text": [
      "Done 2340 of 2500\n",
      "Done 2341 of 2500\n",
      "Done 2342 of 2500\n",
      "Done 2343 of 2500\n"
     ]
    },
    {
     "name": "stderr",
     "output_type": "stream",
     "text": [
      "R[write to console]: boundary (singular) fit: see ?isSingular\n",
      "\n"
     ]
    },
    {
     "name": "stdout",
     "output_type": "stream",
     "text": [
      "Done 2344 of 2500\n",
      "Done 2345 of 2500\n",
      "Done 2346 of 2500\n",
      "Done 2347 of 2500\n"
     ]
    },
    {
     "name": "stderr",
     "output_type": "stream",
     "text": [
      "R[write to console]: boundary (singular) fit: see ?isSingular\n",
      "\n",
      "R[write to console]: boundary (singular) fit: see ?isSingular\n",
      "\n"
     ]
    },
    {
     "name": "stdout",
     "output_type": "stream",
     "text": [
      "Done 2348 of 2500\n",
      "Done 2349 of 2500\n",
      "Done 2350 of 2500\n",
      "Done 2351 of 2500\n",
      "Done 2352 of 2500\n"
     ]
    },
    {
     "name": "stderr",
     "output_type": "stream",
     "text": [
      "R[write to console]: boundary (singular) fit: see ?isSingular\n",
      "\n",
      "R[write to console]: boundary (singular) fit: see ?isSingular\n",
      "\n"
     ]
    },
    {
     "name": "stdout",
     "output_type": "stream",
     "text": [
      "Done 2353 of 2500\n",
      "Done 2354 of 2500\n",
      "Done 2355 of 2500\n",
      "Done 2356 of 2500\n",
      "Done 2357 of 2500\n"
     ]
    },
    {
     "name": "stderr",
     "output_type": "stream",
     "text": [
      "R[write to console]: boundary (singular) fit: see ?isSingular\n",
      "\n",
      "R[write to console]: boundary (singular) fit: see ?isSingular\n",
      "\n",
      "R[write to console]: boundary (singular) fit: see ?isSingular\n",
      "\n"
     ]
    },
    {
     "name": "stdout",
     "output_type": "stream",
     "text": [
      "Done 2358 of 2500\n",
      "Done 2359 of 2500\n",
      "Done 2360 of 2500\n",
      "Done 2361 of 2500\n"
     ]
    },
    {
     "name": "stderr",
     "output_type": "stream",
     "text": [
      "R[write to console]: boundary (singular) fit: see ?isSingular\n",
      "\n",
      "R[write to console]: boundary (singular) fit: see ?isSingular\n",
      "\n"
     ]
    },
    {
     "name": "stdout",
     "output_type": "stream",
     "text": [
      "Done 2362 of 2500\n",
      "Done 2363 of 2500\n",
      "Done 2364 of 2500\n",
      "Done 2365 of 2500\n",
      "Done 2366 of 2500\n"
     ]
    },
    {
     "name": "stderr",
     "output_type": "stream",
     "text": [
      "R[write to console]: boundary (singular) fit: see ?isSingular\n",
      "\n",
      "R[write to console]: boundary (singular) fit: see ?isSingular\n",
      "\n"
     ]
    },
    {
     "name": "stdout",
     "output_type": "stream",
     "text": [
      "Done 2367 of 2500\n",
      "Done 2368 of 2500\n",
      "Done 2369 of 2500\n",
      "Done 2370 of 2500\n"
     ]
    },
    {
     "name": "stderr",
     "output_type": "stream",
     "text": [
      "R[write to console]: boundary (singular) fit: see ?isSingular\n",
      "\n",
      "R[write to console]: boundary (singular) fit: see ?isSingular\n",
      "\n",
      "R[write to console]: boundary (singular) fit: see ?isSingular\n",
      "\n"
     ]
    },
    {
     "name": "stdout",
     "output_type": "stream",
     "text": [
      "Done 2371 of 2500\n",
      "Done 2372 of 2500\n",
      "Done 2373 of 2500\n",
      "Done 2374 of 2500\n",
      "Done 2375 of 2500\n"
     ]
    },
    {
     "name": "stderr",
     "output_type": "stream",
     "text": [
      "R[write to console]: boundary (singular) fit: see ?isSingular\n",
      "\n",
      "R[write to console]: boundary (singular) fit: see ?isSingular\n",
      "\n",
      "R[write to console]: boundary (singular) fit: see ?isSingular\n",
      "\n",
      "R[write to console]: boundary (singular) fit: see ?isSingular\n",
      "\n"
     ]
    },
    {
     "name": "stdout",
     "output_type": "stream",
     "text": [
      "Done 2376 of 2500\n",
      "Done 2377 of 2500\n",
      "Done 2378 of 2500\n",
      "Done 2379 of 2500\n"
     ]
    },
    {
     "name": "stderr",
     "output_type": "stream",
     "text": [
      "R[write to console]: boundary (singular) fit: see ?isSingular\n",
      "\n",
      "R[write to console]: boundary (singular) fit: see ?isSingular\n",
      "\n"
     ]
    },
    {
     "name": "stdout",
     "output_type": "stream",
     "text": [
      "Done 2380 of 2500\n",
      "Done 2381 of 2500\n",
      "Done 2382 of 2500\n",
      "Done 2383 of 2500\n"
     ]
    },
    {
     "name": "stderr",
     "output_type": "stream",
     "text": [
      "R[write to console]: boundary (singular) fit: see ?isSingular\n",
      "\n",
      "R[write to console]: boundary (singular) fit: see ?isSingular\n",
      "\n",
      "R[write to console]: boundary (singular) fit: see ?isSingular\n",
      "\n"
     ]
    },
    {
     "name": "stdout",
     "output_type": "stream",
     "text": [
      "Done 2384 of 2500\n",
      "Done 2385 of 2500\n",
      "Done 2386 of 2500\n",
      "Done 2387 of 2500\n",
      "Done 2388 of 2500\n"
     ]
    },
    {
     "name": "stderr",
     "output_type": "stream",
     "text": [
      "R[write to console]: boundary (singular) fit: see ?isSingular\n",
      "\n",
      "R[write to console]: boundary (singular) fit: see ?isSingular\n",
      "\n",
      "R[write to console]: boundary (singular) fit: see ?isSingular\n",
      "\n"
     ]
    },
    {
     "name": "stdout",
     "output_type": "stream",
     "text": [
      "Done 2389 of 2500\n",
      "Done 2390 of 2500\n",
      "Done 2391 of 2500\n",
      "Done 2392 of 2500\n",
      "Done 2393 of 2500\n"
     ]
    },
    {
     "name": "stderr",
     "output_type": "stream",
     "text": [
      "R[write to console]: boundary (singular) fit: see ?isSingular\n",
      "\n",
      "R[write to console]: boundary (singular) fit: see ?isSingular\n",
      "\n"
     ]
    },
    {
     "name": "stdout",
     "output_type": "stream",
     "text": [
      "Done 2394 of 2500\n",
      "Done 2395 of 2500\n",
      "Done 2396 of 2500\n",
      "Done 2397 of 2500\n",
      "Done 2398 of 2500\n",
      "Done 2399 of 2500\n",
      "Done 2400 of 2500\n",
      "Done 2401 of 2500\n",
      "Done 2402 of 2500\n",
      "Done 2403 of 2500\n"
     ]
    },
    {
     "name": "stderr",
     "output_type": "stream",
     "text": [
      "R[write to console]: boundary (singular) fit: see ?isSingular\n",
      "\n",
      "R[write to console]: boundary (singular) fit: see ?isSingular\n",
      "\n",
      "R[write to console]: boundary (singular) fit: see ?isSingular\n",
      "\n"
     ]
    },
    {
     "name": "stdout",
     "output_type": "stream",
     "text": [
      "Done 2404 of 2500\n",
      "Done 2405 of 2500\n",
      "Done 2406 of 2500\n",
      "Done 2407 of 2500\n",
      "Done 2408 of 2500\n"
     ]
    },
    {
     "name": "stderr",
     "output_type": "stream",
     "text": [
      "R[write to console]: boundary (singular) fit: see ?isSingular\n",
      "\n",
      "R[write to console]: boundary (singular) fit: see ?isSingular\n",
      "\n",
      "R[write to console]: boundary (singular) fit: see ?isSingular\n",
      "\n"
     ]
    },
    {
     "name": "stdout",
     "output_type": "stream",
     "text": [
      "Done 2409 of 2500\n",
      "Done 2410 of 2500\n",
      "Done 2411 of 2500\n",
      "Done 2412 of 2500\n",
      "Done 2413 of 2500\n"
     ]
    },
    {
     "name": "stderr",
     "output_type": "stream",
     "text": [
      "R[write to console]: boundary (singular) fit: see ?isSingular\n",
      "\n"
     ]
    },
    {
     "name": "stdout",
     "output_type": "stream",
     "text": [
      "Done 2414 of 2500\n",
      "Done 2415 of 2500\n",
      "Done 2416 of 2500\n",
      "Done 2417 of 2500\n",
      "Done 2418 of 2500\n"
     ]
    },
    {
     "name": "stderr",
     "output_type": "stream",
     "text": [
      "R[write to console]: boundary (singular) fit: see ?isSingular\n",
      "\n"
     ]
    },
    {
     "name": "stdout",
     "output_type": "stream",
     "text": [
      "Done 2419 of 2500\n",
      "Done 2420 of 2500\n",
      "Done 2421 of 2500\n",
      "Done 2422 of 2500\n",
      "Done 2423 of 2500\n"
     ]
    },
    {
     "name": "stderr",
     "output_type": "stream",
     "text": [
      "R[write to console]: boundary (singular) fit: see ?isSingular\n",
      "\n"
     ]
    },
    {
     "name": "stdout",
     "output_type": "stream",
     "text": [
      "Done 2424 of 2500\n",
      "Done 2425 of 2500\n",
      "Done 2426 of 2500\n",
      "Done 2427 of 2500\n",
      "Done 2428 of 2500\n"
     ]
    },
    {
     "name": "stderr",
     "output_type": "stream",
     "text": [
      "R[write to console]: boundary (singular) fit: see ?isSingular\n",
      "\n",
      "R[write to console]: boundary (singular) fit: see ?isSingular\n",
      "\n",
      "R[write to console]: boundary (singular) fit: see ?isSingular\n",
      "\n"
     ]
    },
    {
     "name": "stdout",
     "output_type": "stream",
     "text": [
      "Done 2429 of 2500\n",
      "Done 2430 of 2500\n",
      "Done 2431 of 2500\n",
      "Done 2432 of 2500\n",
      "Done 2433 of 2500\n"
     ]
    },
    {
     "name": "stderr",
     "output_type": "stream",
     "text": [
      "R[write to console]: boundary (singular) fit: see ?isSingular\n",
      "\n",
      "R[write to console]: boundary (singular) fit: see ?isSingular\n",
      "\n",
      "R[write to console]: boundary (singular) fit: see ?isSingular\n",
      "\n"
     ]
    },
    {
     "name": "stdout",
     "output_type": "stream",
     "text": [
      "Done 2434 of 2500\n",
      "Done 2435 of 2500\n",
      "Done 2436 of 2500\n",
      "Done 2437 of 2500\n",
      "Done 2438 of 2500\n"
     ]
    },
    {
     "name": "stderr",
     "output_type": "stream",
     "text": [
      "R[write to console]: boundary (singular) fit: see ?isSingular\n",
      "\n",
      "R[write to console]: boundary (singular) fit: see ?isSingular\n",
      "\n",
      "R[write to console]: boundary (singular) fit: see ?isSingular\n",
      "\n",
      "R[write to console]: boundary (singular) fit: see ?isSingular\n",
      "\n"
     ]
    },
    {
     "name": "stdout",
     "output_type": "stream",
     "text": [
      "Done 2439 of 2500\n",
      "Done 2440 of 2500\n",
      "Done 2441 of 2500\n",
      "Done 2442 of 2500\n",
      "Done 2443 of 2500\n"
     ]
    },
    {
     "name": "stderr",
     "output_type": "stream",
     "text": [
      "R[write to console]: boundary (singular) fit: see ?isSingular\n",
      "\n",
      "R[write to console]: boundary (singular) fit: see ?isSingular\n",
      "\n"
     ]
    },
    {
     "name": "stdout",
     "output_type": "stream",
     "text": [
      "Done 2444 of 2500\n",
      "Done 2445 of 2500\n",
      "Done 2446 of 2500\n",
      "Done 2447 of 2500\n",
      "Done 2448 of 2500\n"
     ]
    },
    {
     "name": "stderr",
     "output_type": "stream",
     "text": [
      "R[write to console]: boundary (singular) fit: see ?isSingular\n",
      "\n",
      "R[write to console]: boundary (singular) fit: see ?isSingular\n",
      "\n"
     ]
    },
    {
     "name": "stdout",
     "output_type": "stream",
     "text": [
      "Done 2449 of 2500\n",
      "Done 2450 of 2500\n",
      "Done 2451 of 2500\n",
      "Done 2452 of 2500\n"
     ]
    },
    {
     "name": "stderr",
     "output_type": "stream",
     "text": [
      "R[write to console]: boundary (singular) fit: see ?isSingular\n",
      "\n",
      "R[write to console]: boundary (singular) fit: see ?isSingular\n",
      "\n",
      "R[write to console]: boundary (singular) fit: see ?isSingular\n",
      "\n"
     ]
    },
    {
     "name": "stdout",
     "output_type": "stream",
     "text": [
      "Done 2453 of 2500\n",
      "Done 2454 of 2500\n",
      "Done 2455 of 2500\n",
      "Done 2456 of 2500\n",
      "Done 2457 of 2500\n"
     ]
    },
    {
     "name": "stderr",
     "output_type": "stream",
     "text": [
      "R[write to console]: boundary (singular) fit: see ?isSingular\n",
      "\n",
      "R[write to console]: boundary (singular) fit: see ?isSingular\n",
      "\n",
      "R[write to console]: boundary (singular) fit: see ?isSingular\n",
      "\n"
     ]
    },
    {
     "name": "stdout",
     "output_type": "stream",
     "text": [
      "Done 2458 of 2500\n",
      "Done 2459 of 2500\n",
      "Done 2460 of 2500\n",
      "Done 2461 of 2500\n",
      "Done 2462 of 2500\n"
     ]
    },
    {
     "name": "stderr",
     "output_type": "stream",
     "text": [
      "R[write to console]: boundary (singular) fit: see ?isSingular\n",
      "\n"
     ]
    },
    {
     "name": "stdout",
     "output_type": "stream",
     "text": [
      "Done 2463 of 2500\n",
      "Done 2464 of 2500\n",
      "Done 2465 of 2500\n",
      "Done 2466 of 2500\n",
      "Done 2467 of 2500\n"
     ]
    },
    {
     "name": "stderr",
     "output_type": "stream",
     "text": [
      "R[write to console]: boundary (singular) fit: see ?isSingular\n",
      "\n",
      "R[write to console]: boundary (singular) fit: see ?isSingular\n",
      "\n",
      "R[write to console]: boundary (singular) fit: see ?isSingular\n",
      "\n",
      "R[write to console]: boundary (singular) fit: see ?isSingular\n",
      "\n",
      "R[write to console]: boundary (singular) fit: see ?isSingular\n",
      "\n"
     ]
    },
    {
     "name": "stdout",
     "output_type": "stream",
     "text": [
      "Done 2468 of 2500\n",
      "Done 2469 of 2500\n",
      "Done 2470 of 2500\n",
      "Done 2471 of 2500\n",
      "Done 2472 of 2500\n"
     ]
    },
    {
     "name": "stderr",
     "output_type": "stream",
     "text": [
      "R[write to console]: boundary (singular) fit: see ?isSingular\n",
      "\n",
      "R[write to console]: boundary (singular) fit: see ?isSingular\n",
      "\n",
      "R[write to console]: boundary (singular) fit: see ?isSingular\n",
      "\n",
      "R[write to console]: boundary (singular) fit: see ?isSingular\n",
      "\n",
      "R[write to console]: boundary (singular) fit: see ?isSingular\n",
      "\n"
     ]
    },
    {
     "name": "stdout",
     "output_type": "stream",
     "text": [
      "Done 2473 of 2500\n",
      "Done 2474 of 2500\n",
      "Done 2475 of 2500\n",
      "Done 2476 of 2500\n"
     ]
    },
    {
     "name": "stderr",
     "output_type": "stream",
     "text": [
      "R[write to console]: boundary (singular) fit: see ?isSingular\n",
      "\n",
      "R[write to console]: boundary (singular) fit: see ?isSingular\n",
      "\n"
     ]
    },
    {
     "name": "stdout",
     "output_type": "stream",
     "text": [
      "Done 2477 of 2500\n",
      "Done 2478 of 2500\n",
      "Done 2479 of 2500\n",
      "Done 2480 of 2500\n",
      "Done 2481 of 2500\n"
     ]
    },
    {
     "name": "stderr",
     "output_type": "stream",
     "text": [
      "R[write to console]: boundary (singular) fit: see ?isSingular\n",
      "\n",
      "R[write to console]: boundary (singular) fit: see ?isSingular\n",
      "\n",
      "R[write to console]: boundary (singular) fit: see ?isSingular\n",
      "\n"
     ]
    },
    {
     "name": "stdout",
     "output_type": "stream",
     "text": [
      "Done 2482 of 2500\n",
      "Done 2483 of 2500\n",
      "Done 2484 of 2500\n",
      "Done 2485 of 2500\n",
      "Done 2486 of 2500\n"
     ]
    },
    {
     "name": "stderr",
     "output_type": "stream",
     "text": [
      "R[write to console]: boundary (singular) fit: see ?isSingular\n",
      "\n",
      "R[write to console]: boundary (singular) fit: see ?isSingular\n",
      "\n",
      "R[write to console]: boundary (singular) fit: see ?isSingular\n",
      "\n"
     ]
    },
    {
     "name": "stdout",
     "output_type": "stream",
     "text": [
      "Done 2487 of 2500\n",
      "Done 2488 of 2500\n",
      "Done 2489 of 2500\n",
      "Done 2490 of 2500\n"
     ]
    },
    {
     "name": "stderr",
     "output_type": "stream",
     "text": [
      "R[write to console]: boundary (singular) fit: see ?isSingular\n",
      "\n",
      "R[write to console]: boundary (singular) fit: see ?isSingular\n",
      "\n"
     ]
    },
    {
     "name": "stdout",
     "output_type": "stream",
     "text": [
      "Done 2491 of 2500\n",
      "Done 2492 of 2500\n",
      "Done 2493 of 2500\n",
      "Done 2494 of 2500\n",
      "Done 2495 of 2500\n"
     ]
    },
    {
     "name": "stderr",
     "output_type": "stream",
     "text": [
      "R[write to console]: boundary (singular) fit: see ?isSingular\n",
      "\n",
      "R[write to console]: boundary (singular) fit: see ?isSingular\n",
      "\n"
     ]
    },
    {
     "name": "stdout",
     "output_type": "stream",
     "text": [
      "Done 2496 of 2500\n",
      "Done 2497 of 2500\n",
      "Done 2498 of 2500\n",
      "Done 2499 of 2500\n",
      "Done 2500 of 2500\n"
     ]
    }
   ],
   "source": [
    "measure_iccs=[]\n",
    "dat = dat.loc[dat[dat.columns[0:2]].duplicated(keep='last') == False]\n",
    "single_ses_subs = dat.loc[dat.session.astype(int) <= 4, :].groupby('subject').session.nunique().reset_index().query('session <= 2').subject\n",
    "dat_ind = ~dat.subject.isin(single_ses_subs) & (dat.session.astype(int) <= 4)\n",
    "measure_cols = dat.columns[2:]\n",
    "for mc in measure_cols:\n",
    "    psych_dat = dat.loc[dat_ind, ['subject', 'session', mc]].set_index(['subject', 'session']).unstack()\n",
    "    mc_res = psych.ICC(psych_dat, missing=False,alpha=.05/(1352))\n",
    "    mc_res = mc_res[0].loc[['Single_random_raters', 'Single_fixed_raters']]\n",
    "    mc_res['measure'] = mc\n",
    "    measure_iccs.append(mc_res)\n",
    "    print('Done {} of 2500'.format(len(measure_iccs)))\n",
    "measure_iccs = pd.concat(measure_iccs)    "
   ]
  },
  {
   "cell_type": "code",
   "execution_count": 34,
   "metadata": {},
   "outputs": [],
   "source": [
    "measure_iccs.to_csv('/data/MBDU/midla/notebooks/campcc/test_retest/background_conn_measure_iccs.csv')"
   ]
  },
  {
   "cell_type": "code",
   "execution_count": 35,
   "metadata": {},
   "outputs": [],
   "source": [
    "measure_df = pd.DataFrame(measure_iccs)"
   ]
  },
  {
   "cell_type": "code",
   "execution_count": 36,
   "metadata": {},
   "outputs": [],
   "source": [
    "random = measure_df[measure_df.type == 'ICC2']\n",
    "fixed = measure_df[measure_df.type == 'ICC3']"
   ]
  },
  {
   "cell_type": "code",
   "execution_count": 216,
   "metadata": {},
   "outputs": [
    {
     "data": {
      "text/plain": [
       "0.2676791275242536"
      ]
     },
     "execution_count": 216,
     "metadata": {},
     "output_type": "execute_result"
    }
   ],
   "source": [
    "random.ICC.iloc[5]"
   ]
  },
  {
   "cell_type": "code",
   "execution_count": 37,
   "metadata": {},
   "outputs": [],
   "source": [
    "matrix_ran = []\n",
    "x = 0\n",
    "for i in range(0,50):\n",
    "    matrix_ran.append([])\n",
    "    for j in range(0,50):\n",
    "        matrix_ran[i].append([])\n",
    "        matrix_ran[i][j] = random.ICC.iloc[x]\n",
    "        x = x + 1"
   ]
  },
  {
   "cell_type": "code",
   "execution_count": 38,
   "metadata": {},
   "outputs": [],
   "source": [
    "x=0\n",
    "matrix_fixed = []\n",
    "for i in range(0,50):\n",
    "    matrix_fixed.append([])\n",
    "    for j in range(0,50):\n",
    "        matrix_fixed[i].append([])\n",
    "        matrix_fixed[i][j] = fixed.ICC.iloc[x]\n",
    "        x = x + 1"
   ]
  },
  {
   "cell_type": "code",
   "execution_count": 39,
   "metadata": {},
   "outputs": [],
   "source": [
    "fixed_df = pd.DataFrame(matrix_fixed)\n",
    "random_df = pd.DataFrame(matrix_ran)"
   ]
  },
  {
   "cell_type": "code",
   "execution_count": 262,
   "metadata": {
    "collapsed": true
   },
   "outputs": [
    {
     "name": "stderr",
     "output_type": "stream",
     "text": [
      "/gpfs/gsfs11/users/MBDU/midla/env/lib/python3.7/site-packages/pandas/core/indexing.py:190: SettingWithCopyWarning: \n",
      "A value is trying to be set on a copy of a slice from a DataFrame\n",
      "\n",
      "See the caveats in the documentation: http://pandas.pydata.org/pandas-docs/stable/indexing.html#indexing-view-versus-copy\n",
      "  self._setitem_with_indexer(indexer, value)\n",
      "/gpfs/gsfs11/users/MBDU/midla/env/lib/python3.7/site-packages/ipykernel_launcher.py:5: SettingWithCopyWarning: \n",
      "A value is trying to be set on a copy of a slice from a DataFrame\n",
      "\n",
      "See the caveats in the documentation: http://pandas.pydata.org/pandas-docs/stable/indexing.html#indexing-view-versus-copy\n",
      "  \"\"\"\n"
     ]
    },
    {
     "ename": "KeyboardInterrupt",
     "evalue": "",
     "output_type": "error",
     "traceback": [
      "\u001b[0;31m---------------------------------------------------------------------------\u001b[0m",
      "\u001b[0;31mKeyboardInterrupt\u001b[0m                         Traceback (most recent call last)",
      "\u001b[0;32m<ipython-input-262-0cea9e1e317d>\u001b[0m in \u001b[0;36m<module>\u001b[0;34m\u001b[0m\n\u001b[1;32m      3\u001b[0m \u001b[0;32mfor\u001b[0m \u001b[0mi\u001b[0m \u001b[0;32min\u001b[0m \u001b[0mrange\u001b[0m\u001b[0;34m(\u001b[0m\u001b[0;36m0\u001b[0m\u001b[0;34m,\u001b[0m\u001b[0;36m50\u001b[0m\u001b[0;34m)\u001b[0m\u001b[0;34m:\u001b[0m\u001b[0;34m\u001b[0m\u001b[0;34m\u001b[0m\u001b[0m\n\u001b[1;32m      4\u001b[0m     \u001b[0;32mfor\u001b[0m \u001b[0mj\u001b[0m \u001b[0;32min\u001b[0m \u001b[0mrange\u001b[0m\u001b[0;34m(\u001b[0m\u001b[0;36m0\u001b[0m\u001b[0;34m,\u001b[0m\u001b[0;36m50\u001b[0m\u001b[0;34m)\u001b[0m\u001b[0;34m:\u001b[0m\u001b[0;34m\u001b[0m\u001b[0;34m\u001b[0m\u001b[0m\n\u001b[0;32m----> 5\u001b[0;31m         \u001b[0mrandom_labeled\u001b[0m\u001b[0;34m.\u001b[0m\u001b[0mmeasure\u001b[0m\u001b[0;34m.\u001b[0m\u001b[0miloc\u001b[0m\u001b[0;34m[\u001b[0m\u001b[0mx\u001b[0m\u001b[0;34m]\u001b[0m \u001b[0;34m=\u001b[0m \u001b[0;34m'{}_{}'\u001b[0m\u001b[0;34m.\u001b[0m\u001b[0mformat\u001b[0m\u001b[0;34m(\u001b[0m\u001b[0mlabels\u001b[0m\u001b[0;34m[\u001b[0m\u001b[0mi\u001b[0m\u001b[0;34m]\u001b[0m\u001b[0;34m,\u001b[0m\u001b[0mlabels\u001b[0m\u001b[0;34m[\u001b[0m\u001b[0mj\u001b[0m\u001b[0;34m]\u001b[0m\u001b[0;34m)\u001b[0m\u001b[0;34m\u001b[0m\u001b[0;34m\u001b[0m\u001b[0m\n\u001b[0m\u001b[1;32m      6\u001b[0m         \u001b[0mx\u001b[0m \u001b[0;34m=\u001b[0m \u001b[0mx\u001b[0m \u001b[0;34m+\u001b[0m \u001b[0;36m1\u001b[0m\u001b[0;34m\u001b[0m\u001b[0;34m\u001b[0m\u001b[0m\n",
      "\u001b[0;32m/gpfs/gsfs11/users/MBDU/midla/env/lib/python3.7/site-packages/pandas/core/indexing.py\u001b[0m in \u001b[0;36m__setitem__\u001b[0;34m(self, key, value)\u001b[0m\n\u001b[1;32m    188\u001b[0m             \u001b[0mkey\u001b[0m \u001b[0;34m=\u001b[0m \u001b[0mcom\u001b[0m\u001b[0;34m.\u001b[0m\u001b[0mapply_if_callable\u001b[0m\u001b[0;34m(\u001b[0m\u001b[0mkey\u001b[0m\u001b[0;34m,\u001b[0m \u001b[0mself\u001b[0m\u001b[0;34m.\u001b[0m\u001b[0mobj\u001b[0m\u001b[0;34m)\u001b[0m\u001b[0;34m\u001b[0m\u001b[0;34m\u001b[0m\u001b[0m\n\u001b[1;32m    189\u001b[0m         \u001b[0mindexer\u001b[0m \u001b[0;34m=\u001b[0m \u001b[0mself\u001b[0m\u001b[0;34m.\u001b[0m\u001b[0m_get_setitem_indexer\u001b[0m\u001b[0;34m(\u001b[0m\u001b[0mkey\u001b[0m\u001b[0;34m)\u001b[0m\u001b[0;34m\u001b[0m\u001b[0;34m\u001b[0m\u001b[0m\n\u001b[0;32m--> 190\u001b[0;31m         \u001b[0mself\u001b[0m\u001b[0;34m.\u001b[0m\u001b[0m_setitem_with_indexer\u001b[0m\u001b[0;34m(\u001b[0m\u001b[0mindexer\u001b[0m\u001b[0;34m,\u001b[0m \u001b[0mvalue\u001b[0m\u001b[0;34m)\u001b[0m\u001b[0;34m\u001b[0m\u001b[0;34m\u001b[0m\u001b[0m\n\u001b[0m\u001b[1;32m    191\u001b[0m \u001b[0;34m\u001b[0m\u001b[0m\n\u001b[1;32m    192\u001b[0m     \u001b[0;32mdef\u001b[0m \u001b[0m_validate_key\u001b[0m\u001b[0;34m(\u001b[0m\u001b[0mself\u001b[0m\u001b[0;34m,\u001b[0m \u001b[0mkey\u001b[0m\u001b[0;34m,\u001b[0m \u001b[0maxis\u001b[0m\u001b[0;34m)\u001b[0m\u001b[0;34m:\u001b[0m\u001b[0;34m\u001b[0m\u001b[0;34m\u001b[0m\u001b[0m\n",
      "\u001b[0;32m/gpfs/gsfs11/users/MBDU/midla/env/lib/python3.7/site-packages/pandas/core/indexing.py\u001b[0m in \u001b[0;36m_setitem_with_indexer\u001b[0;34m(self, indexer, value)\u001b[0m\n\u001b[1;32m    649\u001b[0m \u001b[0;34m\u001b[0m\u001b[0m\n\u001b[1;32m    650\u001b[0m             \u001b[0;31m# check for chained assignment\u001b[0m\u001b[0;34m\u001b[0m\u001b[0;34m\u001b[0m\u001b[0;34m\u001b[0m\u001b[0m\n\u001b[0;32m--> 651\u001b[0;31m             \u001b[0mself\u001b[0m\u001b[0;34m.\u001b[0m\u001b[0mobj\u001b[0m\u001b[0;34m.\u001b[0m\u001b[0m_check_is_chained_assignment_possible\u001b[0m\u001b[0;34m(\u001b[0m\u001b[0;34m)\u001b[0m\u001b[0;34m\u001b[0m\u001b[0;34m\u001b[0m\u001b[0m\n\u001b[0m\u001b[1;32m    652\u001b[0m \u001b[0;34m\u001b[0m\u001b[0m\n\u001b[1;32m    653\u001b[0m             \u001b[0;31m# actually do the set\u001b[0m\u001b[0;34m\u001b[0m\u001b[0;34m\u001b[0m\u001b[0;34m\u001b[0m\u001b[0m\n",
      "\u001b[0;32m/gpfs/gsfs11/users/MBDU/midla/env/lib/python3.7/site-packages/pandas/core/generic.py\u001b[0m in \u001b[0;36m_check_is_chained_assignment_possible\u001b[0;34m(self)\u001b[0m\n\u001b[1;32m   3197\u001b[0m             \u001b[0;32mif\u001b[0m \u001b[0mref\u001b[0m \u001b[0;32mis\u001b[0m \u001b[0;32mnot\u001b[0m \u001b[0;32mNone\u001b[0m \u001b[0;32mand\u001b[0m \u001b[0mref\u001b[0m\u001b[0;34m.\u001b[0m\u001b[0m_is_mixed_type\u001b[0m\u001b[0;34m:\u001b[0m\u001b[0;34m\u001b[0m\u001b[0;34m\u001b[0m\u001b[0m\n\u001b[1;32m   3198\u001b[0m                 self._check_setitem_copy(stacklevel=4, t='referant',\n\u001b[0;32m-> 3199\u001b[0;31m                                          force=True)\n\u001b[0m\u001b[1;32m   3200\u001b[0m             \u001b[0;32mreturn\u001b[0m \u001b[0;32mTrue\u001b[0m\u001b[0;34m\u001b[0m\u001b[0;34m\u001b[0m\u001b[0m\n\u001b[1;32m   3201\u001b[0m         \u001b[0;32melif\u001b[0m \u001b[0mself\u001b[0m\u001b[0;34m.\u001b[0m\u001b[0m_is_copy\u001b[0m\u001b[0;34m:\u001b[0m\u001b[0;34m\u001b[0m\u001b[0;34m\u001b[0m\u001b[0m\n",
      "\u001b[0;32m/gpfs/gsfs11/users/MBDU/midla/env/lib/python3.7/site-packages/pandas/core/generic.py\u001b[0m in \u001b[0;36m_check_setitem_copy\u001b[0;34m(self, stacklevel, t, force)\u001b[0m\n\u001b[1;32m   3243\u001b[0m             \u001b[0;31m# the copy weakref\u001b[0m\u001b[0;34m\u001b[0m\u001b[0;34m\u001b[0m\u001b[0;34m\u001b[0m\u001b[0m\n\u001b[1;32m   3244\u001b[0m             \u001b[0;32mtry\u001b[0m\u001b[0;34m:\u001b[0m\u001b[0;34m\u001b[0m\u001b[0;34m\u001b[0m\u001b[0m\n\u001b[0;32m-> 3245\u001b[0;31m                 \u001b[0mgc\u001b[0m\u001b[0;34m.\u001b[0m\u001b[0mcollect\u001b[0m\u001b[0;34m(\u001b[0m\u001b[0;36m2\u001b[0m\u001b[0;34m)\u001b[0m\u001b[0;34m\u001b[0m\u001b[0;34m\u001b[0m\u001b[0m\n\u001b[0m\u001b[1;32m   3246\u001b[0m                 \u001b[0;32mif\u001b[0m \u001b[0;32mnot\u001b[0m \u001b[0mgc\u001b[0m\u001b[0;34m.\u001b[0m\u001b[0mget_referents\u001b[0m\u001b[0;34m(\u001b[0m\u001b[0mself\u001b[0m\u001b[0;34m.\u001b[0m\u001b[0m_is_copy\u001b[0m\u001b[0;34m(\u001b[0m\u001b[0;34m)\u001b[0m\u001b[0;34m)\u001b[0m\u001b[0;34m:\u001b[0m\u001b[0;34m\u001b[0m\u001b[0;34m\u001b[0m\u001b[0m\n\u001b[1;32m   3247\u001b[0m                     \u001b[0mself\u001b[0m\u001b[0;34m.\u001b[0m\u001b[0m_is_copy\u001b[0m \u001b[0;34m=\u001b[0m \u001b[0;32mNone\u001b[0m\u001b[0;34m\u001b[0m\u001b[0;34m\u001b[0m\u001b[0m\n",
      "\u001b[0;31mKeyboardInterrupt\u001b[0m: "
     ]
    }
   ],
   "source": [
    "random_labeled = random\n",
    "x = 0\n",
    "for i in range(0,50):\n",
    "    for j in range(0,50):\n",
    "        random_labeled.measure.iloc[x] = '{}_{}'.format(labels[i],labels[j])\n",
    "        x = x + 1"
   ]
  },
  {
   "cell_type": "code",
   "execution_count": 340,
   "metadata": {},
   "outputs": [],
   "source": [
    "sorted_random = random.sort_values('ICC',ascending = False)\n",
    "sorted_random = sorted_random.loc[sorted_random['ICC'].duplicated(keep='first') == False]\n",
    "sorted_random = sorted_random.iloc[0:20]"
   ]
  },
  {
   "cell_type": "code",
   "execution_count": 341,
   "metadata": {},
   "outputs": [],
   "source": [
    "for i in sorted_random['measure']:\n",
    "    splitstr = i.split('_')\n",
    "    y = 0\n",
    "    for x in splitstr:\n",
    "        splitstr[y] = labels[int(x)]\n",
    "        y = y + 1\n",
    "    sorted_random = sorted_random.replace(to_replace=i,value=' | '.join(splitstr))"
   ]
  },
  {
   "cell_type": "code",
   "execution_count": 342,
   "metadata": {
    "scrolled": false
   },
   "outputs": [
    {
     "data": {
      "text/html": [
       "<div>\n",
       "<style scoped>\n",
       "    .dataframe tbody tr th:only-of-type {\n",
       "        vertical-align: middle;\n",
       "    }\n",
       "\n",
       "    .dataframe tbody tr th {\n",
       "        vertical-align: top;\n",
       "    }\n",
       "\n",
       "    .dataframe thead th {\n",
       "        text-align: right;\n",
       "    }\n",
       "</style>\n",
       "<table border=\"1\" class=\"dataframe\">\n",
       "  <thead>\n",
       "    <tr style=\"text-align: right;\">\n",
       "      <th></th>\n",
       "      <th>type</th>\n",
       "      <th>ICC</th>\n",
       "      <th>F</th>\n",
       "      <th>df1</th>\n",
       "      <th>df2</th>\n",
       "      <th>p</th>\n",
       "      <th>lower bound</th>\n",
       "      <th>upper bound</th>\n",
       "      <th>measure</th>\n",
       "    </tr>\n",
       "  </thead>\n",
       "  <tbody>\n",
       "    <tr>\n",
       "      <th>Single_random_raters</th>\n",
       "      <td>ICC2</td>\n",
       "      <td>0.560284</td>\n",
       "      <td>6.096781</td>\n",
       "      <td>74.0</td>\n",
       "      <td>222.0</td>\n",
       "      <td>5.786120e-26</td>\n",
       "      <td>0.468159</td>\n",
       "      <td>0.650983</td>\n",
       "      <td>Left_Angular_Gyrus_1 | Left_Middle_Orbital_Gyrus</td>\n",
       "    </tr>\n",
       "    <tr>\n",
       "      <th>Single_random_raters</th>\n",
       "      <td>ICC2</td>\n",
       "      <td>0.560284</td>\n",
       "      <td>6.096781</td>\n",
       "      <td>74.0</td>\n",
       "      <td>222.0</td>\n",
       "      <td>5.786120e-26</td>\n",
       "      <td>0.468159</td>\n",
       "      <td>0.650983</td>\n",
       "      <td>Left_Middle_Orbital_Gyrus | Left_Angular_Gyrus_1</td>\n",
       "    </tr>\n",
       "    <tr>\n",
       "      <th>Single_random_raters</th>\n",
       "      <td>ICC2</td>\n",
       "      <td>0.535602</td>\n",
       "      <td>5.620755</td>\n",
       "      <td>74.0</td>\n",
       "      <td>222.0</td>\n",
       "      <td>8.502802e-24</td>\n",
       "      <td>0.441574</td>\n",
       "      <td>0.629256</td>\n",
       "      <td>SMA_1 | Left_Middle_Frontal_Gyrus_1</td>\n",
       "    </tr>\n",
       "    <tr>\n",
       "      <th>Single_random_raters</th>\n",
       "      <td>ICC2</td>\n",
       "      <td>0.535602</td>\n",
       "      <td>5.620755</td>\n",
       "      <td>74.0</td>\n",
       "      <td>222.0</td>\n",
       "      <td>8.502802e-24</td>\n",
       "      <td>0.441574</td>\n",
       "      <td>0.629256</td>\n",
       "      <td>Left_Middle_Frontal_Gyrus_1 | SMA_1</td>\n",
       "    </tr>\n",
       "    <tr>\n",
       "      <th>Single_random_raters</th>\n",
       "      <td>ICC2</td>\n",
       "      <td>0.487100</td>\n",
       "      <td>4.864874</td>\n",
       "      <td>74.0</td>\n",
       "      <td>222.0</td>\n",
       "      <td>3.498840e-20</td>\n",
       "      <td>0.390393</td>\n",
       "      <td>0.585689</td>\n",
       "      <td>Right_Postcentral_Gyrus | Left_Middle_Occipital_Gyrus_1</td>\n",
       "    </tr>\n",
       "    <tr>\n",
       "      <th>Single_random_raters</th>\n",
       "      <td>ICC2</td>\n",
       "      <td>0.487100</td>\n",
       "      <td>4.864874</td>\n",
       "      <td>74.0</td>\n",
       "      <td>222.0</td>\n",
       "      <td>3.498840e-20</td>\n",
       "      <td>0.390393</td>\n",
       "      <td>0.585689</td>\n",
       "      <td>Left_Middle_Occipital_Gyrus_1 | Right_Postcentral_Gyrus</td>\n",
       "    </tr>\n",
       "    <tr>\n",
       "      <th>Single_random_raters</th>\n",
       "      <td>ICC2</td>\n",
       "      <td>0.458123</td>\n",
       "      <td>4.426772</td>\n",
       "      <td>74.0</td>\n",
       "      <td>222.0</td>\n",
       "      <td>5.471044e-18</td>\n",
       "      <td>0.360222</td>\n",
       "      <td>0.559292</td>\n",
       "      <td>Left_Angular_Gyrus_1 | Right_Inferior_Parietal_Lobule</td>\n",
       "    </tr>\n",
       "    <tr>\n",
       "      <th>Single_random_raters</th>\n",
       "      <td>ICC2</td>\n",
       "      <td>0.458123</td>\n",
       "      <td>4.426772</td>\n",
       "      <td>74.0</td>\n",
       "      <td>222.0</td>\n",
       "      <td>5.471044e-18</td>\n",
       "      <td>0.360222</td>\n",
       "      <td>0.559292</td>\n",
       "      <td>Right_Inferior_Parietal_Lobule | Left_Angular_Gyrus_1</td>\n",
       "    </tr>\n",
       "    <tr>\n",
       "      <th>Single_random_raters</th>\n",
       "      <td>ICC2</td>\n",
       "      <td>0.443078</td>\n",
       "      <td>4.182334</td>\n",
       "      <td>74.0</td>\n",
       "      <td>222.0</td>\n",
       "      <td>9.851940e-17</td>\n",
       "      <td>0.344406</td>\n",
       "      <td>0.545665</td>\n",
       "      <td>Right_Inferior_Parietal_Lobule | Right_Angular_Gyrus</td>\n",
       "    </tr>\n",
       "    <tr>\n",
       "      <th>Single_random_raters</th>\n",
       "      <td>ICC2</td>\n",
       "      <td>0.443078</td>\n",
       "      <td>4.182334</td>\n",
       "      <td>74.0</td>\n",
       "      <td>222.0</td>\n",
       "      <td>9.851970e-17</td>\n",
       "      <td>0.344406</td>\n",
       "      <td>0.545665</td>\n",
       "      <td>Right_Angular_Gyrus | Right_Inferior_Parietal_Lobule</td>\n",
       "    </tr>\n",
       "    <tr>\n",
       "      <th>Single_random_raters</th>\n",
       "      <td>ICC2</td>\n",
       "      <td>0.441110</td>\n",
       "      <td>4.157044</td>\n",
       "      <td>74.0</td>\n",
       "      <td>222.0</td>\n",
       "      <td>1.332472e-16</td>\n",
       "      <td>0.342384</td>\n",
       "      <td>0.543846</td>\n",
       "      <td>Left_Middle_Orbital_Gyrus | Right_Angular_Gyrus</td>\n",
       "    </tr>\n",
       "    <tr>\n",
       "      <th>Single_random_raters</th>\n",
       "      <td>ICC2</td>\n",
       "      <td>0.441110</td>\n",
       "      <td>4.157044</td>\n",
       "      <td>74.0</td>\n",
       "      <td>222.0</td>\n",
       "      <td>1.332472e-16</td>\n",
       "      <td>0.342384</td>\n",
       "      <td>0.543846</td>\n",
       "      <td>Right_Angular_Gyrus | Left_Middle_Orbital_Gyrus</td>\n",
       "    </tr>\n",
       "    <tr>\n",
       "      <th>Single_random_raters</th>\n",
       "      <td>ICC2</td>\n",
       "      <td>0.435699</td>\n",
       "      <td>4.123502</td>\n",
       "      <td>74.0</td>\n",
       "      <td>222.0</td>\n",
       "      <td>1.990367e-16</td>\n",
       "      <td>0.337136</td>\n",
       "      <td>0.538618</td>\n",
       "      <td>Right_Middle_Occipital_Gyrus_1 | Right_Postcentral_Gyrus</td>\n",
       "    </tr>\n",
       "    <tr>\n",
       "      <th>Single_random_raters</th>\n",
       "      <td>ICC2</td>\n",
       "      <td>0.435699</td>\n",
       "      <td>4.123502</td>\n",
       "      <td>74.0</td>\n",
       "      <td>222.0</td>\n",
       "      <td>1.990367e-16</td>\n",
       "      <td>0.337136</td>\n",
       "      <td>0.538618</td>\n",
       "      <td>Right_Postcentral_Gyrus | Right_Middle_Occipital_Gyrus_1</td>\n",
       "    </tr>\n",
       "    <tr>\n",
       "      <th>Single_random_raters</th>\n",
       "      <td>ICC2</td>\n",
       "      <td>0.435198</td>\n",
       "      <td>4.082122</td>\n",
       "      <td>74.0</td>\n",
       "      <td>222.0</td>\n",
       "      <td>3.269528e-16</td>\n",
       "      <td>0.336322</td>\n",
       "      <td>0.538373</td>\n",
       "      <td>Precuneus | Right_Angular_Gyrus</td>\n",
       "    </tr>\n",
       "    <tr>\n",
       "      <th>Single_random_raters</th>\n",
       "      <td>ICC2</td>\n",
       "      <td>0.435198</td>\n",
       "      <td>4.082122</td>\n",
       "      <td>74.0</td>\n",
       "      <td>222.0</td>\n",
       "      <td>3.269528e-16</td>\n",
       "      <td>0.336322</td>\n",
       "      <td>0.538373</td>\n",
       "      <td>Right_Angular_Gyrus | Precuneus</td>\n",
       "    </tr>\n",
       "    <tr>\n",
       "      <th>Single_random_raters</th>\n",
       "      <td>ICC2</td>\n",
       "      <td>0.428411</td>\n",
       "      <td>4.069084</td>\n",
       "      <td>74.0</td>\n",
       "      <td>222.0</td>\n",
       "      <td>3.824084e-16</td>\n",
       "      <td>0.329845</td>\n",
       "      <td>0.531714</td>\n",
       "      <td>Right_Putamen | Right_Pallidum</td>\n",
       "    </tr>\n",
       "    <tr>\n",
       "      <th>Single_random_raters</th>\n",
       "      <td>ICC2</td>\n",
       "      <td>0.428411</td>\n",
       "      <td>4.069079</td>\n",
       "      <td>74.0</td>\n",
       "      <td>222.0</td>\n",
       "      <td>3.824322e-16</td>\n",
       "      <td>0.329844</td>\n",
       "      <td>0.531714</td>\n",
       "      <td>Right_Pallidum | Right_Putamen</td>\n",
       "    </tr>\n",
       "    <tr>\n",
       "      <th>Single_random_raters</th>\n",
       "      <td>ICC2</td>\n",
       "      <td>0.428230</td>\n",
       "      <td>4.029704</td>\n",
       "      <td>74.0</td>\n",
       "      <td>222.0</td>\n",
       "      <td>6.143313e-16</td>\n",
       "      <td>0.329508</td>\n",
       "      <td>0.531676</td>\n",
       "      <td>SMA_2 | Right_Insula_Lobe</td>\n",
       "    </tr>\n",
       "    <tr>\n",
       "      <th>Single_random_raters</th>\n",
       "      <td>ICC2</td>\n",
       "      <td>0.428230</td>\n",
       "      <td>4.029704</td>\n",
       "      <td>74.0</td>\n",
       "      <td>222.0</td>\n",
       "      <td>6.143313e-16</td>\n",
       "      <td>0.329508</td>\n",
       "      <td>0.531676</td>\n",
       "      <td>Right_Insula_Lobe | SMA_2</td>\n",
       "    </tr>\n",
       "  </tbody>\n",
       "</table>\n",
       "</div>"
      ],
      "text/plain": [
       "                      type       ICC         F   df1    df2             p  lower bound  upper bound                                                   measure\n",
       "Single_random_raters  ICC2  0.560284  6.096781  74.0  222.0  5.786120e-26     0.468159     0.650983          Left_Angular_Gyrus_1 | Left_Middle_Orbital_Gyrus\n",
       "Single_random_raters  ICC2  0.560284  6.096781  74.0  222.0  5.786120e-26     0.468159     0.650983          Left_Middle_Orbital_Gyrus | Left_Angular_Gyrus_1\n",
       "Single_random_raters  ICC2  0.535602  5.620755  74.0  222.0  8.502802e-24     0.441574     0.629256                       SMA_1 | Left_Middle_Frontal_Gyrus_1\n",
       "Single_random_raters  ICC2  0.535602  5.620755  74.0  222.0  8.502802e-24     0.441574     0.629256                       Left_Middle_Frontal_Gyrus_1 | SMA_1\n",
       "Single_random_raters  ICC2  0.487100  4.864874  74.0  222.0  3.498840e-20     0.390393     0.585689   Right_Postcentral_Gyrus | Left_Middle_Occipital_Gyrus_1\n",
       "Single_random_raters  ICC2  0.487100  4.864874  74.0  222.0  3.498840e-20     0.390393     0.585689   Left_Middle_Occipital_Gyrus_1 | Right_Postcentral_Gyrus\n",
       "Single_random_raters  ICC2  0.458123  4.426772  74.0  222.0  5.471044e-18     0.360222     0.559292     Left_Angular_Gyrus_1 | Right_Inferior_Parietal_Lobule\n",
       "Single_random_raters  ICC2  0.458123  4.426772  74.0  222.0  5.471044e-18     0.360222     0.559292     Right_Inferior_Parietal_Lobule | Left_Angular_Gyrus_1\n",
       "Single_random_raters  ICC2  0.443078  4.182334  74.0  222.0  9.851940e-17     0.344406     0.545665      Right_Inferior_Parietal_Lobule | Right_Angular_Gyrus\n",
       "Single_random_raters  ICC2  0.443078  4.182334  74.0  222.0  9.851970e-17     0.344406     0.545665      Right_Angular_Gyrus | Right_Inferior_Parietal_Lobule\n",
       "Single_random_raters  ICC2  0.441110  4.157044  74.0  222.0  1.332472e-16     0.342384     0.543846           Left_Middle_Orbital_Gyrus | Right_Angular_Gyrus\n",
       "Single_random_raters  ICC2  0.441110  4.157044  74.0  222.0  1.332472e-16     0.342384     0.543846           Right_Angular_Gyrus | Left_Middle_Orbital_Gyrus\n",
       "Single_random_raters  ICC2  0.435699  4.123502  74.0  222.0  1.990367e-16     0.337136     0.538618  Right_Middle_Occipital_Gyrus_1 | Right_Postcentral_Gyrus\n",
       "Single_random_raters  ICC2  0.435699  4.123502  74.0  222.0  1.990367e-16     0.337136     0.538618  Right_Postcentral_Gyrus | Right_Middle_Occipital_Gyrus_1\n",
       "Single_random_raters  ICC2  0.435198  4.082122  74.0  222.0  3.269528e-16     0.336322     0.538373                           Precuneus | Right_Angular_Gyrus\n",
       "Single_random_raters  ICC2  0.435198  4.082122  74.0  222.0  3.269528e-16     0.336322     0.538373                           Right_Angular_Gyrus | Precuneus\n",
       "Single_random_raters  ICC2  0.428411  4.069084  74.0  222.0  3.824084e-16     0.329845     0.531714                            Right_Putamen | Right_Pallidum\n",
       "Single_random_raters  ICC2  0.428411  4.069079  74.0  222.0  3.824322e-16     0.329844     0.531714                            Right_Pallidum | Right_Putamen\n",
       "Single_random_raters  ICC2  0.428230  4.029704  74.0  222.0  6.143313e-16     0.329508     0.531676                                 SMA_2 | Right_Insula_Lobe\n",
       "Single_random_raters  ICC2  0.428230  4.029704  74.0  222.0  6.143313e-16     0.329508     0.531676                                 Right_Insula_Lobe | SMA_2"
      ]
     },
     "execution_count": 342,
     "metadata": {},
     "output_type": "execute_result"
    }
   ],
   "source": [
    "sorted_random"
   ]
  },
  {
   "cell_type": "code",
   "execution_count": 40,
   "metadata": {},
   "outputs": [
    {
     "data": {
      "text/plain": [
       "<matplotlib.image.AxesImage at 0x2aab012c0630>"
      ]
     },
     "execution_count": 40,
     "metadata": {},
     "output_type": "execute_result"
    },
    {
     "data": {
      "image/png": "[encoded data removed]",
      "text/plain": [
       "<Figure size 720x720 with 2 Axes>"
      ]
     },
     "metadata": {
      "needs_background": "light"
     },
     "output_type": "display_data"
    }
   ],
   "source": [
    "label_data = pd.read_csv('/data/MBDU/midla/notebooks/campcc/atlas_labels.csv', header=None).values.tolist()\n",
    "labels = []\n",
    "for x in label_data:\n",
    "    labels.append(x[0])\n",
    "plotting.plot_matrix(fixed_df,labels=labels,tri='lower',figure=(10,10))"
   ]
  },
  {
   "cell_type": "code",
   "execution_count": 41,
   "metadata": {},
   "outputs": [
    {
     "data": {
      "image/png": "[encoded data removed]",
      "text/plain": [
       "<Figure size 720x720 with 2 Axes>"
      ]
     },
     "metadata": {},
     "output_type": "display_data"
    }
   ],
   "source": [
    "fig,ax = plt.subplots(1,figsize = (10,10))\n",
    "plotting.plot_matrix(random_df, figure = fig,labels=labels,tri='lower',cmap = 'Reds')\n",
    "fig.patch.set_facecolor('white')"
   ]
  },
  {
   "cell_type": "code",
   "execution_count": null,
   "metadata": {},
   "outputs": [],
   "source": [
    "# Let's get pych's ICC 2,1 and 3,1 for all fs stats in orig\n",
    "single_ses_subs = fs_dat.loc[fs_dat.session.astype(int) <= 4, :].groupby('subject').session_id.nunique().reset_index().query('session_id <= 2').subject\n",
    "dat_ind = ~fs_dat.subject.isin(single_ses_subs) & (fs_dat.session.astype(int) <= 4)\n",
    "measure_iccs=[]\n",
    "for mc in measure_cols:\n",
    "    psych_dat = fs_dat.loc[dat_ind, ['subject', 'session', mc]].set_index(['subject', 'session']).unstack()\n",
    "    mc_res = psych.ICC(psych_dat, missing=False)\n",
    "    mc_res = mc_res[0].loc[['Single_random_raters', 'Single_fixed_raters']]\n",
    "    mc_res['measure'] = mc\n",
    "    measure_iccs.append(mc_res)\n",
    "measure_iccs = pd.concat(measure_iccs)"
   ]
  }
 ],
 "metadata": {
  "kernelspec": {
   "display_name": "Python 3",
   "language": "python",
   "name": "python3"
  },
  "language_info": {
   "codemirror_mode": {
    "name": "ipython",
    "version": 3
   },
   "file_extension": ".py",
   "mimetype": "text/x-python",
   "name": "python",
   "nbconvert_exporter": "python",
   "pygments_lexer": "ipython3",
   "version": "3.7.3"
  }
 },
 "nbformat": 4,
 "nbformat_minor": 4
}
