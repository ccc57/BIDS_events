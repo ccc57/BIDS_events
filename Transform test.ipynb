{
 "cells": [
  {
   "cell_type": "code",
   "execution_count": 2,
   "metadata": {},
   "outputs": [
    {
     "data": {
      "text/html": [
       "<style>#notebook { padding-top:0px !important; } .container { width:100% !important; } .end_space { min-height:0px !important; } </style>"
      ],
      "text/plain": [
       "<IPython.core.display.HTML object>"
      ]
     },
     "metadata": {},
     "output_type": "display_data"
    }
   ],
   "source": [
    "#quickstart\n",
    "from pathlib import Path\n",
    "import pandas as pd\n",
    "from bids import BIDSLayout\n",
    "from joblib import Parallel, delayed\n",
    "import nilearn\n",
    "import nibabel as nib\n",
    "import nltools.prefs as prf\n",
    "from nilearn import datasets, image, plotting, input_data\n",
    "from nilearn.masking import apply_mask\n",
    "from nilearn.image import resample_to_img\n",
    "from nilearn.image import concat_imgs, index_img\n",
    "import numpy as np\n",
    "import matplotlib.pylab as plt\n",
    "\n",
    "import rpy2\n",
    "from rpy2.robjects.packages import importr\n",
    "from pymer4 import Lmer\n",
    "psych = importr('psych')\n",
    "\n",
    "\n",
    "import rpy2.robjects as ro\n",
    "from rpy2.robjects import pandas2ri\n",
    "\n",
    "from rpy2.robjects.conversion import localconverter\n",
    "\n",
    "import os\n",
    "import glob\n",
    "import seaborn as sns\n",
    "from nltools.data import Brain_Data, Design_Matrix, Adjacency\n",
    "from nltools.mask import expand_mask, roi_to_brain\n",
    "from nltools.stats import zscore\n",
    "from scipy.stats import binom, ttest_1samp\n",
    "from sklearn.metrics import pairwise_distances\n",
    "from nltools.stats import fdr, one_sample_permutation\n",
    "from copy import deepcopy\n",
    "from nltools.utils import get_anatomical\n",
    "import nltools.plotting as nlplt\n",
    "from datetime import date\n",
    "from joblib import Parallel, delayed\n",
    "\n",
    "from sklearn.linear_model import LinearRegression\n",
    "from sklearn.decomposition import PCA\n",
    "\n",
    "from nilearn.input_data import NiftiMapsMasker\n",
    "from nilearn.connectome import ConnectivityMeasure\n",
    "\n",
    "#dat_paths = pd.read_csv('/data/MBDU/midla/notebooks/campcc/dat_paths_11272019.csv') \n",
    "#atlas = image.load_img('/data/MBDU/midla/notebooks/campcc/hox_msdl_atlas.nii.gz')\n",
    "#sub1 = image.load_img('/data/MBDU/midla/data/derivatives/fmriprep/rn_aroma_20190910_2mm/sub-20900/out/fmrip\n",
    "\n",
    "%matplotlib inline\n",
    "pd.set_option('display.max_rows', 500)\n",
    "pd.set_option('display.max_columns', 500)\n",
    "pd.set_option('display.max_colwidth', 500)\n",
    "pd.set_option('display.width', 1000)\n",
    "\n",
    "from IPython.core.display import display, HTML\n",
    "display(HTML(\"<style>\"\n",
    "    + \"#notebook { padding-top:0px !important; } \" \n",
    "    + \".container { width:100% !important; } \"\n",
    "    + \".end_space { min-height:0px !important; } \"\n",
    "    + \"</style>\"))"
   ]
  },
  {
   "cell_type": "code",
   "execution_count": 3,
   "metadata": {},
   "outputs": [],
   "source": [
    "dat_paths = pd.read_csv('/data/MBDU/midla/notebooks/campcc/dat_paths_12092019.csv')\n",
    "included_subjects = pd.read_csv('/data/MBDU/midla/notebooks/campcc/test_retest/included_subjects.csv',index_col = 0)\n",
    "dat_paths = dat_paths[dat_paths['subject'].isin(included_subjects['SDAN'])]\n",
    "dat_paths = dat_paths.loc[dat_paths[dat_paths.columns[4:6]].duplicated(keep='last') == False]\n",
    "single_ses_subs = dat_paths.loc[dat_paths.session.astype(int) <= 4, :].groupby('subject').session.nunique().reset_index().query('session <= 2').subject\n",
    "dat_ind = ~dat_paths.subject.isin(single_ses_subs) & (dat_paths.session.astype(int) <= 4)\n",
    "dat_paths = dat_paths.loc[dat_ind]"
   ]
  },
  {
   "cell_type": "code",
   "execution_count": 4,
   "metadata": {},
   "outputs": [
    {
     "name": "stderr",
     "output_type": "stream",
     "text": [
      "/gpfs/gsfs11/users/MBDU/midla/env/lib/python3.7/site-packages/nilearn/image/resampling.py:510: UserWarning: Casting data from int64 to float64\n",
      "  warnings.warn(\"Casting data from %s to %s\" % (data.dtype.name, aux))\n"
     ]
    }
   ],
   "source": [
    "basc = datasets.fetch_atlas_basc_multiscale_2015(version='asym')\n",
    "basc64 = basc['scale064']\n",
    "atlas = image.load_img(basc64)\n",
    "\n",
    "atlas_dat = atlas.get_fdata()\n",
    "uvs = np.unique(atlas_dat)\n",
    "atlas_in_4d = []\n",
    "for uv in uvs:\n",
    "    atlas_in_4d.append((atlas_dat == uv).astype(int))\n",
    "atlas_4d_dat = np.array(atlas_in_4d)\n",
    "\n",
    "for _,row in dat_paths.iterrows():\n",
    "    break\n",
    "    \n",
    "img = image.load_img(row.scaled_path)\n",
    "regions_extracted_img = image.new_img_like(img,atlas_4d_dat,copy_header=False)\n",
    "regions_extracted_img = resample_to_img(regions_extracted_img,img)"
   ]
  },
  {
   "cell_type": "code",
   "execution_count": 48,
   "metadata": {},
   "outputs": [],
   "source": [
    "img = image.load_img(row.scaled_path)\n",
    "if img.get_fdata().shape[-1] < 100:\n",
    "    print('failed')\n",
    "# load subjects grey matter mask\n",
    "mask_img = resample_to_img(image.load_img(row.mask_path),img)\n",
    "mask_dat = mask_img.get_fdata()[:,:,:,np.newaxis]\n",
    "\n",
    "# make a binary grey matter mask\n",
    "mask_bin = mask_dat > 0\n",
    "\n",
    "# mask the regions image by the subject grey matter\n",
    "regions_masked_dat = regions_extracted_img.get_fdata() * mask_bin\n",
    "regions_masked_img = image.new_img_like(regions_extracted_img, \n",
    "                                        regions_masked_dat, \n",
    "                                        affine=regions_extracted_img.affine, \n",
    "                                        copy_header=True)"
   ]
  },
  {
   "cell_type": "code",
   "execution_count": 61,
   "metadata": {},
   "outputs": [],
   "source": [
    "def gm_complex(row, regions_extracted_img, n_dummy=4, **kwargs):\n",
    "    #Complex extraction\n",
    "    \n",
    "\n",
    "    # create a new masker instance\n",
    "    masker = input_data.NiftiMapsMasker(regions_masked_img, resampling_target=\"data\", **kwargs)\n",
    "\n",
    "    gm_dat = mask_dat * img.get_fdata()\n",
    "    gm_img = image.new_img_like(img, gm_dat, affine=img.affine, copy_header=True)\n",
    "    \n",
    "    # Load confounds and remove drift columns if present\n",
    "#     try:\n",
    "#         cfds = pd.read_csv(row.confounds_path, sep='\\t')\n",
    "#         cfds = cfds.loc[:, cfds.columns[0:8]]\n",
    "#         return masker.fit_transform(gm_img, cfds.values)[n_dummy:, :]\n",
    "#     except KeyError:\n",
    "    return masker.fit_transform(gm_img)[n_dummy:, :]"
   ]
  },
  {
   "cell_type": "code",
   "execution_count": 62,
   "metadata": {},
   "outputs": [
    {
     "name": "stderr",
     "output_type": "stream",
     "text": [
      "/gpfs/gsfs11/users/MBDU/midla/env/lib/python3.7/site-packages/nilearn/input_data/nifti_maps_masker.py:326: UserWarning: Persisting input arguments took 20.16s to run.\n",
      "If this happens often in your code, it can cause performance problems \n",
      "(results will be correct in all cases). \n",
      "The reason for this is probably some large input arguments for a wrapped\n",
      " function (e.g. large strings).\n",
      "THIS IS A JOBLIB ISSUE. If you can, kindly provide the joblib's team with an\n",
      " example so that they can fix the problem.\n",
      "  verbose=self.verbose)\n"
     ]
    }
   ],
   "source": [
    "for _,row in dat_paths.iterrows():\n",
    "    break\n",
    "complex_gm = gm_complex(row,regions_extracted_img, t_r=2, detrend=False,\n",
    "    low_pass=.1, high_pass=.01, memory='nilearn_cache', memory_level=1, standardize='psc')"
   ]
  },
  {
   "cell_type": "code",
   "execution_count": 56,
   "metadata": {},
   "outputs": [
    {
     "data": {
      "text/plain": [
       "array([[ 7.53940874e+00, -8.26343930e+00, -6.47520237e-01, ...,\n",
       "        -1.93764349e+00,  5.92050421e+00,  6.25834727e+13],\n",
       "       [ 5.81270261e+00, -6.68549723e+00, -5.38867483e-01, ...,\n",
       "        -1.56445210e+00,  4.86104335e+00,  5.06633977e+13],\n",
       "       [ 5.36990885e+00, -6.14738873e+00, -5.04080671e-01, ...,\n",
       "        -1.22516732e+00,  4.35427430e+00,  4.72891635e+13],\n",
       "       ...,\n",
       "       [-1.04557081e+00, -1.20733944e-01,  1.27312663e-02, ...,\n",
       "         1.28046525e-01,  1.99616525e-01,  5.55654773e+11],\n",
       "       [-5.28790210e-01, -1.97442527e-01,  3.37875287e-04, ...,\n",
       "         1.61573212e-01,  8.81622229e-02,  6.58259951e+10],\n",
       "       [-6.94918113e-03, -6.96130906e-02, -6.42429651e-03, ...,\n",
       "         5.82838291e-02, -7.27533537e-03, -3.27680827e+10]])"
      ]
     },
     "execution_count": 56,
     "metadata": {},
     "output_type": "execute_result"
    }
   ],
   "source": [
    "complex_gm"
   ]
  },
  {
   "cell_type": "code",
   "execution_count": 28,
   "metadata": {},
   "outputs": [],
   "source": [
    "#Simple\n",
    "#Function: takes in row and masker object\n",
    "#Returns image masked by grey matter, confounds, and transformed to atlas masker\n",
    "def gm_simple(row, regions_extracted_img, n_dummy=4, **kwargs):\n",
    "    img = image.load_img(row.scaled_path)\n",
    "    img_dat = img.get_fdata()\n",
    "    if img_dat.shape[-1] < 100:\n",
    "        print('failed')\n",
    "    \n",
    "    # load subjects grey matter mask\n",
    "    mask_img = resample_to_img(image.load_img(row.mask_path),img)\n",
    "    mask_dat = mask_img.get_fdata()[:,:,:,np.newaxis]\n",
    "    mask_bin = mask_dat > 0\n",
    "    \n",
    "    regions_masked_dat = regions_extracted_img.get_fdata() * mask_bin\n",
    "    regions_masked_img = image.new_img_like(regions_extracted_img, \n",
    "                                            regions_masked_dat, \n",
    "                                            affine=regions_extracted_img.affine, \n",
    "                                            copy_header=True)\n",
    "    \n",
    "    gm_dat = mask_dat * (img_dat - 100)\n",
    "    simple_masked_ts = np.zeros((img_dat.shape[-1], regions_masked_dat.shape[-1]))\n",
    "    \n",
    "    for yi in range(simple_masked_ts.shape[-1]):\n",
    "        simple_masked_ts[:,yi] = (((gm_dat * regions_masked_dat[:,:,:,yi][:,:,:,np.newaxis]).sum(0).sum(0).sum(0))/regions_masked_dat[:,:,:,yi].sum() + 100)\n",
    "    return simple_masked_ts"
   ]
  },
  {
   "cell_type": "code",
   "execution_count": 38,
   "metadata": {},
   "outputs": [],
   "source": [
    "#Simple\n",
    "#Function: takes in row and masker object\n",
    "#Returns image masked by grey matter, confounds, and transformed to atlas masker\n",
    "def gm_simple100(row, regions_extracted_img, n_dummy=4, **kwargs):\n",
    "    img = image.load_img(row.scaled_path)\n",
    "    img_dat = img.get_fdata()\n",
    "    if img_dat.shape[-1] < 100:\n",
    "        print('failed')\n",
    "    \n",
    "    # load subjects grey matter mask\n",
    "    mask_img = resample_to_img(image.load_img(row.mask_path),img)\n",
    "    mask_dat = mask_img.get_fdata()[:,:,:,np.newaxis]\n",
    "    mask_bin = mask_dat > 0\n",
    "    \n",
    "    regions_masked_dat = regions_extracted_img.get_fdata() * mask_bin\n",
    "    regions_masked_img = image.new_img_like(regions_extracted_img, \n",
    "                                            regions_masked_dat, \n",
    "                                            affine=regions_extracted_img.affine, \n",
    "                                            copy_header=True)\n",
    "    \n",
    "    gm_dat = mask_dat * (img_dat)\n",
    "    simple_masked_ts = np.zeros((img_dat.shape[-1], regions_masked_dat.shape[-1]))\n",
    "    \n",
    "    for yi in range(simple_masked_ts.shape[-1]):\n",
    "        simple_masked_ts[:,yi] = (((gm_dat * regions_masked_dat[:,:,:,yi][:,:,:,np.newaxis]).sum(0).sum(0).sum(0))/regions_masked_dat[:,:,:,yi].sum())\n",
    "    return simple_masked_ts"
   ]
  },
  {
   "cell_type": "code",
   "execution_count": 39,
   "metadata": {},
   "outputs": [],
   "source": [
    "for _,row in dat_paths.iterrows():\n",
    "    break\n",
    "simple_gm100 = gm_simple100(row,regions_extracted_img, t_r=2, detrend=False,\n",
    "    low_pass=.1, high_pass=.01, memory='nilearn_cache', memory_level=1)"
   ]
  },
  {
   "cell_type": "code",
   "execution_count": 43,
   "metadata": {},
   "outputs": [
    {
     "data": {
      "text/plain": [
       "[<matplotlib.lines.Line2D at 0x2aabe3468e10>]"
      ]
     },
     "execution_count": 43,
     "metadata": {},
     "output_type": "execute_result"
    },
    {
     "data": {
      "image/png": "[encoded data removed]",
      "text/plain": [
       "<Figure size 432x288 with 1 Axes>"
      ]
     },
     "metadata": {
      "needs_background": "light"
     },
     "output_type": "display_data"
    }
   ],
   "source": [
    "plt.plot(simple_gm100[0])\n",
    "plt.plot(simple_gm100[1])\n",
    "plt.plot(simple_gm100[2])"
   ]
  },
  {
   "cell_type": "code",
   "execution_count": 63,
   "metadata": {},
   "outputs": [
    {
     "data": {
      "text/plain": [
       "[<matplotlib.lines.Line2D at 0x2aabe3602f28>]"
      ]
     },
     "execution_count": 63,
     "metadata": {},
     "output_type": "execute_result"
    },
    {
     "data": {
      "image/png": "[encoded data removed]",
      "text/plain": [
       "<Figure size 432x288 with 1 Axes>"
      ]
     },
     "metadata": {
      "needs_background": "light"
     },
     "output_type": "display_data"
    }
   ],
   "source": [
    "plt.plot(complex_gm[0][:40])\n",
    "plt.plot(complex_gm[1][:40])\n",
    "plt.plot(complex_gm[2][:40])"
   ]
  },
  {
   "cell_type": "code",
   "execution_count": null,
   "metadata": {},
   "outputs": [],
   "source": []
  },
  {
   "cell_type": "code",
   "execution_count": 33,
   "metadata": {},
   "outputs": [
    {
     "data": {
      "text/plain": [
       "array([[104.34806306, 113.9152256 , 104.72198975, ..., 113.6868623 ,\n",
       "        104.17131957,  99.99999904],\n",
       "       [ 99.74872631,  99.41766692,  99.82410167, ..., 102.84433176,\n",
       "        100.33420323,  99.99999977],\n",
       "       [ 99.70800025,  99.58639013,  99.92745004, ..., 102.14322439,\n",
       "        100.09033876,  99.99999984],\n",
       "       ...,\n",
       "       [101.17405573, 100.75068431, 100.24562136, ...,  98.78390066,\n",
       "         99.71009219, 100.00000011],\n",
       "       [101.79495885, 100.41544691, 100.19075456, ...,  98.97486623,\n",
       "         99.75573884, 100.0000001 ],\n",
       "       [102.65032154, 100.9264471 , 100.31610513, ...,  98.91292703,\n",
       "         99.62544881, 100.00000011]])"
      ]
     },
     "execution_count": 33,
     "metadata": {},
     "output_type": "execute_result"
    }
   ],
   "source": [
    "simple_gm"
   ]
  },
  {
   "cell_type": "code",
   "execution_count": null,
   "metadata": {},
   "outputs": [],
   "source": []
  },
  {
   "cell_type": "code",
   "execution_count": 34,
   "metadata": {},
   "outputs": [
    {
     "data": {
      "text/plain": [
       "array([[ 7.53940874e+00, -8.26343930e+00, -6.47520237e-01, ...,\n",
       "        -1.93764349e+00,  5.92050421e+00,  6.25834727e+13],\n",
       "       [ 5.81270261e+00, -6.68549723e+00, -5.38867483e-01, ...,\n",
       "        -1.56445210e+00,  4.86104335e+00,  5.06633977e+13],\n",
       "       [ 5.36990885e+00, -6.14738873e+00, -5.04080671e-01, ...,\n",
       "        -1.22516732e+00,  4.35427430e+00,  4.72891635e+13],\n",
       "       ...,\n",
       "       [-1.04557081e+00, -1.20733944e-01,  1.27312663e-02, ...,\n",
       "         1.28046525e-01,  1.99616525e-01,  5.55654773e+11],\n",
       "       [-5.28790210e-01, -1.97442527e-01,  3.37875287e-04, ...,\n",
       "         1.61573212e-01,  8.81622229e-02,  6.58259951e+10],\n",
       "       [-6.94918113e-03, -6.96130906e-02, -6.42429651e-03, ...,\n",
       "         5.82838291e-02, -7.27533537e-03, -3.27680827e+10]])"
      ]
     },
     "execution_count": 34,
     "metadata": {},
     "output_type": "execute_result"
    }
   ],
   "source": [
    "complex_gm"
   ]
  },
  {
   "cell_type": "code",
   "execution_count": 27,
   "metadata": {},
   "outputs": [
    {
     "data": {
      "text/plain": [
       "(97, 115, 97, 366)"
      ]
     },
     "execution_count": 27,
     "metadata": {},
     "output_type": "execute_result"
    }
   ],
   "source": [
    "simple_gm.shape"
   ]
  },
  {
   "cell_type": "code",
   "execution_count": null,
   "metadata": {},
   "outputs": [],
   "source": []
  }
 ],
 "metadata": {
  "kernelspec": {
   "display_name": "Python 3",
   "language": "python",
   "name": "python3"
  },
  "language_info": {
   "codemirror_mode": {
    "name": "ipython",
    "version": 3
   },
   "file_extension": ".py",
   "mimetype": "text/x-python",
   "name": "python",
   "nbconvert_exporter": "python",
   "pygments_lexer": "ipython3",
   "version": "3.7.3"
  }
 },
 "nbformat": 4,
 "nbformat_minor": 4
}
