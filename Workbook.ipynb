{
 "cells": [
  {
   "cell_type": "code",
   "execution_count": 1,
   "metadata": {},
   "outputs": [
    {
     "name": "stderr",
     "output_type": "stream",
     "text": [
      "/gpfs/gsfs11/users/MBDU/midla/env/lib/python3.7/site-packages/sklearn/externals/joblib/__init__.py:15: DeprecationWarning: sklearn.externals.joblib is deprecated in 0.21 and will be removed in 0.23. Please import this functionality directly from joblib, which can be installed with: pip install joblib. If this warning is raised when loading pickled models, you may need to re-serialize those models with scikit-learn 0.21+.\n",
      "  warnings.warn(msg, category=DeprecationWarning)\n"
     ]
    },
    {
     "data": {
      "text/html": [
       "<style>#notebook { padding-top:0px !important; } .container { width:100% !important; } .end_space { min-height:0px !important; } </style>"
      ],
      "text/plain": [
       "<IPython.core.display.HTML object>"
      ]
     },
     "metadata": {},
     "output_type": "display_data"
    }
   ],
   "source": [
    "#quickstart\n",
    "from pathlib import Path\n",
    "import pandas as pd\n",
    "from bids import BIDSLayout\n",
    "from joblib import Parallel, delayed\n",
    "import nilearn\n",
    "import nibabel as nib\n",
    "import nltools.prefs as prf\n",
    "from nilearn import datasets, image, plotting, input_data\n",
    "from nilearn.masking import apply_mask\n",
    "from nilearn.image import resample_to_img\n",
    "from nilearn.image import concat_imgs, index_img\n",
    "import numpy as np\n",
    "import matplotlib.pylab as plt\n",
    "\n",
    "import rpy2\n",
    "from rpy2.robjects.packages import importr\n",
    "from pymer4 import Lmer\n",
    "psych = importr('psych')\n",
    "\n",
    "\n",
    "import rpy2.robjects as ro\n",
    "from rpy2.robjects import pandas2ri\n",
    "\n",
    "from rpy2.robjects.conversion import localconverter\n",
    "\n",
    "import os\n",
    "import glob\n",
    "import seaborn as sns\n",
    "from nltools.data import Brain_Data, Design_Matrix, Adjacency\n",
    "from nltools.mask import expand_mask, roi_to_brain\n",
    "from nltools.stats import zscore\n",
    "from scipy.stats import binom, ttest_1samp\n",
    "from sklearn.metrics import pairwise_distances\n",
    "from nltools.stats import fdr, one_sample_permutation\n",
    "from copy import deepcopy\n",
    "from nltools.utils import get_anatomical\n",
    "import nltools.plotting as nlplt\n",
    "from datetime import date\n",
    "from joblib import Parallel, delayed\n",
    "\n",
    "from sklearn.linear_model import LinearRegression\n",
    "from sklearn.decomposition import PCA\n",
    "\n",
    "from nilearn.input_data import NiftiMapsMasker,NiftiLabelsMasker\n",
    "from nilearn.connectome import ConnectivityMeasure\n",
    "\n",
    "import sys\n",
    "import pandas as pd\n",
    "import rpy2\n",
    "from rpy2.robjects.packages import importr\n",
    "from pymer4 import Lmer\n",
    "psych = importr('psych')\n",
    "import numpy as np\n",
    "\n",
    "import rpy2.robjects as ro\n",
    "from rpy2.robjects import pandas2ri\n",
    "\n",
    "from rpy2.robjects.conversion import localconverter\n",
    "\n",
    "import os\n",
    "import glob\n",
    "import seaborn as sns\n",
    "from statistics import mean\n",
    "import matplotlib.style as style\n",
    "\n",
    "#dat_paths = pd.read_csv('/data/MBDU/midla/notebooks/campcc/dat_paths_11272019.csv') \n",
    "#atlas = image.load_img('/data/MBDU/midla/notebooks/campcc/hox_msdl_atlas.nii.gz')\n",
    "#sub1 = image.load_img('/data/MBDU/midla/data/derivatives/fmriprep/rn_aroma_20190910_2mm/sub-20900/out/fmrip\n",
    "\n",
    "%matplotlib inline\n",
    "pd.set_option('display.max_rows', 500)\n",
    "pd.set_option('display.max_columns', 500)\n",
    "pd.set_option('display.max_colwidth', 500)\n",
    "pd.set_option('display.width', 1000)\n",
    "\n",
    "from IPython.core.display import display, HTML\n",
    "display(HTML(\"<style>\"\n",
    "    + \"#notebook { padding-top:0px !important; } \" \n",
    "    + \".container { width:100% !important; } \"\n",
    "    + \".end_space { min-height:0px !important; } \"\n",
    "    + \"</style>\"))\n"
   ]
  },
  {
   "cell_type": "code",
   "execution_count": 3,
   "metadata": {},
   "outputs": [],
   "source": [
    "measure_df = pd.read_csv('/data/MBDU/midla/notebooks/campcc/test_retest/resting_state/icc_by_scan_pair_cc.csv')"
   ]
  },
  {
   "cell_type": "code",
   "execution_count": 8,
   "metadata": {},
   "outputs": [],
   "source": [
    "pair = measure_df['pair'][0]"
   ]
  },
  {
   "cell_type": "code",
   "execution_count": 10,
   "metadata": {},
   "outputs": [],
   "source": [
    "dat_paths = pd.read_csv('/data/MBDU/midla/data/derivatives/midla/primary_20200325/for_chris_svpair.csv')"
   ]
  },
  {
   "cell_type": "code",
   "execution_count": 20,
   "metadata": {},
   "outputs": [],
   "source": [
    "subcounts = pd.DataFrame(dat_paths.drop_duplicates(['subject']).sv_pair.value_counts())"
   ]
  },
  {
   "cell_type": "code",
   "execution_count": 29,
   "metadata": {},
   "outputs": [
    {
     "data": {
      "text/plain": [
       "24475"
      ]
     },
     "execution_count": 29,
     "metadata": {},
     "output_type": "execute_result"
    }
   ],
   "source": [
    "len(measure_df.loc[measure_df.pair == pair].loc[measure_df.ICC > .5])"
   ]
  },
  {
   "cell_type": "code",
   "execution_count": 56,
   "metadata": {},
   "outputs": [],
   "source": [
    "five = lambda x: 100*(len(x.loc[x > .5]/len(x))/len(x))\n",
    "five.__name__ = \"% Connections > .5\"\n",
    "seven = lambda x: 100*(len(x.loc[x > .7])/len(x))\n",
    "seven.__name__ = \"% Connections > .7\""
   ]
  },
  {
   "cell_type": "code",
   "execution_count": 57,
   "metadata": {},
   "outputs": [],
   "source": [
    "table = measure_df.loc[measure_df.type == 'ICC2'].groupby('pair')[['ICC']].agg(['mean','std','count',five,seven])"
   ]
  },
  {
   "cell_type": "code",
   "execution_count": 58,
   "metadata": {},
   "outputs": [
    {
     "data": {
      "text/html": [
       "<div>\n",
       "<style scoped>\n",
       "    .dataframe tbody tr th:only-of-type {\n",
       "        vertical-align: middle;\n",
       "    }\n",
       "\n",
       "    .dataframe tbody tr th {\n",
       "        vertical-align: top;\n",
       "    }\n",
       "\n",
       "    .dataframe thead th {\n",
       "        text-align: right;\n",
       "    }\n",
       "</style>\n",
       "<table border=\"1\" class=\"dataframe\">\n",
       "  <thead>\n",
       "    <tr style=\"text-align: right;\">\n",
       "      <th></th>\n",
       "      <th>(ICC, mean)</th>\n",
       "      <th>(ICC, std)</th>\n",
       "      <th>(ICC, count)</th>\n",
       "      <th>(ICC, % Connections &gt; .5)</th>\n",
       "      <th>(ICC, % Connections &gt; .7)</th>\n",
       "      <th>sv_pair</th>\n",
       "    </tr>\n",
       "    <tr>\n",
       "      <th>pair</th>\n",
       "      <th></th>\n",
       "      <th></th>\n",
       "      <th></th>\n",
       "      <th></th>\n",
       "      <th></th>\n",
       "      <th></th>\n",
       "    </tr>\n",
       "  </thead>\n",
       "  <tbody>\n",
       "    <tr>\n",
       "      <th>3TA__DV25.1_R01_1617.b__3TA__DV25.1_R01_1617.b</th>\n",
       "      <td>0.413495</td>\n",
       "      <td>0.196380</td>\n",
       "      <td>6048</td>\n",
       "      <td>36.607143</td>\n",
       "      <td>5.406746</td>\n",
       "      <td>14</td>\n",
       "    </tr>\n",
       "    <tr>\n",
       "      <th>3TA__DV25.1_R01_1617.b__3TA__DV26.0_R01_1725.a</th>\n",
       "      <td>0.392802</td>\n",
       "      <td>0.169218</td>\n",
       "      <td>4032</td>\n",
       "      <td>26.984127</td>\n",
       "      <td>2.579365</td>\n",
       "      <td>7</td>\n",
       "    </tr>\n",
       "    <tr>\n",
       "      <th>3TA__DV25.1_R01_1617.b__3TA__DV26.0_R03_1831.b</th>\n",
       "      <td>0.254753</td>\n",
       "      <td>0.322051</td>\n",
       "      <td>20160</td>\n",
       "      <td>25.595238</td>\n",
       "      <td>15.029762</td>\n",
       "      <td>2</td>\n",
       "    </tr>\n",
       "    <tr>\n",
       "      <th>3TA__DV26.0_R01_1725.a__3TA__DV26.0_R01_1725.a</th>\n",
       "      <td>0.511628</td>\n",
       "      <td>0.137169</td>\n",
       "      <td>14112</td>\n",
       "      <td>57.242063</td>\n",
       "      <td>6.250000</td>\n",
       "      <td>17</td>\n",
       "    </tr>\n",
       "    <tr>\n",
       "      <th>3TA__DV26.0_R01_1725.a__3TA__DV26.0_R03_1831.b</th>\n",
       "      <td>0.527889</td>\n",
       "      <td>0.130930</td>\n",
       "      <td>12096</td>\n",
       "      <td>62.648810</td>\n",
       "      <td>6.101190</td>\n",
       "      <td>15</td>\n",
       "    </tr>\n",
       "    <tr>\n",
       "      <th>3TA__DV26.0_R03_1831.b__3TA__DV26.0_R03_1831.b</th>\n",
       "      <td>0.486918</td>\n",
       "      <td>0.140026</td>\n",
       "      <td>16128</td>\n",
       "      <td>49.355159</td>\n",
       "      <td>4.861111</td>\n",
       "      <td>12</td>\n",
       "    </tr>\n",
       "    <tr>\n",
       "      <th>3TC__DV22.0_V02_1122.a__3TC__DV26.0_R01_1725.a</th>\n",
       "      <td>0.389586</td>\n",
       "      <td>0.262159</td>\n",
       "      <td>2016</td>\n",
       "      <td>36.954365</td>\n",
       "      <td>13.392857</td>\n",
       "      <td>6</td>\n",
       "    </tr>\n",
       "    <tr>\n",
       "      <th>3TC__DV22.0_V02_1122.a__3TC__DV26.0_R03_1831.b</th>\n",
       "      <td>0.457498</td>\n",
       "      <td>0.369408</td>\n",
       "      <td>8064</td>\n",
       "      <td>50.545635</td>\n",
       "      <td>36.458333</td>\n",
       "      <td>2</td>\n",
       "    </tr>\n",
       "    <tr>\n",
       "      <th>3TC__DV26.0_R01_1725.a__3TC__DV26.0_R01_1725.a</th>\n",
       "      <td>0.481180</td>\n",
       "      <td>0.099083</td>\n",
       "      <td>10080</td>\n",
       "      <td>43.700397</td>\n",
       "      <td>0.644841</td>\n",
       "      <td>24</td>\n",
       "    </tr>\n",
       "    <tr>\n",
       "      <th>3TC__DV26.0_R01_1725.a__3TC__DV26.0_R03_1831.b</th>\n",
       "      <td>0.505778</td>\n",
       "      <td>0.162794</td>\n",
       "      <td>22176</td>\n",
       "      <td>54.166667</td>\n",
       "      <td>11.855159</td>\n",
       "      <td>18</td>\n",
       "    </tr>\n",
       "    <tr>\n",
       "      <th>3TC__DV26.0_R03_1831.b__3TC__DV26.0_R03_1831.b</th>\n",
       "      <td>0.538860</td>\n",
       "      <td>0.117473</td>\n",
       "      <td>18144</td>\n",
       "      <td>64.236111</td>\n",
       "      <td>7.192460</td>\n",
       "      <td>6</td>\n",
       "    </tr>\n",
       "  </tbody>\n",
       "</table>\n",
       "</div>"
      ],
      "text/plain": [
       "                                                (ICC, mean)  (ICC, std)  (ICC, count)  (ICC, % Connections > .5)  (ICC, % Connections > .7)  sv_pair\n",
       "pair                                                                                                                                                \n",
       "3TA__DV25.1_R01_1617.b__3TA__DV25.1_R01_1617.b     0.413495    0.196380          6048                  36.607143                   5.406746       14\n",
       "3TA__DV25.1_R01_1617.b__3TA__DV26.0_R01_1725.a     0.392802    0.169218          4032                  26.984127                   2.579365        7\n",
       "3TA__DV25.1_R01_1617.b__3TA__DV26.0_R03_1831.b     0.254753    0.322051         20160                  25.595238                  15.029762        2\n",
       "3TA__DV26.0_R01_1725.a__3TA__DV26.0_R01_1725.a     0.511628    0.137169         14112                  57.242063                   6.250000       17\n",
       "3TA__DV26.0_R01_1725.a__3TA__DV26.0_R03_1831.b     0.527889    0.130930         12096                  62.648810                   6.101190       15\n",
       "3TA__DV26.0_R03_1831.b__3TA__DV26.0_R03_1831.b     0.486918    0.140026         16128                  49.355159                   4.861111       12\n",
       "3TC__DV22.0_V02_1122.a__3TC__DV26.0_R01_1725.a     0.389586    0.262159          2016                  36.954365                  13.392857        6\n",
       "3TC__DV22.0_V02_1122.a__3TC__DV26.0_R03_1831.b     0.457498    0.369408          8064                  50.545635                  36.458333        2\n",
       "3TC__DV26.0_R01_1725.a__3TC__DV26.0_R01_1725.a     0.481180    0.099083         10080                  43.700397                   0.644841       24\n",
       "3TC__DV26.0_R01_1725.a__3TC__DV26.0_R03_1831.b     0.505778    0.162794         22176                  54.166667                  11.855159       18\n",
       "3TC__DV26.0_R03_1831.b__3TC__DV26.0_R03_1831.b     0.538860    0.117473         18144                  64.236111                   7.192460        6"
      ]
     },
     "execution_count": 58,
     "metadata": {},
     "output_type": "execute_result"
    }
   ],
   "source": [
    "table.merge(subcounts, left_on = 'pair', right_index = True)"
   ]
  },
  {
   "cell_type": "code",
   "execution_count": null,
   "metadata": {},
   "outputs": [],
   "source": []
  }
 ],
 "metadata": {
  "kernelspec": {
   "display_name": "Python 3",
   "language": "python",
   "name": "python3"
  },
  "language_info": {
   "codemirror_mode": {
    "name": "ipython",
    "version": 3
   },
   "file_extension": ".py",
   "mimetype": "text/x-python",
   "name": "python",
   "nbconvert_exporter": "python",
   "pygments_lexer": "ipython3",
   "version": "3.7.6"
  },
  "toc": {
   "base_numbering": 1,
   "nav_menu": {},
   "number_sections": true,
   "sideBar": true,
   "skip_h1_title": false,
   "title_cell": "Table of Contents",
   "title_sidebar": "Contents",
   "toc_cell": false,
   "toc_position": {},
   "toc_section_display": true,
   "toc_window_display": false
  },
  "varInspector": {
   "cols": {
    "lenName": 16,
    "lenType": 16,
    "lenVar": 40
   },
   "kernels_config": {
    "python": {
     "delete_cmd_postfix": "",
     "delete_cmd_prefix": "del ",
     "library": "var_list.py",
     "varRefreshCmd": "print(var_dic_list())"
    },
    "r": {
     "delete_cmd_postfix": ") ",
     "delete_cmd_prefix": "rm(",
     "library": "var_list.r",
     "varRefreshCmd": "cat(var_dic_list()) "
    }
   },
   "types_to_exclude": [
    "module",
    "function",
    "builtin_function_or_method",
    "instance",
    "_Feature"
   ],
   "window_display": false
  }
 },
 "nbformat": 4,
 "nbformat_minor": 4
}
